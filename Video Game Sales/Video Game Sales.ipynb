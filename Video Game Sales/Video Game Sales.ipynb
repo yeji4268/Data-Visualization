{
 "cells": [
  {
   "cell_type": "markdown",
   "metadata": {},
   "source": [
    "# Video Game Sales\n",
    "---"
   ]
  },
  {
   "cell_type": "markdown",
   "metadata": {},
   "source": [
    "## Used Data\n",
    "* 데이터셋 다운로드: [(캐글) Video Game Sales](https://www.kaggle.com/datasets/gregorut/videogamesales)\n",
    "### 데이터 설명\n",
    "[vgchartz.com](vgchartz.com)에서 스크랩된 판매량 100,000 이상의 비디오 게임 데이터\n",
    "#### Fields\n",
    "* Name: The games name\n",
    "* Platform: Platform of the games release (i.e. PC,PS4, etc.)\n",
    "* Year: Year of the game's release\n",
    "* Genre: Genre of the game\n",
    "* Publisher: Publisher of the game\n",
    "* NA_Sales: Sales in North America (in millions)\n",
    "* EU_Sales: Sales in Europe (in millions)\n",
    "* JP_Sales: Sales in Japan (in millions)\n",
    "* Other_Sales: Sales in the rest of the world (in millions)\n",
    "* Global_Sales: Total worldwide sales"
   ]
  },
  {
   "cell_type": "markdown",
   "metadata": {},
   "source": [
    "## Data Preprocessing"
   ]
  },
  {
   "cell_type": "markdown",
   "metadata": {},
   "source": [
    "### 사용 라이브러리"
   ]
  },
  {
   "cell_type": "code",
   "execution_count": 29,
   "metadata": {},
   "outputs": [],
   "source": [
    "import pandas as pd\n",
    "import plotly.graph_objects as go\n",
    "import plotly.express as px"
   ]
  },
  {
   "cell_type": "markdown",
   "metadata": {},
   "source": [
    "### 데이터 불러오기"
   ]
  },
  {
   "cell_type": "code",
   "execution_count": 7,
   "metadata": {},
   "outputs": [
    {
     "data": {
      "text/html": [
       "<div>\n",
       "<style scoped>\n",
       "    .dataframe tbody tr th:only-of-type {\n",
       "        vertical-align: middle;\n",
       "    }\n",
       "\n",
       "    .dataframe tbody tr th {\n",
       "        vertical-align: top;\n",
       "    }\n",
       "\n",
       "    .dataframe thead th {\n",
       "        text-align: right;\n",
       "    }\n",
       "</style>\n",
       "<table border=\"1\" class=\"dataframe\">\n",
       "  <thead>\n",
       "    <tr style=\"text-align: right;\">\n",
       "      <th></th>\n",
       "      <th>Rank</th>\n",
       "      <th>Name</th>\n",
       "      <th>Platform</th>\n",
       "      <th>Year</th>\n",
       "      <th>Genre</th>\n",
       "      <th>Publisher</th>\n",
       "      <th>NA_Sales</th>\n",
       "      <th>EU_Sales</th>\n",
       "      <th>JP_Sales</th>\n",
       "      <th>Other_Sales</th>\n",
       "      <th>Global_Sales</th>\n",
       "    </tr>\n",
       "  </thead>\n",
       "  <tbody>\n",
       "    <tr>\n",
       "      <th>0</th>\n",
       "      <td>1</td>\n",
       "      <td>Wii Sports</td>\n",
       "      <td>Wii</td>\n",
       "      <td>2006.0</td>\n",
       "      <td>Sports</td>\n",
       "      <td>Nintendo</td>\n",
       "      <td>41.49</td>\n",
       "      <td>29.02</td>\n",
       "      <td>3.77</td>\n",
       "      <td>8.46</td>\n",
       "      <td>82.74</td>\n",
       "    </tr>\n",
       "    <tr>\n",
       "      <th>1</th>\n",
       "      <td>2</td>\n",
       "      <td>Super Mario Bros.</td>\n",
       "      <td>NES</td>\n",
       "      <td>1985.0</td>\n",
       "      <td>Platform</td>\n",
       "      <td>Nintendo</td>\n",
       "      <td>29.08</td>\n",
       "      <td>3.58</td>\n",
       "      <td>6.81</td>\n",
       "      <td>0.77</td>\n",
       "      <td>40.24</td>\n",
       "    </tr>\n",
       "    <tr>\n",
       "      <th>2</th>\n",
       "      <td>3</td>\n",
       "      <td>Mario Kart Wii</td>\n",
       "      <td>Wii</td>\n",
       "      <td>2008.0</td>\n",
       "      <td>Racing</td>\n",
       "      <td>Nintendo</td>\n",
       "      <td>15.85</td>\n",
       "      <td>12.88</td>\n",
       "      <td>3.79</td>\n",
       "      <td>3.31</td>\n",
       "      <td>35.82</td>\n",
       "    </tr>\n",
       "    <tr>\n",
       "      <th>3</th>\n",
       "      <td>4</td>\n",
       "      <td>Wii Sports Resort</td>\n",
       "      <td>Wii</td>\n",
       "      <td>2009.0</td>\n",
       "      <td>Sports</td>\n",
       "      <td>Nintendo</td>\n",
       "      <td>15.75</td>\n",
       "      <td>11.01</td>\n",
       "      <td>3.28</td>\n",
       "      <td>2.96</td>\n",
       "      <td>33.00</td>\n",
       "    </tr>\n",
       "    <tr>\n",
       "      <th>4</th>\n",
       "      <td>5</td>\n",
       "      <td>Pokemon Red/Pokemon Blue</td>\n",
       "      <td>GB</td>\n",
       "      <td>1996.0</td>\n",
       "      <td>Role-Playing</td>\n",
       "      <td>Nintendo</td>\n",
       "      <td>11.27</td>\n",
       "      <td>8.89</td>\n",
       "      <td>10.22</td>\n",
       "      <td>1.00</td>\n",
       "      <td>31.37</td>\n",
       "    </tr>\n",
       "    <tr>\n",
       "      <th>...</th>\n",
       "      <td>...</td>\n",
       "      <td>...</td>\n",
       "      <td>...</td>\n",
       "      <td>...</td>\n",
       "      <td>...</td>\n",
       "      <td>...</td>\n",
       "      <td>...</td>\n",
       "      <td>...</td>\n",
       "      <td>...</td>\n",
       "      <td>...</td>\n",
       "      <td>...</td>\n",
       "    </tr>\n",
       "    <tr>\n",
       "      <th>16593</th>\n",
       "      <td>16596</td>\n",
       "      <td>Woody Woodpecker in Crazy Castle 5</td>\n",
       "      <td>GBA</td>\n",
       "      <td>2002.0</td>\n",
       "      <td>Platform</td>\n",
       "      <td>Kemco</td>\n",
       "      <td>0.01</td>\n",
       "      <td>0.00</td>\n",
       "      <td>0.00</td>\n",
       "      <td>0.00</td>\n",
       "      <td>0.01</td>\n",
       "    </tr>\n",
       "    <tr>\n",
       "      <th>16594</th>\n",
       "      <td>16597</td>\n",
       "      <td>Men in Black II: Alien Escape</td>\n",
       "      <td>GC</td>\n",
       "      <td>2003.0</td>\n",
       "      <td>Shooter</td>\n",
       "      <td>Infogrames</td>\n",
       "      <td>0.01</td>\n",
       "      <td>0.00</td>\n",
       "      <td>0.00</td>\n",
       "      <td>0.00</td>\n",
       "      <td>0.01</td>\n",
       "    </tr>\n",
       "    <tr>\n",
       "      <th>16595</th>\n",
       "      <td>16598</td>\n",
       "      <td>SCORE International Baja 1000: The Official Game</td>\n",
       "      <td>PS2</td>\n",
       "      <td>2008.0</td>\n",
       "      <td>Racing</td>\n",
       "      <td>Activision</td>\n",
       "      <td>0.00</td>\n",
       "      <td>0.00</td>\n",
       "      <td>0.00</td>\n",
       "      <td>0.00</td>\n",
       "      <td>0.01</td>\n",
       "    </tr>\n",
       "    <tr>\n",
       "      <th>16596</th>\n",
       "      <td>16599</td>\n",
       "      <td>Know How 2</td>\n",
       "      <td>DS</td>\n",
       "      <td>2010.0</td>\n",
       "      <td>Puzzle</td>\n",
       "      <td>7G//AMES</td>\n",
       "      <td>0.00</td>\n",
       "      <td>0.01</td>\n",
       "      <td>0.00</td>\n",
       "      <td>0.00</td>\n",
       "      <td>0.01</td>\n",
       "    </tr>\n",
       "    <tr>\n",
       "      <th>16597</th>\n",
       "      <td>16600</td>\n",
       "      <td>Spirits &amp; Spells</td>\n",
       "      <td>GBA</td>\n",
       "      <td>2003.0</td>\n",
       "      <td>Platform</td>\n",
       "      <td>Wanadoo</td>\n",
       "      <td>0.01</td>\n",
       "      <td>0.00</td>\n",
       "      <td>0.00</td>\n",
       "      <td>0.00</td>\n",
       "      <td>0.01</td>\n",
       "    </tr>\n",
       "  </tbody>\n",
       "</table>\n",
       "<p>16598 rows × 11 columns</p>\n",
       "</div>"
      ],
      "text/plain": [
       "        Rank                                              Name Platform  \\\n",
       "0          1                                        Wii Sports      Wii   \n",
       "1          2                                 Super Mario Bros.      NES   \n",
       "2          3                                    Mario Kart Wii      Wii   \n",
       "3          4                                 Wii Sports Resort      Wii   \n",
       "4          5                          Pokemon Red/Pokemon Blue       GB   \n",
       "...      ...                                               ...      ...   \n",
       "16593  16596                Woody Woodpecker in Crazy Castle 5      GBA   \n",
       "16594  16597                     Men in Black II: Alien Escape       GC   \n",
       "16595  16598  SCORE International Baja 1000: The Official Game      PS2   \n",
       "16596  16599                                        Know How 2       DS   \n",
       "16597  16600                                  Spirits & Spells      GBA   \n",
       "\n",
       "         Year         Genre   Publisher  NA_Sales  EU_Sales  JP_Sales  \\\n",
       "0      2006.0        Sports    Nintendo     41.49     29.02      3.77   \n",
       "1      1985.0      Platform    Nintendo     29.08      3.58      6.81   \n",
       "2      2008.0        Racing    Nintendo     15.85     12.88      3.79   \n",
       "3      2009.0        Sports    Nintendo     15.75     11.01      3.28   \n",
       "4      1996.0  Role-Playing    Nintendo     11.27      8.89     10.22   \n",
       "...       ...           ...         ...       ...       ...       ...   \n",
       "16593  2002.0      Platform       Kemco      0.01      0.00      0.00   \n",
       "16594  2003.0       Shooter  Infogrames      0.01      0.00      0.00   \n",
       "16595  2008.0        Racing  Activision      0.00      0.00      0.00   \n",
       "16596  2010.0        Puzzle    7G//AMES      0.00      0.01      0.00   \n",
       "16597  2003.0      Platform     Wanadoo      0.01      0.00      0.00   \n",
       "\n",
       "       Other_Sales  Global_Sales  \n",
       "0             8.46         82.74  \n",
       "1             0.77         40.24  \n",
       "2             3.31         35.82  \n",
       "3             2.96         33.00  \n",
       "4             1.00         31.37  \n",
       "...            ...           ...  \n",
       "16593         0.00          0.01  \n",
       "16594         0.00          0.01  \n",
       "16595         0.00          0.01  \n",
       "16596         0.00          0.01  \n",
       "16597         0.00          0.01  \n",
       "\n",
       "[16598 rows x 11 columns]"
      ]
     },
     "execution_count": 7,
     "metadata": {},
     "output_type": "execute_result"
    }
   ],
   "source": [
    "# 데이터 불러오기\n",
    "vgData = pd.read_csv(\"vgsales.csv\")\n",
    "vgData"
   ]
  },
  {
   "cell_type": "markdown",
   "metadata": {},
   "source": [
    "### 데이터 확인"
   ]
  },
  {
   "cell_type": "code",
   "execution_count": 8,
   "metadata": {},
   "outputs": [
    {
     "name": "stdout",
     "output_type": "stream",
     "text": [
      "<class 'pandas.core.frame.DataFrame'>\n",
      "RangeIndex: 16598 entries, 0 to 16597\n",
      "Data columns (total 11 columns):\n",
      " #   Column        Non-Null Count  Dtype  \n",
      "---  ------        --------------  -----  \n",
      " 0   Rank          16598 non-null  int64  \n",
      " 1   Name          16598 non-null  object \n",
      " 2   Platform      16598 non-null  object \n",
      " 3   Year          16327 non-null  float64\n",
      " 4   Genre         16598 non-null  object \n",
      " 5   Publisher     16540 non-null  object \n",
      " 6   NA_Sales      16598 non-null  float64\n",
      " 7   EU_Sales      16598 non-null  float64\n",
      " 8   JP_Sales      16598 non-null  float64\n",
      " 9   Other_Sales   16598 non-null  float64\n",
      " 10  Global_Sales  16598 non-null  float64\n",
      "dtypes: float64(6), int64(1), object(4)\n",
      "memory usage: 1.4+ MB\n"
     ]
    }
   ],
   "source": [
    "# 데이터 정보 확인\n",
    "vgData.info()"
   ]
  },
  {
   "cell_type": "code",
   "execution_count": 65,
   "metadata": {},
   "outputs": [
    {
     "name": "stdout",
     "output_type": "stream",
     "text": [
      "<class 'pandas.core.frame.DataFrame'>\n",
      "Int64Index: 16291 entries, 0 to 16597\n",
      "Data columns (total 11 columns):\n",
      " #   Column        Non-Null Count  Dtype  \n",
      "---  ------        --------------  -----  \n",
      " 0   Rank          16291 non-null  int64  \n",
      " 1   Name          16291 non-null  object \n",
      " 2   Platform      16291 non-null  object \n",
      " 3   Year          16291 non-null  object \n",
      " 4   Genre         16291 non-null  object \n",
      " 5   Publisher     16291 non-null  object \n",
      " 6   NA_Sales      16291 non-null  float64\n",
      " 7   EU_Sales      16291 non-null  float64\n",
      " 8   JP_Sales      16291 non-null  float64\n",
      " 9   Other_Sales   16291 non-null  float64\n",
      " 10  Global_Sales  16291 non-null  float64\n",
      "dtypes: float64(5), int64(1), object(5)\n",
      "memory usage: 1.5+ MB\n"
     ]
    }
   ],
   "source": [
    "# Year 컬럼의 타입을 float --> object로 변경\n",
    "vgData['Year'] = vgData['Year'].astype('int').astype('object')\n",
    "vgData.info()"
   ]
  },
  {
   "cell_type": "code",
   "execution_count": 63,
   "metadata": {},
   "outputs": [
    {
     "data": {
      "text/html": [
       "<div>\n",
       "<style scoped>\n",
       "    .dataframe tbody tr th:only-of-type {\n",
       "        vertical-align: middle;\n",
       "    }\n",
       "\n",
       "    .dataframe tbody tr th {\n",
       "        vertical-align: top;\n",
       "    }\n",
       "\n",
       "    .dataframe thead th {\n",
       "        text-align: right;\n",
       "    }\n",
       "</style>\n",
       "<table border=\"1\" class=\"dataframe\">\n",
       "  <thead>\n",
       "    <tr style=\"text-align: right;\">\n",
       "      <th></th>\n",
       "      <th>Rank</th>\n",
       "      <th>NA_Sales</th>\n",
       "      <th>EU_Sales</th>\n",
       "      <th>JP_Sales</th>\n",
       "      <th>Other_Sales</th>\n",
       "      <th>Global_Sales</th>\n",
       "    </tr>\n",
       "  </thead>\n",
       "  <tbody>\n",
       "    <tr>\n",
       "      <th>count</th>\n",
       "      <td>16291.000000</td>\n",
       "      <td>16291.000000</td>\n",
       "      <td>16291.000000</td>\n",
       "      <td>16291.000000</td>\n",
       "      <td>16291.000000</td>\n",
       "      <td>16291.000000</td>\n",
       "    </tr>\n",
       "    <tr>\n",
       "      <th>mean</th>\n",
       "      <td>8290.190228</td>\n",
       "      <td>0.265647</td>\n",
       "      <td>0.147731</td>\n",
       "      <td>0.078833</td>\n",
       "      <td>0.048426</td>\n",
       "      <td>0.540910</td>\n",
       "    </tr>\n",
       "    <tr>\n",
       "      <th>std</th>\n",
       "      <td>4792.654450</td>\n",
       "      <td>0.822432</td>\n",
       "      <td>0.509303</td>\n",
       "      <td>0.311879</td>\n",
       "      <td>0.190083</td>\n",
       "      <td>1.567345</td>\n",
       "    </tr>\n",
       "    <tr>\n",
       "      <th>min</th>\n",
       "      <td>1.000000</td>\n",
       "      <td>0.000000</td>\n",
       "      <td>0.000000</td>\n",
       "      <td>0.000000</td>\n",
       "      <td>0.000000</td>\n",
       "      <td>0.010000</td>\n",
       "    </tr>\n",
       "    <tr>\n",
       "      <th>25%</th>\n",
       "      <td>4132.500000</td>\n",
       "      <td>0.000000</td>\n",
       "      <td>0.000000</td>\n",
       "      <td>0.000000</td>\n",
       "      <td>0.000000</td>\n",
       "      <td>0.060000</td>\n",
       "    </tr>\n",
       "    <tr>\n",
       "      <th>50%</th>\n",
       "      <td>8292.000000</td>\n",
       "      <td>0.080000</td>\n",
       "      <td>0.020000</td>\n",
       "      <td>0.000000</td>\n",
       "      <td>0.010000</td>\n",
       "      <td>0.170000</td>\n",
       "    </tr>\n",
       "    <tr>\n",
       "      <th>75%</th>\n",
       "      <td>12439.500000</td>\n",
       "      <td>0.240000</td>\n",
       "      <td>0.110000</td>\n",
       "      <td>0.040000</td>\n",
       "      <td>0.040000</td>\n",
       "      <td>0.480000</td>\n",
       "    </tr>\n",
       "    <tr>\n",
       "      <th>max</th>\n",
       "      <td>16600.000000</td>\n",
       "      <td>41.490000</td>\n",
       "      <td>29.020000</td>\n",
       "      <td>10.220000</td>\n",
       "      <td>10.570000</td>\n",
       "      <td>82.740000</td>\n",
       "    </tr>\n",
       "  </tbody>\n",
       "</table>\n",
       "</div>"
      ],
      "text/plain": [
       "               Rank      NA_Sales      EU_Sales      JP_Sales   Other_Sales  \\\n",
       "count  16291.000000  16291.000000  16291.000000  16291.000000  16291.000000   \n",
       "mean    8290.190228      0.265647      0.147731      0.078833      0.048426   \n",
       "std     4792.654450      0.822432      0.509303      0.311879      0.190083   \n",
       "min        1.000000      0.000000      0.000000      0.000000      0.000000   \n",
       "25%     4132.500000      0.000000      0.000000      0.000000      0.000000   \n",
       "50%     8292.000000      0.080000      0.020000      0.000000      0.010000   \n",
       "75%    12439.500000      0.240000      0.110000      0.040000      0.040000   \n",
       "max    16600.000000     41.490000     29.020000     10.220000     10.570000   \n",
       "\n",
       "       Global_Sales  \n",
       "count  16291.000000  \n",
       "mean       0.540910  \n",
       "std        1.567345  \n",
       "min        0.010000  \n",
       "25%        0.060000  \n",
       "50%        0.170000  \n",
       "75%        0.480000  \n",
       "max       82.740000  "
      ]
     },
     "execution_count": 63,
     "metadata": {},
     "output_type": "execute_result"
    }
   ],
   "source": [
    "vgData.describe()"
   ]
  },
  {
   "cell_type": "markdown",
   "metadata": {},
   "source": [
    "### 결측치 확인 & 처리"
   ]
  },
  {
   "cell_type": "code",
   "execution_count": 16,
   "metadata": {},
   "outputs": [
    {
     "data": {
      "text/plain": [
       "Rank            0\n",
       "Name            0\n",
       "Platform        0\n",
       "Year            0\n",
       "Genre           0\n",
       "Publisher       0\n",
       "NA_Sales        0\n",
       "EU_Sales        0\n",
       "JP_Sales        0\n",
       "Other_Sales     0\n",
       "Global_Sales    0\n",
       "dtype: int64"
      ]
     },
     "execution_count": 16,
     "metadata": {},
     "output_type": "execute_result"
    }
   ],
   "source": [
    "vgData.isnull().sum()"
   ]
  },
  {
   "cell_type": "code",
   "execution_count": 17,
   "metadata": {},
   "outputs": [
    {
     "data": {
      "text/plain": [
       "Rank            0\n",
       "Name            0\n",
       "Platform        0\n",
       "Year            0\n",
       "Genre           0\n",
       "Publisher       0\n",
       "NA_Sales        0\n",
       "EU_Sales        0\n",
       "JP_Sales        0\n",
       "Other_Sales     0\n",
       "Global_Sales    0\n",
       "dtype: int64"
      ]
     },
     "execution_count": 17,
     "metadata": {},
     "output_type": "execute_result"
    }
   ],
   "source": [
    "vgData = vgData.dropna()\n",
    "vgData.isnull().sum()"
   ]
  },
  {
   "cell_type": "code",
   "execution_count": 16,
   "metadata": {},
   "outputs": [
    {
     "data": {
      "text/html": [
       "<div>\n",
       "<style scoped>\n",
       "    .dataframe tbody tr th:only-of-type {\n",
       "        vertical-align: middle;\n",
       "    }\n",
       "\n",
       "    .dataframe tbody tr th {\n",
       "        vertical-align: top;\n",
       "    }\n",
       "\n",
       "    .dataframe thead th {\n",
       "        text-align: right;\n",
       "    }\n",
       "</style>\n",
       "<table border=\"1\" class=\"dataframe\">\n",
       "  <thead>\n",
       "    <tr style=\"text-align: right;\">\n",
       "      <th></th>\n",
       "      <th>Name</th>\n",
       "      <th>Platform</th>\n",
       "      <th>Year</th>\n",
       "      <th>Genre</th>\n",
       "      <th>Publisher</th>\n",
       "      <th>NA_Sales</th>\n",
       "      <th>EU_Sales</th>\n",
       "      <th>JP_Sales</th>\n",
       "      <th>Other_Sales</th>\n",
       "      <th>Global_Sales</th>\n",
       "    </tr>\n",
       "  </thead>\n",
       "  <tbody>\n",
       "    <tr>\n",
       "      <th>0</th>\n",
       "      <td>Wii Sports</td>\n",
       "      <td>Wii</td>\n",
       "      <td>2006.0</td>\n",
       "      <td>Sports</td>\n",
       "      <td>Nintendo</td>\n",
       "      <td>41.49</td>\n",
       "      <td>29.02</td>\n",
       "      <td>3.77</td>\n",
       "      <td>8.46</td>\n",
       "      <td>82.74</td>\n",
       "    </tr>\n",
       "    <tr>\n",
       "      <th>1</th>\n",
       "      <td>Super Mario Bros.</td>\n",
       "      <td>NES</td>\n",
       "      <td>1985.0</td>\n",
       "      <td>Platform</td>\n",
       "      <td>Nintendo</td>\n",
       "      <td>29.08</td>\n",
       "      <td>3.58</td>\n",
       "      <td>6.81</td>\n",
       "      <td>0.77</td>\n",
       "      <td>40.24</td>\n",
       "    </tr>\n",
       "    <tr>\n",
       "      <th>2</th>\n",
       "      <td>Mario Kart Wii</td>\n",
       "      <td>Wii</td>\n",
       "      <td>2008.0</td>\n",
       "      <td>Racing</td>\n",
       "      <td>Nintendo</td>\n",
       "      <td>15.85</td>\n",
       "      <td>12.88</td>\n",
       "      <td>3.79</td>\n",
       "      <td>3.31</td>\n",
       "      <td>35.82</td>\n",
       "    </tr>\n",
       "    <tr>\n",
       "      <th>3</th>\n",
       "      <td>Wii Sports Resort</td>\n",
       "      <td>Wii</td>\n",
       "      <td>2009.0</td>\n",
       "      <td>Sports</td>\n",
       "      <td>Nintendo</td>\n",
       "      <td>15.75</td>\n",
       "      <td>11.01</td>\n",
       "      <td>3.28</td>\n",
       "      <td>2.96</td>\n",
       "      <td>33.00</td>\n",
       "    </tr>\n",
       "    <tr>\n",
       "      <th>4</th>\n",
       "      <td>Pokemon Red/Pokemon Blue</td>\n",
       "      <td>GB</td>\n",
       "      <td>1996.0</td>\n",
       "      <td>Role-Playing</td>\n",
       "      <td>Nintendo</td>\n",
       "      <td>11.27</td>\n",
       "      <td>8.89</td>\n",
       "      <td>10.22</td>\n",
       "      <td>1.00</td>\n",
       "      <td>31.37</td>\n",
       "    </tr>\n",
       "    <tr>\n",
       "      <th>...</th>\n",
       "      <td>...</td>\n",
       "      <td>...</td>\n",
       "      <td>...</td>\n",
       "      <td>...</td>\n",
       "      <td>...</td>\n",
       "      <td>...</td>\n",
       "      <td>...</td>\n",
       "      <td>...</td>\n",
       "      <td>...</td>\n",
       "      <td>...</td>\n",
       "    </tr>\n",
       "    <tr>\n",
       "      <th>16593</th>\n",
       "      <td>Woody Woodpecker in Crazy Castle 5</td>\n",
       "      <td>GBA</td>\n",
       "      <td>2002.0</td>\n",
       "      <td>Platform</td>\n",
       "      <td>Kemco</td>\n",
       "      <td>0.01</td>\n",
       "      <td>0.00</td>\n",
       "      <td>0.00</td>\n",
       "      <td>0.00</td>\n",
       "      <td>0.01</td>\n",
       "    </tr>\n",
       "    <tr>\n",
       "      <th>16594</th>\n",
       "      <td>Men in Black II: Alien Escape</td>\n",
       "      <td>GC</td>\n",
       "      <td>2003.0</td>\n",
       "      <td>Shooter</td>\n",
       "      <td>Infogrames</td>\n",
       "      <td>0.01</td>\n",
       "      <td>0.00</td>\n",
       "      <td>0.00</td>\n",
       "      <td>0.00</td>\n",
       "      <td>0.01</td>\n",
       "    </tr>\n",
       "    <tr>\n",
       "      <th>16595</th>\n",
       "      <td>SCORE International Baja 1000: The Official Game</td>\n",
       "      <td>PS2</td>\n",
       "      <td>2008.0</td>\n",
       "      <td>Racing</td>\n",
       "      <td>Activision</td>\n",
       "      <td>0.00</td>\n",
       "      <td>0.00</td>\n",
       "      <td>0.00</td>\n",
       "      <td>0.00</td>\n",
       "      <td>0.01</td>\n",
       "    </tr>\n",
       "    <tr>\n",
       "      <th>16596</th>\n",
       "      <td>Know How 2</td>\n",
       "      <td>DS</td>\n",
       "      <td>2010.0</td>\n",
       "      <td>Puzzle</td>\n",
       "      <td>7G//AMES</td>\n",
       "      <td>0.00</td>\n",
       "      <td>0.01</td>\n",
       "      <td>0.00</td>\n",
       "      <td>0.00</td>\n",
       "      <td>0.01</td>\n",
       "    </tr>\n",
       "    <tr>\n",
       "      <th>16597</th>\n",
       "      <td>Spirits &amp; Spells</td>\n",
       "      <td>GBA</td>\n",
       "      <td>2003.0</td>\n",
       "      <td>Platform</td>\n",
       "      <td>Wanadoo</td>\n",
       "      <td>0.01</td>\n",
       "      <td>0.00</td>\n",
       "      <td>0.00</td>\n",
       "      <td>0.00</td>\n",
       "      <td>0.01</td>\n",
       "    </tr>\n",
       "  </tbody>\n",
       "</table>\n",
       "<p>16291 rows × 10 columns</p>\n",
       "</div>"
      ],
      "text/plain": [
       "                                                   Name Platform    Year  \\\n",
       "0                                            Wii Sports      Wii  2006.0   \n",
       "1                                     Super Mario Bros.      NES  1985.0   \n",
       "2                                        Mario Kart Wii      Wii  2008.0   \n",
       "3                                     Wii Sports Resort      Wii  2009.0   \n",
       "4                              Pokemon Red/Pokemon Blue       GB  1996.0   \n",
       "...                                                 ...      ...     ...   \n",
       "16593                Woody Woodpecker in Crazy Castle 5      GBA  2002.0   \n",
       "16594                     Men in Black II: Alien Escape       GC  2003.0   \n",
       "16595  SCORE International Baja 1000: The Official Game      PS2  2008.0   \n",
       "16596                                        Know How 2       DS  2010.0   \n",
       "16597                                  Spirits & Spells      GBA  2003.0   \n",
       "\n",
       "              Genre   Publisher  NA_Sales  EU_Sales  JP_Sales  Other_Sales  \\\n",
       "0            Sports    Nintendo     41.49     29.02      3.77         8.46   \n",
       "1          Platform    Nintendo     29.08      3.58      6.81         0.77   \n",
       "2            Racing    Nintendo     15.85     12.88      3.79         3.31   \n",
       "3            Sports    Nintendo     15.75     11.01      3.28         2.96   \n",
       "4      Role-Playing    Nintendo     11.27      8.89     10.22         1.00   \n",
       "...             ...         ...       ...       ...       ...          ...   \n",
       "16593      Platform       Kemco      0.01      0.00      0.00         0.00   \n",
       "16594       Shooter  Infogrames      0.01      0.00      0.00         0.00   \n",
       "16595        Racing  Activision      0.00      0.00      0.00         0.00   \n",
       "16596        Puzzle    7G//AMES      0.00      0.01      0.00         0.00   \n",
       "16597      Platform     Wanadoo      0.01      0.00      0.00         0.00   \n",
       "\n",
       "       Global_Sales  \n",
       "0             82.74  \n",
       "1             40.24  \n",
       "2             35.82  \n",
       "3             33.00  \n",
       "4             31.37  \n",
       "...             ...  \n",
       "16593          0.01  \n",
       "16594          0.01  \n",
       "16595          0.01  \n",
       "16596          0.01  \n",
       "16597          0.01  \n",
       "\n",
       "[16291 rows x 10 columns]"
      ]
     },
     "execution_count": 16,
     "metadata": {},
     "output_type": "execute_result"
    }
   ],
   "source": [
    "# 필요없는 rank 컬럼 삭제\n",
    "vgData = vgData.drop('Rank', axis = 1)\n",
    "vgData"
   ]
  },
  {
   "cell_type": "markdown",
   "metadata": {},
   "source": [
    "## Descriptive Analysis"
   ]
  },
  {
   "cell_type": "markdown",
   "metadata": {},
   "source": [
    "### 데이터 분포 확인"
   ]
  },
  {
   "cell_type": "markdown",
   "metadata": {},
   "source": [
    "#### 플랫폼 빈도 분포"
   ]
  },
  {
   "cell_type": "code",
   "execution_count": 59,
   "metadata": {},
   "outputs": [
    {
     "data": {
      "application/vnd.plotly.v1+json": {
       "config": {
        "plotlyServerURL": "https://plot.ly"
       },
       "data": [
        {
         "alignmentgroup": "True",
         "hovertemplate": "Platform=%{y}<br>Count=%{x}<extra></extra>",
         "legendgroup": "DS",
         "marker": {
          "color": "rgb(102, 197, 204)",
          "pattern": {
           "shape": ""
          }
         },
         "name": "DS",
         "offsetgroup": "DS",
         "orientation": "h",
         "showlegend": true,
         "textposition": "auto",
         "texttemplate": "%{x}",
         "type": "bar",
         "x": [
          2131
         ],
         "xaxis": "x",
         "y": [
          "DS"
         ],
         "yaxis": "y"
        },
        {
         "alignmentgroup": "True",
         "hovertemplate": "Platform=%{y}<br>Count=%{x}<extra></extra>",
         "legendgroup": "PS2",
         "marker": {
          "color": "rgb(246, 207, 113)",
          "pattern": {
           "shape": ""
          }
         },
         "name": "PS2",
         "offsetgroup": "PS2",
         "orientation": "h",
         "showlegend": true,
         "textposition": "auto",
         "texttemplate": "%{x}",
         "type": "bar",
         "x": [
          2127
         ],
         "xaxis": "x",
         "y": [
          "PS2"
         ],
         "yaxis": "y"
        },
        {
         "alignmentgroup": "True",
         "hovertemplate": "Platform=%{y}<br>Count=%{x}<extra></extra>",
         "legendgroup": "PS3",
         "marker": {
          "color": "rgb(248, 156, 116)",
          "pattern": {
           "shape": ""
          }
         },
         "name": "PS3",
         "offsetgroup": "PS3",
         "orientation": "h",
         "showlegend": true,
         "textposition": "auto",
         "texttemplate": "%{x}",
         "type": "bar",
         "x": [
          1304
         ],
         "xaxis": "x",
         "y": [
          "PS3"
         ],
         "yaxis": "y"
        },
        {
         "alignmentgroup": "True",
         "hovertemplate": "Platform=%{y}<br>Count=%{x}<extra></extra>",
         "legendgroup": "Wii",
         "marker": {
          "color": "rgb(220, 176, 242)",
          "pattern": {
           "shape": ""
          }
         },
         "name": "Wii",
         "offsetgroup": "Wii",
         "orientation": "h",
         "showlegend": true,
         "textposition": "auto",
         "texttemplate": "%{x}",
         "type": "bar",
         "x": [
          1290
         ],
         "xaxis": "x",
         "y": [
          "Wii"
         ],
         "yaxis": "y"
        },
        {
         "alignmentgroup": "True",
         "hovertemplate": "Platform=%{y}<br>Count=%{x}<extra></extra>",
         "legendgroup": "X360",
         "marker": {
          "color": "rgb(135, 197, 95)",
          "pattern": {
           "shape": ""
          }
         },
         "name": "X360",
         "offsetgroup": "X360",
         "orientation": "h",
         "showlegend": true,
         "textposition": "auto",
         "texttemplate": "%{x}",
         "type": "bar",
         "x": [
          1234
         ],
         "xaxis": "x",
         "y": [
          "X360"
         ],
         "yaxis": "y"
        }
       ],
       "layout": {
        "barmode": "relative",
        "legend": {
         "title": {
          "text": "Platform"
         },
         "tracegroupgap": 0
        },
        "showlegend": false,
        "template": {
         "data": {
          "bar": [
           {
            "error_x": {
             "color": "#2a3f5f"
            },
            "error_y": {
             "color": "#2a3f5f"
            },
            "marker": {
             "line": {
              "color": "#E5ECF6",
              "width": 0.5
             },
             "pattern": {
              "fillmode": "overlay",
              "size": 10,
              "solidity": 0.2
             }
            },
            "type": "bar"
           }
          ],
          "barpolar": [
           {
            "marker": {
             "line": {
              "color": "#E5ECF6",
              "width": 0.5
             },
             "pattern": {
              "fillmode": "overlay",
              "size": 10,
              "solidity": 0.2
             }
            },
            "type": "barpolar"
           }
          ],
          "carpet": [
           {
            "aaxis": {
             "endlinecolor": "#2a3f5f",
             "gridcolor": "white",
             "linecolor": "white",
             "minorgridcolor": "white",
             "startlinecolor": "#2a3f5f"
            },
            "baxis": {
             "endlinecolor": "#2a3f5f",
             "gridcolor": "white",
             "linecolor": "white",
             "minorgridcolor": "white",
             "startlinecolor": "#2a3f5f"
            },
            "type": "carpet"
           }
          ],
          "choropleth": [
           {
            "colorbar": {
             "outlinewidth": 0,
             "ticks": ""
            },
            "type": "choropleth"
           }
          ],
          "contour": [
           {
            "colorbar": {
             "outlinewidth": 0,
             "ticks": ""
            },
            "colorscale": [
             [
              0,
              "#0d0887"
             ],
             [
              0.1111111111111111,
              "#46039f"
             ],
             [
              0.2222222222222222,
              "#7201a8"
             ],
             [
              0.3333333333333333,
              "#9c179e"
             ],
             [
              0.4444444444444444,
              "#bd3786"
             ],
             [
              0.5555555555555556,
              "#d8576b"
             ],
             [
              0.6666666666666666,
              "#ed7953"
             ],
             [
              0.7777777777777778,
              "#fb9f3a"
             ],
             [
              0.8888888888888888,
              "#fdca26"
             ],
             [
              1,
              "#f0f921"
             ]
            ],
            "type": "contour"
           }
          ],
          "contourcarpet": [
           {
            "colorbar": {
             "outlinewidth": 0,
             "ticks": ""
            },
            "type": "contourcarpet"
           }
          ],
          "heatmap": [
           {
            "colorbar": {
             "outlinewidth": 0,
             "ticks": ""
            },
            "colorscale": [
             [
              0,
              "#0d0887"
             ],
             [
              0.1111111111111111,
              "#46039f"
             ],
             [
              0.2222222222222222,
              "#7201a8"
             ],
             [
              0.3333333333333333,
              "#9c179e"
             ],
             [
              0.4444444444444444,
              "#bd3786"
             ],
             [
              0.5555555555555556,
              "#d8576b"
             ],
             [
              0.6666666666666666,
              "#ed7953"
             ],
             [
              0.7777777777777778,
              "#fb9f3a"
             ],
             [
              0.8888888888888888,
              "#fdca26"
             ],
             [
              1,
              "#f0f921"
             ]
            ],
            "type": "heatmap"
           }
          ],
          "heatmapgl": [
           {
            "colorbar": {
             "outlinewidth": 0,
             "ticks": ""
            },
            "colorscale": [
             [
              0,
              "#0d0887"
             ],
             [
              0.1111111111111111,
              "#46039f"
             ],
             [
              0.2222222222222222,
              "#7201a8"
             ],
             [
              0.3333333333333333,
              "#9c179e"
             ],
             [
              0.4444444444444444,
              "#bd3786"
             ],
             [
              0.5555555555555556,
              "#d8576b"
             ],
             [
              0.6666666666666666,
              "#ed7953"
             ],
             [
              0.7777777777777778,
              "#fb9f3a"
             ],
             [
              0.8888888888888888,
              "#fdca26"
             ],
             [
              1,
              "#f0f921"
             ]
            ],
            "type": "heatmapgl"
           }
          ],
          "histogram": [
           {
            "marker": {
             "pattern": {
              "fillmode": "overlay",
              "size": 10,
              "solidity": 0.2
             }
            },
            "type": "histogram"
           }
          ],
          "histogram2d": [
           {
            "colorbar": {
             "outlinewidth": 0,
             "ticks": ""
            },
            "colorscale": [
             [
              0,
              "#0d0887"
             ],
             [
              0.1111111111111111,
              "#46039f"
             ],
             [
              0.2222222222222222,
              "#7201a8"
             ],
             [
              0.3333333333333333,
              "#9c179e"
             ],
             [
              0.4444444444444444,
              "#bd3786"
             ],
             [
              0.5555555555555556,
              "#d8576b"
             ],
             [
              0.6666666666666666,
              "#ed7953"
             ],
             [
              0.7777777777777778,
              "#fb9f3a"
             ],
             [
              0.8888888888888888,
              "#fdca26"
             ],
             [
              1,
              "#f0f921"
             ]
            ],
            "type": "histogram2d"
           }
          ],
          "histogram2dcontour": [
           {
            "colorbar": {
             "outlinewidth": 0,
             "ticks": ""
            },
            "colorscale": [
             [
              0,
              "#0d0887"
             ],
             [
              0.1111111111111111,
              "#46039f"
             ],
             [
              0.2222222222222222,
              "#7201a8"
             ],
             [
              0.3333333333333333,
              "#9c179e"
             ],
             [
              0.4444444444444444,
              "#bd3786"
             ],
             [
              0.5555555555555556,
              "#d8576b"
             ],
             [
              0.6666666666666666,
              "#ed7953"
             ],
             [
              0.7777777777777778,
              "#fb9f3a"
             ],
             [
              0.8888888888888888,
              "#fdca26"
             ],
             [
              1,
              "#f0f921"
             ]
            ],
            "type": "histogram2dcontour"
           }
          ],
          "mesh3d": [
           {
            "colorbar": {
             "outlinewidth": 0,
             "ticks": ""
            },
            "type": "mesh3d"
           }
          ],
          "parcoords": [
           {
            "line": {
             "colorbar": {
              "outlinewidth": 0,
              "ticks": ""
             }
            },
            "type": "parcoords"
           }
          ],
          "pie": [
           {
            "automargin": true,
            "type": "pie"
           }
          ],
          "scatter": [
           {
            "fillpattern": {
             "fillmode": "overlay",
             "size": 10,
             "solidity": 0.2
            },
            "type": "scatter"
           }
          ],
          "scatter3d": [
           {
            "line": {
             "colorbar": {
              "outlinewidth": 0,
              "ticks": ""
             }
            },
            "marker": {
             "colorbar": {
              "outlinewidth": 0,
              "ticks": ""
             }
            },
            "type": "scatter3d"
           }
          ],
          "scattercarpet": [
           {
            "marker": {
             "colorbar": {
              "outlinewidth": 0,
              "ticks": ""
             }
            },
            "type": "scattercarpet"
           }
          ],
          "scattergeo": [
           {
            "marker": {
             "colorbar": {
              "outlinewidth": 0,
              "ticks": ""
             }
            },
            "type": "scattergeo"
           }
          ],
          "scattergl": [
           {
            "marker": {
             "colorbar": {
              "outlinewidth": 0,
              "ticks": ""
             }
            },
            "type": "scattergl"
           }
          ],
          "scattermapbox": [
           {
            "marker": {
             "colorbar": {
              "outlinewidth": 0,
              "ticks": ""
             }
            },
            "type": "scattermapbox"
           }
          ],
          "scatterpolar": [
           {
            "marker": {
             "colorbar": {
              "outlinewidth": 0,
              "ticks": ""
             }
            },
            "type": "scatterpolar"
           }
          ],
          "scatterpolargl": [
           {
            "marker": {
             "colorbar": {
              "outlinewidth": 0,
              "ticks": ""
             }
            },
            "type": "scatterpolargl"
           }
          ],
          "scatterternary": [
           {
            "marker": {
             "colorbar": {
              "outlinewidth": 0,
              "ticks": ""
             }
            },
            "type": "scatterternary"
           }
          ],
          "surface": [
           {
            "colorbar": {
             "outlinewidth": 0,
             "ticks": ""
            },
            "colorscale": [
             [
              0,
              "#0d0887"
             ],
             [
              0.1111111111111111,
              "#46039f"
             ],
             [
              0.2222222222222222,
              "#7201a8"
             ],
             [
              0.3333333333333333,
              "#9c179e"
             ],
             [
              0.4444444444444444,
              "#bd3786"
             ],
             [
              0.5555555555555556,
              "#d8576b"
             ],
             [
              0.6666666666666666,
              "#ed7953"
             ],
             [
              0.7777777777777778,
              "#fb9f3a"
             ],
             [
              0.8888888888888888,
              "#fdca26"
             ],
             [
              1,
              "#f0f921"
             ]
            ],
            "type": "surface"
           }
          ],
          "table": [
           {
            "cells": {
             "fill": {
              "color": "#EBF0F8"
             },
             "line": {
              "color": "white"
             }
            },
            "header": {
             "fill": {
              "color": "#C8D4E3"
             },
             "line": {
              "color": "white"
             }
            },
            "type": "table"
           }
          ]
         },
         "layout": {
          "annotationdefaults": {
           "arrowcolor": "#2a3f5f",
           "arrowhead": 0,
           "arrowwidth": 1
          },
          "autotypenumbers": "strict",
          "coloraxis": {
           "colorbar": {
            "outlinewidth": 0,
            "ticks": ""
           }
          },
          "colorscale": {
           "diverging": [
            [
             0,
             "#8e0152"
            ],
            [
             0.1,
             "#c51b7d"
            ],
            [
             0.2,
             "#de77ae"
            ],
            [
             0.3,
             "#f1b6da"
            ],
            [
             0.4,
             "#fde0ef"
            ],
            [
             0.5,
             "#f7f7f7"
            ],
            [
             0.6,
             "#e6f5d0"
            ],
            [
             0.7,
             "#b8e186"
            ],
            [
             0.8,
             "#7fbc41"
            ],
            [
             0.9,
             "#4d9221"
            ],
            [
             1,
             "#276419"
            ]
           ],
           "sequential": [
            [
             0,
             "#0d0887"
            ],
            [
             0.1111111111111111,
             "#46039f"
            ],
            [
             0.2222222222222222,
             "#7201a8"
            ],
            [
             0.3333333333333333,
             "#9c179e"
            ],
            [
             0.4444444444444444,
             "#bd3786"
            ],
            [
             0.5555555555555556,
             "#d8576b"
            ],
            [
             0.6666666666666666,
             "#ed7953"
            ],
            [
             0.7777777777777778,
             "#fb9f3a"
            ],
            [
             0.8888888888888888,
             "#fdca26"
            ],
            [
             1,
             "#f0f921"
            ]
           ],
           "sequentialminus": [
            [
             0,
             "#0d0887"
            ],
            [
             0.1111111111111111,
             "#46039f"
            ],
            [
             0.2222222222222222,
             "#7201a8"
            ],
            [
             0.3333333333333333,
             "#9c179e"
            ],
            [
             0.4444444444444444,
             "#bd3786"
            ],
            [
             0.5555555555555556,
             "#d8576b"
            ],
            [
             0.6666666666666666,
             "#ed7953"
            ],
            [
             0.7777777777777778,
             "#fb9f3a"
            ],
            [
             0.8888888888888888,
             "#fdca26"
            ],
            [
             1,
             "#f0f921"
            ]
           ]
          },
          "colorway": [
           "#636efa",
           "#EF553B",
           "#00cc96",
           "#ab63fa",
           "#FFA15A",
           "#19d3f3",
           "#FF6692",
           "#B6E880",
           "#FF97FF",
           "#FECB52"
          ],
          "font": {
           "color": "#2a3f5f"
          },
          "geo": {
           "bgcolor": "white",
           "lakecolor": "white",
           "landcolor": "#E5ECF6",
           "showlakes": true,
           "showland": true,
           "subunitcolor": "white"
          },
          "hoverlabel": {
           "align": "left"
          },
          "hovermode": "closest",
          "mapbox": {
           "style": "light"
          },
          "paper_bgcolor": "white",
          "plot_bgcolor": "#E5ECF6",
          "polar": {
           "angularaxis": {
            "gridcolor": "white",
            "linecolor": "white",
            "ticks": ""
           },
           "bgcolor": "#E5ECF6",
           "radialaxis": {
            "gridcolor": "white",
            "linecolor": "white",
            "ticks": ""
           }
          },
          "scene": {
           "xaxis": {
            "backgroundcolor": "#E5ECF6",
            "gridcolor": "white",
            "gridwidth": 2,
            "linecolor": "white",
            "showbackground": true,
            "ticks": "",
            "zerolinecolor": "white"
           },
           "yaxis": {
            "backgroundcolor": "#E5ECF6",
            "gridcolor": "white",
            "gridwidth": 2,
            "linecolor": "white",
            "showbackground": true,
            "ticks": "",
            "zerolinecolor": "white"
           },
           "zaxis": {
            "backgroundcolor": "#E5ECF6",
            "gridcolor": "white",
            "gridwidth": 2,
            "linecolor": "white",
            "showbackground": true,
            "ticks": "",
            "zerolinecolor": "white"
           }
          },
          "shapedefaults": {
           "line": {
            "color": "#2a3f5f"
           }
          },
          "ternary": {
           "aaxis": {
            "gridcolor": "white",
            "linecolor": "white",
            "ticks": ""
           },
           "baxis": {
            "gridcolor": "white",
            "linecolor": "white",
            "ticks": ""
           },
           "bgcolor": "#E5ECF6",
           "caxis": {
            "gridcolor": "white",
            "linecolor": "white",
            "ticks": ""
           }
          },
          "title": {
           "x": 0.05
          },
          "xaxis": {
           "automargin": true,
           "gridcolor": "white",
           "linecolor": "white",
           "ticks": "",
           "title": {
            "standoff": 15
           },
           "zerolinecolor": "white",
           "zerolinewidth": 2
          },
          "yaxis": {
           "automargin": true,
           "gridcolor": "white",
           "linecolor": "white",
           "ticks": "",
           "title": {
            "standoff": 15
           },
           "zerolinecolor": "white",
           "zerolinewidth": 2
          }
         }
        },
        "title": {
         "font": {
          "size": 20
         },
         "text": "<b>5 Most Frequent Platform</b>"
        },
        "xaxis": {
         "anchor": "y",
         "domain": [
          0,
          1
         ],
         "title": {
          "text": "Count"
         }
        },
        "yaxis": {
         "anchor": "x",
         "categoryarray": [
          "X360",
          "Wii",
          "PS3",
          "PS2",
          "DS"
         ],
         "categoryorder": "array",
         "domain": [
          0,
          1
         ],
         "title": {
          "text": "Platform"
         }
        }
       }
      }
     },
     "metadata": {},
     "output_type": "display_data"
    }
   ],
   "source": [
    "# 시각화에 사용될 데이터  \n",
    "platform = vgData['Platform'].value_counts()\n",
    "platform = platform.to_frame()\n",
    "platform = platform.reset_index()\n",
    "platform.columns = ['Platform', 'Count']\n",
    "platform = platform.sort_values('Count', ascending=False)\n",
    "top5 = platform.head(5)\n",
    "\n",
    "# 시각화\n",
    "fig = px.bar(data_frame=top5, \n",
    "             x='Count', y='Platform', \n",
    "             text_auto=True, \n",
    "             title='<b>5 Most Frequent Platform</b>',\n",
    "             orientation='h',\n",
    "             color='Platform',\n",
    "             color_discrete_sequence=px.colors.qualitative.Pastel)\n",
    "fig.update_layout(\n",
    "    title_font_size = 20,\n",
    "    showlegend = False\n",
    ")\n",
    "fig.show()"
   ]
  },
  {
   "cell_type": "markdown",
   "metadata": {},
   "source": [
    "#### 출시년도 빈도 분포"
   ]
  },
  {
   "cell_type": "code",
   "execution_count": 112,
   "metadata": {},
   "outputs": [
    {
     "data": {
      "application/vnd.plotly.v1+json": {
       "config": {
        "plotlyServerURL": "https://plot.ly"
       },
       "data": [
        {
         "alignmentgroup": "True",
         "hovertemplate": "Year=%{x}<br>Count=%{y}<extra></extra>",
         "legendgroup": "2002",
         "marker": {
          "color": "rgb(102, 197, 204)",
          "pattern": {
           "shape": ""
          }
         },
         "name": "2002",
         "offsetgroup": "2002",
         "orientation": "v",
         "showlegend": true,
         "textposition": "auto",
         "texttemplate": "%{y}",
         "type": "bar",
         "x": [
          "2002"
         ],
         "xaxis": "x",
         "y": [
          829
         ],
         "yaxis": "y"
        },
        {
         "alignmentgroup": "True",
         "hovertemplate": "Year=%{x}<br>Count=%{y}<extra></extra>",
         "legendgroup": "2003",
         "marker": {
          "color": "rgb(246, 207, 113)",
          "pattern": {
           "shape": ""
          }
         },
         "name": "2003",
         "offsetgroup": "2003",
         "orientation": "v",
         "showlegend": true,
         "textposition": "auto",
         "texttemplate": "%{y}",
         "type": "bar",
         "x": [
          "2003"
         ],
         "xaxis": "x",
         "y": [
          775
         ],
         "yaxis": "y"
        },
        {
         "alignmentgroup": "True",
         "hovertemplate": "Year=%{x}<br>Count=%{y}<extra></extra>",
         "legendgroup": "2004",
         "marker": {
          "color": "rgb(248, 156, 116)",
          "pattern": {
           "shape": ""
          }
         },
         "name": "2004",
         "offsetgroup": "2004",
         "orientation": "v",
         "showlegend": true,
         "textposition": "auto",
         "texttemplate": "%{y}",
         "type": "bar",
         "x": [
          "2004"
         ],
         "xaxis": "x",
         "y": [
          744
         ],
         "yaxis": "y"
        },
        {
         "alignmentgroup": "True",
         "hovertemplate": "Year=%{x}<br>Count=%{y}<extra></extra>",
         "legendgroup": "2005",
         "marker": {
          "color": "rgb(220, 176, 242)",
          "pattern": {
           "shape": ""
          }
         },
         "name": "2005",
         "offsetgroup": "2005",
         "orientation": "v",
         "showlegend": true,
         "textposition": "auto",
         "texttemplate": "%{y}",
         "type": "bar",
         "x": [
          "2005"
         ],
         "xaxis": "x",
         "y": [
          936
         ],
         "yaxis": "y"
        },
        {
         "alignmentgroup": "True",
         "hovertemplate": "Year=%{x}<br>Count=%{y}<extra></extra>",
         "legendgroup": "2006",
         "marker": {
          "color": "rgb(135, 197, 95)",
          "pattern": {
           "shape": ""
          }
         },
         "name": "2006",
         "offsetgroup": "2006",
         "orientation": "v",
         "showlegend": true,
         "textposition": "auto",
         "texttemplate": "%{y}",
         "type": "bar",
         "x": [
          "2006"
         ],
         "xaxis": "x",
         "y": [
          1008
         ],
         "yaxis": "y"
        },
        {
         "alignmentgroup": "True",
         "hovertemplate": "Year=%{x}<br>Count=%{y}<extra></extra>",
         "legendgroup": "2007",
         "marker": {
          "color": "rgb(158, 185, 243)",
          "pattern": {
           "shape": ""
          }
         },
         "name": "2007",
         "offsetgroup": "2007",
         "orientation": "v",
         "showlegend": true,
         "textposition": "auto",
         "texttemplate": "%{y}",
         "type": "bar",
         "x": [
          "2007"
         ],
         "xaxis": "x",
         "y": [
          1201
         ],
         "yaxis": "y"
        },
        {
         "alignmentgroup": "True",
         "hovertemplate": "Year=%{x}<br>Count=%{y}<extra></extra>",
         "legendgroup": "2008",
         "marker": {
          "color": "rgb(254, 136, 177)",
          "pattern": {
           "shape": ""
          }
         },
         "name": "2008",
         "offsetgroup": "2008",
         "orientation": "v",
         "showlegend": true,
         "textposition": "auto",
         "texttemplate": "%{y}",
         "type": "bar",
         "x": [
          "2008"
         ],
         "xaxis": "x",
         "y": [
          1428
         ],
         "yaxis": "y"
        },
        {
         "alignmentgroup": "True",
         "hovertemplate": "Year=%{x}<br>Count=%{y}<extra></extra>",
         "legendgroup": "2009",
         "marker": {
          "color": "rgb(201, 219, 116)",
          "pattern": {
           "shape": ""
          }
         },
         "name": "2009",
         "offsetgroup": "2009",
         "orientation": "v",
         "showlegend": true,
         "textposition": "auto",
         "texttemplate": "%{y}",
         "type": "bar",
         "x": [
          "2009"
         ],
         "xaxis": "x",
         "y": [
          1431
         ],
         "yaxis": "y"
        },
        {
         "alignmentgroup": "True",
         "hovertemplate": "Year=%{x}<br>Count=%{y}<extra></extra>",
         "legendgroup": "2010",
         "marker": {
          "color": "rgb(139, 224, 164)",
          "pattern": {
           "shape": ""
          }
         },
         "name": "2010",
         "offsetgroup": "2010",
         "orientation": "v",
         "showlegend": true,
         "textposition": "auto",
         "texttemplate": "%{y}",
         "type": "bar",
         "x": [
          "2010"
         ],
         "xaxis": "x",
         "y": [
          1257
         ],
         "yaxis": "y"
        },
        {
         "alignmentgroup": "True",
         "hovertemplate": "Year=%{x}<br>Count=%{y}<extra></extra>",
         "legendgroup": "2011",
         "marker": {
          "color": "rgb(180, 151, 231)",
          "pattern": {
           "shape": ""
          }
         },
         "name": "2011",
         "offsetgroup": "2011",
         "orientation": "v",
         "showlegend": true,
         "textposition": "auto",
         "texttemplate": "%{y}",
         "type": "bar",
         "x": [
          "2011"
         ],
         "xaxis": "x",
         "y": [
          1136
         ],
         "yaxis": "y"
        }
       ],
       "layout": {
        "barmode": "relative",
        "legend": {
         "title": {
          "text": "Year"
         },
         "tracegroupgap": 0
        },
        "showlegend": false,
        "template": {
         "data": {
          "bar": [
           {
            "error_x": {
             "color": "#2a3f5f"
            },
            "error_y": {
             "color": "#2a3f5f"
            },
            "marker": {
             "line": {
              "color": "#E5ECF6",
              "width": 0.5
             },
             "pattern": {
              "fillmode": "overlay",
              "size": 10,
              "solidity": 0.2
             }
            },
            "type": "bar"
           }
          ],
          "barpolar": [
           {
            "marker": {
             "line": {
              "color": "#E5ECF6",
              "width": 0.5
             },
             "pattern": {
              "fillmode": "overlay",
              "size": 10,
              "solidity": 0.2
             }
            },
            "type": "barpolar"
           }
          ],
          "carpet": [
           {
            "aaxis": {
             "endlinecolor": "#2a3f5f",
             "gridcolor": "white",
             "linecolor": "white",
             "minorgridcolor": "white",
             "startlinecolor": "#2a3f5f"
            },
            "baxis": {
             "endlinecolor": "#2a3f5f",
             "gridcolor": "white",
             "linecolor": "white",
             "minorgridcolor": "white",
             "startlinecolor": "#2a3f5f"
            },
            "type": "carpet"
           }
          ],
          "choropleth": [
           {
            "colorbar": {
             "outlinewidth": 0,
             "ticks": ""
            },
            "type": "choropleth"
           }
          ],
          "contour": [
           {
            "colorbar": {
             "outlinewidth": 0,
             "ticks": ""
            },
            "colorscale": [
             [
              0,
              "#0d0887"
             ],
             [
              0.1111111111111111,
              "#46039f"
             ],
             [
              0.2222222222222222,
              "#7201a8"
             ],
             [
              0.3333333333333333,
              "#9c179e"
             ],
             [
              0.4444444444444444,
              "#bd3786"
             ],
             [
              0.5555555555555556,
              "#d8576b"
             ],
             [
              0.6666666666666666,
              "#ed7953"
             ],
             [
              0.7777777777777778,
              "#fb9f3a"
             ],
             [
              0.8888888888888888,
              "#fdca26"
             ],
             [
              1,
              "#f0f921"
             ]
            ],
            "type": "contour"
           }
          ],
          "contourcarpet": [
           {
            "colorbar": {
             "outlinewidth": 0,
             "ticks": ""
            },
            "type": "contourcarpet"
           }
          ],
          "heatmap": [
           {
            "colorbar": {
             "outlinewidth": 0,
             "ticks": ""
            },
            "colorscale": [
             [
              0,
              "#0d0887"
             ],
             [
              0.1111111111111111,
              "#46039f"
             ],
             [
              0.2222222222222222,
              "#7201a8"
             ],
             [
              0.3333333333333333,
              "#9c179e"
             ],
             [
              0.4444444444444444,
              "#bd3786"
             ],
             [
              0.5555555555555556,
              "#d8576b"
             ],
             [
              0.6666666666666666,
              "#ed7953"
             ],
             [
              0.7777777777777778,
              "#fb9f3a"
             ],
             [
              0.8888888888888888,
              "#fdca26"
             ],
             [
              1,
              "#f0f921"
             ]
            ],
            "type": "heatmap"
           }
          ],
          "heatmapgl": [
           {
            "colorbar": {
             "outlinewidth": 0,
             "ticks": ""
            },
            "colorscale": [
             [
              0,
              "#0d0887"
             ],
             [
              0.1111111111111111,
              "#46039f"
             ],
             [
              0.2222222222222222,
              "#7201a8"
             ],
             [
              0.3333333333333333,
              "#9c179e"
             ],
             [
              0.4444444444444444,
              "#bd3786"
             ],
             [
              0.5555555555555556,
              "#d8576b"
             ],
             [
              0.6666666666666666,
              "#ed7953"
             ],
             [
              0.7777777777777778,
              "#fb9f3a"
             ],
             [
              0.8888888888888888,
              "#fdca26"
             ],
             [
              1,
              "#f0f921"
             ]
            ],
            "type": "heatmapgl"
           }
          ],
          "histogram": [
           {
            "marker": {
             "pattern": {
              "fillmode": "overlay",
              "size": 10,
              "solidity": 0.2
             }
            },
            "type": "histogram"
           }
          ],
          "histogram2d": [
           {
            "colorbar": {
             "outlinewidth": 0,
             "ticks": ""
            },
            "colorscale": [
             [
              0,
              "#0d0887"
             ],
             [
              0.1111111111111111,
              "#46039f"
             ],
             [
              0.2222222222222222,
              "#7201a8"
             ],
             [
              0.3333333333333333,
              "#9c179e"
             ],
             [
              0.4444444444444444,
              "#bd3786"
             ],
             [
              0.5555555555555556,
              "#d8576b"
             ],
             [
              0.6666666666666666,
              "#ed7953"
             ],
             [
              0.7777777777777778,
              "#fb9f3a"
             ],
             [
              0.8888888888888888,
              "#fdca26"
             ],
             [
              1,
              "#f0f921"
             ]
            ],
            "type": "histogram2d"
           }
          ],
          "histogram2dcontour": [
           {
            "colorbar": {
             "outlinewidth": 0,
             "ticks": ""
            },
            "colorscale": [
             [
              0,
              "#0d0887"
             ],
             [
              0.1111111111111111,
              "#46039f"
             ],
             [
              0.2222222222222222,
              "#7201a8"
             ],
             [
              0.3333333333333333,
              "#9c179e"
             ],
             [
              0.4444444444444444,
              "#bd3786"
             ],
             [
              0.5555555555555556,
              "#d8576b"
             ],
             [
              0.6666666666666666,
              "#ed7953"
             ],
             [
              0.7777777777777778,
              "#fb9f3a"
             ],
             [
              0.8888888888888888,
              "#fdca26"
             ],
             [
              1,
              "#f0f921"
             ]
            ],
            "type": "histogram2dcontour"
           }
          ],
          "mesh3d": [
           {
            "colorbar": {
             "outlinewidth": 0,
             "ticks": ""
            },
            "type": "mesh3d"
           }
          ],
          "parcoords": [
           {
            "line": {
             "colorbar": {
              "outlinewidth": 0,
              "ticks": ""
             }
            },
            "type": "parcoords"
           }
          ],
          "pie": [
           {
            "automargin": true,
            "type": "pie"
           }
          ],
          "scatter": [
           {
            "fillpattern": {
             "fillmode": "overlay",
             "size": 10,
             "solidity": 0.2
            },
            "type": "scatter"
           }
          ],
          "scatter3d": [
           {
            "line": {
             "colorbar": {
              "outlinewidth": 0,
              "ticks": ""
             }
            },
            "marker": {
             "colorbar": {
              "outlinewidth": 0,
              "ticks": ""
             }
            },
            "type": "scatter3d"
           }
          ],
          "scattercarpet": [
           {
            "marker": {
             "colorbar": {
              "outlinewidth": 0,
              "ticks": ""
             }
            },
            "type": "scattercarpet"
           }
          ],
          "scattergeo": [
           {
            "marker": {
             "colorbar": {
              "outlinewidth": 0,
              "ticks": ""
             }
            },
            "type": "scattergeo"
           }
          ],
          "scattergl": [
           {
            "marker": {
             "colorbar": {
              "outlinewidth": 0,
              "ticks": ""
             }
            },
            "type": "scattergl"
           }
          ],
          "scattermapbox": [
           {
            "marker": {
             "colorbar": {
              "outlinewidth": 0,
              "ticks": ""
             }
            },
            "type": "scattermapbox"
           }
          ],
          "scatterpolar": [
           {
            "marker": {
             "colorbar": {
              "outlinewidth": 0,
              "ticks": ""
             }
            },
            "type": "scatterpolar"
           }
          ],
          "scatterpolargl": [
           {
            "marker": {
             "colorbar": {
              "outlinewidth": 0,
              "ticks": ""
             }
            },
            "type": "scatterpolargl"
           }
          ],
          "scatterternary": [
           {
            "marker": {
             "colorbar": {
              "outlinewidth": 0,
              "ticks": ""
             }
            },
            "type": "scatterternary"
           }
          ],
          "surface": [
           {
            "colorbar": {
             "outlinewidth": 0,
             "ticks": ""
            },
            "colorscale": [
             [
              0,
              "#0d0887"
             ],
             [
              0.1111111111111111,
              "#46039f"
             ],
             [
              0.2222222222222222,
              "#7201a8"
             ],
             [
              0.3333333333333333,
              "#9c179e"
             ],
             [
              0.4444444444444444,
              "#bd3786"
             ],
             [
              0.5555555555555556,
              "#d8576b"
             ],
             [
              0.6666666666666666,
              "#ed7953"
             ],
             [
              0.7777777777777778,
              "#fb9f3a"
             ],
             [
              0.8888888888888888,
              "#fdca26"
             ],
             [
              1,
              "#f0f921"
             ]
            ],
            "type": "surface"
           }
          ],
          "table": [
           {
            "cells": {
             "fill": {
              "color": "#EBF0F8"
             },
             "line": {
              "color": "white"
             }
            },
            "header": {
             "fill": {
              "color": "#C8D4E3"
             },
             "line": {
              "color": "white"
             }
            },
            "type": "table"
           }
          ]
         },
         "layout": {
          "annotationdefaults": {
           "arrowcolor": "#2a3f5f",
           "arrowhead": 0,
           "arrowwidth": 1
          },
          "autotypenumbers": "strict",
          "coloraxis": {
           "colorbar": {
            "outlinewidth": 0,
            "ticks": ""
           }
          },
          "colorscale": {
           "diverging": [
            [
             0,
             "#8e0152"
            ],
            [
             0.1,
             "#c51b7d"
            ],
            [
             0.2,
             "#de77ae"
            ],
            [
             0.3,
             "#f1b6da"
            ],
            [
             0.4,
             "#fde0ef"
            ],
            [
             0.5,
             "#f7f7f7"
            ],
            [
             0.6,
             "#e6f5d0"
            ],
            [
             0.7,
             "#b8e186"
            ],
            [
             0.8,
             "#7fbc41"
            ],
            [
             0.9,
             "#4d9221"
            ],
            [
             1,
             "#276419"
            ]
           ],
           "sequential": [
            [
             0,
             "#0d0887"
            ],
            [
             0.1111111111111111,
             "#46039f"
            ],
            [
             0.2222222222222222,
             "#7201a8"
            ],
            [
             0.3333333333333333,
             "#9c179e"
            ],
            [
             0.4444444444444444,
             "#bd3786"
            ],
            [
             0.5555555555555556,
             "#d8576b"
            ],
            [
             0.6666666666666666,
             "#ed7953"
            ],
            [
             0.7777777777777778,
             "#fb9f3a"
            ],
            [
             0.8888888888888888,
             "#fdca26"
            ],
            [
             1,
             "#f0f921"
            ]
           ],
           "sequentialminus": [
            [
             0,
             "#0d0887"
            ],
            [
             0.1111111111111111,
             "#46039f"
            ],
            [
             0.2222222222222222,
             "#7201a8"
            ],
            [
             0.3333333333333333,
             "#9c179e"
            ],
            [
             0.4444444444444444,
             "#bd3786"
            ],
            [
             0.5555555555555556,
             "#d8576b"
            ],
            [
             0.6666666666666666,
             "#ed7953"
            ],
            [
             0.7777777777777778,
             "#fb9f3a"
            ],
            [
             0.8888888888888888,
             "#fdca26"
            ],
            [
             1,
             "#f0f921"
            ]
           ]
          },
          "colorway": [
           "#636efa",
           "#EF553B",
           "#00cc96",
           "#ab63fa",
           "#FFA15A",
           "#19d3f3",
           "#FF6692",
           "#B6E880",
           "#FF97FF",
           "#FECB52"
          ],
          "font": {
           "color": "#2a3f5f"
          },
          "geo": {
           "bgcolor": "white",
           "lakecolor": "white",
           "landcolor": "#E5ECF6",
           "showlakes": true,
           "showland": true,
           "subunitcolor": "white"
          },
          "hoverlabel": {
           "align": "left"
          },
          "hovermode": "closest",
          "mapbox": {
           "style": "light"
          },
          "paper_bgcolor": "white",
          "plot_bgcolor": "#E5ECF6",
          "polar": {
           "angularaxis": {
            "gridcolor": "white",
            "linecolor": "white",
            "ticks": ""
           },
           "bgcolor": "#E5ECF6",
           "radialaxis": {
            "gridcolor": "white",
            "linecolor": "white",
            "ticks": ""
           }
          },
          "scene": {
           "xaxis": {
            "backgroundcolor": "#E5ECF6",
            "gridcolor": "white",
            "gridwidth": 2,
            "linecolor": "white",
            "showbackground": true,
            "ticks": "",
            "zerolinecolor": "white"
           },
           "yaxis": {
            "backgroundcolor": "#E5ECF6",
            "gridcolor": "white",
            "gridwidth": 2,
            "linecolor": "white",
            "showbackground": true,
            "ticks": "",
            "zerolinecolor": "white"
           },
           "zaxis": {
            "backgroundcolor": "#E5ECF6",
            "gridcolor": "white",
            "gridwidth": 2,
            "linecolor": "white",
            "showbackground": true,
            "ticks": "",
            "zerolinecolor": "white"
           }
          },
          "shapedefaults": {
           "line": {
            "color": "#2a3f5f"
           }
          },
          "ternary": {
           "aaxis": {
            "gridcolor": "white",
            "linecolor": "white",
            "ticks": ""
           },
           "baxis": {
            "gridcolor": "white",
            "linecolor": "white",
            "ticks": ""
           },
           "bgcolor": "#E5ECF6",
           "caxis": {
            "gridcolor": "white",
            "linecolor": "white",
            "ticks": ""
           }
          },
          "title": {
           "x": 0.05
          },
          "xaxis": {
           "automargin": true,
           "gridcolor": "white",
           "linecolor": "white",
           "ticks": "",
           "title": {
            "standoff": 15
           },
           "zerolinecolor": "white",
           "zerolinewidth": 2
          },
          "yaxis": {
           "automargin": true,
           "gridcolor": "white",
           "linecolor": "white",
           "ticks": "",
           "title": {
            "standoff": 15
           },
           "zerolinecolor": "white",
           "zerolinewidth": 2
          }
         }
        },
        "title": {
         "font": {
          "size": 20
         },
         "text": "<b>5 Most Frequent Years</b>"
        },
        "xaxis": {
         "anchor": "y",
         "categoryarray": [
          "2002",
          "2003",
          "2004",
          "2005",
          "2006",
          "2007",
          "2008",
          "2009",
          "2010",
          "2011"
         ],
         "categoryorder": "array",
         "domain": [
          0,
          1
         ],
         "title": {
          "text": "Year"
         }
        },
        "yaxis": {
         "anchor": "x",
         "domain": [
          0,
          1
         ],
         "title": {
          "text": "Count"
         }
        }
       }
      }
     },
     "metadata": {},
     "output_type": "display_data"
    }
   ],
   "source": [
    "# 시각화에 사용될 데이터  \n",
    "release = vgData['Year'].value_counts()\n",
    "release = release.to_frame()\n",
    "release = release.reset_index()\n",
    "release.columns = ['Year', 'Count']\n",
    "release = release.sort_values('Count', ascending=False)\n",
    "top10 = release.head(10)\n",
    "top10 = top10.sort_values('Year', ascending=True)\n",
    "top10['Year'] = top10['Year'].astype('str')\n",
    "\n",
    "# 시각화\n",
    "fig = px.bar(data_frame=top10,\n",
    "             x='Year', y='Count', \n",
    "             text_auto=True, \n",
    "             title='<b>5 Most Frequent Years</b>',\n",
    "             color='Year',\n",
    "             color_discrete_sequence=px.colors.qualitative.Pastel)\n",
    "fig.update_layout(\n",
    "    title_font_size = 20,\n",
    "    showlegend = False\n",
    ")\n",
    "fig.show()"
   ]
  },
  {
   "cell_type": "code",
   "execution_count": 228,
   "metadata": {},
   "outputs": [
    {
     "data": {
      "application/vnd.plotly.v1+json": {
       "config": {
        "plotlyServerURL": "https://plot.ly"
       },
       "data": [
        {
         "hovertemplate": "Year=%{x}<br>Count=%{y}<extra></extra>",
         "legendgroup": "",
         "line": {
          "color": "#636efa",
          "dash": "solid"
         },
         "marker": {
          "symbol": "circle"
         },
         "mode": "lines",
         "name": "",
         "orientation": "v",
         "showlegend": false,
         "type": "scatter",
         "x": [
          "1980",
          "1981",
          "1982",
          "1983",
          "1984",
          "1985",
          "1986",
          "1987",
          "1988",
          "1989",
          "1990",
          "1991",
          "1992",
          "1993",
          "1994",
          "1995",
          "1996",
          "1997",
          "1998",
          "1999",
          "2000",
          "2001",
          "2002",
          "2003",
          "2004",
          "2005",
          "2006",
          "2007",
          "2008",
          "2009",
          "2010",
          "2011",
          "2012",
          "2013",
          "2014",
          "2015",
          "2016",
          "2017",
          "2020"
         ],
         "xaxis": "x",
         "y": [
          9,
          46,
          36,
          17,
          14,
          14,
          21,
          16,
          15,
          17,
          16,
          41,
          43,
          60,
          121,
          219,
          263,
          289,
          379,
          338,
          349,
          482,
          829,
          775,
          744,
          936,
          1008,
          1201,
          1428,
          1431,
          1257,
          1136,
          655,
          546,
          580,
          614,
          342,
          3,
          1
         ],
         "yaxis": "y"
        }
       ],
       "layout": {
        "legend": {
         "tracegroupgap": 0
        },
        "template": {
         "data": {
          "bar": [
           {
            "error_x": {
             "color": "#2a3f5f"
            },
            "error_y": {
             "color": "#2a3f5f"
            },
            "marker": {
             "line": {
              "color": "#E5ECF6",
              "width": 0.5
             },
             "pattern": {
              "fillmode": "overlay",
              "size": 10,
              "solidity": 0.2
             }
            },
            "type": "bar"
           }
          ],
          "barpolar": [
           {
            "marker": {
             "line": {
              "color": "#E5ECF6",
              "width": 0.5
             },
             "pattern": {
              "fillmode": "overlay",
              "size": 10,
              "solidity": 0.2
             }
            },
            "type": "barpolar"
           }
          ],
          "carpet": [
           {
            "aaxis": {
             "endlinecolor": "#2a3f5f",
             "gridcolor": "white",
             "linecolor": "white",
             "minorgridcolor": "white",
             "startlinecolor": "#2a3f5f"
            },
            "baxis": {
             "endlinecolor": "#2a3f5f",
             "gridcolor": "white",
             "linecolor": "white",
             "minorgridcolor": "white",
             "startlinecolor": "#2a3f5f"
            },
            "type": "carpet"
           }
          ],
          "choropleth": [
           {
            "colorbar": {
             "outlinewidth": 0,
             "ticks": ""
            },
            "type": "choropleth"
           }
          ],
          "contour": [
           {
            "colorbar": {
             "outlinewidth": 0,
             "ticks": ""
            },
            "colorscale": [
             [
              0,
              "#0d0887"
             ],
             [
              0.1111111111111111,
              "#46039f"
             ],
             [
              0.2222222222222222,
              "#7201a8"
             ],
             [
              0.3333333333333333,
              "#9c179e"
             ],
             [
              0.4444444444444444,
              "#bd3786"
             ],
             [
              0.5555555555555556,
              "#d8576b"
             ],
             [
              0.6666666666666666,
              "#ed7953"
             ],
             [
              0.7777777777777778,
              "#fb9f3a"
             ],
             [
              0.8888888888888888,
              "#fdca26"
             ],
             [
              1,
              "#f0f921"
             ]
            ],
            "type": "contour"
           }
          ],
          "contourcarpet": [
           {
            "colorbar": {
             "outlinewidth": 0,
             "ticks": ""
            },
            "type": "contourcarpet"
           }
          ],
          "heatmap": [
           {
            "colorbar": {
             "outlinewidth": 0,
             "ticks": ""
            },
            "colorscale": [
             [
              0,
              "#0d0887"
             ],
             [
              0.1111111111111111,
              "#46039f"
             ],
             [
              0.2222222222222222,
              "#7201a8"
             ],
             [
              0.3333333333333333,
              "#9c179e"
             ],
             [
              0.4444444444444444,
              "#bd3786"
             ],
             [
              0.5555555555555556,
              "#d8576b"
             ],
             [
              0.6666666666666666,
              "#ed7953"
             ],
             [
              0.7777777777777778,
              "#fb9f3a"
             ],
             [
              0.8888888888888888,
              "#fdca26"
             ],
             [
              1,
              "#f0f921"
             ]
            ],
            "type": "heatmap"
           }
          ],
          "heatmapgl": [
           {
            "colorbar": {
             "outlinewidth": 0,
             "ticks": ""
            },
            "colorscale": [
             [
              0,
              "#0d0887"
             ],
             [
              0.1111111111111111,
              "#46039f"
             ],
             [
              0.2222222222222222,
              "#7201a8"
             ],
             [
              0.3333333333333333,
              "#9c179e"
             ],
             [
              0.4444444444444444,
              "#bd3786"
             ],
             [
              0.5555555555555556,
              "#d8576b"
             ],
             [
              0.6666666666666666,
              "#ed7953"
             ],
             [
              0.7777777777777778,
              "#fb9f3a"
             ],
             [
              0.8888888888888888,
              "#fdca26"
             ],
             [
              1,
              "#f0f921"
             ]
            ],
            "type": "heatmapgl"
           }
          ],
          "histogram": [
           {
            "marker": {
             "pattern": {
              "fillmode": "overlay",
              "size": 10,
              "solidity": 0.2
             }
            },
            "type": "histogram"
           }
          ],
          "histogram2d": [
           {
            "colorbar": {
             "outlinewidth": 0,
             "ticks": ""
            },
            "colorscale": [
             [
              0,
              "#0d0887"
             ],
             [
              0.1111111111111111,
              "#46039f"
             ],
             [
              0.2222222222222222,
              "#7201a8"
             ],
             [
              0.3333333333333333,
              "#9c179e"
             ],
             [
              0.4444444444444444,
              "#bd3786"
             ],
             [
              0.5555555555555556,
              "#d8576b"
             ],
             [
              0.6666666666666666,
              "#ed7953"
             ],
             [
              0.7777777777777778,
              "#fb9f3a"
             ],
             [
              0.8888888888888888,
              "#fdca26"
             ],
             [
              1,
              "#f0f921"
             ]
            ],
            "type": "histogram2d"
           }
          ],
          "histogram2dcontour": [
           {
            "colorbar": {
             "outlinewidth": 0,
             "ticks": ""
            },
            "colorscale": [
             [
              0,
              "#0d0887"
             ],
             [
              0.1111111111111111,
              "#46039f"
             ],
             [
              0.2222222222222222,
              "#7201a8"
             ],
             [
              0.3333333333333333,
              "#9c179e"
             ],
             [
              0.4444444444444444,
              "#bd3786"
             ],
             [
              0.5555555555555556,
              "#d8576b"
             ],
             [
              0.6666666666666666,
              "#ed7953"
             ],
             [
              0.7777777777777778,
              "#fb9f3a"
             ],
             [
              0.8888888888888888,
              "#fdca26"
             ],
             [
              1,
              "#f0f921"
             ]
            ],
            "type": "histogram2dcontour"
           }
          ],
          "mesh3d": [
           {
            "colorbar": {
             "outlinewidth": 0,
             "ticks": ""
            },
            "type": "mesh3d"
           }
          ],
          "parcoords": [
           {
            "line": {
             "colorbar": {
              "outlinewidth": 0,
              "ticks": ""
             }
            },
            "type": "parcoords"
           }
          ],
          "pie": [
           {
            "automargin": true,
            "type": "pie"
           }
          ],
          "scatter": [
           {
            "fillpattern": {
             "fillmode": "overlay",
             "size": 10,
             "solidity": 0.2
            },
            "type": "scatter"
           }
          ],
          "scatter3d": [
           {
            "line": {
             "colorbar": {
              "outlinewidth": 0,
              "ticks": ""
             }
            },
            "marker": {
             "colorbar": {
              "outlinewidth": 0,
              "ticks": ""
             }
            },
            "type": "scatter3d"
           }
          ],
          "scattercarpet": [
           {
            "marker": {
             "colorbar": {
              "outlinewidth": 0,
              "ticks": ""
             }
            },
            "type": "scattercarpet"
           }
          ],
          "scattergeo": [
           {
            "marker": {
             "colorbar": {
              "outlinewidth": 0,
              "ticks": ""
             }
            },
            "type": "scattergeo"
           }
          ],
          "scattergl": [
           {
            "marker": {
             "colorbar": {
              "outlinewidth": 0,
              "ticks": ""
             }
            },
            "type": "scattergl"
           }
          ],
          "scattermapbox": [
           {
            "marker": {
             "colorbar": {
              "outlinewidth": 0,
              "ticks": ""
             }
            },
            "type": "scattermapbox"
           }
          ],
          "scatterpolar": [
           {
            "marker": {
             "colorbar": {
              "outlinewidth": 0,
              "ticks": ""
             }
            },
            "type": "scatterpolar"
           }
          ],
          "scatterpolargl": [
           {
            "marker": {
             "colorbar": {
              "outlinewidth": 0,
              "ticks": ""
             }
            },
            "type": "scatterpolargl"
           }
          ],
          "scatterternary": [
           {
            "marker": {
             "colorbar": {
              "outlinewidth": 0,
              "ticks": ""
             }
            },
            "type": "scatterternary"
           }
          ],
          "surface": [
           {
            "colorbar": {
             "outlinewidth": 0,
             "ticks": ""
            },
            "colorscale": [
             [
              0,
              "#0d0887"
             ],
             [
              0.1111111111111111,
              "#46039f"
             ],
             [
              0.2222222222222222,
              "#7201a8"
             ],
             [
              0.3333333333333333,
              "#9c179e"
             ],
             [
              0.4444444444444444,
              "#bd3786"
             ],
             [
              0.5555555555555556,
              "#d8576b"
             ],
             [
              0.6666666666666666,
              "#ed7953"
             ],
             [
              0.7777777777777778,
              "#fb9f3a"
             ],
             [
              0.8888888888888888,
              "#fdca26"
             ],
             [
              1,
              "#f0f921"
             ]
            ],
            "type": "surface"
           }
          ],
          "table": [
           {
            "cells": {
             "fill": {
              "color": "#EBF0F8"
             },
             "line": {
              "color": "white"
             }
            },
            "header": {
             "fill": {
              "color": "#C8D4E3"
             },
             "line": {
              "color": "white"
             }
            },
            "type": "table"
           }
          ]
         },
         "layout": {
          "annotationdefaults": {
           "arrowcolor": "#2a3f5f",
           "arrowhead": 0,
           "arrowwidth": 1
          },
          "autotypenumbers": "strict",
          "coloraxis": {
           "colorbar": {
            "outlinewidth": 0,
            "ticks": ""
           }
          },
          "colorscale": {
           "diverging": [
            [
             0,
             "#8e0152"
            ],
            [
             0.1,
             "#c51b7d"
            ],
            [
             0.2,
             "#de77ae"
            ],
            [
             0.3,
             "#f1b6da"
            ],
            [
             0.4,
             "#fde0ef"
            ],
            [
             0.5,
             "#f7f7f7"
            ],
            [
             0.6,
             "#e6f5d0"
            ],
            [
             0.7,
             "#b8e186"
            ],
            [
             0.8,
             "#7fbc41"
            ],
            [
             0.9,
             "#4d9221"
            ],
            [
             1,
             "#276419"
            ]
           ],
           "sequential": [
            [
             0,
             "#0d0887"
            ],
            [
             0.1111111111111111,
             "#46039f"
            ],
            [
             0.2222222222222222,
             "#7201a8"
            ],
            [
             0.3333333333333333,
             "#9c179e"
            ],
            [
             0.4444444444444444,
             "#bd3786"
            ],
            [
             0.5555555555555556,
             "#d8576b"
            ],
            [
             0.6666666666666666,
             "#ed7953"
            ],
            [
             0.7777777777777778,
             "#fb9f3a"
            ],
            [
             0.8888888888888888,
             "#fdca26"
            ],
            [
             1,
             "#f0f921"
            ]
           ],
           "sequentialminus": [
            [
             0,
             "#0d0887"
            ],
            [
             0.1111111111111111,
             "#46039f"
            ],
            [
             0.2222222222222222,
             "#7201a8"
            ],
            [
             0.3333333333333333,
             "#9c179e"
            ],
            [
             0.4444444444444444,
             "#bd3786"
            ],
            [
             0.5555555555555556,
             "#d8576b"
            ],
            [
             0.6666666666666666,
             "#ed7953"
            ],
            [
             0.7777777777777778,
             "#fb9f3a"
            ],
            [
             0.8888888888888888,
             "#fdca26"
            ],
            [
             1,
             "#f0f921"
            ]
           ]
          },
          "colorway": [
           "#636efa",
           "#EF553B",
           "#00cc96",
           "#ab63fa",
           "#FFA15A",
           "#19d3f3",
           "#FF6692",
           "#B6E880",
           "#FF97FF",
           "#FECB52"
          ],
          "font": {
           "color": "#2a3f5f"
          },
          "geo": {
           "bgcolor": "white",
           "lakecolor": "white",
           "landcolor": "#E5ECF6",
           "showlakes": true,
           "showland": true,
           "subunitcolor": "white"
          },
          "hoverlabel": {
           "align": "left"
          },
          "hovermode": "closest",
          "mapbox": {
           "style": "light"
          },
          "paper_bgcolor": "white",
          "plot_bgcolor": "#E5ECF6",
          "polar": {
           "angularaxis": {
            "gridcolor": "white",
            "linecolor": "white",
            "ticks": ""
           },
           "bgcolor": "#E5ECF6",
           "radialaxis": {
            "gridcolor": "white",
            "linecolor": "white",
            "ticks": ""
           }
          },
          "scene": {
           "xaxis": {
            "backgroundcolor": "#E5ECF6",
            "gridcolor": "white",
            "gridwidth": 2,
            "linecolor": "white",
            "showbackground": true,
            "ticks": "",
            "zerolinecolor": "white"
           },
           "yaxis": {
            "backgroundcolor": "#E5ECF6",
            "gridcolor": "white",
            "gridwidth": 2,
            "linecolor": "white",
            "showbackground": true,
            "ticks": "",
            "zerolinecolor": "white"
           },
           "zaxis": {
            "backgroundcolor": "#E5ECF6",
            "gridcolor": "white",
            "gridwidth": 2,
            "linecolor": "white",
            "showbackground": true,
            "ticks": "",
            "zerolinecolor": "white"
           }
          },
          "shapedefaults": {
           "line": {
            "color": "#2a3f5f"
           }
          },
          "ternary": {
           "aaxis": {
            "gridcolor": "white",
            "linecolor": "white",
            "ticks": ""
           },
           "baxis": {
            "gridcolor": "white",
            "linecolor": "white",
            "ticks": ""
           },
           "bgcolor": "#E5ECF6",
           "caxis": {
            "gridcolor": "white",
            "linecolor": "white",
            "ticks": ""
           }
          },
          "title": {
           "x": 0.05
          },
          "xaxis": {
           "automargin": true,
           "gridcolor": "white",
           "linecolor": "white",
           "ticks": "",
           "title": {
            "standoff": 15
           },
           "zerolinecolor": "white",
           "zerolinewidth": 2
          },
          "yaxis": {
           "automargin": true,
           "gridcolor": "white",
           "linecolor": "white",
           "ticks": "",
           "title": {
            "standoff": 15
           },
           "zerolinecolor": "white",
           "zerolinewidth": 2
          }
         }
        },
        "title": {
         "text": "<b>1980~2020 Released Video Game </b>"
        },
        "xaxis": {
         "anchor": "y",
         "domain": [
          0,
          1
         ],
         "title": {
          "text": "Year"
         }
        },
        "yaxis": {
         "anchor": "x",
         "domain": [
          0,
          1
         ],
         "title": {
          "text": "Count"
         }
        }
       }
      }
     },
     "metadata": {},
     "output_type": "display_data"
    }
   ],
   "source": [
    "# 시각화 데이터\n",
    "release = release.sort_values('Year')\n",
    "release.Year = release.Year.astype('str')\n",
    "\n",
    "# 시각화\n",
    "fig = px.line(data_frame=release,\n",
    "              x='Year', \n",
    "              y='Count',\n",
    "              title = '<b>1980~2020 Released Video Game </b>'\n",
    "              )\n",
    "fig.show()"
   ]
  },
  {
   "cell_type": "markdown",
   "metadata": {},
   "source": [
    "#### 다양한 플랫폼에서 출시된 게임"
   ]
  },
  {
   "cell_type": "code",
   "execution_count": 122,
   "metadata": {},
   "outputs": [
    {
     "data": {
      "application/vnd.plotly.v1+json": {
       "config": {
        "plotlyServerURL": "https://plot.ly"
       },
       "data": [
        {
         "alignmentgroup": "True",
         "hovertemplate": "Game=%{y}<br>Count=%{x}<extra></extra>",
         "legendgroup": "Need for Speed: Most Wanted",
         "marker": {
          "color": "rgb(102, 197, 204)",
          "pattern": {
           "shape": ""
          }
         },
         "name": "Need for Speed: Most Wanted",
         "offsetgroup": "Need for Speed: Most Wanted",
         "orientation": "h",
         "showlegend": true,
         "textposition": "auto",
         "texttemplate": "%{x}",
         "type": "bar",
         "x": [
          12
         ],
         "xaxis": "x",
         "y": [
          "Need for Speed: Most Wanted"
         ],
         "yaxis": "y"
        },
        {
         "alignmentgroup": "True",
         "hovertemplate": "Game=%{y}<br>Count=%{x}<extra></extra>",
         "legendgroup": "Ratatouille",
         "marker": {
          "color": "rgb(246, 207, 113)",
          "pattern": {
           "shape": ""
          }
         },
         "name": "Ratatouille",
         "offsetgroup": "Ratatouille",
         "orientation": "h",
         "showlegend": true,
         "textposition": "auto",
         "texttemplate": "%{x}",
         "type": "bar",
         "x": [
          9
         ],
         "xaxis": "x",
         "y": [
          "Ratatouille"
         ],
         "yaxis": "y"
        },
        {
         "alignmentgroup": "True",
         "hovertemplate": "Game=%{y}<br>Count=%{x}<extra></extra>",
         "legendgroup": "LEGO Marvel Super Heroes",
         "marker": {
          "color": "rgb(248, 156, 116)",
          "pattern": {
           "shape": ""
          }
         },
         "name": "LEGO Marvel Super Heroes",
         "offsetgroup": "LEGO Marvel Super Heroes",
         "orientation": "h",
         "showlegend": true,
         "textposition": "auto",
         "texttemplate": "%{x}",
         "type": "bar",
         "x": [
          9
         ],
         "xaxis": "x",
         "y": [
          "LEGO Marvel Super Heroes"
         ],
         "yaxis": "y"
        },
        {
         "alignmentgroup": "True",
         "hovertemplate": "Game=%{y}<br>Count=%{x}<extra></extra>",
         "legendgroup": "FIFA 14",
         "marker": {
          "color": "rgb(220, 176, 242)",
          "pattern": {
           "shape": ""
          }
         },
         "name": "FIFA 14",
         "offsetgroup": "FIFA 14",
         "orientation": "h",
         "showlegend": true,
         "textposition": "auto",
         "texttemplate": "%{x}",
         "type": "bar",
         "x": [
          9
         ],
         "xaxis": "x",
         "y": [
          "FIFA 14"
         ],
         "yaxis": "y"
        },
        {
         "alignmentgroup": "True",
         "hovertemplate": "Game=%{y}<br>Count=%{x}<extra></extra>",
         "legendgroup": "Terraria",
         "marker": {
          "color": "rgb(135, 197, 95)",
          "pattern": {
           "shape": ""
          }
         },
         "name": "Terraria",
         "offsetgroup": "Terraria",
         "orientation": "h",
         "showlegend": true,
         "textposition": "auto",
         "texttemplate": "%{x}",
         "type": "bar",
         "x": [
          8
         ],
         "xaxis": "x",
         "y": [
          "Terraria"
         ],
         "yaxis": "y"
        }
       ],
       "layout": {
        "barmode": "relative",
        "legend": {
         "title": {
          "text": "Game"
         },
         "tracegroupgap": 0
        },
        "showlegend": false,
        "template": {
         "data": {
          "bar": [
           {
            "error_x": {
             "color": "#2a3f5f"
            },
            "error_y": {
             "color": "#2a3f5f"
            },
            "marker": {
             "line": {
              "color": "#E5ECF6",
              "width": 0.5
             },
             "pattern": {
              "fillmode": "overlay",
              "size": 10,
              "solidity": 0.2
             }
            },
            "type": "bar"
           }
          ],
          "barpolar": [
           {
            "marker": {
             "line": {
              "color": "#E5ECF6",
              "width": 0.5
             },
             "pattern": {
              "fillmode": "overlay",
              "size": 10,
              "solidity": 0.2
             }
            },
            "type": "barpolar"
           }
          ],
          "carpet": [
           {
            "aaxis": {
             "endlinecolor": "#2a3f5f",
             "gridcolor": "white",
             "linecolor": "white",
             "minorgridcolor": "white",
             "startlinecolor": "#2a3f5f"
            },
            "baxis": {
             "endlinecolor": "#2a3f5f",
             "gridcolor": "white",
             "linecolor": "white",
             "minorgridcolor": "white",
             "startlinecolor": "#2a3f5f"
            },
            "type": "carpet"
           }
          ],
          "choropleth": [
           {
            "colorbar": {
             "outlinewidth": 0,
             "ticks": ""
            },
            "type": "choropleth"
           }
          ],
          "contour": [
           {
            "colorbar": {
             "outlinewidth": 0,
             "ticks": ""
            },
            "colorscale": [
             [
              0,
              "#0d0887"
             ],
             [
              0.1111111111111111,
              "#46039f"
             ],
             [
              0.2222222222222222,
              "#7201a8"
             ],
             [
              0.3333333333333333,
              "#9c179e"
             ],
             [
              0.4444444444444444,
              "#bd3786"
             ],
             [
              0.5555555555555556,
              "#d8576b"
             ],
             [
              0.6666666666666666,
              "#ed7953"
             ],
             [
              0.7777777777777778,
              "#fb9f3a"
             ],
             [
              0.8888888888888888,
              "#fdca26"
             ],
             [
              1,
              "#f0f921"
             ]
            ],
            "type": "contour"
           }
          ],
          "contourcarpet": [
           {
            "colorbar": {
             "outlinewidth": 0,
             "ticks": ""
            },
            "type": "contourcarpet"
           }
          ],
          "heatmap": [
           {
            "colorbar": {
             "outlinewidth": 0,
             "ticks": ""
            },
            "colorscale": [
             [
              0,
              "#0d0887"
             ],
             [
              0.1111111111111111,
              "#46039f"
             ],
             [
              0.2222222222222222,
              "#7201a8"
             ],
             [
              0.3333333333333333,
              "#9c179e"
             ],
             [
              0.4444444444444444,
              "#bd3786"
             ],
             [
              0.5555555555555556,
              "#d8576b"
             ],
             [
              0.6666666666666666,
              "#ed7953"
             ],
             [
              0.7777777777777778,
              "#fb9f3a"
             ],
             [
              0.8888888888888888,
              "#fdca26"
             ],
             [
              1,
              "#f0f921"
             ]
            ],
            "type": "heatmap"
           }
          ],
          "heatmapgl": [
           {
            "colorbar": {
             "outlinewidth": 0,
             "ticks": ""
            },
            "colorscale": [
             [
              0,
              "#0d0887"
             ],
             [
              0.1111111111111111,
              "#46039f"
             ],
             [
              0.2222222222222222,
              "#7201a8"
             ],
             [
              0.3333333333333333,
              "#9c179e"
             ],
             [
              0.4444444444444444,
              "#bd3786"
             ],
             [
              0.5555555555555556,
              "#d8576b"
             ],
             [
              0.6666666666666666,
              "#ed7953"
             ],
             [
              0.7777777777777778,
              "#fb9f3a"
             ],
             [
              0.8888888888888888,
              "#fdca26"
             ],
             [
              1,
              "#f0f921"
             ]
            ],
            "type": "heatmapgl"
           }
          ],
          "histogram": [
           {
            "marker": {
             "pattern": {
              "fillmode": "overlay",
              "size": 10,
              "solidity": 0.2
             }
            },
            "type": "histogram"
           }
          ],
          "histogram2d": [
           {
            "colorbar": {
             "outlinewidth": 0,
             "ticks": ""
            },
            "colorscale": [
             [
              0,
              "#0d0887"
             ],
             [
              0.1111111111111111,
              "#46039f"
             ],
             [
              0.2222222222222222,
              "#7201a8"
             ],
             [
              0.3333333333333333,
              "#9c179e"
             ],
             [
              0.4444444444444444,
              "#bd3786"
             ],
             [
              0.5555555555555556,
              "#d8576b"
             ],
             [
              0.6666666666666666,
              "#ed7953"
             ],
             [
              0.7777777777777778,
              "#fb9f3a"
             ],
             [
              0.8888888888888888,
              "#fdca26"
             ],
             [
              1,
              "#f0f921"
             ]
            ],
            "type": "histogram2d"
           }
          ],
          "histogram2dcontour": [
           {
            "colorbar": {
             "outlinewidth": 0,
             "ticks": ""
            },
            "colorscale": [
             [
              0,
              "#0d0887"
             ],
             [
              0.1111111111111111,
              "#46039f"
             ],
             [
              0.2222222222222222,
              "#7201a8"
             ],
             [
              0.3333333333333333,
              "#9c179e"
             ],
             [
              0.4444444444444444,
              "#bd3786"
             ],
             [
              0.5555555555555556,
              "#d8576b"
             ],
             [
              0.6666666666666666,
              "#ed7953"
             ],
             [
              0.7777777777777778,
              "#fb9f3a"
             ],
             [
              0.8888888888888888,
              "#fdca26"
             ],
             [
              1,
              "#f0f921"
             ]
            ],
            "type": "histogram2dcontour"
           }
          ],
          "mesh3d": [
           {
            "colorbar": {
             "outlinewidth": 0,
             "ticks": ""
            },
            "type": "mesh3d"
           }
          ],
          "parcoords": [
           {
            "line": {
             "colorbar": {
              "outlinewidth": 0,
              "ticks": ""
             }
            },
            "type": "parcoords"
           }
          ],
          "pie": [
           {
            "automargin": true,
            "type": "pie"
           }
          ],
          "scatter": [
           {
            "fillpattern": {
             "fillmode": "overlay",
             "size": 10,
             "solidity": 0.2
            },
            "type": "scatter"
           }
          ],
          "scatter3d": [
           {
            "line": {
             "colorbar": {
              "outlinewidth": 0,
              "ticks": ""
             }
            },
            "marker": {
             "colorbar": {
              "outlinewidth": 0,
              "ticks": ""
             }
            },
            "type": "scatter3d"
           }
          ],
          "scattercarpet": [
           {
            "marker": {
             "colorbar": {
              "outlinewidth": 0,
              "ticks": ""
             }
            },
            "type": "scattercarpet"
           }
          ],
          "scattergeo": [
           {
            "marker": {
             "colorbar": {
              "outlinewidth": 0,
              "ticks": ""
             }
            },
            "type": "scattergeo"
           }
          ],
          "scattergl": [
           {
            "marker": {
             "colorbar": {
              "outlinewidth": 0,
              "ticks": ""
             }
            },
            "type": "scattergl"
           }
          ],
          "scattermapbox": [
           {
            "marker": {
             "colorbar": {
              "outlinewidth": 0,
              "ticks": ""
             }
            },
            "type": "scattermapbox"
           }
          ],
          "scatterpolar": [
           {
            "marker": {
             "colorbar": {
              "outlinewidth": 0,
              "ticks": ""
             }
            },
            "type": "scatterpolar"
           }
          ],
          "scatterpolargl": [
           {
            "marker": {
             "colorbar": {
              "outlinewidth": 0,
              "ticks": ""
             }
            },
            "type": "scatterpolargl"
           }
          ],
          "scatterternary": [
           {
            "marker": {
             "colorbar": {
              "outlinewidth": 0,
              "ticks": ""
             }
            },
            "type": "scatterternary"
           }
          ],
          "surface": [
           {
            "colorbar": {
             "outlinewidth": 0,
             "ticks": ""
            },
            "colorscale": [
             [
              0,
              "#0d0887"
             ],
             [
              0.1111111111111111,
              "#46039f"
             ],
             [
              0.2222222222222222,
              "#7201a8"
             ],
             [
              0.3333333333333333,
              "#9c179e"
             ],
             [
              0.4444444444444444,
              "#bd3786"
             ],
             [
              0.5555555555555556,
              "#d8576b"
             ],
             [
              0.6666666666666666,
              "#ed7953"
             ],
             [
              0.7777777777777778,
              "#fb9f3a"
             ],
             [
              0.8888888888888888,
              "#fdca26"
             ],
             [
              1,
              "#f0f921"
             ]
            ],
            "type": "surface"
           }
          ],
          "table": [
           {
            "cells": {
             "fill": {
              "color": "#EBF0F8"
             },
             "line": {
              "color": "white"
             }
            },
            "header": {
             "fill": {
              "color": "#C8D4E3"
             },
             "line": {
              "color": "white"
             }
            },
            "type": "table"
           }
          ]
         },
         "layout": {
          "annotationdefaults": {
           "arrowcolor": "#2a3f5f",
           "arrowhead": 0,
           "arrowwidth": 1
          },
          "autotypenumbers": "strict",
          "coloraxis": {
           "colorbar": {
            "outlinewidth": 0,
            "ticks": ""
           }
          },
          "colorscale": {
           "diverging": [
            [
             0,
             "#8e0152"
            ],
            [
             0.1,
             "#c51b7d"
            ],
            [
             0.2,
             "#de77ae"
            ],
            [
             0.3,
             "#f1b6da"
            ],
            [
             0.4,
             "#fde0ef"
            ],
            [
             0.5,
             "#f7f7f7"
            ],
            [
             0.6,
             "#e6f5d0"
            ],
            [
             0.7,
             "#b8e186"
            ],
            [
             0.8,
             "#7fbc41"
            ],
            [
             0.9,
             "#4d9221"
            ],
            [
             1,
             "#276419"
            ]
           ],
           "sequential": [
            [
             0,
             "#0d0887"
            ],
            [
             0.1111111111111111,
             "#46039f"
            ],
            [
             0.2222222222222222,
             "#7201a8"
            ],
            [
             0.3333333333333333,
             "#9c179e"
            ],
            [
             0.4444444444444444,
             "#bd3786"
            ],
            [
             0.5555555555555556,
             "#d8576b"
            ],
            [
             0.6666666666666666,
             "#ed7953"
            ],
            [
             0.7777777777777778,
             "#fb9f3a"
            ],
            [
             0.8888888888888888,
             "#fdca26"
            ],
            [
             1,
             "#f0f921"
            ]
           ],
           "sequentialminus": [
            [
             0,
             "#0d0887"
            ],
            [
             0.1111111111111111,
             "#46039f"
            ],
            [
             0.2222222222222222,
             "#7201a8"
            ],
            [
             0.3333333333333333,
             "#9c179e"
            ],
            [
             0.4444444444444444,
             "#bd3786"
            ],
            [
             0.5555555555555556,
             "#d8576b"
            ],
            [
             0.6666666666666666,
             "#ed7953"
            ],
            [
             0.7777777777777778,
             "#fb9f3a"
            ],
            [
             0.8888888888888888,
             "#fdca26"
            ],
            [
             1,
             "#f0f921"
            ]
           ]
          },
          "colorway": [
           "#636efa",
           "#EF553B",
           "#00cc96",
           "#ab63fa",
           "#FFA15A",
           "#19d3f3",
           "#FF6692",
           "#B6E880",
           "#FF97FF",
           "#FECB52"
          ],
          "font": {
           "color": "#2a3f5f"
          },
          "geo": {
           "bgcolor": "white",
           "lakecolor": "white",
           "landcolor": "#E5ECF6",
           "showlakes": true,
           "showland": true,
           "subunitcolor": "white"
          },
          "hoverlabel": {
           "align": "left"
          },
          "hovermode": "closest",
          "mapbox": {
           "style": "light"
          },
          "paper_bgcolor": "white",
          "plot_bgcolor": "#E5ECF6",
          "polar": {
           "angularaxis": {
            "gridcolor": "white",
            "linecolor": "white",
            "ticks": ""
           },
           "bgcolor": "#E5ECF6",
           "radialaxis": {
            "gridcolor": "white",
            "linecolor": "white",
            "ticks": ""
           }
          },
          "scene": {
           "xaxis": {
            "backgroundcolor": "#E5ECF6",
            "gridcolor": "white",
            "gridwidth": 2,
            "linecolor": "white",
            "showbackground": true,
            "ticks": "",
            "zerolinecolor": "white"
           },
           "yaxis": {
            "backgroundcolor": "#E5ECF6",
            "gridcolor": "white",
            "gridwidth": 2,
            "linecolor": "white",
            "showbackground": true,
            "ticks": "",
            "zerolinecolor": "white"
           },
           "zaxis": {
            "backgroundcolor": "#E5ECF6",
            "gridcolor": "white",
            "gridwidth": 2,
            "linecolor": "white",
            "showbackground": true,
            "ticks": "",
            "zerolinecolor": "white"
           }
          },
          "shapedefaults": {
           "line": {
            "color": "#2a3f5f"
           }
          },
          "ternary": {
           "aaxis": {
            "gridcolor": "white",
            "linecolor": "white",
            "ticks": ""
           },
           "baxis": {
            "gridcolor": "white",
            "linecolor": "white",
            "ticks": ""
           },
           "bgcolor": "#E5ECF6",
           "caxis": {
            "gridcolor": "white",
            "linecolor": "white",
            "ticks": ""
           }
          },
          "title": {
           "x": 0.05
          },
          "xaxis": {
           "automargin": true,
           "gridcolor": "white",
           "linecolor": "white",
           "ticks": "",
           "title": {
            "standoff": 15
           },
           "zerolinecolor": "white",
           "zerolinewidth": 2
          },
          "yaxis": {
           "automargin": true,
           "gridcolor": "white",
           "linecolor": "white",
           "ticks": "",
           "title": {
            "standoff": 15
           },
           "zerolinecolor": "white",
           "zerolinewidth": 2
          }
         }
        },
        "title": {
         "font": {
          "size": 20
         },
         "text": "<b>5 Games Released on Various Platforms</b>"
        },
        "xaxis": {
         "anchor": "y",
         "domain": [
          0,
          1
         ],
         "title": {
          "text": "Count"
         }
        },
        "yaxis": {
         "anchor": "x",
         "categoryarray": [
          "Terraria",
          "FIFA 14",
          "LEGO Marvel Super Heroes",
          "Ratatouille",
          "Need for Speed: Most Wanted"
         ],
         "categoryorder": "array",
         "domain": [
          0,
          1
         ],
         "title": {
          "text": "Game"
         }
        }
       }
      }
     },
     "metadata": {},
     "output_type": "display_data"
    }
   ],
   "source": [
    "# 시각화에 사용될 데이터  \n",
    "games = vgData['Name'].value_counts()\n",
    "games = games.to_frame()\n",
    "games = games.reset_index()\n",
    "games.columns = ['Game', 'Count']\n",
    "games = games.sort_values('Count', ascending=False)\n",
    "top5 = games.head(5)\n",
    "\n",
    "# 시각화\n",
    "fig = px.bar(data_frame=top5, \n",
    "             x='Count', y='Game', \n",
    "             text_auto=True, \n",
    "             title='<b>5 Games Released on Various Platforms</b>',\n",
    "             color='Game',\n",
    "             color_discrete_sequence=px.colors.qualitative.Pastel)\n",
    "fig.update_layout(\n",
    "    title_font_size = 20,\n",
    "    showlegend = False\n",
    ")\n",
    "fig.show()"
   ]
  },
  {
   "cell_type": "markdown",
   "metadata": {},
   "source": [
    "#### 선호 장르\n",
    "---\n",
    "많이 출시된 장르"
   ]
  },
  {
   "cell_type": "code",
   "execution_count": 130,
   "metadata": {},
   "outputs": [
    {
     "data": {
      "application/vnd.plotly.v1+json": {
       "config": {
        "plotlyServerURL": "https://plot.ly"
       },
       "data": [
        {
         "alignmentgroup": "True",
         "hovertemplate": "Genre=%{x}<br>Count=%{y}<extra></extra>",
         "legendgroup": "Action",
         "marker": {
          "color": "rgb(102, 197, 204)",
          "pattern": {
           "shape": ""
          }
         },
         "name": "Action",
         "offsetgroup": "Action",
         "orientation": "v",
         "showlegend": true,
         "textposition": "auto",
         "texttemplate": "%{y}",
         "type": "bar",
         "x": [
          "Action"
         ],
         "xaxis": "x",
         "y": [
          3251
         ],
         "yaxis": "y"
        },
        {
         "alignmentgroup": "True",
         "hovertemplate": "Genre=%{x}<br>Count=%{y}<extra></extra>",
         "legendgroup": "Sports",
         "marker": {
          "color": "rgb(246, 207, 113)",
          "pattern": {
           "shape": ""
          }
         },
         "name": "Sports",
         "offsetgroup": "Sports",
         "orientation": "v",
         "showlegend": true,
         "textposition": "auto",
         "texttemplate": "%{y}",
         "type": "bar",
         "x": [
          "Sports"
         ],
         "xaxis": "x",
         "y": [
          2304
         ],
         "yaxis": "y"
        },
        {
         "alignmentgroup": "True",
         "hovertemplate": "Genre=%{x}<br>Count=%{y}<extra></extra>",
         "legendgroup": "Misc",
         "marker": {
          "color": "rgb(248, 156, 116)",
          "pattern": {
           "shape": ""
          }
         },
         "name": "Misc",
         "offsetgroup": "Misc",
         "orientation": "v",
         "showlegend": true,
         "textposition": "auto",
         "texttemplate": "%{y}",
         "type": "bar",
         "x": [
          "Misc"
         ],
         "xaxis": "x",
         "y": [
          1686
         ],
         "yaxis": "y"
        },
        {
         "alignmentgroup": "True",
         "hovertemplate": "Genre=%{x}<br>Count=%{y}<extra></extra>",
         "legendgroup": "Role-Playing",
         "marker": {
          "color": "rgb(220, 176, 242)",
          "pattern": {
           "shape": ""
          }
         },
         "name": "Role-Playing",
         "offsetgroup": "Role-Playing",
         "orientation": "v",
         "showlegend": true,
         "textposition": "auto",
         "texttemplate": "%{y}",
         "type": "bar",
         "x": [
          "Role-Playing"
         ],
         "xaxis": "x",
         "y": [
          1470
         ],
         "yaxis": "y"
        },
        {
         "alignmentgroup": "True",
         "hovertemplate": "Genre=%{x}<br>Count=%{y}<extra></extra>",
         "legendgroup": "Shooter",
         "marker": {
          "color": "rgb(135, 197, 95)",
          "pattern": {
           "shape": ""
          }
         },
         "name": "Shooter",
         "offsetgroup": "Shooter",
         "orientation": "v",
         "showlegend": true,
         "textposition": "auto",
         "texttemplate": "%{y}",
         "type": "bar",
         "x": [
          "Shooter"
         ],
         "xaxis": "x",
         "y": [
          1282
         ],
         "yaxis": "y"
        },
        {
         "alignmentgroup": "True",
         "hovertemplate": "Genre=%{x}<br>Count=%{y}<extra></extra>",
         "legendgroup": "Adventure",
         "marker": {
          "color": "rgb(158, 185, 243)",
          "pattern": {
           "shape": ""
          }
         },
         "name": "Adventure",
         "offsetgroup": "Adventure",
         "orientation": "v",
         "showlegend": true,
         "textposition": "auto",
         "texttemplate": "%{y}",
         "type": "bar",
         "x": [
          "Adventure"
         ],
         "xaxis": "x",
         "y": [
          1274
         ],
         "yaxis": "y"
        },
        {
         "alignmentgroup": "True",
         "hovertemplate": "Genre=%{x}<br>Count=%{y}<extra></extra>",
         "legendgroup": "Racing",
         "marker": {
          "color": "rgb(254, 136, 177)",
          "pattern": {
           "shape": ""
          }
         },
         "name": "Racing",
         "offsetgroup": "Racing",
         "orientation": "v",
         "showlegend": true,
         "textposition": "auto",
         "texttemplate": "%{y}",
         "type": "bar",
         "x": [
          "Racing"
         ],
         "xaxis": "x",
         "y": [
          1225
         ],
         "yaxis": "y"
        },
        {
         "alignmentgroup": "True",
         "hovertemplate": "Genre=%{x}<br>Count=%{y}<extra></extra>",
         "legendgroup": "Platform",
         "marker": {
          "color": "rgb(201, 219, 116)",
          "pattern": {
           "shape": ""
          }
         },
         "name": "Platform",
         "offsetgroup": "Platform",
         "orientation": "v",
         "showlegend": true,
         "textposition": "auto",
         "texttemplate": "%{y}",
         "type": "bar",
         "x": [
          "Platform"
         ],
         "xaxis": "x",
         "y": [
          875
         ],
         "yaxis": "y"
        },
        {
         "alignmentgroup": "True",
         "hovertemplate": "Genre=%{x}<br>Count=%{y}<extra></extra>",
         "legendgroup": "Simulation",
         "marker": {
          "color": "rgb(139, 224, 164)",
          "pattern": {
           "shape": ""
          }
         },
         "name": "Simulation",
         "offsetgroup": "Simulation",
         "orientation": "v",
         "showlegend": true,
         "textposition": "auto",
         "texttemplate": "%{y}",
         "type": "bar",
         "x": [
          "Simulation"
         ],
         "xaxis": "x",
         "y": [
          848
         ],
         "yaxis": "y"
        },
        {
         "alignmentgroup": "True",
         "hovertemplate": "Genre=%{x}<br>Count=%{y}<extra></extra>",
         "legendgroup": "Fighting",
         "marker": {
          "color": "rgb(180, 151, 231)",
          "pattern": {
           "shape": ""
          }
         },
         "name": "Fighting",
         "offsetgroup": "Fighting",
         "orientation": "v",
         "showlegend": true,
         "textposition": "auto",
         "texttemplate": "%{y}",
         "type": "bar",
         "x": [
          "Fighting"
         ],
         "xaxis": "x",
         "y": [
          836
         ],
         "yaxis": "y"
        },
        {
         "alignmentgroup": "True",
         "hovertemplate": "Genre=%{x}<br>Count=%{y}<extra></extra>",
         "legendgroup": "Strategy",
         "marker": {
          "color": "rgb(179, 179, 179)",
          "pattern": {
           "shape": ""
          }
         },
         "name": "Strategy",
         "offsetgroup": "Strategy",
         "orientation": "v",
         "showlegend": true,
         "textposition": "auto",
         "texttemplate": "%{y}",
         "type": "bar",
         "x": [
          "Strategy"
         ],
         "xaxis": "x",
         "y": [
          670
         ],
         "yaxis": "y"
        },
        {
         "alignmentgroup": "True",
         "hovertemplate": "Genre=%{x}<br>Count=%{y}<extra></extra>",
         "legendgroup": "Puzzle",
         "marker": {
          "color": "rgb(102, 197, 204)",
          "pattern": {
           "shape": ""
          }
         },
         "name": "Puzzle",
         "offsetgroup": "Puzzle",
         "orientation": "v",
         "showlegend": true,
         "textposition": "auto",
         "texttemplate": "%{y}",
         "type": "bar",
         "x": [
          "Puzzle"
         ],
         "xaxis": "x",
         "y": [
          570
         ],
         "yaxis": "y"
        }
       ],
       "layout": {
        "barmode": "relative",
        "legend": {
         "title": {
          "text": "Genre"
         },
         "tracegroupgap": 0
        },
        "showlegend": false,
        "template": {
         "data": {
          "bar": [
           {
            "error_x": {
             "color": "#2a3f5f"
            },
            "error_y": {
             "color": "#2a3f5f"
            },
            "marker": {
             "line": {
              "color": "#E5ECF6",
              "width": 0.5
             },
             "pattern": {
              "fillmode": "overlay",
              "size": 10,
              "solidity": 0.2
             }
            },
            "type": "bar"
           }
          ],
          "barpolar": [
           {
            "marker": {
             "line": {
              "color": "#E5ECF6",
              "width": 0.5
             },
             "pattern": {
              "fillmode": "overlay",
              "size": 10,
              "solidity": 0.2
             }
            },
            "type": "barpolar"
           }
          ],
          "carpet": [
           {
            "aaxis": {
             "endlinecolor": "#2a3f5f",
             "gridcolor": "white",
             "linecolor": "white",
             "minorgridcolor": "white",
             "startlinecolor": "#2a3f5f"
            },
            "baxis": {
             "endlinecolor": "#2a3f5f",
             "gridcolor": "white",
             "linecolor": "white",
             "minorgridcolor": "white",
             "startlinecolor": "#2a3f5f"
            },
            "type": "carpet"
           }
          ],
          "choropleth": [
           {
            "colorbar": {
             "outlinewidth": 0,
             "ticks": ""
            },
            "type": "choropleth"
           }
          ],
          "contour": [
           {
            "colorbar": {
             "outlinewidth": 0,
             "ticks": ""
            },
            "colorscale": [
             [
              0,
              "#0d0887"
             ],
             [
              0.1111111111111111,
              "#46039f"
             ],
             [
              0.2222222222222222,
              "#7201a8"
             ],
             [
              0.3333333333333333,
              "#9c179e"
             ],
             [
              0.4444444444444444,
              "#bd3786"
             ],
             [
              0.5555555555555556,
              "#d8576b"
             ],
             [
              0.6666666666666666,
              "#ed7953"
             ],
             [
              0.7777777777777778,
              "#fb9f3a"
             ],
             [
              0.8888888888888888,
              "#fdca26"
             ],
             [
              1,
              "#f0f921"
             ]
            ],
            "type": "contour"
           }
          ],
          "contourcarpet": [
           {
            "colorbar": {
             "outlinewidth": 0,
             "ticks": ""
            },
            "type": "contourcarpet"
           }
          ],
          "heatmap": [
           {
            "colorbar": {
             "outlinewidth": 0,
             "ticks": ""
            },
            "colorscale": [
             [
              0,
              "#0d0887"
             ],
             [
              0.1111111111111111,
              "#46039f"
             ],
             [
              0.2222222222222222,
              "#7201a8"
             ],
             [
              0.3333333333333333,
              "#9c179e"
             ],
             [
              0.4444444444444444,
              "#bd3786"
             ],
             [
              0.5555555555555556,
              "#d8576b"
             ],
             [
              0.6666666666666666,
              "#ed7953"
             ],
             [
              0.7777777777777778,
              "#fb9f3a"
             ],
             [
              0.8888888888888888,
              "#fdca26"
             ],
             [
              1,
              "#f0f921"
             ]
            ],
            "type": "heatmap"
           }
          ],
          "heatmapgl": [
           {
            "colorbar": {
             "outlinewidth": 0,
             "ticks": ""
            },
            "colorscale": [
             [
              0,
              "#0d0887"
             ],
             [
              0.1111111111111111,
              "#46039f"
             ],
             [
              0.2222222222222222,
              "#7201a8"
             ],
             [
              0.3333333333333333,
              "#9c179e"
             ],
             [
              0.4444444444444444,
              "#bd3786"
             ],
             [
              0.5555555555555556,
              "#d8576b"
             ],
             [
              0.6666666666666666,
              "#ed7953"
             ],
             [
              0.7777777777777778,
              "#fb9f3a"
             ],
             [
              0.8888888888888888,
              "#fdca26"
             ],
             [
              1,
              "#f0f921"
             ]
            ],
            "type": "heatmapgl"
           }
          ],
          "histogram": [
           {
            "marker": {
             "pattern": {
              "fillmode": "overlay",
              "size": 10,
              "solidity": 0.2
             }
            },
            "type": "histogram"
           }
          ],
          "histogram2d": [
           {
            "colorbar": {
             "outlinewidth": 0,
             "ticks": ""
            },
            "colorscale": [
             [
              0,
              "#0d0887"
             ],
             [
              0.1111111111111111,
              "#46039f"
             ],
             [
              0.2222222222222222,
              "#7201a8"
             ],
             [
              0.3333333333333333,
              "#9c179e"
             ],
             [
              0.4444444444444444,
              "#bd3786"
             ],
             [
              0.5555555555555556,
              "#d8576b"
             ],
             [
              0.6666666666666666,
              "#ed7953"
             ],
             [
              0.7777777777777778,
              "#fb9f3a"
             ],
             [
              0.8888888888888888,
              "#fdca26"
             ],
             [
              1,
              "#f0f921"
             ]
            ],
            "type": "histogram2d"
           }
          ],
          "histogram2dcontour": [
           {
            "colorbar": {
             "outlinewidth": 0,
             "ticks": ""
            },
            "colorscale": [
             [
              0,
              "#0d0887"
             ],
             [
              0.1111111111111111,
              "#46039f"
             ],
             [
              0.2222222222222222,
              "#7201a8"
             ],
             [
              0.3333333333333333,
              "#9c179e"
             ],
             [
              0.4444444444444444,
              "#bd3786"
             ],
             [
              0.5555555555555556,
              "#d8576b"
             ],
             [
              0.6666666666666666,
              "#ed7953"
             ],
             [
              0.7777777777777778,
              "#fb9f3a"
             ],
             [
              0.8888888888888888,
              "#fdca26"
             ],
             [
              1,
              "#f0f921"
             ]
            ],
            "type": "histogram2dcontour"
           }
          ],
          "mesh3d": [
           {
            "colorbar": {
             "outlinewidth": 0,
             "ticks": ""
            },
            "type": "mesh3d"
           }
          ],
          "parcoords": [
           {
            "line": {
             "colorbar": {
              "outlinewidth": 0,
              "ticks": ""
             }
            },
            "type": "parcoords"
           }
          ],
          "pie": [
           {
            "automargin": true,
            "type": "pie"
           }
          ],
          "scatter": [
           {
            "fillpattern": {
             "fillmode": "overlay",
             "size": 10,
             "solidity": 0.2
            },
            "type": "scatter"
           }
          ],
          "scatter3d": [
           {
            "line": {
             "colorbar": {
              "outlinewidth": 0,
              "ticks": ""
             }
            },
            "marker": {
             "colorbar": {
              "outlinewidth": 0,
              "ticks": ""
             }
            },
            "type": "scatter3d"
           }
          ],
          "scattercarpet": [
           {
            "marker": {
             "colorbar": {
              "outlinewidth": 0,
              "ticks": ""
             }
            },
            "type": "scattercarpet"
           }
          ],
          "scattergeo": [
           {
            "marker": {
             "colorbar": {
              "outlinewidth": 0,
              "ticks": ""
             }
            },
            "type": "scattergeo"
           }
          ],
          "scattergl": [
           {
            "marker": {
             "colorbar": {
              "outlinewidth": 0,
              "ticks": ""
             }
            },
            "type": "scattergl"
           }
          ],
          "scattermapbox": [
           {
            "marker": {
             "colorbar": {
              "outlinewidth": 0,
              "ticks": ""
             }
            },
            "type": "scattermapbox"
           }
          ],
          "scatterpolar": [
           {
            "marker": {
             "colorbar": {
              "outlinewidth": 0,
              "ticks": ""
             }
            },
            "type": "scatterpolar"
           }
          ],
          "scatterpolargl": [
           {
            "marker": {
             "colorbar": {
              "outlinewidth": 0,
              "ticks": ""
             }
            },
            "type": "scatterpolargl"
           }
          ],
          "scatterternary": [
           {
            "marker": {
             "colorbar": {
              "outlinewidth": 0,
              "ticks": ""
             }
            },
            "type": "scatterternary"
           }
          ],
          "surface": [
           {
            "colorbar": {
             "outlinewidth": 0,
             "ticks": ""
            },
            "colorscale": [
             [
              0,
              "#0d0887"
             ],
             [
              0.1111111111111111,
              "#46039f"
             ],
             [
              0.2222222222222222,
              "#7201a8"
             ],
             [
              0.3333333333333333,
              "#9c179e"
             ],
             [
              0.4444444444444444,
              "#bd3786"
             ],
             [
              0.5555555555555556,
              "#d8576b"
             ],
             [
              0.6666666666666666,
              "#ed7953"
             ],
             [
              0.7777777777777778,
              "#fb9f3a"
             ],
             [
              0.8888888888888888,
              "#fdca26"
             ],
             [
              1,
              "#f0f921"
             ]
            ],
            "type": "surface"
           }
          ],
          "table": [
           {
            "cells": {
             "fill": {
              "color": "#EBF0F8"
             },
             "line": {
              "color": "white"
             }
            },
            "header": {
             "fill": {
              "color": "#C8D4E3"
             },
             "line": {
              "color": "white"
             }
            },
            "type": "table"
           }
          ]
         },
         "layout": {
          "annotationdefaults": {
           "arrowcolor": "#2a3f5f",
           "arrowhead": 0,
           "arrowwidth": 1
          },
          "autotypenumbers": "strict",
          "coloraxis": {
           "colorbar": {
            "outlinewidth": 0,
            "ticks": ""
           }
          },
          "colorscale": {
           "diverging": [
            [
             0,
             "#8e0152"
            ],
            [
             0.1,
             "#c51b7d"
            ],
            [
             0.2,
             "#de77ae"
            ],
            [
             0.3,
             "#f1b6da"
            ],
            [
             0.4,
             "#fde0ef"
            ],
            [
             0.5,
             "#f7f7f7"
            ],
            [
             0.6,
             "#e6f5d0"
            ],
            [
             0.7,
             "#b8e186"
            ],
            [
             0.8,
             "#7fbc41"
            ],
            [
             0.9,
             "#4d9221"
            ],
            [
             1,
             "#276419"
            ]
           ],
           "sequential": [
            [
             0,
             "#0d0887"
            ],
            [
             0.1111111111111111,
             "#46039f"
            ],
            [
             0.2222222222222222,
             "#7201a8"
            ],
            [
             0.3333333333333333,
             "#9c179e"
            ],
            [
             0.4444444444444444,
             "#bd3786"
            ],
            [
             0.5555555555555556,
             "#d8576b"
            ],
            [
             0.6666666666666666,
             "#ed7953"
            ],
            [
             0.7777777777777778,
             "#fb9f3a"
            ],
            [
             0.8888888888888888,
             "#fdca26"
            ],
            [
             1,
             "#f0f921"
            ]
           ],
           "sequentialminus": [
            [
             0,
             "#0d0887"
            ],
            [
             0.1111111111111111,
             "#46039f"
            ],
            [
             0.2222222222222222,
             "#7201a8"
            ],
            [
             0.3333333333333333,
             "#9c179e"
            ],
            [
             0.4444444444444444,
             "#bd3786"
            ],
            [
             0.5555555555555556,
             "#d8576b"
            ],
            [
             0.6666666666666666,
             "#ed7953"
            ],
            [
             0.7777777777777778,
             "#fb9f3a"
            ],
            [
             0.8888888888888888,
             "#fdca26"
            ],
            [
             1,
             "#f0f921"
            ]
           ]
          },
          "colorway": [
           "#636efa",
           "#EF553B",
           "#00cc96",
           "#ab63fa",
           "#FFA15A",
           "#19d3f3",
           "#FF6692",
           "#B6E880",
           "#FF97FF",
           "#FECB52"
          ],
          "font": {
           "color": "#2a3f5f"
          },
          "geo": {
           "bgcolor": "white",
           "lakecolor": "white",
           "landcolor": "#E5ECF6",
           "showlakes": true,
           "showland": true,
           "subunitcolor": "white"
          },
          "hoverlabel": {
           "align": "left"
          },
          "hovermode": "closest",
          "mapbox": {
           "style": "light"
          },
          "paper_bgcolor": "white",
          "plot_bgcolor": "#E5ECF6",
          "polar": {
           "angularaxis": {
            "gridcolor": "white",
            "linecolor": "white",
            "ticks": ""
           },
           "bgcolor": "#E5ECF6",
           "radialaxis": {
            "gridcolor": "white",
            "linecolor": "white",
            "ticks": ""
           }
          },
          "scene": {
           "xaxis": {
            "backgroundcolor": "#E5ECF6",
            "gridcolor": "white",
            "gridwidth": 2,
            "linecolor": "white",
            "showbackground": true,
            "ticks": "",
            "zerolinecolor": "white"
           },
           "yaxis": {
            "backgroundcolor": "#E5ECF6",
            "gridcolor": "white",
            "gridwidth": 2,
            "linecolor": "white",
            "showbackground": true,
            "ticks": "",
            "zerolinecolor": "white"
           },
           "zaxis": {
            "backgroundcolor": "#E5ECF6",
            "gridcolor": "white",
            "gridwidth": 2,
            "linecolor": "white",
            "showbackground": true,
            "ticks": "",
            "zerolinecolor": "white"
           }
          },
          "shapedefaults": {
           "line": {
            "color": "#2a3f5f"
           }
          },
          "ternary": {
           "aaxis": {
            "gridcolor": "white",
            "linecolor": "white",
            "ticks": ""
           },
           "baxis": {
            "gridcolor": "white",
            "linecolor": "white",
            "ticks": ""
           },
           "bgcolor": "#E5ECF6",
           "caxis": {
            "gridcolor": "white",
            "linecolor": "white",
            "ticks": ""
           }
          },
          "title": {
           "x": 0.05
          },
          "xaxis": {
           "automargin": true,
           "gridcolor": "white",
           "linecolor": "white",
           "ticks": "",
           "title": {
            "standoff": 15
           },
           "zerolinecolor": "white",
           "zerolinewidth": 2
          },
          "yaxis": {
           "automargin": true,
           "gridcolor": "white",
           "linecolor": "white",
           "ticks": "",
           "title": {
            "standoff": 15
           },
           "zerolinecolor": "white",
           "zerolinewidth": 2
          }
         }
        },
        "title": {
         "font": {
          "size": 20
         },
         "text": "<b>Most Released genres</b>"
        },
        "xaxis": {
         "anchor": "y",
         "categoryarray": [
          "Action",
          "Sports",
          "Misc",
          "Role-Playing",
          "Shooter",
          "Adventure",
          "Racing",
          "Platform",
          "Simulation",
          "Fighting",
          "Strategy",
          "Puzzle"
         ],
         "categoryorder": "array",
         "domain": [
          0,
          1
         ],
         "title": {
          "text": "Genre"
         }
        },
        "yaxis": {
         "anchor": "x",
         "domain": [
          0,
          1
         ],
         "title": {
          "text": "Count"
         }
        }
       }
      }
     },
     "metadata": {},
     "output_type": "display_data"
    }
   ],
   "source": [
    "# 시각화에 사용될 데이터  \n",
    "genre = vgData['Genre'].value_counts()\n",
    "genre = genre.to_frame()\n",
    "genre = genre.reset_index()\n",
    "genre.columns = ['Genre', 'Count']\n",
    "genre = genre.sort_values('Count', ascending=False)\n",
    "#top5 = games.head(5)\n",
    "\n",
    "# 시각화\n",
    "fig = px.bar(data_frame=genre, \n",
    "             x='Genre', y='Count', \n",
    "             text_auto=True, \n",
    "             title='<b>Most Released genres</b>',\n",
    "             color='Genre',\n",
    "             color_discrete_sequence=px.colors.qualitative.Pastel)\n",
    "fig.update_layout(\n",
    "    title_font_size = 20,\n",
    "    showlegend = False\n",
    ")\n",
    "fig.show()"
   ]
  },
  {
   "cell_type": "markdown",
   "metadata": {},
   "source": [
    "#### 많은 게임을 출시한 pulisher"
   ]
  },
  {
   "cell_type": "code",
   "execution_count": 227,
   "metadata": {},
   "outputs": [
    {
     "data": {
      "application/vnd.plotly.v1+json": {
       "config": {
        "plotlyServerURL": "https://plot.ly"
       },
       "data": [
        {
         "alignmentgroup": "True",
         "hovertemplate": "Publisher=%{y}<br>Count=%{x}<extra></extra>",
         "legendgroup": "Electronic Arts",
         "marker": {
          "color": "rgb(102, 197, 204)",
          "pattern": {
           "shape": ""
          }
         },
         "name": "Electronic Arts",
         "offsetgroup": "Electronic Arts",
         "orientation": "h",
         "showlegend": true,
         "textposition": "auto",
         "texttemplate": "%{x}",
         "type": "bar",
         "x": [
          1339
         ],
         "xaxis": "x",
         "y": [
          "Electronic Arts"
         ],
         "yaxis": "y"
        },
        {
         "alignmentgroup": "True",
         "hovertemplate": "Publisher=%{y}<br>Count=%{x}<extra></extra>",
         "legendgroup": "Activision",
         "marker": {
          "color": "rgb(246, 207, 113)",
          "pattern": {
           "shape": ""
          }
         },
         "name": "Activision",
         "offsetgroup": "Activision",
         "orientation": "h",
         "showlegend": true,
         "textposition": "auto",
         "texttemplate": "%{x}",
         "type": "bar",
         "x": [
          966
         ],
         "xaxis": "x",
         "y": [
          "Activision"
         ],
         "yaxis": "y"
        },
        {
         "alignmentgroup": "True",
         "hovertemplate": "Publisher=%{y}<br>Count=%{x}<extra></extra>",
         "legendgroup": "Namco Bandai Games",
         "marker": {
          "color": "rgb(248, 156, 116)",
          "pattern": {
           "shape": ""
          }
         },
         "name": "Namco Bandai Games",
         "offsetgroup": "Namco Bandai Games",
         "orientation": "h",
         "showlegend": true,
         "textposition": "auto",
         "texttemplate": "%{x}",
         "type": "bar",
         "x": [
          928
         ],
         "xaxis": "x",
         "y": [
          "Namco Bandai Games"
         ],
         "yaxis": "y"
        },
        {
         "alignmentgroup": "True",
         "hovertemplate": "Publisher=%{y}<br>Count=%{x}<extra></extra>",
         "legendgroup": "Ubisoft",
         "marker": {
          "color": "rgb(220, 176, 242)",
          "pattern": {
           "shape": ""
          }
         },
         "name": "Ubisoft",
         "offsetgroup": "Ubisoft",
         "orientation": "h",
         "showlegend": true,
         "textposition": "auto",
         "texttemplate": "%{x}",
         "type": "bar",
         "x": [
          918
         ],
         "xaxis": "x",
         "y": [
          "Ubisoft"
         ],
         "yaxis": "y"
        },
        {
         "alignmentgroup": "True",
         "hovertemplate": "Publisher=%{y}<br>Count=%{x}<extra></extra>",
         "legendgroup": "Konami Digital Entertainment",
         "marker": {
          "color": "rgb(135, 197, 95)",
          "pattern": {
           "shape": ""
          }
         },
         "name": "Konami Digital Entertainment",
         "offsetgroup": "Konami Digital Entertainment",
         "orientation": "h",
         "showlegend": true,
         "textposition": "auto",
         "texttemplate": "%{x}",
         "type": "bar",
         "x": [
          823
         ],
         "xaxis": "x",
         "y": [
          "Konami Digital Entertainment"
         ],
         "yaxis": "y"
        },
        {
         "alignmentgroup": "True",
         "hovertemplate": "Publisher=%{y}<br>Count=%{x}<extra></extra>",
         "legendgroup": "THQ",
         "marker": {
          "color": "rgb(158, 185, 243)",
          "pattern": {
           "shape": ""
          }
         },
         "name": "THQ",
         "offsetgroup": "THQ",
         "orientation": "h",
         "showlegend": true,
         "textposition": "auto",
         "texttemplate": "%{x}",
         "type": "bar",
         "x": [
          712
         ],
         "xaxis": "x",
         "y": [
          "THQ"
         ],
         "yaxis": "y"
        },
        {
         "alignmentgroup": "True",
         "hovertemplate": "Publisher=%{y}<br>Count=%{x}<extra></extra>",
         "legendgroup": "Nintendo",
         "marker": {
          "color": "rgb(254, 136, 177)",
          "pattern": {
           "shape": ""
          }
         },
         "name": "Nintendo",
         "offsetgroup": "Nintendo",
         "orientation": "h",
         "showlegend": true,
         "textposition": "auto",
         "texttemplate": "%{x}",
         "type": "bar",
         "x": [
          696
         ],
         "xaxis": "x",
         "y": [
          "Nintendo"
         ],
         "yaxis": "y"
        },
        {
         "alignmentgroup": "True",
         "hovertemplate": "Publisher=%{y}<br>Count=%{x}<extra></extra>",
         "legendgroup": "Sony Computer Entertainment",
         "marker": {
          "color": "rgb(201, 219, 116)",
          "pattern": {
           "shape": ""
          }
         },
         "name": "Sony Computer Entertainment",
         "offsetgroup": "Sony Computer Entertainment",
         "orientation": "h",
         "showlegend": true,
         "textposition": "auto",
         "texttemplate": "%{x}",
         "type": "bar",
         "x": [
          682
         ],
         "xaxis": "x",
         "y": [
          "Sony Computer Entertainment"
         ],
         "yaxis": "y"
        },
        {
         "alignmentgroup": "True",
         "hovertemplate": "Publisher=%{y}<br>Count=%{x}<extra></extra>",
         "legendgroup": "Sega",
         "marker": {
          "color": "rgb(139, 224, 164)",
          "pattern": {
           "shape": ""
          }
         },
         "name": "Sega",
         "offsetgroup": "Sega",
         "orientation": "h",
         "showlegend": true,
         "textposition": "auto",
         "texttemplate": "%{x}",
         "type": "bar",
         "x": [
          632
         ],
         "xaxis": "x",
         "y": [
          "Sega"
         ],
         "yaxis": "y"
        },
        {
         "alignmentgroup": "True",
         "hovertemplate": "Publisher=%{y}<br>Count=%{x}<extra></extra>",
         "legendgroup": "Take-Two Interactive",
         "marker": {
          "color": "rgb(180, 151, 231)",
          "pattern": {
           "shape": ""
          }
         },
         "name": "Take-Two Interactive",
         "offsetgroup": "Take-Two Interactive",
         "orientation": "h",
         "showlegend": true,
         "textposition": "auto",
         "texttemplate": "%{x}",
         "type": "bar",
         "x": [
          412
         ],
         "xaxis": "x",
         "y": [
          "Take-Two Interactive"
         ],
         "yaxis": "y"
        }
       ],
       "layout": {
        "barmode": "relative",
        "legend": {
         "title": {
          "text": "Publisher"
         },
         "tracegroupgap": 0
        },
        "showlegend": false,
        "template": {
         "data": {
          "bar": [
           {
            "error_x": {
             "color": "#2a3f5f"
            },
            "error_y": {
             "color": "#2a3f5f"
            },
            "marker": {
             "line": {
              "color": "#E5ECF6",
              "width": 0.5
             },
             "pattern": {
              "fillmode": "overlay",
              "size": 10,
              "solidity": 0.2
             }
            },
            "type": "bar"
           }
          ],
          "barpolar": [
           {
            "marker": {
             "line": {
              "color": "#E5ECF6",
              "width": 0.5
             },
             "pattern": {
              "fillmode": "overlay",
              "size": 10,
              "solidity": 0.2
             }
            },
            "type": "barpolar"
           }
          ],
          "carpet": [
           {
            "aaxis": {
             "endlinecolor": "#2a3f5f",
             "gridcolor": "white",
             "linecolor": "white",
             "minorgridcolor": "white",
             "startlinecolor": "#2a3f5f"
            },
            "baxis": {
             "endlinecolor": "#2a3f5f",
             "gridcolor": "white",
             "linecolor": "white",
             "minorgridcolor": "white",
             "startlinecolor": "#2a3f5f"
            },
            "type": "carpet"
           }
          ],
          "choropleth": [
           {
            "colorbar": {
             "outlinewidth": 0,
             "ticks": ""
            },
            "type": "choropleth"
           }
          ],
          "contour": [
           {
            "colorbar": {
             "outlinewidth": 0,
             "ticks": ""
            },
            "colorscale": [
             [
              0,
              "#0d0887"
             ],
             [
              0.1111111111111111,
              "#46039f"
             ],
             [
              0.2222222222222222,
              "#7201a8"
             ],
             [
              0.3333333333333333,
              "#9c179e"
             ],
             [
              0.4444444444444444,
              "#bd3786"
             ],
             [
              0.5555555555555556,
              "#d8576b"
             ],
             [
              0.6666666666666666,
              "#ed7953"
             ],
             [
              0.7777777777777778,
              "#fb9f3a"
             ],
             [
              0.8888888888888888,
              "#fdca26"
             ],
             [
              1,
              "#f0f921"
             ]
            ],
            "type": "contour"
           }
          ],
          "contourcarpet": [
           {
            "colorbar": {
             "outlinewidth": 0,
             "ticks": ""
            },
            "type": "contourcarpet"
           }
          ],
          "heatmap": [
           {
            "colorbar": {
             "outlinewidth": 0,
             "ticks": ""
            },
            "colorscale": [
             [
              0,
              "#0d0887"
             ],
             [
              0.1111111111111111,
              "#46039f"
             ],
             [
              0.2222222222222222,
              "#7201a8"
             ],
             [
              0.3333333333333333,
              "#9c179e"
             ],
             [
              0.4444444444444444,
              "#bd3786"
             ],
             [
              0.5555555555555556,
              "#d8576b"
             ],
             [
              0.6666666666666666,
              "#ed7953"
             ],
             [
              0.7777777777777778,
              "#fb9f3a"
             ],
             [
              0.8888888888888888,
              "#fdca26"
             ],
             [
              1,
              "#f0f921"
             ]
            ],
            "type": "heatmap"
           }
          ],
          "heatmapgl": [
           {
            "colorbar": {
             "outlinewidth": 0,
             "ticks": ""
            },
            "colorscale": [
             [
              0,
              "#0d0887"
             ],
             [
              0.1111111111111111,
              "#46039f"
             ],
             [
              0.2222222222222222,
              "#7201a8"
             ],
             [
              0.3333333333333333,
              "#9c179e"
             ],
             [
              0.4444444444444444,
              "#bd3786"
             ],
             [
              0.5555555555555556,
              "#d8576b"
             ],
             [
              0.6666666666666666,
              "#ed7953"
             ],
             [
              0.7777777777777778,
              "#fb9f3a"
             ],
             [
              0.8888888888888888,
              "#fdca26"
             ],
             [
              1,
              "#f0f921"
             ]
            ],
            "type": "heatmapgl"
           }
          ],
          "histogram": [
           {
            "marker": {
             "pattern": {
              "fillmode": "overlay",
              "size": 10,
              "solidity": 0.2
             }
            },
            "type": "histogram"
           }
          ],
          "histogram2d": [
           {
            "colorbar": {
             "outlinewidth": 0,
             "ticks": ""
            },
            "colorscale": [
             [
              0,
              "#0d0887"
             ],
             [
              0.1111111111111111,
              "#46039f"
             ],
             [
              0.2222222222222222,
              "#7201a8"
             ],
             [
              0.3333333333333333,
              "#9c179e"
             ],
             [
              0.4444444444444444,
              "#bd3786"
             ],
             [
              0.5555555555555556,
              "#d8576b"
             ],
             [
              0.6666666666666666,
              "#ed7953"
             ],
             [
              0.7777777777777778,
              "#fb9f3a"
             ],
             [
              0.8888888888888888,
              "#fdca26"
             ],
             [
              1,
              "#f0f921"
             ]
            ],
            "type": "histogram2d"
           }
          ],
          "histogram2dcontour": [
           {
            "colorbar": {
             "outlinewidth": 0,
             "ticks": ""
            },
            "colorscale": [
             [
              0,
              "#0d0887"
             ],
             [
              0.1111111111111111,
              "#46039f"
             ],
             [
              0.2222222222222222,
              "#7201a8"
             ],
             [
              0.3333333333333333,
              "#9c179e"
             ],
             [
              0.4444444444444444,
              "#bd3786"
             ],
             [
              0.5555555555555556,
              "#d8576b"
             ],
             [
              0.6666666666666666,
              "#ed7953"
             ],
             [
              0.7777777777777778,
              "#fb9f3a"
             ],
             [
              0.8888888888888888,
              "#fdca26"
             ],
             [
              1,
              "#f0f921"
             ]
            ],
            "type": "histogram2dcontour"
           }
          ],
          "mesh3d": [
           {
            "colorbar": {
             "outlinewidth": 0,
             "ticks": ""
            },
            "type": "mesh3d"
           }
          ],
          "parcoords": [
           {
            "line": {
             "colorbar": {
              "outlinewidth": 0,
              "ticks": ""
             }
            },
            "type": "parcoords"
           }
          ],
          "pie": [
           {
            "automargin": true,
            "type": "pie"
           }
          ],
          "scatter": [
           {
            "fillpattern": {
             "fillmode": "overlay",
             "size": 10,
             "solidity": 0.2
            },
            "type": "scatter"
           }
          ],
          "scatter3d": [
           {
            "line": {
             "colorbar": {
              "outlinewidth": 0,
              "ticks": ""
             }
            },
            "marker": {
             "colorbar": {
              "outlinewidth": 0,
              "ticks": ""
             }
            },
            "type": "scatter3d"
           }
          ],
          "scattercarpet": [
           {
            "marker": {
             "colorbar": {
              "outlinewidth": 0,
              "ticks": ""
             }
            },
            "type": "scattercarpet"
           }
          ],
          "scattergeo": [
           {
            "marker": {
             "colorbar": {
              "outlinewidth": 0,
              "ticks": ""
             }
            },
            "type": "scattergeo"
           }
          ],
          "scattergl": [
           {
            "marker": {
             "colorbar": {
              "outlinewidth": 0,
              "ticks": ""
             }
            },
            "type": "scattergl"
           }
          ],
          "scattermapbox": [
           {
            "marker": {
             "colorbar": {
              "outlinewidth": 0,
              "ticks": ""
             }
            },
            "type": "scattermapbox"
           }
          ],
          "scatterpolar": [
           {
            "marker": {
             "colorbar": {
              "outlinewidth": 0,
              "ticks": ""
             }
            },
            "type": "scatterpolar"
           }
          ],
          "scatterpolargl": [
           {
            "marker": {
             "colorbar": {
              "outlinewidth": 0,
              "ticks": ""
             }
            },
            "type": "scatterpolargl"
           }
          ],
          "scatterternary": [
           {
            "marker": {
             "colorbar": {
              "outlinewidth": 0,
              "ticks": ""
             }
            },
            "type": "scatterternary"
           }
          ],
          "surface": [
           {
            "colorbar": {
             "outlinewidth": 0,
             "ticks": ""
            },
            "colorscale": [
             [
              0,
              "#0d0887"
             ],
             [
              0.1111111111111111,
              "#46039f"
             ],
             [
              0.2222222222222222,
              "#7201a8"
             ],
             [
              0.3333333333333333,
              "#9c179e"
             ],
             [
              0.4444444444444444,
              "#bd3786"
             ],
             [
              0.5555555555555556,
              "#d8576b"
             ],
             [
              0.6666666666666666,
              "#ed7953"
             ],
             [
              0.7777777777777778,
              "#fb9f3a"
             ],
             [
              0.8888888888888888,
              "#fdca26"
             ],
             [
              1,
              "#f0f921"
             ]
            ],
            "type": "surface"
           }
          ],
          "table": [
           {
            "cells": {
             "fill": {
              "color": "#EBF0F8"
             },
             "line": {
              "color": "white"
             }
            },
            "header": {
             "fill": {
              "color": "#C8D4E3"
             },
             "line": {
              "color": "white"
             }
            },
            "type": "table"
           }
          ]
         },
         "layout": {
          "annotationdefaults": {
           "arrowcolor": "#2a3f5f",
           "arrowhead": 0,
           "arrowwidth": 1
          },
          "autotypenumbers": "strict",
          "coloraxis": {
           "colorbar": {
            "outlinewidth": 0,
            "ticks": ""
           }
          },
          "colorscale": {
           "diverging": [
            [
             0,
             "#8e0152"
            ],
            [
             0.1,
             "#c51b7d"
            ],
            [
             0.2,
             "#de77ae"
            ],
            [
             0.3,
             "#f1b6da"
            ],
            [
             0.4,
             "#fde0ef"
            ],
            [
             0.5,
             "#f7f7f7"
            ],
            [
             0.6,
             "#e6f5d0"
            ],
            [
             0.7,
             "#b8e186"
            ],
            [
             0.8,
             "#7fbc41"
            ],
            [
             0.9,
             "#4d9221"
            ],
            [
             1,
             "#276419"
            ]
           ],
           "sequential": [
            [
             0,
             "#0d0887"
            ],
            [
             0.1111111111111111,
             "#46039f"
            ],
            [
             0.2222222222222222,
             "#7201a8"
            ],
            [
             0.3333333333333333,
             "#9c179e"
            ],
            [
             0.4444444444444444,
             "#bd3786"
            ],
            [
             0.5555555555555556,
             "#d8576b"
            ],
            [
             0.6666666666666666,
             "#ed7953"
            ],
            [
             0.7777777777777778,
             "#fb9f3a"
            ],
            [
             0.8888888888888888,
             "#fdca26"
            ],
            [
             1,
             "#f0f921"
            ]
           ],
           "sequentialminus": [
            [
             0,
             "#0d0887"
            ],
            [
             0.1111111111111111,
             "#46039f"
            ],
            [
             0.2222222222222222,
             "#7201a8"
            ],
            [
             0.3333333333333333,
             "#9c179e"
            ],
            [
             0.4444444444444444,
             "#bd3786"
            ],
            [
             0.5555555555555556,
             "#d8576b"
            ],
            [
             0.6666666666666666,
             "#ed7953"
            ],
            [
             0.7777777777777778,
             "#fb9f3a"
            ],
            [
             0.8888888888888888,
             "#fdca26"
            ],
            [
             1,
             "#f0f921"
            ]
           ]
          },
          "colorway": [
           "#636efa",
           "#EF553B",
           "#00cc96",
           "#ab63fa",
           "#FFA15A",
           "#19d3f3",
           "#FF6692",
           "#B6E880",
           "#FF97FF",
           "#FECB52"
          ],
          "font": {
           "color": "#2a3f5f"
          },
          "geo": {
           "bgcolor": "white",
           "lakecolor": "white",
           "landcolor": "#E5ECF6",
           "showlakes": true,
           "showland": true,
           "subunitcolor": "white"
          },
          "hoverlabel": {
           "align": "left"
          },
          "hovermode": "closest",
          "mapbox": {
           "style": "light"
          },
          "paper_bgcolor": "white",
          "plot_bgcolor": "#E5ECF6",
          "polar": {
           "angularaxis": {
            "gridcolor": "white",
            "linecolor": "white",
            "ticks": ""
           },
           "bgcolor": "#E5ECF6",
           "radialaxis": {
            "gridcolor": "white",
            "linecolor": "white",
            "ticks": ""
           }
          },
          "scene": {
           "xaxis": {
            "backgroundcolor": "#E5ECF6",
            "gridcolor": "white",
            "gridwidth": 2,
            "linecolor": "white",
            "showbackground": true,
            "ticks": "",
            "zerolinecolor": "white"
           },
           "yaxis": {
            "backgroundcolor": "#E5ECF6",
            "gridcolor": "white",
            "gridwidth": 2,
            "linecolor": "white",
            "showbackground": true,
            "ticks": "",
            "zerolinecolor": "white"
           },
           "zaxis": {
            "backgroundcolor": "#E5ECF6",
            "gridcolor": "white",
            "gridwidth": 2,
            "linecolor": "white",
            "showbackground": true,
            "ticks": "",
            "zerolinecolor": "white"
           }
          },
          "shapedefaults": {
           "line": {
            "color": "#2a3f5f"
           }
          },
          "ternary": {
           "aaxis": {
            "gridcolor": "white",
            "linecolor": "white",
            "ticks": ""
           },
           "baxis": {
            "gridcolor": "white",
            "linecolor": "white",
            "ticks": ""
           },
           "bgcolor": "#E5ECF6",
           "caxis": {
            "gridcolor": "white",
            "linecolor": "white",
            "ticks": ""
           }
          },
          "title": {
           "x": 0.05
          },
          "xaxis": {
           "automargin": true,
           "gridcolor": "white",
           "linecolor": "white",
           "ticks": "",
           "title": {
            "standoff": 15
           },
           "zerolinecolor": "white",
           "zerolinewidth": 2
          },
          "yaxis": {
           "automargin": true,
           "gridcolor": "white",
           "linecolor": "white",
           "ticks": "",
           "title": {
            "standoff": 15
           },
           "zerolinecolor": "white",
           "zerolinewidth": 2
          }
         }
        },
        "title": {
         "font": {
          "size": 20
         },
         "text": "<b>Most Released Publisher</b><sub>(unit: millions)"
        },
        "xaxis": {
         "anchor": "y",
         "domain": [
          0,
          1
         ],
         "title": {
          "text": "Count"
         }
        },
        "yaxis": {
         "anchor": "x",
         "categoryarray": [
          "Take-Two Interactive",
          "Sega",
          "Sony Computer Entertainment",
          "Nintendo",
          "THQ",
          "Konami Digital Entertainment",
          "Ubisoft",
          "Namco Bandai Games",
          "Activision",
          "Electronic Arts"
         ],
         "categoryorder": "array",
         "domain": [
          0,
          1
         ],
         "title": {
          "text": "Publisher"
         }
        }
       }
      }
     },
     "metadata": {},
     "output_type": "display_data"
    }
   ],
   "source": [
    "# 시각화에 사용될 데이터  \n",
    "publisher = vgData['Publisher'].value_counts()\n",
    "publisher = publisher.to_frame()\n",
    "publisher = publisher.reset_index()\n",
    "publisher.columns = ['Publisher', 'Count']\n",
    "publisher = publisher.sort_values('Count', ascending=False)\n",
    "top5 = publisher.head(10)\n",
    "\n",
    "# 시각화\n",
    "fig = px.bar(data_frame=top5, \n",
    "             x='Count', y='Publisher', \n",
    "             text_auto=True, \n",
    "             title='<b>Most Released Publisher</b><sub>(unit: millions)',\n",
    "             color='Publisher',\n",
    "             color_discrete_sequence=px.colors.qualitative.Pastel)\n",
    "fig.update_layout(\n",
    "    title_font_size = 20,\n",
    "    showlegend = False\n",
    ")\n",
    "fig.show()"
   ]
  },
  {
   "cell_type": "markdown",
   "metadata": {},
   "source": [
    "## Exploratory Analysis"
   ]
  },
  {
   "cell_type": "markdown",
   "metadata": {},
   "source": [
    "#### 1980~2020 비디오 게임 판매량 변화"
   ]
  },
  {
   "cell_type": "code",
   "execution_count": 148,
   "metadata": {},
   "outputs": [
    {
     "data": {
      "application/vnd.plotly.v1+json": {
       "config": {
        "plotlyServerURL": "https://plot.ly"
       },
       "data": [
        {
         "hovertemplate": "Year=%{x}<br>Sales=%{y}<extra></extra>",
         "legendgroup": "",
         "line": {
          "color": "#636efa",
          "dash": "solid"
         },
         "marker": {
          "symbol": "circle"
         },
         "mode": "lines",
         "name": "",
         "orientation": "v",
         "showlegend": false,
         "type": "scatter",
         "x": [
          "1980",
          "1981",
          "1982",
          "1983",
          "1984",
          "1985",
          "1986",
          "1987",
          "1988",
          "1989",
          "1990",
          "1991",
          "1992",
          "1993",
          "1994",
          "1995",
          "1996",
          "1997",
          "1998",
          "1999",
          "2000",
          "2001",
          "2002",
          "2003",
          "2004",
          "2005",
          "2006",
          "2007",
          "2008",
          "2009",
          "2010",
          "2011",
          "2012",
          "2013",
          "2014",
          "2015",
          "2016",
          "2017",
          "2020"
         ],
         "xaxis": "x",
         "y": [
          11.379999999999999,
          35.77,
          28.86,
          16.79,
          50.36,
          53.940000000000005,
          37.07,
          21.74,
          47.22,
          73.45,
          49.39,
          32.23,
          76.16,
          45.980000000000004,
          79.17,
          88.11,
          199.15,
          200.98,
          256.47,
          251.27,
          201.56,
          331.47,
          395.52,
          357.85,
          414.01,
          458.51,
          521.04,
          609.92,
          678.9,
          667.3,
          600.29,
          515.8,
          363.49,
          368.11,
          337.03,
          264.44,
          70.9,
          0.05,
          0.29
         ],
         "yaxis": "y"
        }
       ],
       "layout": {
        "legend": {
         "tracegroupgap": 0
        },
        "template": {
         "data": {
          "bar": [
           {
            "error_x": {
             "color": "#2a3f5f"
            },
            "error_y": {
             "color": "#2a3f5f"
            },
            "marker": {
             "line": {
              "color": "#E5ECF6",
              "width": 0.5
             },
             "pattern": {
              "fillmode": "overlay",
              "size": 10,
              "solidity": 0.2
             }
            },
            "type": "bar"
           }
          ],
          "barpolar": [
           {
            "marker": {
             "line": {
              "color": "#E5ECF6",
              "width": 0.5
             },
             "pattern": {
              "fillmode": "overlay",
              "size": 10,
              "solidity": 0.2
             }
            },
            "type": "barpolar"
           }
          ],
          "carpet": [
           {
            "aaxis": {
             "endlinecolor": "#2a3f5f",
             "gridcolor": "white",
             "linecolor": "white",
             "minorgridcolor": "white",
             "startlinecolor": "#2a3f5f"
            },
            "baxis": {
             "endlinecolor": "#2a3f5f",
             "gridcolor": "white",
             "linecolor": "white",
             "minorgridcolor": "white",
             "startlinecolor": "#2a3f5f"
            },
            "type": "carpet"
           }
          ],
          "choropleth": [
           {
            "colorbar": {
             "outlinewidth": 0,
             "ticks": ""
            },
            "type": "choropleth"
           }
          ],
          "contour": [
           {
            "colorbar": {
             "outlinewidth": 0,
             "ticks": ""
            },
            "colorscale": [
             [
              0,
              "#0d0887"
             ],
             [
              0.1111111111111111,
              "#46039f"
             ],
             [
              0.2222222222222222,
              "#7201a8"
             ],
             [
              0.3333333333333333,
              "#9c179e"
             ],
             [
              0.4444444444444444,
              "#bd3786"
             ],
             [
              0.5555555555555556,
              "#d8576b"
             ],
             [
              0.6666666666666666,
              "#ed7953"
             ],
             [
              0.7777777777777778,
              "#fb9f3a"
             ],
             [
              0.8888888888888888,
              "#fdca26"
             ],
             [
              1,
              "#f0f921"
             ]
            ],
            "type": "contour"
           }
          ],
          "contourcarpet": [
           {
            "colorbar": {
             "outlinewidth": 0,
             "ticks": ""
            },
            "type": "contourcarpet"
           }
          ],
          "heatmap": [
           {
            "colorbar": {
             "outlinewidth": 0,
             "ticks": ""
            },
            "colorscale": [
             [
              0,
              "#0d0887"
             ],
             [
              0.1111111111111111,
              "#46039f"
             ],
             [
              0.2222222222222222,
              "#7201a8"
             ],
             [
              0.3333333333333333,
              "#9c179e"
             ],
             [
              0.4444444444444444,
              "#bd3786"
             ],
             [
              0.5555555555555556,
              "#d8576b"
             ],
             [
              0.6666666666666666,
              "#ed7953"
             ],
             [
              0.7777777777777778,
              "#fb9f3a"
             ],
             [
              0.8888888888888888,
              "#fdca26"
             ],
             [
              1,
              "#f0f921"
             ]
            ],
            "type": "heatmap"
           }
          ],
          "heatmapgl": [
           {
            "colorbar": {
             "outlinewidth": 0,
             "ticks": ""
            },
            "colorscale": [
             [
              0,
              "#0d0887"
             ],
             [
              0.1111111111111111,
              "#46039f"
             ],
             [
              0.2222222222222222,
              "#7201a8"
             ],
             [
              0.3333333333333333,
              "#9c179e"
             ],
             [
              0.4444444444444444,
              "#bd3786"
             ],
             [
              0.5555555555555556,
              "#d8576b"
             ],
             [
              0.6666666666666666,
              "#ed7953"
             ],
             [
              0.7777777777777778,
              "#fb9f3a"
             ],
             [
              0.8888888888888888,
              "#fdca26"
             ],
             [
              1,
              "#f0f921"
             ]
            ],
            "type": "heatmapgl"
           }
          ],
          "histogram": [
           {
            "marker": {
             "pattern": {
              "fillmode": "overlay",
              "size": 10,
              "solidity": 0.2
             }
            },
            "type": "histogram"
           }
          ],
          "histogram2d": [
           {
            "colorbar": {
             "outlinewidth": 0,
             "ticks": ""
            },
            "colorscale": [
             [
              0,
              "#0d0887"
             ],
             [
              0.1111111111111111,
              "#46039f"
             ],
             [
              0.2222222222222222,
              "#7201a8"
             ],
             [
              0.3333333333333333,
              "#9c179e"
             ],
             [
              0.4444444444444444,
              "#bd3786"
             ],
             [
              0.5555555555555556,
              "#d8576b"
             ],
             [
              0.6666666666666666,
              "#ed7953"
             ],
             [
              0.7777777777777778,
              "#fb9f3a"
             ],
             [
              0.8888888888888888,
              "#fdca26"
             ],
             [
              1,
              "#f0f921"
             ]
            ],
            "type": "histogram2d"
           }
          ],
          "histogram2dcontour": [
           {
            "colorbar": {
             "outlinewidth": 0,
             "ticks": ""
            },
            "colorscale": [
             [
              0,
              "#0d0887"
             ],
             [
              0.1111111111111111,
              "#46039f"
             ],
             [
              0.2222222222222222,
              "#7201a8"
             ],
             [
              0.3333333333333333,
              "#9c179e"
             ],
             [
              0.4444444444444444,
              "#bd3786"
             ],
             [
              0.5555555555555556,
              "#d8576b"
             ],
             [
              0.6666666666666666,
              "#ed7953"
             ],
             [
              0.7777777777777778,
              "#fb9f3a"
             ],
             [
              0.8888888888888888,
              "#fdca26"
             ],
             [
              1,
              "#f0f921"
             ]
            ],
            "type": "histogram2dcontour"
           }
          ],
          "mesh3d": [
           {
            "colorbar": {
             "outlinewidth": 0,
             "ticks": ""
            },
            "type": "mesh3d"
           }
          ],
          "parcoords": [
           {
            "line": {
             "colorbar": {
              "outlinewidth": 0,
              "ticks": ""
             }
            },
            "type": "parcoords"
           }
          ],
          "pie": [
           {
            "automargin": true,
            "type": "pie"
           }
          ],
          "scatter": [
           {
            "fillpattern": {
             "fillmode": "overlay",
             "size": 10,
             "solidity": 0.2
            },
            "type": "scatter"
           }
          ],
          "scatter3d": [
           {
            "line": {
             "colorbar": {
              "outlinewidth": 0,
              "ticks": ""
             }
            },
            "marker": {
             "colorbar": {
              "outlinewidth": 0,
              "ticks": ""
             }
            },
            "type": "scatter3d"
           }
          ],
          "scattercarpet": [
           {
            "marker": {
             "colorbar": {
              "outlinewidth": 0,
              "ticks": ""
             }
            },
            "type": "scattercarpet"
           }
          ],
          "scattergeo": [
           {
            "marker": {
             "colorbar": {
              "outlinewidth": 0,
              "ticks": ""
             }
            },
            "type": "scattergeo"
           }
          ],
          "scattergl": [
           {
            "marker": {
             "colorbar": {
              "outlinewidth": 0,
              "ticks": ""
             }
            },
            "type": "scattergl"
           }
          ],
          "scattermapbox": [
           {
            "marker": {
             "colorbar": {
              "outlinewidth": 0,
              "ticks": ""
             }
            },
            "type": "scattermapbox"
           }
          ],
          "scatterpolar": [
           {
            "marker": {
             "colorbar": {
              "outlinewidth": 0,
              "ticks": ""
             }
            },
            "type": "scatterpolar"
           }
          ],
          "scatterpolargl": [
           {
            "marker": {
             "colorbar": {
              "outlinewidth": 0,
              "ticks": ""
             }
            },
            "type": "scatterpolargl"
           }
          ],
          "scatterternary": [
           {
            "marker": {
             "colorbar": {
              "outlinewidth": 0,
              "ticks": ""
             }
            },
            "type": "scatterternary"
           }
          ],
          "surface": [
           {
            "colorbar": {
             "outlinewidth": 0,
             "ticks": ""
            },
            "colorscale": [
             [
              0,
              "#0d0887"
             ],
             [
              0.1111111111111111,
              "#46039f"
             ],
             [
              0.2222222222222222,
              "#7201a8"
             ],
             [
              0.3333333333333333,
              "#9c179e"
             ],
             [
              0.4444444444444444,
              "#bd3786"
             ],
             [
              0.5555555555555556,
              "#d8576b"
             ],
             [
              0.6666666666666666,
              "#ed7953"
             ],
             [
              0.7777777777777778,
              "#fb9f3a"
             ],
             [
              0.8888888888888888,
              "#fdca26"
             ],
             [
              1,
              "#f0f921"
             ]
            ],
            "type": "surface"
           }
          ],
          "table": [
           {
            "cells": {
             "fill": {
              "color": "#EBF0F8"
             },
             "line": {
              "color": "white"
             }
            },
            "header": {
             "fill": {
              "color": "#C8D4E3"
             },
             "line": {
              "color": "white"
             }
            },
            "type": "table"
           }
          ]
         },
         "layout": {
          "annotationdefaults": {
           "arrowcolor": "#2a3f5f",
           "arrowhead": 0,
           "arrowwidth": 1
          },
          "autotypenumbers": "strict",
          "coloraxis": {
           "colorbar": {
            "outlinewidth": 0,
            "ticks": ""
           }
          },
          "colorscale": {
           "diverging": [
            [
             0,
             "#8e0152"
            ],
            [
             0.1,
             "#c51b7d"
            ],
            [
             0.2,
             "#de77ae"
            ],
            [
             0.3,
             "#f1b6da"
            ],
            [
             0.4,
             "#fde0ef"
            ],
            [
             0.5,
             "#f7f7f7"
            ],
            [
             0.6,
             "#e6f5d0"
            ],
            [
             0.7,
             "#b8e186"
            ],
            [
             0.8,
             "#7fbc41"
            ],
            [
             0.9,
             "#4d9221"
            ],
            [
             1,
             "#276419"
            ]
           ],
           "sequential": [
            [
             0,
             "#0d0887"
            ],
            [
             0.1111111111111111,
             "#46039f"
            ],
            [
             0.2222222222222222,
             "#7201a8"
            ],
            [
             0.3333333333333333,
             "#9c179e"
            ],
            [
             0.4444444444444444,
             "#bd3786"
            ],
            [
             0.5555555555555556,
             "#d8576b"
            ],
            [
             0.6666666666666666,
             "#ed7953"
            ],
            [
             0.7777777777777778,
             "#fb9f3a"
            ],
            [
             0.8888888888888888,
             "#fdca26"
            ],
            [
             1,
             "#f0f921"
            ]
           ],
           "sequentialminus": [
            [
             0,
             "#0d0887"
            ],
            [
             0.1111111111111111,
             "#46039f"
            ],
            [
             0.2222222222222222,
             "#7201a8"
            ],
            [
             0.3333333333333333,
             "#9c179e"
            ],
            [
             0.4444444444444444,
             "#bd3786"
            ],
            [
             0.5555555555555556,
             "#d8576b"
            ],
            [
             0.6666666666666666,
             "#ed7953"
            ],
            [
             0.7777777777777778,
             "#fb9f3a"
            ],
            [
             0.8888888888888888,
             "#fdca26"
            ],
            [
             1,
             "#f0f921"
            ]
           ]
          },
          "colorway": [
           "#636efa",
           "#EF553B",
           "#00cc96",
           "#ab63fa",
           "#FFA15A",
           "#19d3f3",
           "#FF6692",
           "#B6E880",
           "#FF97FF",
           "#FECB52"
          ],
          "font": {
           "color": "#2a3f5f"
          },
          "geo": {
           "bgcolor": "white",
           "lakecolor": "white",
           "landcolor": "#E5ECF6",
           "showlakes": true,
           "showland": true,
           "subunitcolor": "white"
          },
          "hoverlabel": {
           "align": "left"
          },
          "hovermode": "closest",
          "mapbox": {
           "style": "light"
          },
          "paper_bgcolor": "white",
          "plot_bgcolor": "#E5ECF6",
          "polar": {
           "angularaxis": {
            "gridcolor": "white",
            "linecolor": "white",
            "ticks": ""
           },
           "bgcolor": "#E5ECF6",
           "radialaxis": {
            "gridcolor": "white",
            "linecolor": "white",
            "ticks": ""
           }
          },
          "scene": {
           "xaxis": {
            "backgroundcolor": "#E5ECF6",
            "gridcolor": "white",
            "gridwidth": 2,
            "linecolor": "white",
            "showbackground": true,
            "ticks": "",
            "zerolinecolor": "white"
           },
           "yaxis": {
            "backgroundcolor": "#E5ECF6",
            "gridcolor": "white",
            "gridwidth": 2,
            "linecolor": "white",
            "showbackground": true,
            "ticks": "",
            "zerolinecolor": "white"
           },
           "zaxis": {
            "backgroundcolor": "#E5ECF6",
            "gridcolor": "white",
            "gridwidth": 2,
            "linecolor": "white",
            "showbackground": true,
            "ticks": "",
            "zerolinecolor": "white"
           }
          },
          "shapedefaults": {
           "line": {
            "color": "#2a3f5f"
           }
          },
          "ternary": {
           "aaxis": {
            "gridcolor": "white",
            "linecolor": "white",
            "ticks": ""
           },
           "baxis": {
            "gridcolor": "white",
            "linecolor": "white",
            "ticks": ""
           },
           "bgcolor": "#E5ECF6",
           "caxis": {
            "gridcolor": "white",
            "linecolor": "white",
            "ticks": ""
           }
          },
          "title": {
           "x": 0.05
          },
          "xaxis": {
           "automargin": true,
           "gridcolor": "white",
           "linecolor": "white",
           "ticks": "",
           "title": {
            "standoff": 15
           },
           "zerolinecolor": "white",
           "zerolinewidth": 2
          },
          "yaxis": {
           "automargin": true,
           "gridcolor": "white",
           "linecolor": "white",
           "ticks": "",
           "title": {
            "standoff": 15
           },
           "zerolinecolor": "white",
           "zerolinewidth": 2
          }
         }
        },
        "title": {
         "text": "<b>1980~2020 Video Game Sales </b><sub>(unit: millions)</sub>"
        },
        "xaxis": {
         "anchor": "y",
         "domain": [
          0,
          1
         ],
         "title": {
          "text": "Year"
         }
        },
        "yaxis": {
         "anchor": "x",
         "domain": [
          0,
          1
         ],
         "title": {
          "text": "Sales"
         }
        }
       }
      }
     },
     "metadata": {},
     "output_type": "display_data"
    }
   ],
   "source": [
    "# 시각화에 사용될 데이터  \n",
    "sales = vgData.groupby('Year')['Global_Sales'].sum().to_frame()\n",
    "sales = sales.reset_index()\n",
    "sales.columns = ['Year', 'Sales']\n",
    "sales.Year = sales.Year.astype('str')\n",
    "\n",
    "# 시각화\n",
    "fig = px.line(data_frame=sales,\n",
    "              x='Year', \n",
    "              y='Sales',\n",
    "              title = '<b>1980~2020 Video Game Sales </b><sub>(unit: millions)</sub>'\n",
    "              )\n",
    "fig.show()\n"
   ]
  },
  {
   "cell_type": "markdown",
   "metadata": {},
   "source": [
    "#### Publisher별 판매량"
   ]
  },
  {
   "cell_type": "code",
   "execution_count": 155,
   "metadata": {},
   "outputs": [
    {
     "data": {
      "text/html": [
       "<div>\n",
       "<style scoped>\n",
       "    .dataframe tbody tr th:only-of-type {\n",
       "        vertical-align: middle;\n",
       "    }\n",
       "\n",
       "    .dataframe tbody tr th {\n",
       "        vertical-align: top;\n",
       "    }\n",
       "\n",
       "    .dataframe thead th {\n",
       "        text-align: right;\n",
       "    }\n",
       "</style>\n",
       "<table border=\"1\" class=\"dataframe\">\n",
       "  <thead>\n",
       "    <tr style=\"text-align: right;\">\n",
       "      <th></th>\n",
       "      <th>Rank</th>\n",
       "      <th>Name</th>\n",
       "      <th>Platform</th>\n",
       "      <th>Year</th>\n",
       "      <th>Genre</th>\n",
       "      <th>Publisher</th>\n",
       "      <th>NA_Sales</th>\n",
       "      <th>EU_Sales</th>\n",
       "      <th>JP_Sales</th>\n",
       "      <th>Other_Sales</th>\n",
       "      <th>Global_Sales</th>\n",
       "    </tr>\n",
       "  </thead>\n",
       "  <tbody>\n",
       "    <tr>\n",
       "      <th>0</th>\n",
       "      <td>1</td>\n",
       "      <td>Wii Sports</td>\n",
       "      <td>Wii</td>\n",
       "      <td>2006</td>\n",
       "      <td>Sports</td>\n",
       "      <td>Nintendo</td>\n",
       "      <td>41.49</td>\n",
       "      <td>29.02</td>\n",
       "      <td>3.77</td>\n",
       "      <td>8.46</td>\n",
       "      <td>82.74</td>\n",
       "    </tr>\n",
       "    <tr>\n",
       "      <th>1</th>\n",
       "      <td>2</td>\n",
       "      <td>Super Mario Bros.</td>\n",
       "      <td>NES</td>\n",
       "      <td>1985</td>\n",
       "      <td>Platform</td>\n",
       "      <td>Nintendo</td>\n",
       "      <td>29.08</td>\n",
       "      <td>3.58</td>\n",
       "      <td>6.81</td>\n",
       "      <td>0.77</td>\n",
       "      <td>40.24</td>\n",
       "    </tr>\n",
       "    <tr>\n",
       "      <th>2</th>\n",
       "      <td>3</td>\n",
       "      <td>Mario Kart Wii</td>\n",
       "      <td>Wii</td>\n",
       "      <td>2008</td>\n",
       "      <td>Racing</td>\n",
       "      <td>Nintendo</td>\n",
       "      <td>15.85</td>\n",
       "      <td>12.88</td>\n",
       "      <td>3.79</td>\n",
       "      <td>3.31</td>\n",
       "      <td>35.82</td>\n",
       "    </tr>\n",
       "    <tr>\n",
       "      <th>3</th>\n",
       "      <td>4</td>\n",
       "      <td>Wii Sports Resort</td>\n",
       "      <td>Wii</td>\n",
       "      <td>2009</td>\n",
       "      <td>Sports</td>\n",
       "      <td>Nintendo</td>\n",
       "      <td>15.75</td>\n",
       "      <td>11.01</td>\n",
       "      <td>3.28</td>\n",
       "      <td>2.96</td>\n",
       "      <td>33.00</td>\n",
       "    </tr>\n",
       "    <tr>\n",
       "      <th>4</th>\n",
       "      <td>5</td>\n",
       "      <td>Pokemon Red/Pokemon Blue</td>\n",
       "      <td>GB</td>\n",
       "      <td>1996</td>\n",
       "      <td>Role-Playing</td>\n",
       "      <td>Nintendo</td>\n",
       "      <td>11.27</td>\n",
       "      <td>8.89</td>\n",
       "      <td>10.22</td>\n",
       "      <td>1.00</td>\n",
       "      <td>31.37</td>\n",
       "    </tr>\n",
       "    <tr>\n",
       "      <th>5</th>\n",
       "      <td>6</td>\n",
       "      <td>Tetris</td>\n",
       "      <td>GB</td>\n",
       "      <td>1989</td>\n",
       "      <td>Puzzle</td>\n",
       "      <td>Nintendo</td>\n",
       "      <td>23.20</td>\n",
       "      <td>2.26</td>\n",
       "      <td>4.22</td>\n",
       "      <td>0.58</td>\n",
       "      <td>30.26</td>\n",
       "    </tr>\n",
       "    <tr>\n",
       "      <th>6</th>\n",
       "      <td>7</td>\n",
       "      <td>New Super Mario Bros.</td>\n",
       "      <td>DS</td>\n",
       "      <td>2006</td>\n",
       "      <td>Platform</td>\n",
       "      <td>Nintendo</td>\n",
       "      <td>11.38</td>\n",
       "      <td>9.23</td>\n",
       "      <td>6.50</td>\n",
       "      <td>2.90</td>\n",
       "      <td>30.01</td>\n",
       "    </tr>\n",
       "    <tr>\n",
       "      <th>7</th>\n",
       "      <td>8</td>\n",
       "      <td>Wii Play</td>\n",
       "      <td>Wii</td>\n",
       "      <td>2006</td>\n",
       "      <td>Misc</td>\n",
       "      <td>Nintendo</td>\n",
       "      <td>14.03</td>\n",
       "      <td>9.20</td>\n",
       "      <td>2.93</td>\n",
       "      <td>2.85</td>\n",
       "      <td>29.02</td>\n",
       "    </tr>\n",
       "    <tr>\n",
       "      <th>8</th>\n",
       "      <td>9</td>\n",
       "      <td>New Super Mario Bros. Wii</td>\n",
       "      <td>Wii</td>\n",
       "      <td>2009</td>\n",
       "      <td>Platform</td>\n",
       "      <td>Nintendo</td>\n",
       "      <td>14.59</td>\n",
       "      <td>7.06</td>\n",
       "      <td>4.70</td>\n",
       "      <td>2.26</td>\n",
       "      <td>28.62</td>\n",
       "    </tr>\n",
       "    <tr>\n",
       "      <th>9</th>\n",
       "      <td>10</td>\n",
       "      <td>Duck Hunt</td>\n",
       "      <td>NES</td>\n",
       "      <td>1984</td>\n",
       "      <td>Shooter</td>\n",
       "      <td>Nintendo</td>\n",
       "      <td>26.93</td>\n",
       "      <td>0.63</td>\n",
       "      <td>0.28</td>\n",
       "      <td>0.47</td>\n",
       "      <td>28.31</td>\n",
       "    </tr>\n",
       "  </tbody>\n",
       "</table>\n",
       "</div>"
      ],
      "text/plain": [
       "   Rank                       Name Platform  Year         Genre Publisher  \\\n",
       "0     1                 Wii Sports      Wii  2006        Sports  Nintendo   \n",
       "1     2          Super Mario Bros.      NES  1985      Platform  Nintendo   \n",
       "2     3             Mario Kart Wii      Wii  2008        Racing  Nintendo   \n",
       "3     4          Wii Sports Resort      Wii  2009        Sports  Nintendo   \n",
       "4     5   Pokemon Red/Pokemon Blue       GB  1996  Role-Playing  Nintendo   \n",
       "5     6                     Tetris       GB  1989        Puzzle  Nintendo   \n",
       "6     7      New Super Mario Bros.       DS  2006      Platform  Nintendo   \n",
       "7     8                   Wii Play      Wii  2006          Misc  Nintendo   \n",
       "8     9  New Super Mario Bros. Wii      Wii  2009      Platform  Nintendo   \n",
       "9    10                  Duck Hunt      NES  1984       Shooter  Nintendo   \n",
       "\n",
       "   NA_Sales  EU_Sales  JP_Sales  Other_Sales  Global_Sales  \n",
       "0     41.49     29.02      3.77         8.46         82.74  \n",
       "1     29.08      3.58      6.81         0.77         40.24  \n",
       "2     15.85     12.88      3.79         3.31         35.82  \n",
       "3     15.75     11.01      3.28         2.96         33.00  \n",
       "4     11.27      8.89     10.22         1.00         31.37  \n",
       "5     23.20      2.26      4.22         0.58         30.26  \n",
       "6     11.38      9.23      6.50         2.90         30.01  \n",
       "7     14.03      9.20      2.93         2.85         29.02  \n",
       "8     14.59      7.06      4.70         2.26         28.62  \n",
       "9     26.93      0.63      0.28         0.47         28.31  "
      ]
     },
     "execution_count": 155,
     "metadata": {},
     "output_type": "execute_result"
    }
   ],
   "source": [
    "top_sales"
   ]
  },
  {
   "cell_type": "code",
   "execution_count": 166,
   "metadata": {},
   "outputs": [
    {
     "data": {
      "application/vnd.plotly.v1+json": {
       "config": {
        "plotlyServerURL": "https://plot.ly"
       },
       "data": [
        {
         "alignmentgroup": "True",
         "hovertemplate": "Publisher=%{x}<br>Global_Sales=%{y}<extra></extra>",
         "legendgroup": "",
         "marker": {
          "color": "#636efa"
         },
         "name": "",
         "notched": false,
         "offsetgroup": "",
         "orientation": "v",
         "showlegend": false,
         "type": "box",
         "x": [
          "Nintendo",
          "Nintendo",
          "Nintendo",
          "Nintendo",
          "Nintendo",
          "Nintendo",
          "Nintendo",
          "Nintendo",
          "Nintendo",
          "Nintendo",
          "Nintendo",
          "Nintendo",
          "Nintendo",
          "Nintendo",
          "Nintendo",
          "Nintendo",
          "Nintendo",
          "Nintendo",
          "Nintendo",
          "Nintendo",
          "Nintendo",
          "Nintendo",
          "Nintendo",
          "Sony Computer Entertainment",
          "Activision",
          "Nintendo",
          "Activision",
          "Nintendo",
          "Activision",
          "Activision",
          "Activision",
          "Activision",
          "Activision",
          "Nintendo",
          "Activision",
          "Nintendo",
          "Nintendo",
          "Nintendo",
          "Nintendo",
          "Sony Computer Entertainment",
          "Nintendo",
          "Nintendo",
          "Nintendo",
          "Sony Computer Entertainment",
          "Nintendo",
          "Sony Computer Entertainment",
          "Activision",
          "Nintendo",
          "Nintendo",
          "Nintendo",
          "Ubisoft",
          "Activision",
          "Nintendo",
          "Nintendo",
          "Sony Computer Entertainment",
          "Activision",
          "Ubisoft",
          "Sony Computer Entertainment",
          "Activision",
          "Nintendo",
          "Nintendo",
          "Nintendo",
          "Nintendo",
          "Electronic Arts",
          "Nintendo",
          "Nintendo",
          "Nintendo",
          "Electronic Arts",
          "Electronic Arts",
          "Nintendo",
          "Sony Computer Entertainment",
          "Nintendo",
          "Nintendo",
          "Electronic Arts",
          "Activision",
          "Nintendo",
          "Sony Computer Entertainment",
          "Nintendo",
          "Nintendo",
          "Activision",
          "Electronic Arts",
          "Nintendo",
          "Activision",
          "Ubisoft",
          "Electronic Arts",
          "Electronic Arts",
          "Sony Computer Entertainment",
          "Sony Computer Entertainment",
          "Nintendo",
          "Nintendo",
          "Nintendo",
          "Ubisoft",
          "Electronic Arts",
          "Electronic Arts",
          "Electronic Arts",
          "Sony Computer Entertainment",
          "Sony Computer Entertainment",
          "Sony Computer Entertainment",
          "Activision",
          "Electronic Arts",
          "Nintendo",
          "Electronic Arts",
          "Nintendo",
          "Nintendo",
          "Ubisoft",
          "Nintendo",
          "Sony Computer Entertainment",
          "Nintendo",
          "Nintendo",
          "Activision",
          "Sony Computer Entertainment",
          "Nintendo",
          "Sony Computer Entertainment",
          "Activision",
          "Nintendo",
          "Ubisoft",
          "Nintendo",
          "Ubisoft",
          "Nintendo",
          "Nintendo",
          "Nintendo",
          "Nintendo",
          "Activision",
          "Sony Computer Entertainment",
          "Nintendo",
          "Nintendo",
          "Ubisoft",
          "Electronic Arts",
          "Nintendo",
          "Ubisoft",
          "Nintendo",
          "Activision",
          "Nintendo",
          "Nintendo",
          "Nintendo",
          "Electronic Arts",
          "Nintendo",
          "Nintendo",
          "Nintendo",
          "Electronic Arts",
          "Nintendo",
          "Activision",
          "Electronic Arts",
          "Nintendo",
          "Activision",
          "Nintendo",
          "Sony Computer Entertainment",
          "Nintendo",
          "Activision",
          "Nintendo",
          "Sony Computer Entertainment",
          "Electronic Arts",
          "Nintendo",
          "Nintendo",
          "Sony Computer Entertainment",
          "Activision",
          "Ubisoft",
          "Electronic Arts",
          "Sony Computer Entertainment",
          "Electronic Arts",
          "Activision",
          "Nintendo",
          "Electronic Arts",
          "Activision",
          "Nintendo",
          "Nintendo",
          "Nintendo",
          "Nintendo",
          "Sony Computer Entertainment",
          "Activision",
          "Electronic Arts",
          "Activision",
          "Electronic Arts",
          "Activision",
          "Sony Computer Entertainment",
          "Activision",
          "Sony Computer Entertainment",
          "Nintendo",
          "Ubisoft",
          "Activision",
          "Nintendo",
          "Electronic Arts",
          "Sony Computer Entertainment",
          "Electronic Arts",
          "Activision",
          "Nintendo",
          "Ubisoft",
          "Sony Computer Entertainment",
          "Activision",
          "Nintendo",
          "Electronic Arts",
          "Sony Computer Entertainment",
          "Sony Computer Entertainment",
          "Sony Computer Entertainment",
          "Ubisoft",
          "Electronic Arts",
          "Nintendo",
          "Electronic Arts",
          "Ubisoft",
          "Nintendo",
          "Electronic Arts",
          "Nintendo",
          "Activision",
          "Sony Computer Entertainment",
          "Sony Computer Entertainment",
          "Ubisoft",
          "Nintendo",
          "Nintendo",
          "Nintendo",
          "Electronic Arts",
          "Electronic Arts",
          "Ubisoft",
          "Nintendo",
          "Activision",
          "Ubisoft",
          "Nintendo",
          "Sony Computer Entertainment",
          "Sony Computer Entertainment",
          "Nintendo",
          "Sony Computer Entertainment",
          "Nintendo",
          "Nintendo",
          "Nintendo",
          "Nintendo",
          "Activision",
          "Sony Computer Entertainment",
          "Ubisoft",
          "Electronic Arts",
          "Nintendo",
          "Electronic Arts",
          "Sony Computer Entertainment",
          "Electronic Arts",
          "Nintendo",
          "Electronic Arts",
          "Electronic Arts",
          "Nintendo",
          "Activision",
          "Nintendo",
          "Sony Computer Entertainment",
          "Activision",
          "Sony Computer Entertainment",
          "Sony Computer Entertainment",
          "Nintendo",
          "Electronic Arts",
          "Activision",
          "Ubisoft",
          "Electronic Arts",
          "Nintendo",
          "Sony Computer Entertainment",
          "Electronic Arts",
          "Electronic Arts",
          "Electronic Arts",
          "Sony Computer Entertainment",
          "Electronic Arts",
          "Nintendo",
          "Ubisoft",
          "Nintendo",
          "Nintendo",
          "Electronic Arts",
          "Electronic Arts",
          "Activision",
          "Ubisoft",
          "Ubisoft",
          "Electronic Arts",
          "Sony Computer Entertainment",
          "Activision",
          "Nintendo",
          "Electronic Arts",
          "Sony Computer Entertainment",
          "Nintendo",
          "Nintendo",
          "Nintendo",
          "Ubisoft",
          "Nintendo",
          "Electronic Arts",
          "Sony Computer Entertainment",
          "Nintendo",
          "Electronic Arts",
          "Ubisoft",
          "Activision",
          "Activision",
          "Nintendo",
          "Sony Computer Entertainment",
          "Sony Computer Entertainment",
          "Electronic Arts",
          "Electronic Arts",
          "Nintendo",
          "Electronic Arts",
          "Nintendo",
          "Nintendo",
          "Sony Computer Entertainment",
          "Nintendo",
          "Nintendo",
          "Nintendo",
          "Electronic Arts",
          "Activision",
          "Electronic Arts",
          "Nintendo",
          "Nintendo",
          "Ubisoft",
          "Sony Computer Entertainment",
          "Electronic Arts",
          "Electronic Arts",
          "Electronic Arts",
          "Nintendo",
          "Nintendo",
          "Electronic Arts",
          "Electronic Arts",
          "Activision",
          "Ubisoft",
          "Ubisoft",
          "Sony Computer Entertainment",
          "Ubisoft",
          "Nintendo",
          "Nintendo",
          "Electronic Arts",
          "Nintendo",
          "Electronic Arts",
          "Electronic Arts",
          "Electronic Arts",
          "Nintendo",
          "Nintendo",
          "Sony Computer Entertainment",
          "Sony Computer Entertainment",
          "Nintendo",
          "Nintendo",
          "Electronic Arts",
          "Electronic Arts",
          "Electronic Arts",
          "Sony Computer Entertainment",
          "Activision",
          "Sony Computer Entertainment",
          "Ubisoft",
          "Activision",
          "Electronic Arts",
          "Ubisoft",
          "Nintendo",
          "Nintendo",
          "Activision",
          "Electronic Arts",
          "Ubisoft",
          "Electronic Arts",
          "Electronic Arts",
          "Nintendo",
          "Electronic Arts",
          "Ubisoft",
          "Nintendo",
          "Sony Computer Entertainment",
          "Sony Computer Entertainment",
          "Sony Computer Entertainment",
          "Electronic Arts",
          "Electronic Arts",
          "Nintendo",
          "Nintendo",
          "Sony Computer Entertainment",
          "Sony Computer Entertainment",
          "Sony Computer Entertainment",
          "Electronic Arts",
          "Nintendo",
          "Ubisoft",
          "Nintendo",
          "Nintendo",
          "Activision",
          "Nintendo",
          "Nintendo",
          "Electronic Arts",
          "Electronic Arts",
          "Nintendo",
          "Electronic Arts",
          "Electronic Arts",
          "Electronic Arts",
          "Activision",
          "Activision",
          "Electronic Arts",
          "Ubisoft",
          "Activision",
          "Electronic Arts",
          "Nintendo",
          "Nintendo",
          "Sony Computer Entertainment",
          "Sony Computer Entertainment",
          "Nintendo",
          "Electronic Arts",
          "Electronic Arts",
          "Nintendo",
          "Electronic Arts",
          "Nintendo",
          "Electronic Arts",
          "Sony Computer Entertainment",
          "Electronic Arts",
          "Sony Computer Entertainment",
          "Sony Computer Entertainment",
          "Sony Computer Entertainment",
          "Nintendo",
          "Electronic Arts",
          "Electronic Arts",
          "Electronic Arts",
          "Nintendo",
          "Electronic Arts",
          "Nintendo",
          "Activision",
          "Nintendo",
          "Sony Computer Entertainment",
          "Nintendo",
          "Sony Computer Entertainment",
          "Electronic Arts",
          "Electronic Arts",
          "Ubisoft",
          "Nintendo",
          "Sony Computer Entertainment",
          "Electronic Arts",
          "Electronic Arts",
          "Nintendo",
          "Electronic Arts",
          "Electronic Arts",
          "Sony Computer Entertainment",
          "Electronic Arts",
          "Electronic Arts",
          "Activision",
          "Electronic Arts",
          "Nintendo",
          "Nintendo",
          "Activision",
          "Ubisoft",
          "Electronic Arts",
          "Nintendo",
          "Ubisoft",
          "Nintendo",
          "Electronic Arts",
          "Nintendo",
          "Electronic Arts",
          "Nintendo",
          "Sony Computer Entertainment",
          "Electronic Arts",
          "Ubisoft",
          "Nintendo",
          "Electronic Arts",
          "Nintendo",
          "Nintendo",
          "Nintendo",
          "Activision",
          "Nintendo",
          "Electronic Arts",
          "Nintendo",
          "Activision",
          "Nintendo",
          "Ubisoft",
          "Nintendo",
          "Electronic Arts",
          "Ubisoft",
          "Electronic Arts",
          "Activision",
          "Nintendo",
          "Activision",
          "Nintendo",
          "Nintendo",
          "Electronic Arts",
          "Nintendo",
          "Nintendo",
          "Nintendo",
          "Nintendo",
          "Electronic Arts",
          "Ubisoft",
          "Sony Computer Entertainment",
          "Ubisoft",
          "Nintendo",
          "Electronic Arts",
          "Activision",
          "Nintendo",
          "Nintendo",
          "Nintendo",
          "Nintendo",
          "Ubisoft",
          "Nintendo",
          "Nintendo",
          "Activision",
          "Electronic Arts",
          "Nintendo",
          "Electronic Arts",
          "Electronic Arts",
          "Electronic Arts",
          "Activision",
          "Electronic Arts",
          "Nintendo",
          "Electronic Arts",
          "Activision",
          "Electronic Arts",
          "Electronic Arts",
          "Electronic Arts",
          "Ubisoft",
          "Nintendo",
          "Nintendo",
          "Electronic Arts",
          "Nintendo",
          "Activision",
          "Ubisoft",
          "Sony Computer Entertainment",
          "Ubisoft",
          "Nintendo",
          "Electronic Arts",
          "Electronic Arts",
          "Nintendo",
          "Ubisoft",
          "Electronic Arts",
          "Electronic Arts",
          "Activision",
          "Electronic Arts",
          "Ubisoft",
          "Nintendo",
          "Sony Computer Entertainment",
          "Nintendo",
          "Activision",
          "Nintendo",
          "Electronic Arts",
          "Electronic Arts",
          "Nintendo",
          "Electronic Arts",
          "Electronic Arts",
          "Activision",
          "Electronic Arts",
          "Sony Computer Entertainment",
          "Nintendo",
          "Nintendo",
          "Nintendo",
          "Ubisoft",
          "Activision",
          "Electronic Arts",
          "Electronic Arts",
          "Electronic Arts",
          "Nintendo",
          "Sony Computer Entertainment",
          "Ubisoft",
          "Activision",
          "Activision",
          "Nintendo",
          "Ubisoft",
          "Nintendo",
          "Nintendo",
          "Electronic Arts",
          "Electronic Arts",
          "Electronic Arts",
          "Sony Computer Entertainment",
          "Nintendo",
          "Activision",
          "Electronic Arts",
          "Electronic Arts",
          "Nintendo",
          "Sony Computer Entertainment",
          "Sony Computer Entertainment",
          "Electronic Arts",
          "Nintendo",
          "Electronic Arts",
          "Nintendo",
          "Nintendo",
          "Electronic Arts",
          "Activision",
          "Sony Computer Entertainment",
          "Sony Computer Entertainment",
          "Sony Computer Entertainment",
          "Electronic Arts",
          "Activision",
          "Nintendo",
          "Sony Computer Entertainment",
          "Ubisoft",
          "Nintendo",
          "Sony Computer Entertainment",
          "Electronic Arts",
          "Nintendo",
          "Activision",
          "Sony Computer Entertainment",
          "Electronic Arts",
          "Sony Computer Entertainment",
          "Nintendo",
          "Electronic Arts",
          "Nintendo",
          "Nintendo",
          "Sony Computer Entertainment",
          "Activision",
          "Electronic Arts",
          "Activision",
          "Sony Computer Entertainment",
          "Sony Computer Entertainment",
          "Nintendo",
          "Nintendo",
          "Nintendo",
          "Electronic Arts",
          "Nintendo",
          "Nintendo",
          "Nintendo",
          "Nintendo",
          "Electronic Arts",
          "Ubisoft",
          "Activision",
          "Electronic Arts",
          "Electronic Arts",
          "Activision",
          "Electronic Arts",
          "Activision",
          "Nintendo",
          "Nintendo",
          "Nintendo",
          "Electronic Arts",
          "Activision",
          "Sony Computer Entertainment",
          "Activision",
          "Electronic Arts",
          "Activision",
          "Electronic Arts",
          "Sony Computer Entertainment",
          "Activision",
          "Ubisoft",
          "Activision",
          "Electronic Arts",
          "Ubisoft",
          "Electronic Arts",
          "Activision",
          "Electronic Arts",
          "Nintendo",
          "Ubisoft",
          "Electronic Arts",
          "Nintendo",
          "Nintendo",
          "Electronic Arts",
          "Sony Computer Entertainment",
          "Sony Computer Entertainment",
          "Electronic Arts",
          "Electronic Arts",
          "Electronic Arts",
          "Electronic Arts",
          "Activision",
          "Sony Computer Entertainment",
          "Nintendo",
          "Electronic Arts",
          "Electronic Arts",
          "Nintendo",
          "Ubisoft",
          "Electronic Arts",
          "Electronic Arts",
          "Electronic Arts",
          "Activision",
          "Activision",
          "Activision",
          "Electronic Arts",
          "Sony Computer Entertainment",
          "Electronic Arts",
          "Electronic Arts",
          "Electronic Arts",
          "Nintendo",
          "Nintendo",
          "Electronic Arts",
          "Nintendo",
          "Electronic Arts",
          "Electronic Arts",
          "Ubisoft",
          "Nintendo",
          "Electronic Arts",
          "Sony Computer Entertainment",
          "Electronic Arts",
          "Activision",
          "Nintendo",
          "Nintendo",
          "Electronic Arts",
          "Nintendo",
          "Electronic Arts",
          "Nintendo",
          "Nintendo",
          "Sony Computer Entertainment",
          "Ubisoft",
          "Activision",
          "Ubisoft",
          "Activision",
          "Activision",
          "Nintendo",
          "Sony Computer Entertainment",
          "Ubisoft",
          "Electronic Arts",
          "Activision",
          "Electronic Arts",
          "Sony Computer Entertainment",
          "Electronic Arts",
          "Activision",
          "Nintendo",
          "Electronic Arts",
          "Nintendo",
          "Electronic Arts",
          "Nintendo",
          "Sony Computer Entertainment",
          "Nintendo",
          "Ubisoft",
          "Electronic Arts",
          "Activision",
          "Ubisoft",
          "Nintendo",
          "Nintendo",
          "Sony Computer Entertainment",
          "Activision",
          "Ubisoft",
          "Electronic Arts",
          "Activision",
          "Electronic Arts",
          "Electronic Arts",
          "Electronic Arts",
          "Activision",
          "Electronic Arts",
          "Nintendo",
          "Electronic Arts",
          "Nintendo",
          "Electronic Arts",
          "Electronic Arts",
          "Electronic Arts",
          "Electronic Arts",
          "Nintendo",
          "Electronic Arts",
          "Electronic Arts",
          "Activision",
          "Electronic Arts",
          "Electronic Arts",
          "Electronic Arts",
          "Electronic Arts",
          "Sony Computer Entertainment",
          "Electronic Arts",
          "Nintendo",
          "Nintendo",
          "Electronic Arts",
          "Electronic Arts",
          "Nintendo",
          "Sony Computer Entertainment",
          "Activision",
          "Electronic Arts",
          "Nintendo",
          "Nintendo",
          "Nintendo",
          "Electronic Arts",
          "Electronic Arts",
          "Ubisoft",
          "Ubisoft",
          "Ubisoft",
          "Ubisoft",
          "Nintendo",
          "Electronic Arts",
          "Sony Computer Entertainment",
          "Ubisoft",
          "Electronic Arts",
          "Nintendo",
          "Electronic Arts",
          "Electronic Arts",
          "Nintendo",
          "Activision",
          "Ubisoft",
          "Electronic Arts",
          "Nintendo",
          "Electronic Arts",
          "Activision",
          "Ubisoft",
          "Sony Computer Entertainment",
          "Electronic Arts",
          "Nintendo",
          "Ubisoft",
          "Ubisoft",
          "Electronic Arts",
          "Electronic Arts",
          "Electronic Arts",
          "Electronic Arts",
          "Activision",
          "Electronic Arts",
          "Nintendo",
          "Electronic Arts",
          "Activision",
          "Electronic Arts",
          "Nintendo",
          "Electronic Arts",
          "Nintendo",
          "Electronic Arts",
          "Nintendo",
          "Electronic Arts",
          "Electronic Arts",
          "Sony Computer Entertainment",
          "Nintendo",
          "Electronic Arts",
          "Sony Computer Entertainment",
          "Sony Computer Entertainment",
          "Electronic Arts",
          "Activision",
          "Activision",
          "Electronic Arts",
          "Sony Computer Entertainment",
          "Ubisoft",
          "Electronic Arts",
          "Electronic Arts",
          "Activision",
          "Activision",
          "Electronic Arts",
          "Nintendo",
          "Nintendo",
          "Electronic Arts",
          "Electronic Arts",
          "Electronic Arts",
          "Ubisoft",
          "Activision",
          "Sony Computer Entertainment",
          "Activision",
          "Nintendo",
          "Ubisoft",
          "Electronic Arts",
          "Sony Computer Entertainment",
          "Nintendo",
          "Electronic Arts",
          "Electronic Arts",
          "Electronic Arts",
          "Electronic Arts",
          "Electronic Arts",
          "Electronic Arts",
          "Ubisoft",
          "Electronic Arts",
          "Sony Computer Entertainment",
          "Electronic Arts",
          "Sony Computer Entertainment",
          "Nintendo",
          "Activision",
          "Nintendo",
          "Electronic Arts",
          "Electronic Arts",
          "Electronic Arts",
          "Sony Computer Entertainment",
          "Ubisoft",
          "Activision",
          "Activision",
          "Activision",
          "Electronic Arts",
          "Electronic Arts",
          "Nintendo",
          "Ubisoft",
          "Nintendo",
          "Electronic Arts",
          "Activision",
          "Nintendo",
          "Sony Computer Entertainment",
          "Electronic Arts",
          "Activision",
          "Activision",
          "Activision",
          "Activision",
          "Ubisoft",
          "Electronic Arts",
          "Electronic Arts",
          "Electronic Arts",
          "Sony Computer Entertainment",
          "Electronic Arts",
          "Electronic Arts",
          "Electronic Arts",
          "Nintendo",
          "Electronic Arts",
          "Electronic Arts",
          "Ubisoft",
          "Activision",
          "Nintendo",
          "Ubisoft",
          "Ubisoft",
          "Nintendo",
          "Ubisoft",
          "Nintendo",
          "Electronic Arts",
          "Electronic Arts",
          "Nintendo",
          "Activision",
          "Nintendo",
          "Sony Computer Entertainment",
          "Sony Computer Entertainment",
          "Activision",
          "Nintendo",
          "Electronic Arts",
          "Sony Computer Entertainment",
          "Electronic Arts",
          "Ubisoft",
          "Nintendo",
          "Electronic Arts",
          "Ubisoft",
          "Electronic Arts",
          "Sony Computer Entertainment",
          "Activision",
          "Nintendo",
          "Activision",
          "Ubisoft",
          "Nintendo",
          "Activision",
          "Electronic Arts",
          "Sony Computer Entertainment",
          "Activision",
          "Electronic Arts",
          "Nintendo",
          "Activision",
          "Nintendo",
          "Nintendo",
          "Electronic Arts",
          "Electronic Arts",
          "Electronic Arts",
          "Nintendo",
          "Sony Computer Entertainment",
          "Nintendo",
          "Nintendo",
          "Electronic Arts",
          "Nintendo",
          "Electronic Arts",
          "Activision",
          "Electronic Arts",
          "Sony Computer Entertainment",
          "Activision",
          "Electronic Arts",
          "Electronic Arts",
          "Electronic Arts",
          "Nintendo",
          "Ubisoft",
          "Electronic Arts",
          "Nintendo",
          "Electronic Arts",
          "Nintendo",
          "Nintendo",
          "Electronic Arts",
          "Nintendo",
          "Nintendo",
          "Ubisoft",
          "Electronic Arts",
          "Activision",
          "Nintendo",
          "Nintendo",
          "Ubisoft",
          "Nintendo",
          "Activision",
          "Electronic Arts",
          "Electronic Arts",
          "Ubisoft",
          "Electronic Arts",
          "Activision",
          "Electronic Arts",
          "Nintendo",
          "Electronic Arts",
          "Sony Computer Entertainment",
          "Sony Computer Entertainment",
          "Electronic Arts",
          "Electronic Arts",
          "Activision",
          "Nintendo",
          "Activision",
          "Electronic Arts",
          "Electronic Arts",
          "Ubisoft",
          "Sony Computer Entertainment",
          "Sony Computer Entertainment",
          "Electronic Arts",
          "Nintendo",
          "Electronic Arts",
          "Ubisoft",
          "Electronic Arts",
          "Electronic Arts",
          "Activision",
          "Activision",
          "Nintendo",
          "Sony Computer Entertainment",
          "Nintendo",
          "Electronic Arts",
          "Nintendo",
          "Activision",
          "Sony Computer Entertainment",
          "Sony Computer Entertainment",
          "Electronic Arts",
          "Ubisoft",
          "Nintendo",
          "Nintendo",
          "Electronic Arts",
          "Activision",
          "Electronic Arts",
          "Sony Computer Entertainment",
          "Nintendo",
          "Ubisoft",
          "Nintendo",
          "Sony Computer Entertainment",
          "Nintendo",
          "Electronic Arts",
          "Activision",
          "Nintendo",
          "Ubisoft",
          "Sony Computer Entertainment",
          "Activision",
          "Nintendo",
          "Activision",
          "Activision",
          "Activision",
          "Ubisoft",
          "Nintendo",
          "Sony Computer Entertainment",
          "Electronic Arts",
          "Nintendo",
          "Ubisoft",
          "Activision",
          "Activision",
          "Electronic Arts",
          "Nintendo",
          "Electronic Arts",
          "Ubisoft",
          "Nintendo",
          "Nintendo",
          "Electronic Arts",
          "Electronic Arts",
          "Sony Computer Entertainment",
          "Sony Computer Entertainment",
          "Nintendo",
          "Activision",
          "Sony Computer Entertainment",
          "Ubisoft",
          "Electronic Arts",
          "Electronic Arts",
          "Sony Computer Entertainment",
          "Electronic Arts",
          "Electronic Arts",
          "Electronic Arts",
          "Electronic Arts",
          "Activision",
          "Nintendo",
          "Electronic Arts",
          "Ubisoft",
          "Electronic Arts",
          "Electronic Arts",
          "Electronic Arts",
          "Electronic Arts",
          "Ubisoft",
          "Nintendo",
          "Electronic Arts",
          "Ubisoft",
          "Nintendo",
          "Electronic Arts",
          "Sony Computer Entertainment",
          "Activision",
          "Ubisoft",
          "Nintendo",
          "Electronic Arts",
          "Activision",
          "Sony Computer Entertainment",
          "Sony Computer Entertainment",
          "Electronic Arts",
          "Electronic Arts",
          "Electronic Arts",
          "Activision",
          "Electronic Arts",
          "Electronic Arts",
          "Activision",
          "Activision",
          "Activision",
          "Sony Computer Entertainment",
          "Ubisoft",
          "Sony Computer Entertainment",
          "Activision",
          "Ubisoft",
          "Sony Computer Entertainment",
          "Electronic Arts",
          "Ubisoft",
          "Electronic Arts",
          "Sony Computer Entertainment",
          "Nintendo",
          "Electronic Arts",
          "Electronic Arts",
          "Nintendo",
          "Nintendo",
          "Activision",
          "Electronic Arts",
          "Nintendo",
          "Activision",
          "Ubisoft",
          "Sony Computer Entertainment",
          "Sony Computer Entertainment",
          "Electronic Arts",
          "Electronic Arts",
          "Ubisoft",
          "Electronic Arts",
          "Electronic Arts",
          "Electronic Arts",
          "Electronic Arts",
          "Ubisoft",
          "Ubisoft",
          "Activision",
          "Ubisoft",
          "Electronic Arts",
          "Electronic Arts",
          "Electronic Arts",
          "Nintendo",
          "Ubisoft",
          "Sony Computer Entertainment",
          "Activision",
          "Ubisoft",
          "Electronic Arts",
          "Nintendo",
          "Nintendo",
          "Nintendo",
          "Ubisoft",
          "Electronic Arts",
          "Sony Computer Entertainment",
          "Electronic Arts",
          "Ubisoft",
          "Electronic Arts",
          "Ubisoft",
          "Sony Computer Entertainment",
          "Electronic Arts",
          "Electronic Arts",
          "Ubisoft",
          "Electronic Arts",
          "Activision",
          "Sony Computer Entertainment",
          "Sony Computer Entertainment",
          "Activision",
          "Electronic Arts",
          "Ubisoft",
          "Nintendo",
          "Ubisoft",
          "Nintendo",
          "Nintendo",
          "Electronic Arts",
          "Ubisoft",
          "Ubisoft",
          "Ubisoft",
          "Ubisoft",
          "Electronic Arts",
          "Electronic Arts",
          "Electronic Arts",
          "Electronic Arts",
          "Electronic Arts",
          "Electronic Arts",
          "Nintendo",
          "Activision",
          "Electronic Arts",
          "Electronic Arts",
          "Electronic Arts",
          "Electronic Arts",
          "Sony Computer Entertainment",
          "Sony Computer Entertainment",
          "Sony Computer Entertainment",
          "Sony Computer Entertainment",
          "Electronic Arts",
          "Ubisoft",
          "Ubisoft",
          "Sony Computer Entertainment",
          "Nintendo",
          "Ubisoft",
          "Ubisoft",
          "Sony Computer Entertainment",
          "Sony Computer Entertainment",
          "Electronic Arts",
          "Electronic Arts",
          "Electronic Arts",
          "Activision",
          "Activision",
          "Electronic Arts",
          "Activision",
          "Nintendo",
          "Sony Computer Entertainment",
          "Nintendo",
          "Ubisoft",
          "Ubisoft",
          "Nintendo",
          "Electronic Arts",
          "Electronic Arts",
          "Sony Computer Entertainment",
          "Nintendo",
          "Ubisoft",
          "Sony Computer Entertainment",
          "Sony Computer Entertainment",
          "Electronic Arts",
          "Sony Computer Entertainment",
          "Activision",
          "Electronic Arts",
          "Sony Computer Entertainment",
          "Electronic Arts",
          "Activision",
          "Sony Computer Entertainment",
          "Activision",
          "Ubisoft",
          "Ubisoft",
          "Electronic Arts",
          "Electronic Arts",
          "Electronic Arts",
          "Electronic Arts",
          "Electronic Arts",
          "Electronic Arts",
          "Activision",
          "Activision",
          "Electronic Arts",
          "Nintendo",
          "Ubisoft",
          "Nintendo",
          "Electronic Arts",
          "Sony Computer Entertainment",
          "Sony Computer Entertainment",
          "Sony Computer Entertainment",
          "Activision",
          "Ubisoft",
          "Ubisoft",
          "Electronic Arts",
          "Activision",
          "Activision",
          "Activision",
          "Activision",
          "Electronic Arts",
          "Electronic Arts",
          "Electronic Arts",
          "Sony Computer Entertainment",
          "Sony Computer Entertainment",
          "Electronic Arts",
          "Sony Computer Entertainment",
          "Electronic Arts",
          "Sony Computer Entertainment",
          "Sony Computer Entertainment",
          "Electronic Arts",
          "Electronic Arts",
          "Activision",
          "Electronic Arts",
          "Electronic Arts",
          "Nintendo",
          "Sony Computer Entertainment",
          "Activision",
          "Electronic Arts",
          "Electronic Arts",
          "Activision",
          "Ubisoft",
          "Sony Computer Entertainment",
          "Electronic Arts",
          "Electronic Arts",
          "Nintendo",
          "Sony Computer Entertainment",
          "Nintendo",
          "Nintendo",
          "Ubisoft",
          "Sony Computer Entertainment",
          "Electronic Arts",
          "Ubisoft",
          "Activision",
          "Nintendo",
          "Electronic Arts",
          "Activision",
          "Sony Computer Entertainment",
          "Sony Computer Entertainment",
          "Ubisoft",
          "Sony Computer Entertainment",
          "Nintendo",
          "Ubisoft",
          "Ubisoft",
          "Electronic Arts",
          "Electronic Arts",
          "Electronic Arts",
          "Sony Computer Entertainment",
          "Activision",
          "Electronic Arts",
          "Sony Computer Entertainment",
          "Ubisoft",
          "Electronic Arts",
          "Electronic Arts",
          "Sony Computer Entertainment",
          "Activision",
          "Sony Computer Entertainment",
          "Sony Computer Entertainment",
          "Electronic Arts",
          "Sony Computer Entertainment",
          "Nintendo",
          "Electronic Arts",
          "Electronic Arts",
          "Electronic Arts",
          "Electronic Arts",
          "Electronic Arts",
          "Ubisoft",
          "Electronic Arts",
          "Electronic Arts",
          "Ubisoft",
          "Electronic Arts",
          "Electronic Arts",
          "Activision",
          "Sony Computer Entertainment",
          "Nintendo",
          "Activision",
          "Nintendo",
          "Electronic Arts",
          "Sony Computer Entertainment",
          "Nintendo",
          "Ubisoft",
          "Electronic Arts",
          "Electronic Arts",
          "Sony Computer Entertainment",
          "Nintendo",
          "Electronic Arts",
          "Electronic Arts",
          "Sony Computer Entertainment",
          "Ubisoft",
          "Electronic Arts",
          "Electronic Arts",
          "Sony Computer Entertainment",
          "Ubisoft",
          "Activision",
          "Sony Computer Entertainment",
          "Electronic Arts",
          "Electronic Arts",
          "Activision",
          "Activision",
          "Activision",
          "Activision",
          "Electronic Arts",
          "Nintendo",
          "Nintendo",
          "Sony Computer Entertainment",
          "Activision",
          "Electronic Arts",
          "Electronic Arts",
          "Ubisoft",
          "Sony Computer Entertainment",
          "Electronic Arts",
          "Sony Computer Entertainment",
          "Sony Computer Entertainment",
          "Electronic Arts",
          "Electronic Arts",
          "Nintendo",
          "Activision",
          "Ubisoft",
          "Nintendo",
          "Electronic Arts",
          "Electronic Arts",
          "Activision",
          "Electronic Arts",
          "Electronic Arts",
          "Ubisoft",
          "Electronic Arts",
          "Electronic Arts",
          "Activision",
          "Activision",
          "Electronic Arts",
          "Ubisoft",
          "Ubisoft",
          "Electronic Arts",
          "Activision",
          "Nintendo",
          "Nintendo",
          "Electronic Arts",
          "Ubisoft",
          "Activision",
          "Sony Computer Entertainment",
          "Ubisoft",
          "Sony Computer Entertainment",
          "Electronic Arts",
          "Electronic Arts",
          "Ubisoft",
          "Nintendo",
          "Electronic Arts",
          "Electronic Arts",
          "Electronic Arts",
          "Nintendo",
          "Nintendo",
          "Nintendo",
          "Ubisoft",
          "Nintendo",
          "Sony Computer Entertainment",
          "Ubisoft",
          "Sony Computer Entertainment",
          "Electronic Arts",
          "Nintendo",
          "Electronic Arts",
          "Electronic Arts",
          "Sony Computer Entertainment",
          "Ubisoft",
          "Electronic Arts",
          "Activision",
          "Electronic Arts",
          "Electronic Arts",
          "Electronic Arts",
          "Sony Computer Entertainment",
          "Electronic Arts",
          "Activision",
          "Electronic Arts",
          "Sony Computer Entertainment",
          "Nintendo",
          "Nintendo",
          "Electronic Arts",
          "Ubisoft",
          "Electronic Arts",
          "Electronic Arts",
          "Activision",
          "Sony Computer Entertainment",
          "Electronic Arts",
          "Ubisoft",
          "Electronic Arts",
          "Electronic Arts",
          "Activision",
          "Electronic Arts",
          "Sony Computer Entertainment",
          "Activision",
          "Activision",
          "Electronic Arts",
          "Activision",
          "Activision",
          "Activision",
          "Electronic Arts",
          "Activision",
          "Activision",
          "Activision",
          "Electronic Arts",
          "Ubisoft",
          "Sony Computer Entertainment",
          "Activision",
          "Nintendo",
          "Sony Computer Entertainment",
          "Ubisoft",
          "Nintendo",
          "Activision",
          "Electronic Arts",
          "Electronic Arts",
          "Electronic Arts",
          "Activision",
          "Sony Computer Entertainment",
          "Electronic Arts",
          "Nintendo",
          "Electronic Arts",
          "Electronic Arts",
          "Nintendo",
          "Activision",
          "Nintendo",
          "Electronic Arts",
          "Nintendo",
          "Nintendo",
          "Electronic Arts",
          "Electronic Arts",
          "Activision",
          "Electronic Arts",
          "Nintendo",
          "Sony Computer Entertainment",
          "Ubisoft",
          "Ubisoft",
          "Electronic Arts",
          "Nintendo",
          "Electronic Arts",
          "Ubisoft",
          "Ubisoft",
          "Activision",
          "Electronic Arts",
          "Electronic Arts",
          "Electronic Arts",
          "Electronic Arts",
          "Activision",
          "Sony Computer Entertainment",
          "Activision",
          "Electronic Arts",
          "Ubisoft",
          "Sony Computer Entertainment",
          "Nintendo",
          "Electronic Arts",
          "Electronic Arts",
          "Electronic Arts",
          "Electronic Arts",
          "Electronic Arts",
          "Sony Computer Entertainment",
          "Electronic Arts",
          "Electronic Arts",
          "Sony Computer Entertainment",
          "Nintendo",
          "Nintendo",
          "Nintendo",
          "Sony Computer Entertainment",
          "Activision",
          "Electronic Arts",
          "Electronic Arts",
          "Sony Computer Entertainment",
          "Activision",
          "Electronic Arts",
          "Electronic Arts",
          "Activision",
          "Electronic Arts",
          "Activision",
          "Electronic Arts",
          "Sony Computer Entertainment",
          "Activision",
          "Electronic Arts",
          "Electronic Arts",
          "Activision",
          "Electronic Arts",
          "Activision",
          "Ubisoft",
          "Nintendo",
          "Sony Computer Entertainment",
          "Electronic Arts",
          "Sony Computer Entertainment",
          "Electronic Arts",
          "Ubisoft",
          "Sony Computer Entertainment",
          "Nintendo",
          "Nintendo",
          "Activision",
          "Activision",
          "Electronic Arts",
          "Activision",
          "Nintendo",
          "Sony Computer Entertainment",
          "Sony Computer Entertainment",
          "Ubisoft",
          "Electronic Arts",
          "Electronic Arts",
          "Electronic Arts",
          "Nintendo",
          "Electronic Arts",
          "Activision",
          "Electronic Arts",
          "Nintendo",
          "Activision",
          "Nintendo",
          "Electronic Arts",
          "Activision",
          "Electronic Arts",
          "Ubisoft",
          "Ubisoft",
          "Sony Computer Entertainment",
          "Nintendo",
          "Electronic Arts",
          "Electronic Arts",
          "Ubisoft",
          "Electronic Arts",
          "Sony Computer Entertainment",
          "Electronic Arts",
          "Nintendo",
          "Activision",
          "Electronic Arts",
          "Electronic Arts",
          "Ubisoft",
          "Electronic Arts",
          "Sony Computer Entertainment",
          "Activision",
          "Electronic Arts",
          "Sony Computer Entertainment",
          "Ubisoft",
          "Ubisoft",
          "Activision",
          "Electronic Arts",
          "Ubisoft",
          "Electronic Arts",
          "Electronic Arts",
          "Electronic Arts",
          "Ubisoft",
          "Activision",
          "Sony Computer Entertainment",
          "Electronic Arts",
          "Electronic Arts",
          "Electronic Arts",
          "Electronic Arts",
          "Activision",
          "Ubisoft",
          "Ubisoft",
          "Sony Computer Entertainment",
          "Nintendo",
          "Electronic Arts",
          "Electronic Arts",
          "Activision",
          "Nintendo",
          "Sony Computer Entertainment",
          "Ubisoft",
          "Electronic Arts",
          "Activision",
          "Electronic Arts",
          "Activision",
          "Ubisoft",
          "Electronic Arts",
          "Nintendo",
          "Nintendo",
          "Ubisoft",
          "Electronic Arts",
          "Nintendo",
          "Nintendo",
          "Sony Computer Entertainment",
          "Activision",
          "Electronic Arts",
          "Sony Computer Entertainment",
          "Electronic Arts",
          "Ubisoft",
          "Electronic Arts",
          "Electronic Arts",
          "Activision",
          "Electronic Arts",
          "Ubisoft",
          "Electronic Arts",
          "Activision",
          "Electronic Arts",
          "Electronic Arts",
          "Ubisoft",
          "Electronic Arts",
          "Sony Computer Entertainment",
          "Sony Computer Entertainment",
          "Activision",
          "Sony Computer Entertainment",
          "Sony Computer Entertainment",
          "Nintendo",
          "Electronic Arts",
          "Electronic Arts",
          "Activision",
          "Nintendo",
          "Activision",
          "Ubisoft",
          "Ubisoft",
          "Activision",
          "Sony Computer Entertainment",
          "Sony Computer Entertainment",
          "Ubisoft",
          "Activision",
          "Electronic Arts",
          "Electronic Arts",
          "Electronic Arts",
          "Activision",
          "Ubisoft",
          "Activision",
          "Electronic Arts",
          "Activision",
          "Activision",
          "Activision",
          "Activision",
          "Ubisoft",
          "Activision",
          "Sony Computer Entertainment",
          "Sony Computer Entertainment",
          "Nintendo",
          "Activision",
          "Electronic Arts",
          "Ubisoft",
          "Ubisoft",
          "Electronic Arts",
          "Electronic Arts",
          "Electronic Arts",
          "Electronic Arts",
          "Activision",
          "Activision",
          "Ubisoft",
          "Ubisoft",
          "Sony Computer Entertainment",
          "Electronic Arts",
          "Ubisoft",
          "Electronic Arts",
          "Electronic Arts",
          "Electronic Arts",
          "Electronic Arts",
          "Activision",
          "Nintendo",
          "Ubisoft",
          "Sony Computer Entertainment",
          "Sony Computer Entertainment",
          "Electronic Arts",
          "Electronic Arts",
          "Activision",
          "Ubisoft",
          "Activision",
          "Nintendo",
          "Nintendo",
          "Electronic Arts",
          "Electronic Arts",
          "Electronic Arts",
          "Sony Computer Entertainment",
          "Electronic Arts",
          "Ubisoft",
          "Nintendo",
          "Electronic Arts",
          "Electronic Arts",
          "Electronic Arts",
          "Activision",
          "Activision",
          "Electronic Arts",
          "Activision",
          "Nintendo",
          "Electronic Arts",
          "Ubisoft",
          "Ubisoft",
          "Nintendo",
          "Activision",
          "Sony Computer Entertainment",
          "Nintendo",
          "Electronic Arts",
          "Nintendo",
          "Activision",
          "Electronic Arts",
          "Sony Computer Entertainment",
          "Ubisoft",
          "Ubisoft",
          "Nintendo",
          "Activision",
          "Activision",
          "Electronic Arts",
          "Electronic Arts",
          "Electronic Arts",
          "Ubisoft",
          "Sony Computer Entertainment",
          "Nintendo",
          "Electronic Arts",
          "Ubisoft",
          "Ubisoft",
          "Electronic Arts",
          "Sony Computer Entertainment",
          "Electronic Arts",
          "Activision",
          "Ubisoft",
          "Electronic Arts",
          "Electronic Arts",
          "Activision",
          "Electronic Arts",
          "Electronic Arts",
          "Sony Computer Entertainment",
          "Ubisoft",
          "Ubisoft",
          "Electronic Arts",
          "Nintendo",
          "Ubisoft",
          "Ubisoft",
          "Electronic Arts",
          "Activision",
          "Electronic Arts",
          "Electronic Arts",
          "Electronic Arts",
          "Electronic Arts",
          "Ubisoft",
          "Electronic Arts",
          "Electronic Arts",
          "Ubisoft",
          "Activision",
          "Electronic Arts",
          "Electronic Arts",
          "Ubisoft",
          "Sony Computer Entertainment",
          "Activision",
          "Ubisoft",
          "Nintendo",
          "Activision",
          "Activision",
          "Sony Computer Entertainment",
          "Electronic Arts",
          "Electronic Arts",
          "Nintendo",
          "Activision",
          "Nintendo",
          "Sony Computer Entertainment",
          "Electronic Arts",
          "Electronic Arts",
          "Activision",
          "Ubisoft",
          "Electronic Arts",
          "Activision",
          "Sony Computer Entertainment",
          "Electronic Arts",
          "Ubisoft",
          "Ubisoft",
          "Ubisoft",
          "Nintendo",
          "Activision",
          "Sony Computer Entertainment",
          "Electronic Arts",
          "Activision",
          "Ubisoft",
          "Electronic Arts",
          "Ubisoft",
          "Activision",
          "Nintendo",
          "Electronic Arts",
          "Electronic Arts",
          "Nintendo",
          "Electronic Arts",
          "Electronic Arts",
          "Sony Computer Entertainment",
          "Electronic Arts",
          "Activision",
          "Activision",
          "Nintendo",
          "Electronic Arts",
          "Ubisoft",
          "Electronic Arts",
          "Activision",
          "Electronic Arts",
          "Electronic Arts",
          "Activision",
          "Activision",
          "Nintendo",
          "Nintendo",
          "Electronic Arts",
          "Activision",
          "Ubisoft",
          "Nintendo",
          "Ubisoft",
          "Sony Computer Entertainment",
          "Electronic Arts",
          "Activision",
          "Activision",
          "Electronic Arts",
          "Sony Computer Entertainment",
          "Activision",
          "Electronic Arts",
          "Electronic Arts",
          "Electronic Arts",
          "Electronic Arts",
          "Nintendo",
          "Activision",
          "Sony Computer Entertainment",
          "Ubisoft",
          "Sony Computer Entertainment",
          "Ubisoft",
          "Sony Computer Entertainment",
          "Ubisoft",
          "Activision",
          "Activision",
          "Activision",
          "Activision",
          "Ubisoft",
          "Sony Computer Entertainment",
          "Sony Computer Entertainment",
          "Sony Computer Entertainment",
          "Electronic Arts",
          "Electronic Arts",
          "Electronic Arts",
          "Nintendo",
          "Sony Computer Entertainment",
          "Ubisoft",
          "Nintendo",
          "Electronic Arts",
          "Sony Computer Entertainment",
          "Nintendo",
          "Ubisoft",
          "Electronic Arts",
          "Electronic Arts",
          "Activision",
          "Electronic Arts",
          "Activision",
          "Nintendo",
          "Nintendo",
          "Activision",
          "Activision",
          "Sony Computer Entertainment",
          "Electronic Arts",
          "Electronic Arts",
          "Sony Computer Entertainment",
          "Electronic Arts",
          "Electronic Arts",
          "Electronic Arts",
          "Electronic Arts",
          "Sony Computer Entertainment",
          "Ubisoft",
          "Sony Computer Entertainment",
          "Nintendo",
          "Electronic Arts",
          "Electronic Arts",
          "Electronic Arts",
          "Electronic Arts",
          "Sony Computer Entertainment",
          "Activision",
          "Ubisoft",
          "Activision",
          "Electronic Arts",
          "Electronic Arts",
          "Electronic Arts",
          "Electronic Arts",
          "Activision",
          "Nintendo",
          "Ubisoft",
          "Electronic Arts",
          "Nintendo",
          "Activision",
          "Nintendo",
          "Ubisoft",
          "Ubisoft",
          "Nintendo",
          "Electronic Arts",
          "Electronic Arts",
          "Sony Computer Entertainment",
          "Electronic Arts",
          "Electronic Arts",
          "Electronic Arts",
          "Sony Computer Entertainment",
          "Activision",
          "Electronic Arts",
          "Electronic Arts",
          "Activision",
          "Sony Computer Entertainment",
          "Electronic Arts",
          "Nintendo",
          "Electronic Arts",
          "Activision",
          "Electronic Arts",
          "Ubisoft",
          "Sony Computer Entertainment",
          "Electronic Arts",
          "Electronic Arts",
          "Sony Computer Entertainment",
          "Ubisoft",
          "Electronic Arts",
          "Sony Computer Entertainment",
          "Ubisoft",
          "Ubisoft",
          "Activision",
          "Electronic Arts",
          "Electronic Arts",
          "Activision",
          "Nintendo",
          "Electronic Arts",
          "Electronic Arts",
          "Nintendo",
          "Nintendo",
          "Activision",
          "Activision",
          "Ubisoft",
          "Electronic Arts",
          "Ubisoft",
          "Nintendo",
          "Electronic Arts",
          "Electronic Arts",
          "Electronic Arts",
          "Electronic Arts",
          "Activision",
          "Activision",
          "Sony Computer Entertainment",
          "Electronic Arts",
          "Electronic Arts",
          "Electronic Arts",
          "Activision",
          "Activision",
          "Electronic Arts",
          "Electronic Arts",
          "Activision",
          "Nintendo",
          "Nintendo",
          "Electronic Arts",
          "Activision",
          "Electronic Arts",
          "Electronic Arts",
          "Electronic Arts",
          "Ubisoft",
          "Activision",
          "Activision",
          "Activision",
          "Ubisoft",
          "Sony Computer Entertainment",
          "Activision",
          "Activision",
          "Activision",
          "Sony Computer Entertainment",
          "Activision",
          "Electronic Arts",
          "Electronic Arts",
          "Electronic Arts",
          "Nintendo",
          "Activision",
          "Nintendo",
          "Electronic Arts",
          "Activision",
          "Electronic Arts",
          "Sony Computer Entertainment",
          "Activision",
          "Ubisoft",
          "Ubisoft",
          "Nintendo",
          "Ubisoft",
          "Electronic Arts",
          "Electronic Arts",
          "Ubisoft",
          "Electronic Arts",
          "Ubisoft",
          "Activision",
          "Nintendo",
          "Activision",
          "Electronic Arts",
          "Nintendo",
          "Electronic Arts",
          "Activision",
          "Electronic Arts",
          "Activision",
          "Electronic Arts",
          "Electronic Arts",
          "Electronic Arts",
          "Activision",
          "Electronic Arts",
          "Electronic Arts",
          "Activision",
          "Nintendo",
          "Activision",
          "Electronic Arts",
          "Electronic Arts",
          "Activision",
          "Electronic Arts",
          "Ubisoft",
          "Sony Computer Entertainment",
          "Activision",
          "Electronic Arts",
          "Nintendo",
          "Activision",
          "Electronic Arts",
          "Electronic Arts",
          "Ubisoft",
          "Electronic Arts",
          "Activision",
          "Sony Computer Entertainment",
          "Electronic Arts",
          "Ubisoft",
          "Nintendo",
          "Electronic Arts",
          "Activision",
          "Nintendo",
          "Electronic Arts",
          "Electronic Arts",
          "Activision",
          "Electronic Arts",
          "Electronic Arts",
          "Electronic Arts",
          "Activision",
          "Electronic Arts",
          "Electronic Arts",
          "Activision",
          "Electronic Arts",
          "Ubisoft",
          "Nintendo",
          "Ubisoft",
          "Activision",
          "Nintendo",
          "Ubisoft",
          "Sony Computer Entertainment",
          "Activision",
          "Nintendo",
          "Sony Computer Entertainment",
          "Sony Computer Entertainment",
          "Ubisoft",
          "Activision",
          "Ubisoft",
          "Nintendo",
          "Sony Computer Entertainment",
          "Activision",
          "Ubisoft",
          "Electronic Arts",
          "Sony Computer Entertainment",
          "Sony Computer Entertainment",
          "Electronic Arts",
          "Sony Computer Entertainment",
          "Electronic Arts",
          "Activision",
          "Activision",
          "Electronic Arts",
          "Electronic Arts",
          "Ubisoft",
          "Ubisoft",
          "Nintendo",
          "Activision",
          "Nintendo",
          "Electronic Arts",
          "Sony Computer Entertainment",
          "Sony Computer Entertainment",
          "Activision",
          "Electronic Arts",
          "Activision",
          "Sony Computer Entertainment",
          "Ubisoft",
          "Electronic Arts",
          "Ubisoft",
          "Activision",
          "Activision",
          "Electronic Arts",
          "Activision",
          "Activision",
          "Ubisoft",
          "Electronic Arts",
          "Activision",
          "Activision",
          "Sony Computer Entertainment",
          "Nintendo",
          "Nintendo",
          "Electronic Arts",
          "Ubisoft",
          "Activision",
          "Activision",
          "Sony Computer Entertainment",
          "Sony Computer Entertainment",
          "Electronic Arts",
          "Activision",
          "Sony Computer Entertainment",
          "Electronic Arts",
          "Electronic Arts",
          "Nintendo",
          "Electronic Arts",
          "Nintendo",
          "Ubisoft",
          "Sony Computer Entertainment",
          "Electronic Arts",
          "Activision",
          "Activision",
          "Activision",
          "Electronic Arts",
          "Electronic Arts",
          "Electronic Arts",
          "Electronic Arts",
          "Electronic Arts",
          "Electronic Arts",
          "Nintendo",
          "Electronic Arts",
          "Ubisoft",
          "Ubisoft",
          "Ubisoft",
          "Nintendo",
          "Ubisoft",
          "Activision",
          "Sony Computer Entertainment",
          "Nintendo",
          "Ubisoft",
          "Nintendo",
          "Sony Computer Entertainment",
          "Ubisoft",
          "Nintendo",
          "Activision",
          "Nintendo",
          "Sony Computer Entertainment",
          "Electronic Arts",
          "Electronic Arts",
          "Activision",
          "Electronic Arts",
          "Electronic Arts",
          "Ubisoft",
          "Electronic Arts",
          "Activision",
          "Electronic Arts",
          "Electronic Arts",
          "Sony Computer Entertainment",
          "Activision",
          "Electronic Arts",
          "Activision",
          "Electronic Arts",
          "Nintendo",
          "Ubisoft",
          "Sony Computer Entertainment",
          "Electronic Arts",
          "Sony Computer Entertainment",
          "Electronic Arts",
          "Ubisoft",
          "Electronic Arts",
          "Electronic Arts",
          "Electronic Arts",
          "Activision",
          "Activision",
          "Ubisoft",
          "Ubisoft",
          "Activision",
          "Activision",
          "Electronic Arts",
          "Electronic Arts",
          "Electronic Arts",
          "Activision",
          "Sony Computer Entertainment",
          "Sony Computer Entertainment",
          "Activision",
          "Nintendo",
          "Electronic Arts",
          "Electronic Arts",
          "Ubisoft",
          "Electronic Arts",
          "Ubisoft",
          "Activision",
          "Electronic Arts",
          "Sony Computer Entertainment",
          "Nintendo",
          "Electronic Arts",
          "Sony Computer Entertainment",
          "Ubisoft",
          "Activision",
          "Electronic Arts",
          "Ubisoft",
          "Activision",
          "Ubisoft",
          "Electronic Arts",
          "Nintendo",
          "Nintendo",
          "Nintendo",
          "Electronic Arts",
          "Electronic Arts",
          "Sony Computer Entertainment",
          "Sony Computer Entertainment",
          "Ubisoft",
          "Activision",
          "Sony Computer Entertainment",
          "Ubisoft",
          "Sony Computer Entertainment",
          "Activision",
          "Electronic Arts",
          "Activision",
          "Activision",
          "Ubisoft",
          "Electronic Arts",
          "Electronic Arts",
          "Activision",
          "Sony Computer Entertainment",
          "Nintendo",
          "Electronic Arts",
          "Sony Computer Entertainment",
          "Sony Computer Entertainment",
          "Activision",
          "Activision",
          "Electronic Arts",
          "Activision",
          "Nintendo",
          "Electronic Arts",
          "Sony Computer Entertainment",
          "Activision",
          "Electronic Arts",
          "Ubisoft",
          "Activision",
          "Nintendo",
          "Ubisoft",
          "Electronic Arts",
          "Electronic Arts",
          "Electronic Arts",
          "Ubisoft",
          "Activision",
          "Sony Computer Entertainment",
          "Sony Computer Entertainment",
          "Nintendo",
          "Ubisoft",
          "Activision",
          "Activision",
          "Electronic Arts",
          "Nintendo",
          "Sony Computer Entertainment",
          "Nintendo",
          "Ubisoft",
          "Electronic Arts",
          "Ubisoft",
          "Electronic Arts",
          "Nintendo",
          "Electronic Arts",
          "Activision",
          "Sony Computer Entertainment",
          "Electronic Arts",
          "Electronic Arts",
          "Nintendo",
          "Activision",
          "Nintendo",
          "Activision",
          "Electronic Arts",
          "Sony Computer Entertainment",
          "Sony Computer Entertainment",
          "Electronic Arts",
          "Electronic Arts",
          "Activision",
          "Ubisoft",
          "Activision",
          "Activision",
          "Electronic Arts",
          "Activision",
          "Electronic Arts",
          "Nintendo",
          "Electronic Arts",
          "Ubisoft",
          "Electronic Arts",
          "Activision",
          "Activision",
          "Sony Computer Entertainment",
          "Nintendo",
          "Ubisoft",
          "Sony Computer Entertainment",
          "Electronic Arts",
          "Nintendo",
          "Nintendo",
          "Electronic Arts",
          "Ubisoft",
          "Electronic Arts",
          "Sony Computer Entertainment",
          "Electronic Arts",
          "Nintendo",
          "Nintendo",
          "Ubisoft",
          "Sony Computer Entertainment",
          "Activision",
          "Ubisoft",
          "Activision",
          "Ubisoft",
          "Activision",
          "Activision",
          "Ubisoft",
          "Ubisoft",
          "Electronic Arts",
          "Ubisoft",
          "Electronic Arts",
          "Electronic Arts",
          "Ubisoft",
          "Electronic Arts",
          "Activision",
          "Electronic Arts",
          "Ubisoft",
          "Nintendo",
          "Nintendo",
          "Ubisoft",
          "Sony Computer Entertainment",
          "Activision",
          "Ubisoft",
          "Electronic Arts",
          "Ubisoft",
          "Electronic Arts",
          "Electronic Arts",
          "Electronic Arts",
          "Sony Computer Entertainment",
          "Electronic Arts",
          "Electronic Arts",
          "Nintendo",
          "Electronic Arts",
          "Activision",
          "Electronic Arts",
          "Sony Computer Entertainment",
          "Activision",
          "Electronic Arts",
          "Nintendo",
          "Sony Computer Entertainment",
          "Electronic Arts",
          "Ubisoft",
          "Activision",
          "Activision",
          "Ubisoft",
          "Activision",
          "Sony Computer Entertainment",
          "Electronic Arts",
          "Electronic Arts",
          "Activision",
          "Ubisoft",
          "Ubisoft",
          "Ubisoft",
          "Electronic Arts",
          "Electronic Arts",
          "Activision",
          "Sony Computer Entertainment",
          "Ubisoft",
          "Ubisoft",
          "Ubisoft",
          "Activision",
          "Ubisoft",
          "Electronic Arts",
          "Electronic Arts",
          "Activision",
          "Sony Computer Entertainment",
          "Nintendo",
          "Electronic Arts",
          "Electronic Arts",
          "Electronic Arts",
          "Nintendo",
          "Activision",
          "Electronic Arts",
          "Electronic Arts",
          "Nintendo",
          "Electronic Arts",
          "Activision",
          "Activision",
          "Electronic Arts",
          "Electronic Arts",
          "Activision",
          "Electronic Arts",
          "Ubisoft",
          "Electronic Arts",
          "Electronic Arts",
          "Sony Computer Entertainment",
          "Activision",
          "Activision",
          "Nintendo",
          "Sony Computer Entertainment",
          "Ubisoft",
          "Ubisoft",
          "Nintendo",
          "Sony Computer Entertainment",
          "Nintendo",
          "Activision",
          "Activision",
          "Activision",
          "Activision",
          "Ubisoft",
          "Ubisoft",
          "Activision",
          "Sony Computer Entertainment",
          "Electronic Arts",
          "Electronic Arts",
          "Electronic Arts",
          "Electronic Arts",
          "Ubisoft",
          "Sony Computer Entertainment",
          "Sony Computer Entertainment",
          "Nintendo",
          "Nintendo",
          "Nintendo",
          "Ubisoft",
          "Activision",
          "Nintendo",
          "Nintendo",
          "Nintendo",
          "Electronic Arts",
          "Activision",
          "Ubisoft",
          "Electronic Arts",
          "Electronic Arts",
          "Sony Computer Entertainment",
          "Activision",
          "Activision",
          "Ubisoft",
          "Electronic Arts",
          "Ubisoft",
          "Electronic Arts",
          "Sony Computer Entertainment",
          "Activision",
          "Ubisoft",
          "Electronic Arts",
          "Sony Computer Entertainment",
          "Ubisoft",
          "Nintendo",
          "Nintendo",
          "Activision",
          "Activision",
          "Electronic Arts",
          "Sony Computer Entertainment",
          "Activision",
          "Electronic Arts",
          "Ubisoft",
          "Activision",
          "Electronic Arts",
          "Ubisoft",
          "Electronic Arts",
          "Electronic Arts",
          "Sony Computer Entertainment",
          "Ubisoft",
          "Sony Computer Entertainment",
          "Activision",
          "Ubisoft",
          "Electronic Arts",
          "Electronic Arts",
          "Sony Computer Entertainment",
          "Sony Computer Entertainment",
          "Sony Computer Entertainment",
          "Electronic Arts",
          "Electronic Arts",
          "Ubisoft",
          "Activision",
          "Nintendo",
          "Ubisoft",
          "Sony Computer Entertainment",
          "Ubisoft",
          "Activision",
          "Sony Computer Entertainment",
          "Sony Computer Entertainment",
          "Activision",
          "Nintendo",
          "Electronic Arts",
          "Ubisoft",
          "Sony Computer Entertainment",
          "Ubisoft",
          "Sony Computer Entertainment",
          "Electronic Arts",
          "Sony Computer Entertainment",
          "Electronic Arts",
          "Electronic Arts",
          "Activision",
          "Activision",
          "Sony Computer Entertainment",
          "Electronic Arts",
          "Sony Computer Entertainment",
          "Sony Computer Entertainment",
          "Nintendo",
          "Electronic Arts",
          "Electronic Arts",
          "Activision",
          "Activision",
          "Activision",
          "Electronic Arts",
          "Sony Computer Entertainment",
          "Ubisoft",
          "Sony Computer Entertainment",
          "Ubisoft",
          "Sony Computer Entertainment",
          "Activision",
          "Electronic Arts",
          "Electronic Arts",
          "Electronic Arts",
          "Electronic Arts",
          "Sony Computer Entertainment",
          "Electronic Arts",
          "Nintendo",
          "Sony Computer Entertainment",
          "Electronic Arts",
          "Electronic Arts",
          "Electronic Arts",
          "Electronic Arts",
          "Sony Computer Entertainment",
          "Electronic Arts",
          "Electronic Arts",
          "Electronic Arts",
          "Sony Computer Entertainment",
          "Activision",
          "Ubisoft",
          "Ubisoft",
          "Ubisoft",
          "Ubisoft",
          "Electronic Arts",
          "Ubisoft",
          "Sony Computer Entertainment",
          "Ubisoft",
          "Nintendo",
          "Electronic Arts",
          "Sony Computer Entertainment",
          "Electronic Arts",
          "Ubisoft",
          "Ubisoft",
          "Ubisoft",
          "Electronic Arts",
          "Electronic Arts",
          "Activision",
          "Electronic Arts",
          "Electronic Arts",
          "Electronic Arts",
          "Electronic Arts",
          "Activision",
          "Activision",
          "Sony Computer Entertainment",
          "Activision",
          "Sony Computer Entertainment",
          "Ubisoft",
          "Ubisoft",
          "Electronic Arts",
          "Sony Computer Entertainment",
          "Electronic Arts",
          "Nintendo",
          "Electronic Arts",
          "Activision",
          "Ubisoft",
          "Activision",
          "Sony Computer Entertainment",
          "Sony Computer Entertainment",
          "Sony Computer Entertainment",
          "Ubisoft",
          "Electronic Arts",
          "Activision",
          "Nintendo",
          "Electronic Arts",
          "Activision",
          "Ubisoft",
          "Sony Computer Entertainment",
          "Activision",
          "Electronic Arts",
          "Ubisoft",
          "Activision",
          "Electronic Arts",
          "Ubisoft",
          "Electronic Arts",
          "Electronic Arts",
          "Sony Computer Entertainment",
          "Sony Computer Entertainment",
          "Electronic Arts",
          "Sony Computer Entertainment",
          "Activision",
          "Ubisoft",
          "Activision",
          "Activision",
          "Activision",
          "Nintendo",
          "Sony Computer Entertainment",
          "Sony Computer Entertainment",
          "Activision",
          "Ubisoft",
          "Activision",
          "Nintendo",
          "Nintendo",
          "Nintendo",
          "Sony Computer Entertainment",
          "Ubisoft",
          "Activision",
          "Activision",
          "Sony Computer Entertainment",
          "Nintendo",
          "Sony Computer Entertainment",
          "Sony Computer Entertainment",
          "Sony Computer Entertainment",
          "Activision",
          "Activision",
          "Electronic Arts",
          "Ubisoft",
          "Nintendo",
          "Nintendo",
          "Activision",
          "Electronic Arts",
          "Electronic Arts",
          "Activision",
          "Ubisoft",
          "Electronic Arts",
          "Ubisoft",
          "Ubisoft",
          "Ubisoft",
          "Activision",
          "Electronic Arts",
          "Activision",
          "Electronic Arts",
          "Ubisoft",
          "Activision",
          "Electronic Arts",
          "Activision",
          "Electronic Arts",
          "Activision",
          "Activision",
          "Nintendo",
          "Electronic Arts",
          "Ubisoft",
          "Ubisoft",
          "Ubisoft",
          "Sony Computer Entertainment",
          "Activision",
          "Electronic Arts",
          "Electronic Arts",
          "Sony Computer Entertainment",
          "Ubisoft",
          "Activision",
          "Ubisoft",
          "Electronic Arts",
          "Nintendo",
          "Electronic Arts",
          "Activision",
          "Sony Computer Entertainment",
          "Electronic Arts",
          "Sony Computer Entertainment",
          "Activision",
          "Ubisoft",
          "Ubisoft",
          "Sony Computer Entertainment",
          "Activision",
          "Ubisoft",
          "Electronic Arts",
          "Nintendo",
          "Nintendo",
          "Electronic Arts",
          "Electronic Arts",
          "Nintendo",
          "Electronic Arts",
          "Ubisoft",
          "Sony Computer Entertainment",
          "Activision",
          "Electronic Arts",
          "Electronic Arts",
          "Activision",
          "Ubisoft",
          "Sony Computer Entertainment",
          "Ubisoft",
          "Sony Computer Entertainment",
          "Activision",
          "Electronic Arts",
          "Activision",
          "Activision",
          "Electronic Arts",
          "Nintendo",
          "Activision",
          "Nintendo",
          "Activision",
          "Ubisoft",
          "Sony Computer Entertainment",
          "Sony Computer Entertainment",
          "Activision",
          "Ubisoft",
          "Electronic Arts",
          "Activision",
          "Activision",
          "Activision",
          "Activision",
          "Sony Computer Entertainment",
          "Electronic Arts",
          "Ubisoft",
          "Nintendo",
          "Electronic Arts",
          "Electronic Arts",
          "Electronic Arts",
          "Nintendo",
          "Nintendo",
          "Ubisoft",
          "Electronic Arts",
          "Sony Computer Entertainment",
          "Activision",
          "Sony Computer Entertainment",
          "Nintendo",
          "Activision",
          "Electronic Arts",
          "Ubisoft",
          "Sony Computer Entertainment",
          "Electronic Arts",
          "Electronic Arts",
          "Ubisoft",
          "Activision",
          "Activision",
          "Activision",
          "Activision",
          "Sony Computer Entertainment",
          "Activision",
          "Activision",
          "Activision",
          "Activision",
          "Activision",
          "Electronic Arts",
          "Nintendo",
          "Electronic Arts",
          "Electronic Arts",
          "Ubisoft",
          "Electronic Arts",
          "Activision",
          "Electronic Arts",
          "Ubisoft",
          "Ubisoft",
          "Nintendo",
          "Nintendo",
          "Activision",
          "Nintendo",
          "Electronic Arts",
          "Activision",
          "Electronic Arts",
          "Electronic Arts",
          "Electronic Arts",
          "Ubisoft",
          "Activision",
          "Sony Computer Entertainment",
          "Sony Computer Entertainment",
          "Nintendo",
          "Ubisoft",
          "Ubisoft",
          "Electronic Arts",
          "Electronic Arts",
          "Activision",
          "Ubisoft",
          "Activision",
          "Ubisoft",
          "Electronic Arts",
          "Electronic Arts",
          "Activision",
          "Electronic Arts",
          "Nintendo",
          "Ubisoft",
          "Nintendo",
          "Ubisoft",
          "Electronic Arts",
          "Electronic Arts",
          "Activision",
          "Activision",
          "Activision",
          "Nintendo",
          "Electronic Arts",
          "Electronic Arts",
          "Electronic Arts",
          "Nintendo",
          "Nintendo",
          "Activision",
          "Activision",
          "Electronic Arts",
          "Electronic Arts",
          "Ubisoft",
          "Sony Computer Entertainment",
          "Electronic Arts",
          "Activision",
          "Electronic Arts",
          "Sony Computer Entertainment",
          "Activision",
          "Electronic Arts",
          "Ubisoft",
          "Electronic Arts",
          "Ubisoft",
          "Ubisoft",
          "Ubisoft",
          "Activision",
          "Sony Computer Entertainment",
          "Ubisoft",
          "Ubisoft",
          "Electronic Arts",
          "Electronic Arts",
          "Sony Computer Entertainment",
          "Ubisoft",
          "Activision",
          "Sony Computer Entertainment",
          "Nintendo",
          "Ubisoft",
          "Nintendo",
          "Nintendo",
          "Electronic Arts",
          "Ubisoft",
          "Activision",
          "Ubisoft",
          "Ubisoft",
          "Electronic Arts",
          "Activision",
          "Activision",
          "Activision",
          "Electronic Arts",
          "Activision",
          "Activision",
          "Ubisoft",
          "Activision",
          "Electronic Arts",
          "Ubisoft",
          "Activision",
          "Sony Computer Entertainment",
          "Nintendo",
          "Nintendo",
          "Ubisoft",
          "Electronic Arts",
          "Electronic Arts",
          "Sony Computer Entertainment",
          "Ubisoft",
          "Sony Computer Entertainment",
          "Activision",
          "Electronic Arts",
          "Nintendo",
          "Electronic Arts",
          "Nintendo",
          "Ubisoft",
          "Activision",
          "Electronic Arts",
          "Sony Computer Entertainment",
          "Nintendo",
          "Sony Computer Entertainment",
          "Electronic Arts",
          "Ubisoft",
          "Electronic Arts",
          "Ubisoft",
          "Activision",
          "Sony Computer Entertainment",
          "Electronic Arts",
          "Ubisoft",
          "Activision",
          "Electronic Arts",
          "Ubisoft",
          "Ubisoft",
          "Activision",
          "Activision",
          "Activision",
          "Electronic Arts",
          "Ubisoft",
          "Electronic Arts",
          "Activision",
          "Electronic Arts",
          "Activision",
          "Sony Computer Entertainment",
          "Activision",
          "Electronic Arts",
          "Electronic Arts",
          "Ubisoft",
          "Ubisoft",
          "Ubisoft",
          "Nintendo",
          "Electronic Arts",
          "Sony Computer Entertainment",
          "Electronic Arts",
          "Nintendo",
          "Activision",
          "Ubisoft",
          "Activision",
          "Activision",
          "Ubisoft",
          "Ubisoft",
          "Ubisoft",
          "Ubisoft",
          "Sony Computer Entertainment",
          "Electronic Arts",
          "Electronic Arts",
          "Ubisoft",
          "Sony Computer Entertainment",
          "Activision",
          "Electronic Arts",
          "Ubisoft",
          "Electronic Arts",
          "Electronic Arts",
          "Sony Computer Entertainment",
          "Activision",
          "Ubisoft",
          "Nintendo",
          "Ubisoft",
          "Nintendo",
          "Nintendo",
          "Ubisoft",
          "Activision",
          "Ubisoft",
          "Activision",
          "Ubisoft",
          "Sony Computer Entertainment",
          "Sony Computer Entertainment",
          "Electronic Arts",
          "Electronic Arts",
          "Activision",
          "Sony Computer Entertainment",
          "Ubisoft",
          "Electronic Arts",
          "Ubisoft",
          "Ubisoft",
          "Nintendo",
          "Ubisoft",
          "Activision",
          "Electronic Arts",
          "Activision",
          "Electronic Arts",
          "Ubisoft",
          "Activision",
          "Electronic Arts",
          "Electronic Arts",
          "Ubisoft",
          "Activision",
          "Electronic Arts",
          "Electronic Arts",
          "Activision",
          "Electronic Arts",
          "Electronic Arts",
          "Activision",
          "Activision",
          "Nintendo",
          "Sony Computer Entertainment",
          "Activision",
          "Nintendo",
          "Ubisoft",
          "Sony Computer Entertainment",
          "Electronic Arts",
          "Activision",
          "Activision",
          "Nintendo",
          "Electronic Arts",
          "Sony Computer Entertainment",
          "Nintendo",
          "Electronic Arts",
          "Electronic Arts",
          "Activision",
          "Activision",
          "Electronic Arts",
          "Activision",
          "Electronic Arts",
          "Ubisoft",
          "Activision",
          "Electronic Arts",
          "Electronic Arts",
          "Electronic Arts",
          "Nintendo",
          "Nintendo",
          "Activision",
          "Ubisoft",
          "Electronic Arts",
          "Sony Computer Entertainment",
          "Sony Computer Entertainment",
          "Activision",
          "Ubisoft",
          "Activision",
          "Ubisoft",
          "Sony Computer Entertainment",
          "Activision",
          "Ubisoft",
          "Ubisoft",
          "Sony Computer Entertainment",
          "Electronic Arts",
          "Nintendo",
          "Electronic Arts",
          "Electronic Arts",
          "Activision",
          "Activision",
          "Sony Computer Entertainment",
          "Electronic Arts",
          "Ubisoft",
          "Activision",
          "Nintendo",
          "Activision",
          "Nintendo",
          "Sony Computer Entertainment",
          "Activision",
          "Activision",
          "Ubisoft",
          "Nintendo",
          "Activision",
          "Electronic Arts",
          "Activision",
          "Nintendo",
          "Electronic Arts",
          "Electronic Arts",
          "Sony Computer Entertainment",
          "Electronic Arts",
          "Sony Computer Entertainment",
          "Sony Computer Entertainment",
          "Ubisoft",
          "Nintendo",
          "Sony Computer Entertainment",
          "Sony Computer Entertainment",
          "Electronic Arts",
          "Ubisoft",
          "Electronic Arts",
          "Electronic Arts",
          "Ubisoft",
          "Electronic Arts",
          "Ubisoft",
          "Electronic Arts",
          "Nintendo",
          "Ubisoft",
          "Ubisoft",
          "Activision",
          "Activision",
          "Ubisoft",
          "Ubisoft",
          "Ubisoft",
          "Ubisoft",
          "Ubisoft",
          "Electronic Arts",
          "Activision",
          "Ubisoft",
          "Electronic Arts",
          "Electronic Arts",
          "Activision",
          "Electronic Arts",
          "Ubisoft",
          "Activision",
          "Nintendo",
          "Electronic Arts",
          "Electronic Arts",
          "Nintendo",
          "Electronic Arts",
          "Nintendo",
          "Nintendo",
          "Sony Computer Entertainment",
          "Activision",
          "Electronic Arts",
          "Nintendo",
          "Sony Computer Entertainment",
          "Electronic Arts",
          "Nintendo",
          "Electronic Arts",
          "Activision",
          "Ubisoft",
          "Activision",
          "Nintendo",
          "Ubisoft",
          "Sony Computer Entertainment",
          "Sony Computer Entertainment",
          "Ubisoft",
          "Activision",
          "Activision",
          "Activision",
          "Electronic Arts",
          "Ubisoft",
          "Electronic Arts",
          "Ubisoft",
          "Activision",
          "Activision",
          "Electronic Arts",
          "Electronic Arts",
          "Electronic Arts",
          "Ubisoft",
          "Electronic Arts",
          "Activision",
          "Ubisoft",
          "Activision",
          "Ubisoft",
          "Sony Computer Entertainment",
          "Activision",
          "Nintendo",
          "Activision",
          "Electronic Arts",
          "Sony Computer Entertainment",
          "Electronic Arts",
          "Activision",
          "Electronic Arts",
          "Ubisoft",
          "Nintendo",
          "Electronic Arts",
          "Activision",
          "Ubisoft",
          "Electronic Arts",
          "Electronic Arts",
          "Activision",
          "Electronic Arts",
          "Sony Computer Entertainment",
          "Ubisoft",
          "Activision",
          "Electronic Arts",
          "Ubisoft",
          "Nintendo",
          "Ubisoft",
          "Electronic Arts",
          "Sony Computer Entertainment",
          "Activision",
          "Ubisoft",
          "Activision",
          "Ubisoft",
          "Nintendo",
          "Electronic Arts",
          "Sony Computer Entertainment",
          "Electronic Arts",
          "Ubisoft",
          "Ubisoft",
          "Nintendo",
          "Sony Computer Entertainment",
          "Activision",
          "Activision",
          "Ubisoft",
          "Ubisoft",
          "Sony Computer Entertainment",
          "Electronic Arts",
          "Activision",
          "Ubisoft",
          "Electronic Arts",
          "Ubisoft",
          "Activision",
          "Ubisoft",
          "Activision",
          "Electronic Arts",
          "Sony Computer Entertainment",
          "Electronic Arts",
          "Ubisoft",
          "Sony Computer Entertainment",
          "Ubisoft",
          "Activision",
          "Activision",
          "Sony Computer Entertainment",
          "Activision",
          "Sony Computer Entertainment",
          "Activision",
          "Activision",
          "Electronic Arts",
          "Electronic Arts",
          "Ubisoft",
          "Sony Computer Entertainment",
          "Activision",
          "Electronic Arts",
          "Ubisoft",
          "Activision",
          "Activision",
          "Ubisoft",
          "Electronic Arts",
          "Electronic Arts",
          "Ubisoft",
          "Ubisoft",
          "Activision",
          "Activision",
          "Ubisoft",
          "Sony Computer Entertainment",
          "Electronic Arts",
          "Ubisoft",
          "Activision",
          "Ubisoft",
          "Activision",
          "Sony Computer Entertainment",
          "Sony Computer Entertainment",
          "Nintendo",
          "Activision",
          "Ubisoft",
          "Ubisoft",
          "Ubisoft",
          "Ubisoft",
          "Electronic Arts",
          "Sony Computer Entertainment",
          "Ubisoft",
          "Activision",
          "Electronic Arts",
          "Activision",
          "Nintendo",
          "Electronic Arts",
          "Electronic Arts",
          "Ubisoft",
          "Electronic Arts",
          "Activision",
          "Activision",
          "Electronic Arts",
          "Electronic Arts",
          "Ubisoft",
          "Ubisoft",
          "Sony Computer Entertainment",
          "Sony Computer Entertainment",
          "Electronic Arts",
          "Sony Computer Entertainment",
          "Electronic Arts",
          "Ubisoft",
          "Electronic Arts",
          "Activision",
          "Sony Computer Entertainment",
          "Nintendo",
          "Ubisoft",
          "Electronic Arts",
          "Ubisoft",
          "Activision",
          "Electronic Arts",
          "Electronic Arts",
          "Ubisoft",
          "Sony Computer Entertainment",
          "Activision",
          "Ubisoft",
          "Electronic Arts",
          "Activision",
          "Nintendo",
          "Sony Computer Entertainment",
          "Electronic Arts",
          "Activision",
          "Nintendo",
          "Activision",
          "Ubisoft",
          "Nintendo",
          "Sony Computer Entertainment",
          "Nintendo",
          "Activision",
          "Electronic Arts",
          "Sony Computer Entertainment",
          "Activision",
          "Activision",
          "Activision",
          "Electronic Arts",
          "Nintendo",
          "Activision",
          "Electronic Arts",
          "Ubisoft",
          "Activision",
          "Sony Computer Entertainment",
          "Electronic Arts",
          "Ubisoft",
          "Ubisoft",
          "Electronic Arts",
          "Electronic Arts",
          "Electronic Arts",
          "Sony Computer Entertainment",
          "Activision",
          "Nintendo",
          "Sony Computer Entertainment",
          "Ubisoft",
          "Activision",
          "Sony Computer Entertainment",
          "Ubisoft",
          "Activision",
          "Sony Computer Entertainment",
          "Activision",
          "Activision",
          "Activision",
          "Activision",
          "Ubisoft",
          "Electronic Arts",
          "Nintendo",
          "Sony Computer Entertainment",
          "Activision",
          "Electronic Arts",
          "Activision",
          "Activision",
          "Electronic Arts",
          "Ubisoft",
          "Activision",
          "Nintendo",
          "Activision",
          "Sony Computer Entertainment",
          "Activision",
          "Activision",
          "Ubisoft",
          "Electronic Arts",
          "Electronic Arts",
          "Activision",
          "Electronic Arts",
          "Ubisoft",
          "Sony Computer Entertainment",
          "Electronic Arts",
          "Electronic Arts",
          "Electronic Arts",
          "Ubisoft",
          "Electronic Arts",
          "Electronic Arts",
          "Electronic Arts",
          "Ubisoft",
          "Sony Computer Entertainment",
          "Ubisoft",
          "Ubisoft",
          "Ubisoft",
          "Activision",
          "Sony Computer Entertainment",
          "Activision",
          "Sony Computer Entertainment",
          "Electronic Arts",
          "Electronic Arts",
          "Activision",
          "Activision",
          "Sony Computer Entertainment",
          "Activision",
          "Electronic Arts",
          "Nintendo",
          "Sony Computer Entertainment",
          "Sony Computer Entertainment",
          "Activision",
          "Sony Computer Entertainment",
          "Electronic Arts",
          "Activision",
          "Sony Computer Entertainment",
          "Sony Computer Entertainment",
          "Activision",
          "Electronic Arts",
          "Activision",
          "Electronic Arts",
          "Nintendo",
          "Ubisoft",
          "Electronic Arts",
          "Ubisoft",
          "Electronic Arts",
          "Activision",
          "Electronic Arts",
          "Activision",
          "Electronic Arts",
          "Sony Computer Entertainment",
          "Ubisoft",
          "Activision",
          "Electronic Arts",
          "Nintendo",
          "Ubisoft",
          "Ubisoft",
          "Sony Computer Entertainment",
          "Nintendo",
          "Activision",
          "Ubisoft",
          "Nintendo",
          "Activision",
          "Sony Computer Entertainment",
          "Activision",
          "Nintendo",
          "Nintendo",
          "Electronic Arts",
          "Electronic Arts",
          "Activision",
          "Sony Computer Entertainment",
          "Sony Computer Entertainment",
          "Activision",
          "Sony Computer Entertainment",
          "Activision",
          "Electronic Arts",
          "Electronic Arts",
          "Nintendo",
          "Activision",
          "Activision",
          "Ubisoft",
          "Sony Computer Entertainment",
          "Ubisoft",
          "Activision",
          "Electronic Arts",
          "Ubisoft",
          "Nintendo",
          "Activision",
          "Ubisoft",
          "Activision",
          "Activision",
          "Activision",
          "Activision",
          "Ubisoft",
          "Ubisoft",
          "Activision",
          "Nintendo",
          "Ubisoft",
          "Ubisoft",
          "Ubisoft",
          "Ubisoft",
          "Ubisoft",
          "Sony Computer Entertainment",
          "Electronic Arts",
          "Ubisoft",
          "Sony Computer Entertainment",
          "Electronic Arts",
          "Sony Computer Entertainment",
          "Ubisoft",
          "Ubisoft",
          "Nintendo",
          "Electronic Arts",
          "Electronic Arts",
          "Ubisoft",
          "Electronic Arts",
          "Sony Computer Entertainment",
          "Electronic Arts",
          "Activision",
          "Activision",
          "Nintendo",
          "Ubisoft",
          "Ubisoft",
          "Electronic Arts",
          "Activision",
          "Activision",
          "Ubisoft",
          "Activision",
          "Electronic Arts",
          "Ubisoft",
          "Activision",
          "Sony Computer Entertainment",
          "Sony Computer Entertainment",
          "Electronic Arts",
          "Activision",
          "Ubisoft",
          "Activision",
          "Electronic Arts",
          "Electronic Arts",
          "Electronic Arts",
          "Electronic Arts",
          "Sony Computer Entertainment",
          "Activision",
          "Ubisoft",
          "Sony Computer Entertainment",
          "Activision",
          "Ubisoft",
          "Activision",
          "Activision",
          "Ubisoft",
          "Sony Computer Entertainment",
          "Sony Computer Entertainment",
          "Electronic Arts",
          "Electronic Arts",
          "Electronic Arts",
          "Sony Computer Entertainment",
          "Activision",
          "Sony Computer Entertainment",
          "Electronic Arts",
          "Activision",
          "Sony Computer Entertainment",
          "Sony Computer Entertainment",
          "Activision",
          "Electronic Arts",
          "Electronic Arts",
          "Ubisoft",
          "Activision",
          "Nintendo",
          "Activision",
          "Activision",
          "Activision",
          "Activision",
          "Ubisoft",
          "Ubisoft",
          "Nintendo",
          "Sony Computer Entertainment",
          "Electronic Arts",
          "Ubisoft",
          "Ubisoft",
          "Electronic Arts",
          "Activision",
          "Ubisoft",
          "Electronic Arts",
          "Ubisoft",
          "Electronic Arts",
          "Sony Computer Entertainment",
          "Sony Computer Entertainment",
          "Ubisoft",
          "Activision",
          "Activision",
          "Sony Computer Entertainment",
          "Electronic Arts",
          "Electronic Arts",
          "Sony Computer Entertainment",
          "Activision",
          "Ubisoft",
          "Activision",
          "Ubisoft",
          "Sony Computer Entertainment",
          "Nintendo",
          "Electronic Arts",
          "Electronic Arts",
          "Electronic Arts",
          "Ubisoft",
          "Activision",
          "Nintendo",
          "Activision",
          "Ubisoft",
          "Electronic Arts",
          "Electronic Arts",
          "Ubisoft",
          "Electronic Arts",
          "Ubisoft",
          "Activision",
          "Sony Computer Entertainment",
          "Sony Computer Entertainment",
          "Sony Computer Entertainment",
          "Electronic Arts",
          "Ubisoft",
          "Nintendo",
          "Electronic Arts",
          "Sony Computer Entertainment",
          "Electronic Arts",
          "Sony Computer Entertainment",
          "Ubisoft",
          "Electronic Arts",
          "Sony Computer Entertainment",
          "Activision",
          "Ubisoft",
          "Ubisoft",
          "Sony Computer Entertainment",
          "Sony Computer Entertainment",
          "Sony Computer Entertainment",
          "Electronic Arts",
          "Sony Computer Entertainment",
          "Sony Computer Entertainment",
          "Ubisoft",
          "Activision",
          "Activision",
          "Activision",
          "Electronic Arts",
          "Electronic Arts",
          "Activision",
          "Ubisoft",
          "Sony Computer Entertainment",
          "Activision",
          "Electronic Arts",
          "Sony Computer Entertainment",
          "Electronic Arts",
          "Ubisoft",
          "Sony Computer Entertainment",
          "Activision",
          "Sony Computer Entertainment",
          "Electronic Arts",
          "Ubisoft",
          "Ubisoft",
          "Electronic Arts",
          "Electronic Arts",
          "Ubisoft",
          "Ubisoft",
          "Nintendo",
          "Electronic Arts",
          "Electronic Arts",
          "Sony Computer Entertainment",
          "Sony Computer Entertainment",
          "Ubisoft",
          "Sony Computer Entertainment",
          "Nintendo",
          "Ubisoft",
          "Electronic Arts",
          "Activision",
          "Ubisoft",
          "Electronic Arts",
          "Ubisoft",
          "Activision",
          "Ubisoft",
          "Activision",
          "Activision",
          "Ubisoft",
          "Ubisoft",
          "Ubisoft",
          "Electronic Arts",
          "Ubisoft",
          "Activision",
          "Sony Computer Entertainment",
          "Activision",
          "Activision",
          "Ubisoft",
          "Activision",
          "Sony Computer Entertainment",
          "Activision",
          "Activision",
          "Sony Computer Entertainment",
          "Activision",
          "Ubisoft",
          "Ubisoft",
          "Activision",
          "Ubisoft",
          "Activision",
          "Electronic Arts",
          "Ubisoft",
          "Sony Computer Entertainment",
          "Activision",
          "Ubisoft",
          "Electronic Arts",
          "Sony Computer Entertainment",
          "Ubisoft",
          "Nintendo",
          "Ubisoft",
          "Ubisoft",
          "Activision",
          "Ubisoft",
          "Nintendo",
          "Ubisoft",
          "Activision",
          "Electronic Arts",
          "Activision",
          "Activision",
          "Sony Computer Entertainment",
          "Activision",
          "Electronic Arts",
          "Sony Computer Entertainment",
          "Sony Computer Entertainment",
          "Ubisoft",
          "Ubisoft",
          "Activision",
          "Ubisoft",
          "Ubisoft",
          "Sony Computer Entertainment",
          "Sony Computer Entertainment",
          "Ubisoft",
          "Electronic Arts",
          "Electronic Arts",
          "Activision",
          "Electronic Arts",
          "Ubisoft",
          "Nintendo",
          "Ubisoft",
          "Electronic Arts",
          "Sony Computer Entertainment",
          "Ubisoft",
          "Ubisoft",
          "Ubisoft",
          "Activision",
          "Activision",
          "Electronic Arts",
          "Activision",
          "Electronic Arts",
          "Activision",
          "Ubisoft",
          "Activision",
          "Ubisoft",
          "Ubisoft",
          "Ubisoft",
          "Electronic Arts",
          "Activision",
          "Sony Computer Entertainment",
          "Activision",
          "Electronic Arts",
          "Ubisoft",
          "Activision",
          "Sony Computer Entertainment",
          "Electronic Arts",
          "Ubisoft",
          "Electronic Arts",
          "Electronic Arts",
          "Ubisoft",
          "Ubisoft",
          "Activision",
          "Activision",
          "Activision",
          "Nintendo",
          "Electronic Arts",
          "Electronic Arts",
          "Sony Computer Entertainment",
          "Activision",
          "Ubisoft",
          "Sony Computer Entertainment",
          "Electronic Arts",
          "Sony Computer Entertainment",
          "Electronic Arts",
          "Electronic Arts",
          "Ubisoft",
          "Electronic Arts",
          "Ubisoft",
          "Activision",
          "Ubisoft",
          "Ubisoft",
          "Sony Computer Entertainment",
          "Electronic Arts",
          "Ubisoft",
          "Ubisoft",
          "Activision",
          "Ubisoft",
          "Sony Computer Entertainment",
          "Ubisoft",
          "Ubisoft",
          "Activision",
          "Electronic Arts",
          "Ubisoft",
          "Activision",
          "Activision",
          "Sony Computer Entertainment",
          "Ubisoft",
          "Ubisoft",
          "Ubisoft",
          "Activision",
          "Activision",
          "Electronic Arts",
          "Activision",
          "Activision",
          "Electronic Arts",
          "Electronic Arts",
          "Ubisoft",
          "Electronic Arts",
          "Activision",
          "Ubisoft",
          "Sony Computer Entertainment",
          "Electronic Arts",
          "Ubisoft",
          "Activision",
          "Ubisoft",
          "Sony Computer Entertainment",
          "Nintendo",
          "Ubisoft",
          "Electronic Arts",
          "Electronic Arts",
          "Electronic Arts",
          "Ubisoft",
          "Activision",
          "Electronic Arts",
          "Activision",
          "Electronic Arts",
          "Activision",
          "Electronic Arts",
          "Sony Computer Entertainment",
          "Nintendo",
          "Electronic Arts",
          "Ubisoft",
          "Electronic Arts",
          "Electronic Arts",
          "Ubisoft",
          "Ubisoft",
          "Nintendo",
          "Electronic Arts",
          "Activision",
          "Sony Computer Entertainment",
          "Ubisoft",
          "Activision",
          "Ubisoft",
          "Electronic Arts",
          "Ubisoft",
          "Nintendo",
          "Ubisoft",
          "Activision",
          "Ubisoft",
          "Sony Computer Entertainment",
          "Ubisoft",
          "Ubisoft",
          "Ubisoft",
          "Nintendo",
          "Ubisoft",
          "Activision",
          "Activision",
          "Activision",
          "Ubisoft",
          "Ubisoft",
          "Ubisoft",
          "Sony Computer Entertainment",
          "Activision",
          "Nintendo",
          "Nintendo",
          "Sony Computer Entertainment",
          "Electronic Arts",
          "Ubisoft",
          "Activision",
          "Activision",
          "Ubisoft",
          "Nintendo",
          "Activision",
          "Ubisoft",
          "Activision",
          "Electronic Arts",
          "Activision",
          "Electronic Arts",
          "Electronic Arts",
          "Ubisoft",
          "Electronic Arts",
          "Ubisoft",
          "Nintendo",
          "Activision",
          "Nintendo",
          "Sony Computer Entertainment",
          "Activision",
          "Activision",
          "Activision",
          "Sony Computer Entertainment",
          "Nintendo",
          "Activision",
          "Activision",
          "Ubisoft",
          "Nintendo",
          "Electronic Arts",
          "Electronic Arts",
          "Activision",
          "Ubisoft",
          "Sony Computer Entertainment",
          "Electronic Arts",
          "Activision",
          "Sony Computer Entertainment",
          "Activision",
          "Activision",
          "Sony Computer Entertainment",
          "Activision",
          "Electronic Arts",
          "Ubisoft",
          "Sony Computer Entertainment",
          "Ubisoft",
          "Sony Computer Entertainment",
          "Activision",
          "Activision",
          "Ubisoft",
          "Ubisoft",
          "Electronic Arts",
          "Ubisoft",
          "Nintendo",
          "Ubisoft",
          "Ubisoft",
          "Nintendo",
          "Ubisoft",
          "Sony Computer Entertainment",
          "Sony Computer Entertainment",
          "Sony Computer Entertainment",
          "Sony Computer Entertainment",
          "Activision",
          "Activision",
          "Sony Computer Entertainment",
          "Ubisoft",
          "Sony Computer Entertainment",
          "Electronic Arts",
          "Sony Computer Entertainment",
          "Ubisoft",
          "Electronic Arts",
          "Activision",
          "Activision",
          "Activision",
          "Ubisoft",
          "Electronic Arts",
          "Activision",
          "Activision",
          "Activision",
          "Activision",
          "Nintendo",
          "Activision",
          "Activision",
          "Activision",
          "Ubisoft",
          "Activision",
          "Activision",
          "Ubisoft",
          "Activision",
          "Electronic Arts",
          "Activision",
          "Electronic Arts",
          "Activision",
          "Activision",
          "Activision",
          "Ubisoft",
          "Activision",
          "Nintendo",
          "Ubisoft",
          "Activision",
          "Electronic Arts",
          "Ubisoft",
          "Ubisoft",
          "Electronic Arts",
          "Sony Computer Entertainment",
          "Ubisoft",
          "Activision",
          "Sony Computer Entertainment",
          "Ubisoft",
          "Activision",
          "Ubisoft",
          "Ubisoft",
          "Nintendo",
          "Activision",
          "Electronic Arts",
          "Ubisoft",
          "Activision",
          "Electronic Arts",
          "Nintendo",
          "Activision",
          "Ubisoft",
          "Activision",
          "Activision",
          "Sony Computer Entertainment",
          "Activision",
          "Nintendo",
          "Electronic Arts",
          "Electronic Arts",
          "Activision",
          "Sony Computer Entertainment",
          "Activision",
          "Nintendo",
          "Ubisoft",
          "Ubisoft",
          "Ubisoft",
          "Activision",
          "Electronic Arts",
          "Electronic Arts",
          "Ubisoft",
          "Sony Computer Entertainment",
          "Activision",
          "Activision",
          "Ubisoft",
          "Sony Computer Entertainment",
          "Electronic Arts",
          "Electronic Arts",
          "Electronic Arts",
          "Sony Computer Entertainment",
          "Nintendo",
          "Activision",
          "Activision",
          "Sony Computer Entertainment",
          "Activision",
          "Ubisoft",
          "Electronic Arts",
          "Electronic Arts",
          "Sony Computer Entertainment",
          "Activision",
          "Sony Computer Entertainment",
          "Nintendo",
          "Electronic Arts",
          "Ubisoft",
          "Ubisoft",
          "Electronic Arts",
          "Ubisoft",
          "Electronic Arts",
          "Electronic Arts",
          "Ubisoft",
          "Activision",
          "Sony Computer Entertainment",
          "Sony Computer Entertainment",
          "Activision",
          "Sony Computer Entertainment",
          "Electronic Arts",
          "Ubisoft",
          "Electronic Arts",
          "Nintendo",
          "Nintendo",
          "Electronic Arts",
          "Sony Computer Entertainment",
          "Electronic Arts",
          "Sony Computer Entertainment",
          "Electronic Arts",
          "Ubisoft",
          "Nintendo",
          "Activision",
          "Sony Computer Entertainment",
          "Ubisoft",
          "Sony Computer Entertainment",
          "Electronic Arts",
          "Electronic Arts",
          "Sony Computer Entertainment",
          "Ubisoft",
          "Electronic Arts",
          "Activision",
          "Activision",
          "Electronic Arts",
          "Nintendo",
          "Ubisoft",
          "Activision",
          "Activision",
          "Activision",
          "Ubisoft",
          "Ubisoft",
          "Activision",
          "Activision",
          "Ubisoft",
          "Sony Computer Entertainment",
          "Nintendo",
          "Ubisoft",
          "Ubisoft",
          "Ubisoft",
          "Electronic Arts",
          "Ubisoft",
          "Ubisoft",
          "Electronic Arts",
          "Activision",
          "Sony Computer Entertainment",
          "Ubisoft",
          "Nintendo",
          "Electronic Arts",
          "Sony Computer Entertainment",
          "Sony Computer Entertainment",
          "Nintendo",
          "Activision",
          "Ubisoft",
          "Electronic Arts",
          "Electronic Arts",
          "Nintendo",
          "Electronic Arts",
          "Ubisoft",
          "Activision",
          "Activision",
          "Ubisoft",
          "Electronic Arts",
          "Activision",
          "Ubisoft",
          "Ubisoft",
          "Ubisoft",
          "Electronic Arts",
          "Electronic Arts",
          "Ubisoft",
          "Sony Computer Entertainment",
          "Electronic Arts",
          "Ubisoft",
          "Sony Computer Entertainment",
          "Activision",
          "Ubisoft",
          "Electronic Arts",
          "Electronic Arts",
          "Electronic Arts",
          "Ubisoft",
          "Activision",
          "Ubisoft",
          "Ubisoft",
          "Ubisoft",
          "Ubisoft",
          "Electronic Arts",
          "Activision",
          "Ubisoft",
          "Activision",
          "Sony Computer Entertainment",
          "Ubisoft",
          "Electronic Arts",
          "Activision",
          "Electronic Arts",
          "Electronic Arts",
          "Activision",
          "Nintendo",
          "Sony Computer Entertainment",
          "Ubisoft",
          "Nintendo",
          "Ubisoft",
          "Sony Computer Entertainment",
          "Activision",
          "Sony Computer Entertainment",
          "Sony Computer Entertainment",
          "Activision",
          "Ubisoft",
          "Ubisoft",
          "Electronic Arts",
          "Activision",
          "Electronic Arts",
          "Ubisoft",
          "Activision",
          "Ubisoft",
          "Sony Computer Entertainment",
          "Sony Computer Entertainment",
          "Sony Computer Entertainment",
          "Ubisoft",
          "Electronic Arts",
          "Ubisoft",
          "Sony Computer Entertainment",
          "Ubisoft",
          "Electronic Arts",
          "Ubisoft",
          "Ubisoft",
          "Electronic Arts",
          "Electronic Arts",
          "Sony Computer Entertainment",
          "Activision",
          "Electronic Arts",
          "Electronic Arts",
          "Electronic Arts",
          "Ubisoft",
          "Ubisoft",
          "Sony Computer Entertainment",
          "Nintendo",
          "Sony Computer Entertainment",
          "Electronic Arts",
          "Ubisoft",
          "Ubisoft",
          "Ubisoft",
          "Nintendo",
          "Activision",
          "Ubisoft",
          "Electronic Arts",
          "Activision",
          "Sony Computer Entertainment",
          "Activision",
          "Nintendo",
          "Ubisoft",
          "Activision",
          "Sony Computer Entertainment",
          "Ubisoft",
          "Activision",
          "Electronic Arts",
          "Activision",
          "Electronic Arts",
          "Ubisoft",
          "Ubisoft",
          "Ubisoft",
          "Sony Computer Entertainment",
          "Activision",
          "Ubisoft",
          "Sony Computer Entertainment",
          "Activision",
          "Ubisoft",
          "Ubisoft",
          "Ubisoft",
          "Electronic Arts",
          "Ubisoft",
          "Nintendo",
          "Ubisoft",
          "Nintendo",
          "Activision",
          "Ubisoft",
          "Nintendo",
          "Nintendo",
          "Nintendo",
          "Sony Computer Entertainment",
          "Ubisoft",
          "Electronic Arts",
          "Electronic Arts",
          "Sony Computer Entertainment",
          "Electronic Arts",
          "Electronic Arts",
          "Ubisoft",
          "Activision",
          "Sony Computer Entertainment",
          "Ubisoft",
          "Ubisoft",
          "Electronic Arts",
          "Activision",
          "Ubisoft",
          "Activision",
          "Activision",
          "Electronic Arts",
          "Nintendo",
          "Electronic Arts",
          "Ubisoft",
          "Sony Computer Entertainment",
          "Sony Computer Entertainment",
          "Sony Computer Entertainment",
          "Electronic Arts",
          "Activision",
          "Ubisoft",
          "Nintendo",
          "Activision",
          "Electronic Arts",
          "Activision",
          "Activision",
          "Electronic Arts",
          "Activision",
          "Ubisoft",
          "Nintendo",
          "Ubisoft",
          "Ubisoft",
          "Activision",
          "Activision",
          "Sony Computer Entertainment",
          "Activision",
          "Electronic Arts",
          "Ubisoft",
          "Sony Computer Entertainment",
          "Activision",
          "Sony Computer Entertainment",
          "Sony Computer Entertainment",
          "Electronic Arts",
          "Ubisoft",
          "Electronic Arts",
          "Ubisoft",
          "Electronic Arts",
          "Electronic Arts",
          "Electronic Arts",
          "Activision",
          "Sony Computer Entertainment",
          "Ubisoft",
          "Nintendo",
          "Ubisoft",
          "Electronic Arts",
          "Ubisoft",
          "Electronic Arts",
          "Nintendo",
          "Sony Computer Entertainment",
          "Sony Computer Entertainment",
          "Ubisoft",
          "Ubisoft",
          "Nintendo",
          "Activision",
          "Sony Computer Entertainment",
          "Nintendo",
          "Ubisoft",
          "Activision",
          "Activision",
          "Activision",
          "Activision",
          "Activision",
          "Nintendo",
          "Activision",
          "Ubisoft",
          "Ubisoft",
          "Ubisoft",
          "Activision",
          "Ubisoft",
          "Ubisoft",
          "Ubisoft",
          "Activision",
          "Sony Computer Entertainment",
          "Ubisoft",
          "Nintendo",
          "Ubisoft",
          "Electronic Arts",
          "Ubisoft",
          "Ubisoft",
          "Activision",
          "Activision",
          "Electronic Arts",
          "Electronic Arts",
          "Activision",
          "Electronic Arts",
          "Ubisoft",
          "Ubisoft",
          "Sony Computer Entertainment",
          "Electronic Arts",
          "Activision",
          "Nintendo",
          "Ubisoft",
          "Activision",
          "Activision",
          "Sony Computer Entertainment",
          "Electronic Arts",
          "Electronic Arts",
          "Ubisoft",
          "Ubisoft",
          "Electronic Arts",
          "Ubisoft",
          "Activision",
          "Electronic Arts",
          "Sony Computer Entertainment",
          "Electronic Arts",
          "Electronic Arts",
          "Ubisoft",
          "Sony Computer Entertainment",
          "Electronic Arts",
          "Sony Computer Entertainment",
          "Ubisoft",
          "Activision",
          "Electronic Arts",
          "Electronic Arts",
          "Electronic Arts",
          "Sony Computer Entertainment",
          "Activision",
          "Sony Computer Entertainment",
          "Nintendo",
          "Ubisoft",
          "Electronic Arts",
          "Ubisoft",
          "Ubisoft",
          "Sony Computer Entertainment",
          "Activision",
          "Activision",
          "Activision",
          "Sony Computer Entertainment",
          "Ubisoft",
          "Electronic Arts",
          "Electronic Arts",
          "Ubisoft",
          "Sony Computer Entertainment",
          "Electronic Arts",
          "Sony Computer Entertainment",
          "Sony Computer Entertainment",
          "Ubisoft",
          "Electronic Arts",
          "Ubisoft",
          "Ubisoft",
          "Activision",
          "Ubisoft",
          "Electronic Arts",
          "Activision",
          "Ubisoft",
          "Ubisoft",
          "Activision",
          "Electronic Arts",
          "Electronic Arts",
          "Ubisoft",
          "Ubisoft",
          "Nintendo",
          "Ubisoft",
          "Ubisoft",
          "Activision",
          "Sony Computer Entertainment",
          "Activision",
          "Sony Computer Entertainment",
          "Nintendo",
          "Ubisoft",
          "Electronic Arts",
          "Electronic Arts",
          "Ubisoft",
          "Activision",
          "Ubisoft",
          "Activision",
          "Nintendo",
          "Ubisoft",
          "Sony Computer Entertainment",
          "Electronic Arts",
          "Electronic Arts",
          "Ubisoft",
          "Activision",
          "Electronic Arts",
          "Ubisoft",
          "Activision",
          "Nintendo",
          "Activision",
          "Ubisoft",
          "Electronic Arts",
          "Activision",
          "Sony Computer Entertainment",
          "Electronic Arts",
          "Activision",
          "Ubisoft",
          "Activision",
          "Electronic Arts",
          "Electronic Arts",
          "Electronic Arts",
          "Electronic Arts",
          "Ubisoft",
          "Ubisoft",
          "Nintendo",
          "Activision",
          "Sony Computer Entertainment",
          "Electronic Arts",
          "Ubisoft",
          "Electronic Arts",
          "Activision",
          "Ubisoft",
          "Electronic Arts",
          "Ubisoft",
          "Activision",
          "Sony Computer Entertainment",
          "Ubisoft",
          "Sony Computer Entertainment",
          "Ubisoft",
          "Activision",
          "Sony Computer Entertainment",
          "Activision",
          "Sony Computer Entertainment",
          "Ubisoft",
          "Nintendo",
          "Ubisoft",
          "Ubisoft",
          "Electronic Arts",
          "Sony Computer Entertainment",
          "Activision",
          "Activision",
          "Ubisoft",
          "Activision",
          "Activision",
          "Ubisoft",
          "Ubisoft",
          "Nintendo",
          "Ubisoft",
          "Sony Computer Entertainment",
          "Ubisoft",
          "Electronic Arts",
          "Nintendo",
          "Sony Computer Entertainment",
          "Ubisoft",
          "Ubisoft",
          "Electronic Arts",
          "Ubisoft",
          "Activision",
          "Electronic Arts",
          "Electronic Arts",
          "Electronic Arts",
          "Nintendo",
          "Ubisoft",
          "Electronic Arts",
          "Electronic Arts",
          "Ubisoft",
          "Nintendo",
          "Ubisoft",
          "Ubisoft",
          "Sony Computer Entertainment",
          "Ubisoft",
          "Electronic Arts",
          "Activision",
          "Ubisoft",
          "Ubisoft",
          "Sony Computer Entertainment",
          "Sony Computer Entertainment",
          "Ubisoft",
          "Ubisoft",
          "Ubisoft",
          "Ubisoft",
          "Ubisoft",
          "Nintendo",
          "Sony Computer Entertainment",
          "Ubisoft",
          "Electronic Arts",
          "Electronic Arts",
          "Ubisoft",
          "Electronic Arts",
          "Activision",
          "Electronic Arts",
          "Electronic Arts",
          "Electronic Arts",
          "Electronic Arts",
          "Nintendo",
          "Ubisoft",
          "Sony Computer Entertainment",
          "Ubisoft",
          "Electronic Arts",
          "Electronic Arts",
          "Ubisoft",
          "Activision",
          "Activision",
          "Sony Computer Entertainment",
          "Ubisoft",
          "Nintendo",
          "Electronic Arts",
          "Ubisoft",
          "Activision",
          "Ubisoft",
          "Electronic Arts",
          "Electronic Arts",
          "Activision",
          "Sony Computer Entertainment",
          "Ubisoft",
          "Sony Computer Entertainment",
          "Ubisoft",
          "Ubisoft",
          "Ubisoft",
          "Sony Computer Entertainment",
          "Ubisoft",
          "Ubisoft",
          "Sony Computer Entertainment",
          "Ubisoft",
          "Activision",
          "Ubisoft",
          "Activision",
          "Activision",
          "Activision",
          "Activision",
          "Activision",
          "Activision",
          "Ubisoft",
          "Sony Computer Entertainment",
          "Sony Computer Entertainment",
          "Ubisoft",
          "Ubisoft",
          "Activision",
          "Nintendo",
          "Activision",
          "Ubisoft",
          "Ubisoft",
          "Electronic Arts",
          "Ubisoft",
          "Ubisoft",
          "Electronic Arts",
          "Nintendo",
          "Ubisoft",
          "Nintendo",
          "Sony Computer Entertainment",
          "Activision",
          "Sony Computer Entertainment",
          "Sony Computer Entertainment",
          "Electronic Arts",
          "Ubisoft",
          "Nintendo",
          "Ubisoft",
          "Ubisoft",
          "Electronic Arts",
          "Ubisoft",
          "Activision",
          "Nintendo",
          "Ubisoft",
          "Sony Computer Entertainment",
          "Activision",
          "Ubisoft",
          "Activision",
          "Activision",
          "Ubisoft",
          "Ubisoft",
          "Electronic Arts",
          "Sony Computer Entertainment",
          "Activision",
          "Activision",
          "Ubisoft",
          "Sony Computer Entertainment",
          "Activision",
          "Sony Computer Entertainment",
          "Electronic Arts",
          "Electronic Arts",
          "Ubisoft",
          "Nintendo",
          "Activision",
          "Sony Computer Entertainment",
          "Nintendo",
          "Ubisoft",
          "Ubisoft",
          "Electronic Arts",
          "Sony Computer Entertainment",
          "Sony Computer Entertainment",
          "Ubisoft",
          "Activision",
          "Ubisoft",
          "Sony Computer Entertainment",
          "Electronic Arts",
          "Activision",
          "Sony Computer Entertainment",
          "Activision",
          "Electronic Arts",
          "Electronic Arts",
          "Sony Computer Entertainment",
          "Electronic Arts",
          "Electronic Arts",
          "Electronic Arts",
          "Activision",
          "Activision",
          "Ubisoft",
          "Electronic Arts",
          "Ubisoft",
          "Electronic Arts",
          "Activision",
          "Activision",
          "Sony Computer Entertainment",
          "Activision",
          "Electronic Arts",
          "Ubisoft",
          "Activision",
          "Nintendo",
          "Activision",
          "Activision",
          "Ubisoft",
          "Sony Computer Entertainment",
          "Electronic Arts",
          "Ubisoft",
          "Activision",
          "Activision",
          "Ubisoft",
          "Electronic Arts",
          "Ubisoft",
          "Ubisoft",
          "Sony Computer Entertainment",
          "Activision",
          "Electronic Arts",
          "Sony Computer Entertainment",
          "Ubisoft",
          "Ubisoft",
          "Activision",
          "Electronic Arts",
          "Electronic Arts",
          "Ubisoft",
          "Electronic Arts",
          "Electronic Arts",
          "Sony Computer Entertainment",
          "Activision",
          "Electronic Arts",
          "Activision",
          "Sony Computer Entertainment",
          "Electronic Arts",
          "Activision",
          "Ubisoft",
          "Electronic Arts",
          "Ubisoft",
          "Sony Computer Entertainment",
          "Sony Computer Entertainment",
          "Electronic Arts",
          "Electronic Arts",
          "Electronic Arts",
          "Activision",
          "Sony Computer Entertainment",
          "Electronic Arts",
          "Activision",
          "Ubisoft",
          "Ubisoft",
          "Ubisoft",
          "Ubisoft",
          "Electronic Arts",
          "Ubisoft",
          "Ubisoft",
          "Ubisoft",
          "Activision",
          "Electronic Arts",
          "Activision",
          "Ubisoft",
          "Activision",
          "Ubisoft",
          "Sony Computer Entertainment",
          "Ubisoft",
          "Activision",
          "Ubisoft",
          "Ubisoft",
          "Electronic Arts",
          "Ubisoft",
          "Ubisoft",
          "Electronic Arts",
          "Activision",
          "Electronic Arts",
          "Electronic Arts",
          "Nintendo",
          "Activision",
          "Electronic Arts",
          "Activision",
          "Electronic Arts",
          "Ubisoft",
          "Sony Computer Entertainment",
          "Sony Computer Entertainment",
          "Ubisoft",
          "Electronic Arts",
          "Activision",
          "Nintendo",
          "Ubisoft",
          "Ubisoft",
          "Electronic Arts",
          "Ubisoft",
          "Sony Computer Entertainment",
          "Ubisoft",
          "Activision",
          "Nintendo",
          "Electronic Arts",
          "Electronic Arts",
          "Electronic Arts",
          "Electronic Arts",
          "Sony Computer Entertainment",
          "Electronic Arts",
          "Sony Computer Entertainment",
          "Ubisoft",
          "Activision",
          "Activision",
          "Nintendo",
          "Ubisoft",
          "Ubisoft",
          "Ubisoft",
          "Ubisoft",
          "Sony Computer Entertainment",
          "Activision",
          "Electronic Arts",
          "Activision",
          "Nintendo",
          "Ubisoft",
          "Electronic Arts",
          "Ubisoft",
          "Ubisoft",
          "Sony Computer Entertainment",
          "Activision",
          "Activision",
          "Electronic Arts",
          "Activision",
          "Ubisoft",
          "Nintendo",
          "Ubisoft",
          "Ubisoft",
          "Nintendo",
          "Activision",
          "Ubisoft",
          "Ubisoft",
          "Activision",
          "Electronic Arts",
          "Nintendo",
          "Ubisoft",
          "Electronic Arts",
          "Sony Computer Entertainment",
          "Ubisoft",
          "Ubisoft",
          "Activision"
         ],
         "x0": " ",
         "xaxis": "x",
         "y": [
          82.74,
          40.24,
          35.82,
          33,
          31.37,
          30.26,
          30.01,
          29.02,
          28.62,
          28.31,
          24.76,
          23.42,
          23.1,
          22.72,
          22,
          20.61,
          20.22,
          18.36,
          18.14,
          17.28,
          15.85,
          15.32,
          15.3,
          14.98,
          14.76,
          14.64,
          14.64,
          14.35,
          14.24,
          14.03,
          13.73,
          13.51,
          13.46,
          13.04,
          12.73,
          12.27,
          12.21,
          11.9,
          11.89,
          11.66,
          11.52,
          11.33,
          11.18,
          10.95,
          10.79,
          10.77,
          10.69,
          10.55,
          10.49,
          10.42,
          10.26,
          10.21,
          9.87,
          9.82,
          9.72,
          9.59,
          9.52,
          9.49,
          9.32,
          9.3,
          9.09,
          9.02,
          8.76,
          8.49,
          8.49,
          8.42,
          8.33,
          8.24,
          8.11,
          8.09,
          8.05,
          7.84,
          7.69,
          7.67,
          7.6,
          7.6,
          7.58,
          7.46,
          7.45,
          7.37,
          7.34,
          7.31,
          7.3,
          7.27,
          7.23,
          7.2,
          7.16,
          7.13,
          7.07,
          6.96,
          6.95,
          6.91,
          6.9,
          6.9,
          6.83,
          6.83,
          6.82,
          6.73,
          6.72,
          6.69,
          6.67,
          6.59,
          6.59,
          6.51,
          6.5,
          6.41,
          6.4,
          6.39,
          6.31,
          6.28,
          5.92,
          5.84,
          5.74,
          5.65,
          5.58,
          5.57,
          5.55,
          5.55,
          5.49,
          5.47,
          5.46,
          5.45,
          5.43,
          5.42,
          5.34,
          5.31,
          5.3,
          5.29,
          5.27,
          5.27,
          5.26,
          5.2,
          5.2,
          5.19,
          5.19,
          5.18,
          5.17,
          5.15,
          5.15,
          5.13,
          5.13,
          5.13,
          5.08,
          5.07,
          5.02,
          5.02,
          5,
          5,
          4.98,
          4.96,
          4.94,
          4.91,
          4.88,
          4.85,
          4.84,
          4.83,
          4.83,
          4.82,
          4.79,
          4.77,
          4.68,
          4.68,
          4.67,
          4.62,
          4.61,
          4.6,
          4.58,
          4.57,
          4.55,
          4.53,
          4.53,
          4.5,
          4.49,
          4.48,
          4.47,
          4.45,
          4.45,
          4.44,
          4.42,
          4.41,
          4.38,
          4.37,
          4.35,
          4.31,
          4.31,
          4.25,
          4.24,
          4.22,
          4.21,
          4.21,
          4.21,
          4.2,
          4.2,
          4.2,
          4.19,
          4.19,
          4.16,
          4.14,
          4.14,
          4.12,
          4.11,
          4.1,
          4.09,
          4.07,
          4.05,
          4.03,
          4.03,
          4.01,
          4,
          3.99,
          3.92,
          3.92,
          3.91,
          3.9,
          3.89,
          3.89,
          3.88,
          3.87,
          3.84,
          3.84,
          3.83,
          3.83,
          3.82,
          3.81,
          3.78,
          3.77,
          3.76,
          3.76,
          3.76,
          3.73,
          3.71,
          3.7,
          3.7,
          3.69,
          3.69,
          3.67,
          3.67,
          3.65,
          3.65,
          3.65,
          3.64,
          3.64,
          3.63,
          3.63,
          3.63,
          3.61,
          3.61,
          3.6,
          3.54,
          3.53,
          3.53,
          3.53,
          3.52,
          3.52,
          3.51,
          3.5,
          3.5,
          3.5,
          3.49,
          3.48,
          3.48,
          3.46,
          3.45,
          3.43,
          3.42,
          3.41,
          3.41,
          3.4,
          3.39,
          3.38,
          3.36,
          3.36,
          3.34,
          3.33,
          3.33,
          3.33,
          3.32,
          3.28,
          3.28,
          3.28,
          3.27,
          3.27,
          3.27,
          3.24,
          3.23,
          3.22,
          3.22,
          3.21,
          3.2,
          3.2,
          3.19,
          3.18,
          3.17,
          3.15,
          3.14,
          3.13,
          3.12,
          3.12,
          3.12,
          3.12,
          3.12,
          3.11,
          3.11,
          3.08,
          3.07,
          3.07,
          3.07,
          3.07,
          3.05,
          3.04,
          3.03,
          3.02,
          3.02,
          3.02,
          2.99,
          2.99,
          2.98,
          2.97,
          2.97,
          2.97,
          2.96,
          2.94,
          2.94,
          2.94,
          2.92,
          2.91,
          2.9,
          2.9,
          2.89,
          2.89,
          2.89,
          2.88,
          2.88,
          2.86,
          2.86,
          2.86,
          2.85,
          2.85,
          2.85,
          2.85,
          2.84,
          2.83,
          2.83,
          2.82,
          2.81,
          2.81,
          2.8,
          2.79,
          2.79,
          2.79,
          2.79,
          2.79,
          2.79,
          2.79,
          2.78,
          2.78,
          2.78,
          2.77,
          2.75,
          2.74,
          2.73,
          2.73,
          2.71,
          2.7,
          2.7,
          2.69,
          2.69,
          2.69,
          2.68,
          2.68,
          2.68,
          2.67,
          2.67,
          2.67,
          2.65,
          2.65,
          2.65,
          2.65,
          2.65,
          2.63,
          2.63,
          2.62,
          2.62,
          2.62,
          2.61,
          2.61,
          2.6,
          2.59,
          2.59,
          2.59,
          2.58,
          2.58,
          2.57,
          2.57,
          2.57,
          2.57,
          2.56,
          2.54,
          2.54,
          2.52,
          2.5,
          2.5,
          2.48,
          2.47,
          2.44,
          2.44,
          2.43,
          2.42,
          2.42,
          2.41,
          2.41,
          2.4,
          2.4,
          2.4,
          2.39,
          2.38,
          2.38,
          2.37,
          2.37,
          2.37,
          2.36,
          2.35,
          2.34,
          2.34,
          2.33,
          2.32,
          2.32,
          2.32,
          2.31,
          2.31,
          2.31,
          2.3,
          2.29,
          2.28,
          2.28,
          2.28,
          2.28,
          2.27,
          2.27,
          2.26,
          2.26,
          2.25,
          2.25,
          2.25,
          2.23,
          2.22,
          2.22,
          2.22,
          2.22,
          2.21,
          2.2,
          2.2,
          2.2,
          2.19,
          2.19,
          2.19,
          2.18,
          2.18,
          2.17,
          2.17,
          2.17,
          2.16,
          2.16,
          2.15,
          2.15,
          2.15,
          2.15,
          2.14,
          2.14,
          2.14,
          2.14,
          2.13,
          2.13,
          2.12,
          2.12,
          2.11,
          2.11,
          2.11,
          2.1,
          2.09,
          2.09,
          2.08,
          2.08,
          2.08,
          2.08,
          2.08,
          2.08,
          2.06,
          2.06,
          2.06,
          2.06,
          2.06,
          2.05,
          2.05,
          2.05,
          2.04,
          2.04,
          2.04,
          2.04,
          2.04,
          2.03,
          2.03,
          2.03,
          2.03,
          2.02,
          2.02,
          2.02,
          2.01,
          2,
          2,
          2,
          1.99,
          1.99,
          1.99,
          1.98,
          1.98,
          1.98,
          1.97,
          1.97,
          1.97,
          1.96,
          1.96,
          1.96,
          1.96,
          1.96,
          1.95,
          1.95,
          1.94,
          1.94,
          1.94,
          1.94,
          1.94,
          1.93,
          1.93,
          1.93,
          1.93,
          1.93,
          1.92,
          1.92,
          1.92,
          1.92,
          1.92,
          1.91,
          1.91,
          1.89,
          1.89,
          1.89,
          1.88,
          1.88,
          1.88,
          1.87,
          1.87,
          1.87,
          1.86,
          1.86,
          1.86,
          1.86,
          1.86,
          1.86,
          1.86,
          1.86,
          1.85,
          1.85,
          1.85,
          1.85,
          1.85,
          1.84,
          1.83,
          1.83,
          1.83,
          1.83,
          1.83,
          1.82,
          1.82,
          1.82,
          1.81,
          1.81,
          1.8,
          1.8,
          1.79,
          1.79,
          1.78,
          1.78,
          1.77,
          1.77,
          1.77,
          1.77,
          1.76,
          1.76,
          1.76,
          1.76,
          1.76,
          1.76,
          1.76,
          1.76,
          1.76,
          1.75,
          1.75,
          1.75,
          1.75,
          1.74,
          1.74,
          1.74,
          1.74,
          1.73,
          1.73,
          1.73,
          1.73,
          1.72,
          1.72,
          1.72,
          1.72,
          1.72,
          1.72,
          1.71,
          1.71,
          1.71,
          1.71,
          1.7,
          1.7,
          1.7,
          1.7,
          1.7,
          1.69,
          1.69,
          1.69,
          1.69,
          1.69,
          1.69,
          1.69,
          1.68,
          1.68,
          1.68,
          1.68,
          1.68,
          1.67,
          1.67,
          1.67,
          1.67,
          1.67,
          1.67,
          1.67,
          1.67,
          1.66,
          1.66,
          1.66,
          1.66,
          1.65,
          1.65,
          1.65,
          1.64,
          1.64,
          1.64,
          1.64,
          1.63,
          1.63,
          1.63,
          1.62,
          1.62,
          1.62,
          1.62,
          1.62,
          1.61,
          1.61,
          1.61,
          1.61,
          1.61,
          1.61,
          1.6,
          1.6,
          1.6,
          1.59,
          1.59,
          1.59,
          1.59,
          1.59,
          1.58,
          1.58,
          1.58,
          1.58,
          1.58,
          1.58,
          1.57,
          1.57,
          1.56,
          1.56,
          1.56,
          1.56,
          1.55,
          1.55,
          1.55,
          1.55,
          1.55,
          1.54,
          1.54,
          1.54,
          1.54,
          1.54,
          1.53,
          1.53,
          1.53,
          1.53,
          1.53,
          1.53,
          1.53,
          1.53,
          1.52,
          1.52,
          1.52,
          1.52,
          1.52,
          1.52,
          1.52,
          1.52,
          1.52,
          1.51,
          1.51,
          1.51,
          1.51,
          1.5,
          1.5,
          1.5,
          1.49,
          1.49,
          1.49,
          1.49,
          1.49,
          1.49,
          1.49,
          1.48,
          1.48,
          1.48,
          1.48,
          1.48,
          1.48,
          1.47,
          1.47,
          1.47,
          1.47,
          1.47,
          1.47,
          1.46,
          1.46,
          1.46,
          1.46,
          1.46,
          1.46,
          1.45,
          1.45,
          1.45,
          1.45,
          1.45,
          1.45,
          1.45,
          1.44,
          1.44,
          1.44,
          1.44,
          1.44,
          1.44,
          1.44,
          1.44,
          1.44,
          1.43,
          1.43,
          1.43,
          1.43,
          1.42,
          1.42,
          1.42,
          1.42,
          1.42,
          1.42,
          1.42,
          1.41,
          1.41,
          1.41,
          1.41,
          1.41,
          1.41,
          1.41,
          1.41,
          1.4,
          1.4,
          1.4,
          1.4,
          1.4,
          1.4,
          1.39,
          1.39,
          1.38,
          1.38,
          1.38,
          1.38,
          1.38,
          1.38,
          1.38,
          1.37,
          1.37,
          1.37,
          1.37,
          1.37,
          1.36,
          1.36,
          1.36,
          1.36,
          1.36,
          1.35,
          1.35,
          1.35,
          1.35,
          1.35,
          1.35,
          1.35,
          1.35,
          1.35,
          1.35,
          1.34,
          1.34,
          1.34,
          1.34,
          1.34,
          1.34,
          1.33,
          1.33,
          1.33,
          1.33,
          1.33,
          1.33,
          1.33,
          1.33,
          1.33,
          1.33,
          1.32,
          1.32,
          1.32,
          1.32,
          1.32,
          1.32,
          1.31,
          1.31,
          1.31,
          1.31,
          1.31,
          1.3,
          1.3,
          1.3,
          1.3,
          1.3,
          1.29,
          1.29,
          1.29,
          1.29,
          1.29,
          1.29,
          1.29,
          1.28,
          1.28,
          1.28,
          1.28,
          1.28,
          1.27,
          1.27,
          1.27,
          1.27,
          1.27,
          1.27,
          1.27,
          1.26,
          1.26,
          1.26,
          1.25,
          1.25,
          1.25,
          1.25,
          1.25,
          1.25,
          1.25,
          1.24,
          1.24,
          1.24,
          1.24,
          1.24,
          1.24,
          1.24,
          1.23,
          1.23,
          1.23,
          1.23,
          1.23,
          1.23,
          1.23,
          1.23,
          1.23,
          1.23,
          1.23,
          1.22,
          1.22,
          1.22,
          1.22,
          1.22,
          1.22,
          1.22,
          1.21,
          1.21,
          1.21,
          1.21,
          1.21,
          1.21,
          1.21,
          1.2,
          1.2,
          1.2,
          1.2,
          1.2,
          1.2,
          1.2,
          1.19,
          1.19,
          1.19,
          1.19,
          1.19,
          1.19,
          1.19,
          1.19,
          1.19,
          1.18,
          1.18,
          1.17,
          1.17,
          1.17,
          1.17,
          1.17,
          1.17,
          1.17,
          1.17,
          1.17,
          1.17,
          1.17,
          1.17,
          1.17,
          1.17,
          1.16,
          1.16,
          1.16,
          1.16,
          1.16,
          1.16,
          1.16,
          1.16,
          1.16,
          1.16,
          1.16,
          1.16,
          1.15,
          1.15,
          1.15,
          1.15,
          1.15,
          1.15,
          1.14,
          1.14,
          1.14,
          1.14,
          1.14,
          1.14,
          1.14,
          1.14,
          1.14,
          1.14,
          1.14,
          1.13,
          1.13,
          1.13,
          1.13,
          1.13,
          1.13,
          1.12,
          1.12,
          1.12,
          1.12,
          1.12,
          1.12,
          1.12,
          1.12,
          1.12,
          1.11,
          1.11,
          1.11,
          1.11,
          1.11,
          1.11,
          1.11,
          1.1,
          1.1,
          1.1,
          1.1,
          1.1,
          1.1,
          1.1,
          1.1,
          1.1,
          1.1,
          1.1,
          1.1,
          1.1,
          1.1,
          1.1,
          1.09,
          1.09,
          1.09,
          1.09,
          1.09,
          1.09,
          1.09,
          1.09,
          1.09,
          1.09,
          1.08,
          1.08,
          1.08,
          1.08,
          1.08,
          1.08,
          1.08,
          1.08,
          1.08,
          1.08,
          1.08,
          1.07,
          1.07,
          1.07,
          1.07,
          1.07,
          1.07,
          1.07,
          1.07,
          1.07,
          1.07,
          1.06,
          1.06,
          1.06,
          1.06,
          1.06,
          1.06,
          1.06,
          1.06,
          1.06,
          1.05,
          1.05,
          1.05,
          1.05,
          1.05,
          1.05,
          1.05,
          1.05,
          1.05,
          1.05,
          1.05,
          1.04,
          1.04,
          1.04,
          1.04,
          1.04,
          1.04,
          1.04,
          1.04,
          1.04,
          1.04,
          1.04,
          1.03,
          1.03,
          1.03,
          1.03,
          1.02,
          1.02,
          1.02,
          1.02,
          1.02,
          1.02,
          1.02,
          1.02,
          1.02,
          1.01,
          1.01,
          1.01,
          1.01,
          1.01,
          1,
          1,
          1,
          1,
          1,
          1,
          1,
          1,
          1,
          1,
          1,
          1,
          0.99,
          0.99,
          0.99,
          0.99,
          0.99,
          0.99,
          0.99,
          0.99,
          0.99,
          0.98,
          0.98,
          0.98,
          0.98,
          0.98,
          0.98,
          0.98,
          0.98,
          0.98,
          0.98,
          0.98,
          0.98,
          0.98,
          0.97,
          0.97,
          0.97,
          0.97,
          0.97,
          0.97,
          0.97,
          0.97,
          0.96,
          0.96,
          0.96,
          0.96,
          0.96,
          0.96,
          0.96,
          0.96,
          0.96,
          0.96,
          0.95,
          0.95,
          0.95,
          0.95,
          0.95,
          0.95,
          0.95,
          0.95,
          0.95,
          0.95,
          0.95,
          0.95,
          0.94,
          0.94,
          0.94,
          0.94,
          0.94,
          0.94,
          0.94,
          0.94,
          0.94,
          0.94,
          0.94,
          0.94,
          0.93,
          0.93,
          0.93,
          0.93,
          0.93,
          0.93,
          0.93,
          0.93,
          0.93,
          0.93,
          0.93,
          0.92,
          0.92,
          0.92,
          0.92,
          0.92,
          0.92,
          0.92,
          0.92,
          0.92,
          0.92,
          0.92,
          0.92,
          0.92,
          0.92,
          0.92,
          0.92,
          0.91,
          0.91,
          0.91,
          0.91,
          0.91,
          0.91,
          0.91,
          0.91,
          0.91,
          0.91,
          0.9,
          0.9,
          0.9,
          0.9,
          0.9,
          0.9,
          0.9,
          0.9,
          0.9,
          0.9,
          0.9,
          0.9,
          0.9,
          0.9,
          0.9,
          0.9,
          0.9,
          0.9,
          0.89,
          0.89,
          0.89,
          0.89,
          0.89,
          0.89,
          0.89,
          0.89,
          0.89,
          0.89,
          0.89,
          0.89,
          0.89,
          0.89,
          0.89,
          0.89,
          0.89,
          0.89,
          0.89,
          0.88,
          0.88,
          0.88,
          0.87,
          0.87,
          0.87,
          0.87,
          0.87,
          0.87,
          0.87,
          0.87,
          0.87,
          0.87,
          0.87,
          0.87,
          0.87,
          0.87,
          0.87,
          0.86,
          0.86,
          0.86,
          0.86,
          0.86,
          0.85,
          0.85,
          0.85,
          0.85,
          0.85,
          0.85,
          0.85,
          0.85,
          0.85,
          0.85,
          0.85,
          0.85,
          0.85,
          0.84,
          0.84,
          0.84,
          0.84,
          0.84,
          0.84,
          0.84,
          0.84,
          0.84,
          0.84,
          0.84,
          0.84,
          0.83,
          0.83,
          0.83,
          0.83,
          0.83,
          0.83,
          0.83,
          0.83,
          0.82,
          0.82,
          0.82,
          0.82,
          0.82,
          0.82,
          0.82,
          0.82,
          0.82,
          0.82,
          0.82,
          0.82,
          0.82,
          0.82,
          0.82,
          0.82,
          0.82,
          0.81,
          0.81,
          0.81,
          0.81,
          0.81,
          0.81,
          0.81,
          0.81,
          0.81,
          0.81,
          0.8,
          0.8,
          0.8,
          0.8,
          0.8,
          0.8,
          0.8,
          0.8,
          0.8,
          0.8,
          0.8,
          0.8,
          0.8,
          0.8,
          0.79,
          0.79,
          0.79,
          0.79,
          0.79,
          0.79,
          0.79,
          0.79,
          0.79,
          0.79,
          0.79,
          0.79,
          0.79,
          0.79,
          0.79,
          0.78,
          0.78,
          0.78,
          0.78,
          0.78,
          0.78,
          0.78,
          0.78,
          0.78,
          0.78,
          0.78,
          0.78,
          0.77,
          0.77,
          0.77,
          0.77,
          0.77,
          0.77,
          0.77,
          0.77,
          0.77,
          0.77,
          0.77,
          0.77,
          0.76,
          0.76,
          0.76,
          0.76,
          0.76,
          0.76,
          0.76,
          0.76,
          0.76,
          0.76,
          0.76,
          0.76,
          0.76,
          0.75,
          0.75,
          0.75,
          0.75,
          0.75,
          0.75,
          0.75,
          0.75,
          0.75,
          0.75,
          0.75,
          0.75,
          0.75,
          0.75,
          0.74,
          0.74,
          0.74,
          0.74,
          0.74,
          0.74,
          0.74,
          0.74,
          0.74,
          0.74,
          0.74,
          0.74,
          0.73,
          0.73,
          0.73,
          0.73,
          0.73,
          0.73,
          0.73,
          0.73,
          0.73,
          0.73,
          0.73,
          0.73,
          0.73,
          0.73,
          0.73,
          0.73,
          0.72,
          0.72,
          0.72,
          0.72,
          0.72,
          0.72,
          0.72,
          0.72,
          0.72,
          0.72,
          0.72,
          0.72,
          0.72,
          0.72,
          0.72,
          0.72,
          0.72,
          0.72,
          0.72,
          0.71,
          0.71,
          0.71,
          0.71,
          0.71,
          0.71,
          0.71,
          0.71,
          0.71,
          0.71,
          0.71,
          0.71,
          0.71,
          0.71,
          0.71,
          0.71,
          0.71,
          0.7,
          0.7,
          0.7,
          0.7,
          0.7,
          0.7,
          0.7,
          0.7,
          0.7,
          0.7,
          0.7,
          0.7,
          0.7,
          0.7,
          0.7,
          0.7,
          0.7,
          0.7,
          0.7,
          0.7,
          0.7,
          0.7,
          0.69,
          0.69,
          0.69,
          0.69,
          0.69,
          0.69,
          0.69,
          0.69,
          0.69,
          0.69,
          0.69,
          0.69,
          0.69,
          0.68,
          0.68,
          0.68,
          0.68,
          0.68,
          0.68,
          0.68,
          0.68,
          0.68,
          0.68,
          0.68,
          0.68,
          0.68,
          0.68,
          0.68,
          0.68,
          0.68,
          0.68,
          0.67,
          0.67,
          0.67,
          0.67,
          0.67,
          0.67,
          0.67,
          0.67,
          0.67,
          0.67,
          0.67,
          0.67,
          0.67,
          0.67,
          0.67,
          0.67,
          0.67,
          0.66,
          0.66,
          0.66,
          0.66,
          0.66,
          0.66,
          0.66,
          0.66,
          0.66,
          0.66,
          0.66,
          0.66,
          0.66,
          0.66,
          0.66,
          0.66,
          0.66,
          0.66,
          0.66,
          0.66,
          0.66,
          0.65,
          0.65,
          0.65,
          0.65,
          0.65,
          0.65,
          0.65,
          0.65,
          0.65,
          0.65,
          0.65,
          0.65,
          0.65,
          0.65,
          0.65,
          0.65,
          0.64,
          0.64,
          0.64,
          0.64,
          0.64,
          0.64,
          0.64,
          0.64,
          0.64,
          0.64,
          0.64,
          0.64,
          0.64,
          0.64,
          0.64,
          0.64,
          0.64,
          0.64,
          0.64,
          0.64,
          0.64,
          0.64,
          0.64,
          0.63,
          0.63,
          0.63,
          0.63,
          0.63,
          0.63,
          0.63,
          0.63,
          0.63,
          0.63,
          0.63,
          0.63,
          0.63,
          0.63,
          0.63,
          0.63,
          0.63,
          0.63,
          0.63,
          0.63,
          0.63,
          0.63,
          0.63,
          0.63,
          0.63,
          0.63,
          0.63,
          0.63,
          0.63,
          0.63,
          0.63,
          0.62,
          0.62,
          0.62,
          0.62,
          0.62,
          0.62,
          0.62,
          0.62,
          0.62,
          0.62,
          0.62,
          0.62,
          0.62,
          0.61,
          0.61,
          0.61,
          0.61,
          0.61,
          0.61,
          0.61,
          0.61,
          0.61,
          0.61,
          0.61,
          0.61,
          0.61,
          0.61,
          0.61,
          0.61,
          0.61,
          0.61,
          0.61,
          0.61,
          0.61,
          0.61,
          0.61,
          0.61,
          0.61,
          0.61,
          0.61,
          0.6,
          0.6,
          0.6,
          0.6,
          0.6,
          0.6,
          0.6,
          0.6,
          0.6,
          0.6,
          0.6,
          0.6,
          0.6,
          0.6,
          0.6,
          0.6,
          0.6,
          0.6,
          0.6,
          0.6,
          0.59,
          0.59,
          0.59,
          0.59,
          0.59,
          0.59,
          0.59,
          0.59,
          0.59,
          0.59,
          0.59,
          0.59,
          0.59,
          0.59,
          0.59,
          0.59,
          0.59,
          0.59,
          0.58,
          0.58,
          0.58,
          0.58,
          0.58,
          0.58,
          0.58,
          0.58,
          0.58,
          0.58,
          0.58,
          0.58,
          0.58,
          0.58,
          0.58,
          0.58,
          0.58,
          0.58,
          0.58,
          0.58,
          0.58,
          0.58,
          0.58,
          0.58,
          0.58,
          0.58,
          0.58,
          0.58,
          0.58,
          0.58,
          0.57,
          0.57,
          0.57,
          0.57,
          0.57,
          0.57,
          0.57,
          0.57,
          0.57,
          0.57,
          0.57,
          0.57,
          0.57,
          0.57,
          0.57,
          0.57,
          0.57,
          0.57,
          0.56,
          0.56,
          0.56,
          0.56,
          0.56,
          0.56,
          0.56,
          0.56,
          0.56,
          0.56,
          0.56,
          0.56,
          0.56,
          0.56,
          0.56,
          0.56,
          0.56,
          0.56,
          0.56,
          0.56,
          0.56,
          0.56,
          0.56,
          0.56,
          0.56,
          0.56,
          0.56,
          0.56,
          0.56,
          0.56,
          0.56,
          0.56,
          0.56,
          0.55,
          0.55,
          0.55,
          0.55,
          0.55,
          0.55,
          0.55,
          0.55,
          0.55,
          0.55,
          0.55,
          0.55,
          0.55,
          0.55,
          0.55,
          0.55,
          0.55,
          0.55,
          0.55,
          0.55,
          0.54,
          0.54,
          0.54,
          0.54,
          0.54,
          0.54,
          0.54,
          0.54,
          0.54,
          0.54,
          0.54,
          0.54,
          0.54,
          0.54,
          0.54,
          0.54,
          0.54,
          0.54,
          0.54,
          0.54,
          0.54,
          0.54,
          0.54,
          0.53,
          0.53,
          0.53,
          0.53,
          0.53,
          0.53,
          0.53,
          0.53,
          0.53,
          0.53,
          0.53,
          0.53,
          0.53,
          0.53,
          0.53,
          0.53,
          0.53,
          0.53,
          0.53,
          0.53,
          0.53,
          0.53,
          0.53,
          0.53,
          0.53,
          0.53,
          0.53,
          0.53,
          0.52,
          0.52,
          0.52,
          0.52,
          0.52,
          0.52,
          0.52,
          0.52,
          0.52,
          0.52,
          0.52,
          0.52,
          0.52,
          0.52,
          0.52,
          0.52,
          0.52,
          0.52,
          0.52,
          0.52,
          0.52,
          0.52,
          0.52,
          0.52,
          0.52,
          0.52,
          0.51,
          0.51,
          0.51,
          0.51,
          0.51,
          0.51,
          0.51,
          0.51,
          0.51,
          0.51,
          0.51,
          0.51,
          0.51,
          0.51,
          0.51,
          0.51,
          0.51,
          0.51,
          0.51,
          0.51,
          0.51,
          0.51,
          0.51,
          0.51,
          0.51,
          0.51,
          0.51,
          0.5,
          0.5,
          0.5,
          0.5,
          0.5,
          0.5,
          0.5,
          0.5,
          0.5,
          0.5,
          0.5,
          0.5,
          0.5,
          0.5,
          0.5,
          0.5,
          0.5,
          0.5,
          0.5,
          0.5,
          0.5,
          0.5,
          0.49,
          0.49,
          0.49,
          0.49,
          0.49,
          0.49,
          0.49,
          0.49,
          0.49,
          0.49,
          0.49,
          0.49,
          0.49,
          0.49,
          0.49,
          0.49,
          0.49,
          0.49,
          0.49,
          0.49,
          0.49,
          0.49,
          0.48,
          0.48,
          0.48,
          0.48,
          0.48,
          0.48,
          0.48,
          0.48,
          0.48,
          0.48,
          0.48,
          0.48,
          0.48,
          0.48,
          0.48,
          0.48,
          0.48,
          0.48,
          0.48,
          0.48,
          0.48,
          0.48,
          0.48,
          0.48,
          0.48,
          0.47,
          0.47,
          0.47,
          0.47,
          0.47,
          0.47,
          0.47,
          0.47,
          0.47,
          0.47,
          0.47,
          0.47,
          0.47,
          0.47,
          0.47,
          0.47,
          0.47,
          0.47,
          0.47,
          0.47,
          0.47,
          0.47,
          0.47,
          0.47,
          0.47,
          0.47,
          0.47,
          0.47,
          0.47,
          0.47,
          0.47,
          0.46,
          0.46,
          0.46,
          0.46,
          0.46,
          0.46,
          0.46,
          0.46,
          0.46,
          0.46,
          0.46,
          0.46,
          0.46,
          0.46,
          0.46,
          0.46,
          0.46,
          0.46,
          0.46,
          0.46,
          0.46,
          0.46,
          0.46,
          0.46,
          0.46,
          0.46,
          0.46,
          0.46,
          0.46,
          0.46,
          0.46,
          0.46,
          0.46,
          0.45,
          0.45,
          0.45,
          0.45,
          0.45,
          0.45,
          0.45,
          0.45,
          0.45,
          0.45,
          0.45,
          0.45,
          0.45,
          0.45,
          0.45,
          0.45,
          0.45,
          0.45,
          0.45,
          0.45,
          0.45,
          0.45,
          0.45,
          0.45,
          0.45,
          0.45,
          0.45,
          0.45,
          0.45,
          0.45,
          0.45,
          0.45,
          0.45,
          0.45,
          0.44,
          0.44,
          0.44,
          0.44,
          0.44,
          0.44,
          0.44,
          0.44,
          0.44,
          0.44,
          0.44,
          0.44,
          0.44,
          0.44,
          0.44,
          0.44,
          0.44,
          0.44,
          0.44,
          0.44,
          0.44,
          0.44,
          0.44,
          0.44,
          0.44,
          0.44,
          0.44,
          0.43,
          0.43,
          0.43,
          0.43,
          0.43,
          0.43,
          0.43,
          0.43,
          0.43,
          0.43,
          0.43,
          0.43,
          0.43,
          0.43,
          0.43,
          0.43,
          0.43,
          0.43,
          0.43,
          0.43,
          0.43,
          0.43,
          0.43,
          0.43,
          0.43,
          0.43,
          0.43,
          0.43,
          0.43,
          0.43,
          0.43,
          0.43,
          0.43,
          0.42,
          0.42,
          0.42,
          0.42,
          0.42,
          0.42,
          0.42,
          0.42,
          0.42,
          0.42,
          0.42,
          0.42,
          0.42,
          0.42,
          0.42,
          0.42,
          0.42,
          0.42,
          0.42,
          0.42,
          0.42,
          0.42,
          0.42,
          0.42,
          0.42,
          0.42,
          0.42,
          0.42,
          0.42,
          0.42,
          0.42,
          0.41,
          0.41,
          0.41,
          0.41,
          0.41,
          0.41,
          0.41,
          0.41,
          0.41,
          0.41,
          0.41,
          0.41,
          0.41,
          0.41,
          0.41,
          0.41,
          0.41,
          0.41,
          0.41,
          0.41,
          0.41,
          0.41,
          0.41,
          0.41,
          0.41,
          0.41,
          0.41,
          0.41,
          0.41,
          0.41,
          0.41,
          0.41,
          0.41,
          0.41,
          0.41,
          0.41,
          0.41,
          0.41,
          0.4,
          0.4,
          0.4,
          0.4,
          0.4,
          0.4,
          0.4,
          0.4,
          0.4,
          0.4,
          0.4,
          0.4,
          0.4,
          0.4,
          0.4,
          0.4,
          0.4,
          0.4,
          0.4,
          0.4,
          0.4,
          0.4,
          0.4,
          0.4,
          0.4,
          0.4,
          0.4,
          0.4,
          0.4,
          0.4,
          0.39,
          0.39,
          0.39,
          0.39,
          0.39,
          0.39,
          0.39,
          0.39,
          0.39,
          0.39,
          0.39,
          0.39,
          0.39,
          0.39,
          0.39,
          0.39,
          0.39,
          0.39,
          0.39,
          0.39,
          0.39,
          0.39,
          0.39,
          0.39,
          0.39,
          0.39,
          0.39,
          0.39,
          0.39,
          0.39,
          0.39,
          0.39,
          0.39,
          0.39,
          0.39,
          0.39,
          0.39,
          0.39,
          0.39,
          0.39,
          0.39,
          0.39,
          0.39,
          0.39,
          0.38,
          0.38,
          0.38,
          0.38,
          0.38,
          0.38,
          0.38,
          0.38,
          0.38,
          0.38,
          0.38,
          0.38,
          0.38,
          0.38,
          0.38,
          0.38,
          0.38,
          0.38,
          0.38,
          0.38,
          0.38,
          0.38,
          0.38,
          0.38,
          0.38,
          0.38,
          0.38,
          0.38,
          0.38,
          0.38,
          0.38,
          0.38,
          0.38,
          0.38,
          0.37,
          0.37,
          0.37,
          0.37,
          0.37,
          0.37,
          0.37,
          0.37,
          0.37,
          0.37,
          0.37,
          0.37,
          0.37,
          0.37,
          0.37,
          0.37,
          0.37,
          0.37,
          0.37,
          0.37,
          0.37,
          0.37,
          0.37,
          0.37,
          0.37,
          0.37,
          0.37,
          0.37,
          0.37,
          0.37,
          0.36,
          0.36,
          0.36,
          0.36,
          0.36,
          0.36,
          0.36,
          0.36,
          0.36,
          0.36,
          0.36,
          0.36,
          0.36,
          0.36,
          0.36,
          0.36,
          0.36,
          0.36,
          0.36,
          0.36,
          0.36,
          0.36,
          0.36,
          0.36,
          0.36,
          0.36,
          0.36,
          0.35,
          0.35,
          0.35,
          0.35,
          0.35,
          0.35,
          0.35,
          0.35,
          0.35,
          0.35,
          0.35,
          0.35,
          0.35,
          0.35,
          0.35,
          0.35,
          0.35,
          0.35,
          0.35,
          0.35,
          0.35,
          0.35,
          0.35,
          0.35,
          0.35,
          0.35,
          0.35,
          0.34,
          0.34,
          0.34,
          0.34,
          0.34,
          0.34,
          0.34,
          0.34,
          0.34,
          0.34,
          0.34,
          0.34,
          0.34,
          0.34,
          0.34,
          0.34,
          0.34,
          0.34,
          0.34,
          0.34,
          0.34,
          0.34,
          0.34,
          0.34,
          0.34,
          0.34,
          0.34,
          0.34,
          0.33,
          0.33,
          0.33,
          0.33,
          0.33,
          0.33,
          0.33,
          0.33,
          0.33,
          0.33,
          0.33,
          0.33,
          0.33,
          0.33,
          0.33,
          0.33,
          0.33,
          0.33,
          0.33,
          0.33,
          0.33,
          0.33,
          0.33,
          0.33,
          0.33,
          0.33,
          0.33,
          0.33,
          0.33,
          0.33,
          0.33,
          0.33,
          0.33,
          0.33,
          0.33,
          0.33,
          0.33,
          0.33,
          0.33,
          0.33,
          0.33,
          0.33,
          0.33,
          0.33,
          0.33,
          0.33,
          0.33,
          0.33,
          0.32,
          0.32,
          0.32,
          0.32,
          0.32,
          0.32,
          0.32,
          0.32,
          0.32,
          0.32,
          0.32,
          0.32,
          0.32,
          0.32,
          0.32,
          0.32,
          0.32,
          0.32,
          0.32,
          0.32,
          0.32,
          0.32,
          0.32,
          0.32,
          0.32,
          0.32,
          0.32,
          0.32,
          0.32,
          0.32,
          0.32,
          0.32,
          0.32,
          0.32,
          0.32,
          0.32,
          0.32,
          0.31,
          0.31,
          0.31,
          0.31,
          0.31,
          0.31,
          0.31,
          0.31,
          0.31,
          0.31,
          0.31,
          0.31,
          0.31,
          0.31,
          0.31,
          0.31,
          0.31,
          0.31,
          0.31,
          0.31,
          0.31,
          0.31,
          0.31,
          0.31,
          0.31,
          0.31,
          0.31,
          0.31,
          0.31,
          0.31,
          0.31,
          0.31,
          0.31,
          0.31,
          0.31,
          0.31,
          0.31,
          0.31,
          0.31,
          0.31,
          0.31,
          0.3,
          0.3,
          0.3,
          0.3,
          0.3,
          0.3,
          0.3,
          0.3,
          0.3,
          0.3,
          0.3,
          0.3,
          0.3,
          0.3,
          0.3,
          0.3,
          0.3,
          0.3,
          0.3,
          0.3,
          0.3,
          0.3,
          0.3,
          0.3,
          0.3,
          0.3,
          0.3,
          0.3,
          0.3,
          0.3,
          0.3,
          0.3,
          0.3,
          0.3,
          0.3,
          0.3,
          0.3,
          0.3,
          0.3,
          0.3,
          0.3,
          0.3,
          0.29,
          0.29,
          0.29,
          0.29,
          0.29,
          0.29,
          0.29,
          0.29,
          0.29,
          0.29,
          0.29,
          0.29,
          0.29,
          0.29,
          0.29,
          0.29,
          0.29,
          0.29,
          0.29,
          0.29,
          0.29,
          0.29,
          0.29,
          0.29,
          0.29,
          0.29,
          0.29,
          0.29,
          0.29,
          0.29,
          0.29,
          0.29,
          0.29,
          0.29,
          0.29,
          0.29,
          0.29,
          0.29,
          0.29,
          0.29,
          0.29,
          0.29,
          0.29,
          0.29,
          0.29,
          0.29,
          0.29,
          0.29,
          0.29,
          0.28,
          0.28,
          0.28,
          0.28,
          0.28,
          0.28,
          0.28,
          0.28,
          0.28,
          0.28,
          0.28,
          0.28,
          0.28,
          0.28,
          0.28,
          0.28,
          0.28,
          0.28,
          0.28,
          0.28,
          0.28,
          0.28,
          0.28,
          0.28,
          0.28,
          0.28,
          0.28,
          0.28,
          0.28,
          0.28,
          0.28,
          0.28,
          0.28,
          0.28,
          0.28,
          0.28,
          0.28,
          0.28,
          0.28,
          0.28,
          0.28,
          0.28,
          0.28,
          0.28,
          0.28,
          0.28,
          0.28,
          0.28,
          0.28,
          0.28,
          0.28,
          0.28,
          0.28,
          0.28,
          0.28,
          0.28,
          0.27,
          0.27,
          0.27,
          0.27,
          0.27,
          0.27,
          0.27,
          0.27,
          0.27,
          0.27,
          0.27,
          0.27,
          0.27,
          0.27,
          0.27,
          0.27,
          0.27,
          0.27,
          0.27,
          0.27,
          0.27,
          0.27,
          0.27,
          0.27,
          0.27,
          0.27,
          0.27,
          0.27,
          0.27,
          0.27,
          0.27,
          0.27,
          0.27,
          0.27,
          0.27,
          0.27,
          0.27,
          0.27,
          0.27,
          0.27,
          0.27,
          0.27,
          0.27,
          0.27,
          0.27,
          0.27,
          0.27,
          0.27,
          0.27,
          0.27,
          0.27,
          0.27,
          0.27,
          0.27,
          0.27,
          0.27,
          0.26,
          0.26,
          0.26,
          0.26,
          0.26,
          0.26,
          0.26,
          0.26,
          0.26,
          0.26,
          0.26,
          0.26,
          0.26,
          0.26,
          0.26,
          0.26,
          0.26,
          0.26,
          0.26,
          0.26,
          0.26,
          0.26,
          0.26,
          0.26,
          0.26,
          0.26,
          0.26,
          0.26,
          0.26,
          0.26,
          0.26,
          0.26,
          0.26,
          0.26,
          0.26,
          0.26,
          0.26,
          0.26,
          0.26,
          0.26,
          0.26,
          0.26,
          0.26,
          0.26,
          0.26,
          0.26,
          0.26,
          0.26,
          0.26,
          0.26,
          0.26,
          0.25,
          0.25,
          0.25,
          0.25,
          0.25,
          0.25,
          0.25,
          0.25,
          0.25,
          0.25,
          0.25,
          0.25,
          0.25,
          0.25,
          0.25,
          0.25,
          0.25,
          0.25,
          0.25,
          0.25,
          0.25,
          0.25,
          0.25,
          0.25,
          0.25,
          0.25,
          0.25,
          0.25,
          0.25,
          0.25,
          0.25,
          0.25,
          0.25,
          0.25,
          0.25,
          0.25,
          0.25,
          0.25,
          0.25,
          0.25,
          0.25,
          0.25,
          0.25,
          0.25,
          0.25,
          0.25,
          0.25,
          0.25,
          0.25,
          0.25,
          0.25,
          0.25,
          0.25,
          0.25,
          0.25,
          0.25,
          0.25,
          0.24,
          0.24,
          0.24,
          0.24,
          0.24,
          0.24,
          0.24,
          0.24,
          0.24,
          0.24,
          0.24,
          0.24,
          0.24,
          0.24,
          0.24,
          0.24,
          0.24,
          0.24,
          0.24,
          0.24,
          0.24,
          0.24,
          0.24,
          0.24,
          0.24,
          0.24,
          0.24,
          0.24,
          0.24,
          0.24,
          0.24,
          0.24,
          0.24,
          0.24,
          0.24,
          0.24,
          0.24,
          0.24,
          0.24,
          0.24,
          0.24,
          0.24,
          0.24,
          0.24,
          0.24,
          0.24,
          0.24,
          0.24,
          0.24,
          0.24,
          0.24,
          0.24,
          0.23,
          0.23,
          0.23,
          0.23,
          0.23,
          0.23,
          0.23,
          0.23,
          0.23,
          0.23,
          0.23,
          0.23,
          0.23,
          0.23,
          0.23,
          0.23,
          0.23,
          0.23,
          0.23,
          0.23,
          0.23,
          0.23,
          0.23,
          0.23,
          0.23,
          0.23,
          0.23,
          0.23,
          0.23,
          0.23,
          0.23,
          0.23,
          0.23,
          0.23,
          0.23,
          0.23,
          0.23,
          0.23,
          0.23,
          0.23,
          0.23,
          0.23,
          0.23,
          0.23,
          0.23,
          0.23,
          0.23,
          0.23,
          0.23,
          0.23,
          0.23,
          0.23,
          0.23,
          0.23,
          0.23,
          0.23,
          0.23,
          0.22,
          0.22,
          0.22,
          0.22,
          0.22,
          0.22,
          0.22,
          0.22,
          0.22,
          0.22,
          0.22,
          0.22,
          0.22,
          0.22,
          0.22,
          0.22,
          0.22,
          0.22,
          0.22,
          0.22,
          0.22,
          0.22,
          0.22,
          0.22,
          0.22,
          0.22,
          0.22,
          0.22,
          0.22,
          0.22,
          0.22,
          0.22,
          0.22,
          0.22,
          0.22,
          0.22,
          0.22,
          0.22,
          0.22,
          0.22,
          0.22,
          0.22,
          0.22,
          0.21,
          0.21,
          0.21,
          0.21,
          0.21,
          0.21,
          0.21,
          0.21,
          0.21,
          0.21,
          0.21,
          0.21,
          0.21,
          0.21,
          0.21,
          0.21,
          0.21,
          0.21,
          0.21,
          0.21,
          0.21,
          0.21,
          0.21,
          0.21,
          0.21,
          0.21,
          0.21,
          0.21,
          0.21,
          0.21,
          0.21,
          0.21,
          0.21,
          0.21,
          0.21,
          0.21,
          0.21,
          0.21,
          0.21,
          0.21,
          0.21,
          0.21,
          0.21,
          0.21,
          0.21,
          0.21,
          0.21,
          0.21,
          0.21,
          0.21,
          0.21,
          0.2,
          0.2,
          0.2,
          0.2,
          0.2,
          0.2,
          0.2,
          0.2,
          0.2,
          0.2,
          0.2,
          0.2,
          0.2,
          0.2,
          0.2,
          0.2,
          0.2,
          0.2,
          0.2,
          0.2,
          0.2,
          0.2,
          0.2,
          0.2,
          0.2,
          0.2,
          0.2,
          0.2,
          0.2,
          0.2,
          0.2,
          0.2,
          0.2,
          0.2,
          0.2,
          0.2,
          0.2,
          0.2,
          0.2,
          0.2,
          0.2,
          0.2,
          0.2,
          0.2,
          0.2,
          0.2,
          0.2,
          0.2,
          0.2,
          0.2,
          0.2,
          0.2,
          0.2,
          0.2,
          0.2,
          0.2,
          0.2,
          0.2,
          0.2,
          0.2,
          0.2,
          0.19,
          0.19,
          0.19,
          0.19,
          0.19,
          0.19,
          0.19,
          0.19,
          0.19,
          0.19,
          0.19,
          0.19,
          0.19,
          0.19,
          0.19,
          0.19,
          0.19,
          0.19,
          0.19,
          0.19,
          0.19,
          0.19,
          0.19,
          0.19,
          0.19,
          0.19,
          0.19,
          0.19,
          0.19,
          0.19,
          0.19,
          0.19,
          0.19,
          0.19,
          0.19,
          0.19,
          0.19,
          0.19,
          0.19,
          0.19,
          0.19,
          0.19,
          0.19,
          0.19,
          0.19,
          0.19,
          0.19,
          0.19,
          0.19,
          0.19,
          0.19,
          0.19,
          0.19,
          0.19,
          0.19,
          0.19,
          0.19,
          0.19,
          0.19,
          0.19,
          0.19,
          0.19,
          0.19,
          0.19,
          0.19,
          0.19,
          0.19,
          0.19,
          0.19,
          0.18,
          0.18,
          0.18,
          0.18,
          0.18,
          0.18,
          0.18,
          0.18,
          0.18,
          0.18,
          0.18,
          0.18,
          0.18,
          0.18,
          0.18,
          0.18,
          0.18,
          0.18,
          0.18,
          0.18,
          0.18,
          0.18,
          0.18,
          0.18,
          0.18,
          0.18,
          0.18,
          0.18,
          0.18,
          0.18,
          0.18,
          0.18,
          0.18,
          0.18,
          0.18,
          0.18,
          0.18,
          0.18,
          0.18,
          0.18,
          0.18,
          0.18,
          0.18,
          0.18,
          0.18,
          0.18,
          0.18,
          0.18,
          0.18,
          0.18,
          0.18,
          0.17,
          0.17,
          0.17,
          0.17,
          0.17,
          0.17,
          0.17,
          0.17,
          0.17,
          0.17,
          0.17,
          0.17,
          0.17,
          0.17,
          0.17,
          0.17,
          0.17,
          0.17,
          0.17,
          0.17,
          0.17,
          0.17,
          0.17,
          0.17,
          0.17,
          0.17,
          0.17,
          0.17,
          0.17,
          0.17,
          0.17,
          0.17,
          0.17,
          0.17,
          0.17,
          0.17,
          0.17,
          0.17,
          0.17,
          0.17,
          0.17,
          0.17,
          0.17,
          0.17,
          0.17,
          0.17,
          0.17,
          0.17,
          0.17,
          0.17,
          0.17,
          0.17,
          0.17,
          0.17,
          0.17,
          0.17,
          0.17,
          0.16,
          0.16,
          0.16,
          0.16,
          0.16,
          0.16,
          0.16,
          0.16,
          0.16,
          0.16,
          0.16,
          0.16,
          0.16,
          0.16,
          0.16,
          0.16,
          0.16,
          0.16,
          0.16,
          0.16,
          0.16,
          0.16,
          0.16,
          0.16,
          0.16,
          0.16,
          0.16,
          0.16,
          0.16,
          0.16,
          0.16,
          0.16,
          0.16,
          0.16,
          0.16,
          0.16,
          0.16,
          0.16,
          0.16,
          0.16,
          0.16,
          0.16,
          0.16,
          0.16,
          0.16,
          0.16,
          0.16,
          0.16,
          0.16,
          0.16,
          0.16,
          0.16,
          0.16,
          0.16,
          0.16,
          0.16,
          0.16,
          0.16,
          0.16,
          0.16,
          0.15,
          0.15,
          0.15,
          0.15,
          0.15,
          0.15,
          0.15,
          0.15,
          0.15,
          0.15,
          0.15,
          0.15,
          0.15,
          0.15,
          0.15,
          0.15,
          0.15,
          0.15,
          0.15,
          0.15,
          0.15,
          0.15,
          0.15,
          0.15,
          0.15,
          0.15,
          0.15,
          0.15,
          0.15,
          0.15,
          0.15,
          0.15,
          0.15,
          0.15,
          0.15,
          0.15,
          0.15,
          0.15,
          0.15,
          0.15,
          0.15,
          0.15,
          0.15,
          0.15,
          0.15,
          0.15,
          0.15,
          0.15,
          0.15,
          0.15,
          0.15,
          0.15,
          0.15,
          0.15,
          0.15,
          0.15,
          0.15,
          0.15,
          0.15,
          0.15,
          0.15,
          0.15,
          0.15,
          0.15,
          0.14,
          0.14,
          0.14,
          0.14,
          0.14,
          0.14,
          0.14,
          0.14,
          0.14,
          0.14,
          0.14,
          0.14,
          0.14,
          0.14,
          0.14,
          0.14,
          0.14,
          0.14,
          0.14,
          0.14,
          0.14,
          0.14,
          0.14,
          0.14,
          0.14,
          0.14,
          0.14,
          0.14,
          0.14,
          0.14,
          0.14,
          0.14,
          0.14,
          0.14,
          0.14,
          0.14,
          0.14,
          0.14,
          0.14,
          0.14,
          0.14,
          0.14,
          0.14,
          0.14,
          0.14,
          0.14,
          0.14,
          0.14,
          0.14,
          0.14,
          0.14,
          0.14,
          0.14,
          0.14,
          0.14,
          0.14,
          0.14,
          0.14,
          0.14,
          0.14,
          0.14,
          0.14,
          0.14,
          0.14,
          0.14,
          0.14,
          0.14,
          0.14,
          0.14,
          0.14,
          0.14,
          0.14,
          0.14,
          0.14,
          0.14,
          0.14,
          0.14,
          0.14,
          0.14,
          0.14,
          0.14,
          0.14,
          0.14,
          0.14,
          0.13,
          0.13,
          0.13,
          0.13,
          0.13,
          0.13,
          0.13,
          0.13,
          0.13,
          0.13,
          0.13,
          0.13,
          0.13,
          0.13,
          0.13,
          0.13,
          0.13,
          0.13,
          0.13,
          0.13,
          0.13,
          0.13,
          0.13,
          0.13,
          0.13,
          0.13,
          0.13,
          0.13,
          0.13,
          0.13,
          0.13,
          0.13,
          0.13,
          0.13,
          0.13,
          0.13,
          0.13,
          0.13,
          0.13,
          0.13,
          0.13,
          0.13,
          0.13,
          0.13,
          0.13,
          0.13,
          0.13,
          0.13,
          0.13,
          0.13,
          0.13,
          0.13,
          0.13,
          0.13,
          0.13,
          0.13,
          0.13,
          0.13,
          0.13,
          0.13,
          0.13,
          0.13,
          0.13,
          0.13,
          0.13,
          0.13,
          0.13,
          0.13,
          0.13,
          0.13,
          0.13,
          0.13,
          0.13,
          0.13,
          0.13,
          0.13,
          0.13,
          0.13,
          0.13,
          0.12,
          0.12,
          0.12,
          0.12,
          0.12,
          0.12,
          0.12,
          0.12,
          0.12,
          0.12,
          0.12,
          0.12,
          0.12,
          0.12,
          0.12,
          0.12,
          0.12,
          0.12,
          0.12,
          0.12,
          0.12,
          0.12,
          0.12,
          0.12,
          0.12,
          0.12,
          0.12,
          0.12,
          0.12,
          0.12,
          0.12,
          0.12,
          0.12,
          0.12,
          0.12,
          0.12,
          0.12,
          0.12,
          0.12,
          0.12,
          0.12,
          0.12,
          0.12,
          0.12,
          0.12,
          0.12,
          0.12,
          0.12,
          0.12,
          0.12,
          0.12,
          0.12,
          0.12,
          0.12,
          0.12,
          0.12,
          0.12,
          0.12,
          0.12,
          0.12,
          0.12,
          0.12,
          0.12,
          0.12,
          0.12,
          0.12,
          0.12,
          0.12,
          0.12,
          0.12,
          0.11,
          0.11,
          0.11,
          0.11,
          0.11,
          0.11,
          0.11,
          0.11,
          0.11,
          0.11,
          0.11,
          0.11,
          0.11,
          0.11,
          0.11,
          0.11,
          0.11,
          0.11,
          0.11,
          0.11,
          0.11,
          0.11,
          0.11,
          0.11,
          0.11,
          0.11,
          0.11,
          0.11,
          0.11,
          0.11,
          0.11,
          0.11,
          0.11,
          0.11,
          0.11,
          0.11,
          0.11,
          0.11,
          0.11,
          0.11,
          0.11,
          0.11,
          0.11,
          0.11,
          0.11,
          0.11,
          0.11,
          0.11,
          0.11,
          0.11,
          0.11,
          0.11,
          0.11,
          0.11,
          0.11,
          0.11,
          0.11,
          0.11,
          0.11,
          0.11,
          0.11,
          0.11,
          0.11,
          0.11,
          0.11,
          0.11,
          0.11,
          0.11,
          0.11,
          0.11,
          0.11,
          0.11,
          0.11,
          0.11,
          0.11,
          0.11,
          0.11,
          0.11,
          0.11,
          0.11,
          0.11,
          0.11,
          0.11,
          0.11,
          0.11,
          0.11,
          0.11,
          0.11,
          0.11,
          0.11,
          0.11,
          0.11,
          0.1,
          0.1,
          0.1,
          0.1,
          0.1,
          0.1,
          0.1,
          0.1,
          0.1,
          0.1,
          0.1,
          0.1,
          0.1,
          0.1,
          0.1,
          0.1,
          0.1,
          0.1,
          0.1,
          0.1,
          0.1,
          0.1,
          0.1,
          0.1,
          0.1,
          0.1,
          0.1,
          0.1,
          0.1,
          0.1,
          0.1,
          0.1,
          0.1,
          0.1,
          0.1,
          0.1,
          0.1,
          0.1,
          0.1,
          0.1,
          0.1,
          0.1,
          0.1,
          0.1,
          0.1,
          0.1,
          0.1,
          0.1,
          0.1,
          0.1,
          0.1,
          0.1,
          0.1,
          0.1,
          0.1,
          0.1,
          0.1,
          0.1,
          0.1,
          0.1,
          0.1,
          0.1,
          0.1,
          0.1,
          0.1,
          0.1,
          0.1,
          0.1,
          0.1,
          0.1,
          0.1,
          0.1,
          0.1,
          0.1,
          0.1,
          0.1,
          0.1,
          0.1,
          0.1,
          0.1,
          0.1,
          0.1,
          0.1,
          0.1,
          0.1,
          0.1,
          0.1,
          0.1,
          0.1,
          0.09,
          0.09,
          0.09,
          0.09,
          0.09,
          0.09,
          0.09,
          0.09,
          0.09,
          0.09,
          0.09,
          0.09,
          0.09,
          0.09,
          0.09,
          0.09,
          0.09,
          0.09,
          0.09,
          0.09,
          0.09,
          0.09,
          0.09,
          0.09,
          0.09,
          0.09,
          0.09,
          0.09,
          0.09,
          0.09,
          0.09,
          0.09,
          0.09,
          0.09,
          0.09,
          0.09,
          0.09,
          0.09,
          0.09,
          0.09,
          0.09,
          0.09,
          0.09,
          0.09,
          0.09,
          0.09,
          0.09,
          0.09,
          0.09,
          0.09,
          0.09,
          0.09,
          0.09,
          0.09,
          0.09,
          0.09,
          0.09,
          0.09,
          0.09,
          0.09,
          0.09,
          0.09,
          0.09,
          0.09,
          0.09,
          0.09,
          0.09,
          0.09,
          0.09,
          0.09,
          0.09,
          0.09,
          0.09,
          0.09,
          0.09,
          0.09,
          0.09,
          0.09,
          0.09,
          0.09,
          0.09,
          0.09,
          0.09,
          0.08,
          0.08,
          0.08,
          0.08,
          0.08,
          0.08,
          0.08,
          0.08,
          0.08,
          0.08,
          0.08,
          0.08,
          0.08,
          0.08,
          0.08,
          0.08,
          0.08,
          0.08,
          0.08,
          0.08,
          0.08,
          0.08,
          0.08,
          0.08,
          0.08,
          0.08,
          0.08,
          0.08,
          0.08,
          0.08,
          0.08,
          0.08,
          0.08,
          0.08,
          0.08,
          0.08,
          0.08,
          0.08,
          0.08,
          0.08,
          0.08,
          0.08,
          0.08,
          0.08,
          0.08,
          0.08,
          0.08,
          0.08,
          0.08,
          0.08,
          0.08,
          0.08,
          0.08,
          0.08,
          0.08,
          0.08,
          0.08,
          0.08,
          0.08,
          0.08,
          0.08,
          0.08,
          0.08,
          0.08,
          0.08,
          0.08,
          0.08,
          0.08,
          0.08,
          0.08,
          0.08,
          0.08,
          0.08,
          0.08,
          0.08,
          0.08,
          0.08,
          0.08,
          0.08,
          0.08,
          0.08,
          0.08,
          0.08,
          0.08,
          0.08,
          0.08,
          0.08,
          0.08,
          0.08,
          0.08,
          0.08,
          0.08,
          0.08,
          0.08,
          0.08,
          0.08,
          0.08,
          0.08,
          0.07,
          0.07,
          0.07,
          0.07,
          0.07,
          0.07,
          0.07,
          0.07,
          0.07,
          0.07,
          0.07,
          0.07,
          0.07,
          0.07,
          0.07,
          0.07,
          0.07,
          0.07,
          0.07,
          0.07,
          0.07,
          0.07,
          0.07,
          0.07,
          0.07,
          0.07,
          0.07,
          0.07,
          0.07,
          0.07,
          0.07,
          0.07,
          0.07,
          0.07,
          0.07,
          0.07,
          0.07,
          0.07,
          0.07,
          0.07,
          0.07,
          0.07,
          0.07,
          0.07,
          0.07,
          0.07,
          0.07,
          0.07,
          0.07,
          0.07,
          0.07,
          0.07,
          0.07,
          0.07,
          0.07,
          0.07,
          0.07,
          0.07,
          0.07,
          0.07,
          0.07,
          0.07,
          0.07,
          0.07,
          0.07,
          0.07,
          0.07,
          0.07,
          0.07,
          0.07,
          0.07,
          0.07,
          0.07,
          0.07,
          0.07,
          0.07,
          0.07,
          0.07,
          0.07,
          0.07,
          0.07,
          0.06,
          0.06,
          0.06,
          0.06,
          0.06,
          0.06,
          0.06,
          0.06,
          0.06,
          0.06,
          0.06,
          0.06,
          0.06,
          0.06,
          0.06,
          0.06,
          0.06,
          0.06,
          0.06,
          0.06,
          0.06,
          0.06,
          0.06,
          0.06,
          0.06,
          0.06,
          0.06,
          0.06,
          0.06,
          0.06,
          0.06,
          0.06,
          0.06,
          0.06,
          0.06,
          0.06,
          0.06,
          0.06,
          0.06,
          0.06,
          0.06,
          0.06,
          0.06,
          0.06,
          0.06,
          0.06,
          0.06,
          0.06,
          0.06,
          0.06,
          0.06,
          0.06,
          0.06,
          0.06,
          0.06,
          0.06,
          0.06,
          0.06,
          0.06,
          0.06,
          0.06,
          0.06,
          0.06,
          0.06,
          0.06,
          0.06,
          0.06,
          0.06,
          0.06,
          0.06,
          0.06,
          0.06,
          0.06,
          0.06,
          0.06,
          0.06,
          0.06,
          0.06,
          0.06,
          0.06,
          0.06,
          0.06,
          0.06,
          0.06,
          0.06,
          0.06,
          0.06,
          0.06,
          0.06,
          0.06,
          0.06,
          0.06,
          0.06,
          0.06,
          0.06,
          0.05,
          0.05,
          0.05,
          0.05,
          0.05,
          0.05,
          0.05,
          0.05,
          0.05,
          0.05,
          0.05,
          0.05,
          0.05,
          0.05,
          0.05,
          0.05,
          0.05,
          0.05,
          0.05,
          0.05,
          0.05,
          0.05,
          0.05,
          0.05,
          0.05,
          0.05,
          0.05,
          0.05,
          0.05,
          0.05,
          0.05,
          0.05,
          0.05,
          0.05,
          0.05,
          0.05,
          0.05,
          0.05,
          0.05,
          0.05,
          0.05,
          0.05,
          0.05,
          0.05,
          0.05,
          0.05,
          0.05,
          0.05,
          0.05,
          0.05,
          0.05,
          0.05,
          0.05,
          0.05,
          0.05,
          0.05,
          0.05,
          0.05,
          0.05,
          0.05,
          0.05,
          0.05,
          0.05,
          0.05,
          0.05,
          0.05,
          0.05,
          0.05,
          0.05,
          0.05,
          0.05,
          0.05,
          0.05,
          0.05,
          0.05,
          0.05,
          0.05,
          0.05,
          0.05,
          0.05,
          0.05,
          0.05,
          0.05,
          0.05,
          0.05,
          0.05,
          0.05,
          0.05,
          0.05,
          0.05,
          0.05,
          0.04,
          0.04,
          0.04,
          0.04,
          0.04,
          0.04,
          0.04,
          0.04,
          0.04,
          0.04,
          0.04,
          0.04,
          0.04,
          0.04,
          0.04,
          0.04,
          0.04,
          0.04,
          0.04,
          0.04,
          0.04,
          0.04,
          0.04,
          0.04,
          0.04,
          0.04,
          0.04,
          0.04,
          0.04,
          0.04,
          0.04,
          0.04,
          0.04,
          0.04,
          0.04,
          0.04,
          0.04,
          0.04,
          0.04,
          0.04,
          0.04,
          0.04,
          0.04,
          0.04,
          0.04,
          0.04,
          0.04,
          0.04,
          0.04,
          0.04,
          0.04,
          0.04,
          0.04,
          0.04,
          0.04,
          0.04,
          0.04,
          0.04,
          0.04,
          0.04,
          0.04,
          0.04,
          0.04,
          0.04,
          0.04,
          0.04,
          0.04,
          0.04,
          0.04,
          0.04,
          0.04,
          0.04,
          0.04,
          0.04,
          0.04,
          0.04,
          0.04,
          0.04,
          0.04,
          0.04,
          0.04,
          0.04,
          0.04,
          0.04,
          0.04,
          0.03,
          0.03,
          0.03,
          0.03,
          0.03,
          0.03,
          0.03,
          0.03,
          0.03,
          0.03,
          0.03,
          0.03,
          0.03,
          0.03,
          0.03,
          0.03,
          0.03,
          0.03,
          0.03,
          0.03,
          0.03,
          0.03,
          0.03,
          0.03,
          0.03,
          0.03,
          0.03,
          0.03,
          0.03,
          0.03,
          0.03,
          0.03,
          0.03,
          0.03,
          0.03,
          0.03,
          0.03,
          0.03,
          0.03,
          0.03,
          0.03,
          0.03,
          0.03,
          0.03,
          0.03,
          0.03,
          0.03,
          0.03,
          0.03,
          0.03,
          0.03,
          0.03,
          0.03,
          0.03,
          0.03,
          0.03,
          0.03,
          0.03,
          0.03,
          0.03,
          0.03,
          0.03,
          0.03,
          0.03,
          0.03,
          0.03,
          0.03,
          0.03,
          0.03,
          0.03,
          0.03,
          0.03,
          0.03,
          0.03,
          0.03,
          0.03,
          0.03,
          0.03,
          0.03,
          0.03,
          0.03,
          0.03,
          0.03,
          0.03,
          0.03,
          0.03,
          0.03,
          0.02,
          0.02,
          0.02,
          0.02,
          0.02,
          0.02,
          0.02,
          0.02,
          0.02,
          0.02,
          0.02,
          0.02,
          0.02,
          0.02,
          0.02,
          0.02,
          0.02,
          0.02,
          0.02,
          0.02,
          0.02,
          0.02,
          0.02,
          0.02,
          0.02,
          0.02,
          0.02,
          0.02,
          0.02,
          0.02,
          0.02,
          0.02,
          0.02,
          0.02,
          0.02,
          0.02,
          0.02,
          0.02,
          0.02,
          0.02,
          0.02,
          0.02,
          0.02,
          0.02,
          0.02,
          0.02,
          0.02,
          0.02,
          0.02,
          0.02,
          0.02,
          0.02,
          0.02,
          0.02,
          0.02,
          0.02,
          0.02,
          0.02,
          0.02,
          0.02,
          0.02,
          0.02,
          0.02,
          0.02,
          0.02,
          0.02,
          0.02,
          0.02,
          0.02,
          0.02,
          0.02,
          0.02,
          0.02,
          0.02,
          0.02,
          0.02,
          0.02,
          0.02,
          0.02,
          0.02,
          0.02,
          0.02,
          0.02,
          0.01,
          0.01,
          0.01,
          0.01,
          0.01,
          0.01,
          0.01,
          0.01,
          0.01,
          0.01,
          0.01,
          0.01,
          0.01,
          0.01,
          0.01,
          0.01,
          0.01,
          0.01,
          0.01,
          0.01,
          0.01,
          0.01,
          0.01,
          0.01,
          0.01,
          0.01,
          0.01,
          0.01,
          0.01,
          0.01,
          0.01,
          0.01,
          0.01,
          0.01,
          0.01,
          0.01,
          0.01,
          0.01,
          0.01,
          0.01,
          0.01,
          0.01,
          0.01,
          0.01,
          0.01,
          0.01,
          0.01,
          0.01,
          0.01,
          0.01,
          0.01,
          0.01,
          0.01,
          0.01,
          0.01,
          0.01,
          0.01
         ],
         "y0": " ",
         "yaxis": "y"
        }
       ],
       "layout": {
        "boxmode": "group",
        "legend": {
         "tracegroupgap": 0
        },
        "margin": {
         "t": 60
        },
        "template": {
         "data": {
          "bar": [
           {
            "error_x": {
             "color": "#2a3f5f"
            },
            "error_y": {
             "color": "#2a3f5f"
            },
            "marker": {
             "line": {
              "color": "#E5ECF6",
              "width": 0.5
             },
             "pattern": {
              "fillmode": "overlay",
              "size": 10,
              "solidity": 0.2
             }
            },
            "type": "bar"
           }
          ],
          "barpolar": [
           {
            "marker": {
             "line": {
              "color": "#E5ECF6",
              "width": 0.5
             },
             "pattern": {
              "fillmode": "overlay",
              "size": 10,
              "solidity": 0.2
             }
            },
            "type": "barpolar"
           }
          ],
          "carpet": [
           {
            "aaxis": {
             "endlinecolor": "#2a3f5f",
             "gridcolor": "white",
             "linecolor": "white",
             "minorgridcolor": "white",
             "startlinecolor": "#2a3f5f"
            },
            "baxis": {
             "endlinecolor": "#2a3f5f",
             "gridcolor": "white",
             "linecolor": "white",
             "minorgridcolor": "white",
             "startlinecolor": "#2a3f5f"
            },
            "type": "carpet"
           }
          ],
          "choropleth": [
           {
            "colorbar": {
             "outlinewidth": 0,
             "ticks": ""
            },
            "type": "choropleth"
           }
          ],
          "contour": [
           {
            "colorbar": {
             "outlinewidth": 0,
             "ticks": ""
            },
            "colorscale": [
             [
              0,
              "#0d0887"
             ],
             [
              0.1111111111111111,
              "#46039f"
             ],
             [
              0.2222222222222222,
              "#7201a8"
             ],
             [
              0.3333333333333333,
              "#9c179e"
             ],
             [
              0.4444444444444444,
              "#bd3786"
             ],
             [
              0.5555555555555556,
              "#d8576b"
             ],
             [
              0.6666666666666666,
              "#ed7953"
             ],
             [
              0.7777777777777778,
              "#fb9f3a"
             ],
             [
              0.8888888888888888,
              "#fdca26"
             ],
             [
              1,
              "#f0f921"
             ]
            ],
            "type": "contour"
           }
          ],
          "contourcarpet": [
           {
            "colorbar": {
             "outlinewidth": 0,
             "ticks": ""
            },
            "type": "contourcarpet"
           }
          ],
          "heatmap": [
           {
            "colorbar": {
             "outlinewidth": 0,
             "ticks": ""
            },
            "colorscale": [
             [
              0,
              "#0d0887"
             ],
             [
              0.1111111111111111,
              "#46039f"
             ],
             [
              0.2222222222222222,
              "#7201a8"
             ],
             [
              0.3333333333333333,
              "#9c179e"
             ],
             [
              0.4444444444444444,
              "#bd3786"
             ],
             [
              0.5555555555555556,
              "#d8576b"
             ],
             [
              0.6666666666666666,
              "#ed7953"
             ],
             [
              0.7777777777777778,
              "#fb9f3a"
             ],
             [
              0.8888888888888888,
              "#fdca26"
             ],
             [
              1,
              "#f0f921"
             ]
            ],
            "type": "heatmap"
           }
          ],
          "heatmapgl": [
           {
            "colorbar": {
             "outlinewidth": 0,
             "ticks": ""
            },
            "colorscale": [
             [
              0,
              "#0d0887"
             ],
             [
              0.1111111111111111,
              "#46039f"
             ],
             [
              0.2222222222222222,
              "#7201a8"
             ],
             [
              0.3333333333333333,
              "#9c179e"
             ],
             [
              0.4444444444444444,
              "#bd3786"
             ],
             [
              0.5555555555555556,
              "#d8576b"
             ],
             [
              0.6666666666666666,
              "#ed7953"
             ],
             [
              0.7777777777777778,
              "#fb9f3a"
             ],
             [
              0.8888888888888888,
              "#fdca26"
             ],
             [
              1,
              "#f0f921"
             ]
            ],
            "type": "heatmapgl"
           }
          ],
          "histogram": [
           {
            "marker": {
             "pattern": {
              "fillmode": "overlay",
              "size": 10,
              "solidity": 0.2
             }
            },
            "type": "histogram"
           }
          ],
          "histogram2d": [
           {
            "colorbar": {
             "outlinewidth": 0,
             "ticks": ""
            },
            "colorscale": [
             [
              0,
              "#0d0887"
             ],
             [
              0.1111111111111111,
              "#46039f"
             ],
             [
              0.2222222222222222,
              "#7201a8"
             ],
             [
              0.3333333333333333,
              "#9c179e"
             ],
             [
              0.4444444444444444,
              "#bd3786"
             ],
             [
              0.5555555555555556,
              "#d8576b"
             ],
             [
              0.6666666666666666,
              "#ed7953"
             ],
             [
              0.7777777777777778,
              "#fb9f3a"
             ],
             [
              0.8888888888888888,
              "#fdca26"
             ],
             [
              1,
              "#f0f921"
             ]
            ],
            "type": "histogram2d"
           }
          ],
          "histogram2dcontour": [
           {
            "colorbar": {
             "outlinewidth": 0,
             "ticks": ""
            },
            "colorscale": [
             [
              0,
              "#0d0887"
             ],
             [
              0.1111111111111111,
              "#46039f"
             ],
             [
              0.2222222222222222,
              "#7201a8"
             ],
             [
              0.3333333333333333,
              "#9c179e"
             ],
             [
              0.4444444444444444,
              "#bd3786"
             ],
             [
              0.5555555555555556,
              "#d8576b"
             ],
             [
              0.6666666666666666,
              "#ed7953"
             ],
             [
              0.7777777777777778,
              "#fb9f3a"
             ],
             [
              0.8888888888888888,
              "#fdca26"
             ],
             [
              1,
              "#f0f921"
             ]
            ],
            "type": "histogram2dcontour"
           }
          ],
          "mesh3d": [
           {
            "colorbar": {
             "outlinewidth": 0,
             "ticks": ""
            },
            "type": "mesh3d"
           }
          ],
          "parcoords": [
           {
            "line": {
             "colorbar": {
              "outlinewidth": 0,
              "ticks": ""
             }
            },
            "type": "parcoords"
           }
          ],
          "pie": [
           {
            "automargin": true,
            "type": "pie"
           }
          ],
          "scatter": [
           {
            "fillpattern": {
             "fillmode": "overlay",
             "size": 10,
             "solidity": 0.2
            },
            "type": "scatter"
           }
          ],
          "scatter3d": [
           {
            "line": {
             "colorbar": {
              "outlinewidth": 0,
              "ticks": ""
             }
            },
            "marker": {
             "colorbar": {
              "outlinewidth": 0,
              "ticks": ""
             }
            },
            "type": "scatter3d"
           }
          ],
          "scattercarpet": [
           {
            "marker": {
             "colorbar": {
              "outlinewidth": 0,
              "ticks": ""
             }
            },
            "type": "scattercarpet"
           }
          ],
          "scattergeo": [
           {
            "marker": {
             "colorbar": {
              "outlinewidth": 0,
              "ticks": ""
             }
            },
            "type": "scattergeo"
           }
          ],
          "scattergl": [
           {
            "marker": {
             "colorbar": {
              "outlinewidth": 0,
              "ticks": ""
             }
            },
            "type": "scattergl"
           }
          ],
          "scattermapbox": [
           {
            "marker": {
             "colorbar": {
              "outlinewidth": 0,
              "ticks": ""
             }
            },
            "type": "scattermapbox"
           }
          ],
          "scatterpolar": [
           {
            "marker": {
             "colorbar": {
              "outlinewidth": 0,
              "ticks": ""
             }
            },
            "type": "scatterpolar"
           }
          ],
          "scatterpolargl": [
           {
            "marker": {
             "colorbar": {
              "outlinewidth": 0,
              "ticks": ""
             }
            },
            "type": "scatterpolargl"
           }
          ],
          "scatterternary": [
           {
            "marker": {
             "colorbar": {
              "outlinewidth": 0,
              "ticks": ""
             }
            },
            "type": "scatterternary"
           }
          ],
          "surface": [
           {
            "colorbar": {
             "outlinewidth": 0,
             "ticks": ""
            },
            "colorscale": [
             [
              0,
              "#0d0887"
             ],
             [
              0.1111111111111111,
              "#46039f"
             ],
             [
              0.2222222222222222,
              "#7201a8"
             ],
             [
              0.3333333333333333,
              "#9c179e"
             ],
             [
              0.4444444444444444,
              "#bd3786"
             ],
             [
              0.5555555555555556,
              "#d8576b"
             ],
             [
              0.6666666666666666,
              "#ed7953"
             ],
             [
              0.7777777777777778,
              "#fb9f3a"
             ],
             [
              0.8888888888888888,
              "#fdca26"
             ],
             [
              1,
              "#f0f921"
             ]
            ],
            "type": "surface"
           }
          ],
          "table": [
           {
            "cells": {
             "fill": {
              "color": "#EBF0F8"
             },
             "line": {
              "color": "white"
             }
            },
            "header": {
             "fill": {
              "color": "#C8D4E3"
             },
             "line": {
              "color": "white"
             }
            },
            "type": "table"
           }
          ]
         },
         "layout": {
          "annotationdefaults": {
           "arrowcolor": "#2a3f5f",
           "arrowhead": 0,
           "arrowwidth": 1
          },
          "autotypenumbers": "strict",
          "coloraxis": {
           "colorbar": {
            "outlinewidth": 0,
            "ticks": ""
           }
          },
          "colorscale": {
           "diverging": [
            [
             0,
             "#8e0152"
            ],
            [
             0.1,
             "#c51b7d"
            ],
            [
             0.2,
             "#de77ae"
            ],
            [
             0.3,
             "#f1b6da"
            ],
            [
             0.4,
             "#fde0ef"
            ],
            [
             0.5,
             "#f7f7f7"
            ],
            [
             0.6,
             "#e6f5d0"
            ],
            [
             0.7,
             "#b8e186"
            ],
            [
             0.8,
             "#7fbc41"
            ],
            [
             0.9,
             "#4d9221"
            ],
            [
             1,
             "#276419"
            ]
           ],
           "sequential": [
            [
             0,
             "#0d0887"
            ],
            [
             0.1111111111111111,
             "#46039f"
            ],
            [
             0.2222222222222222,
             "#7201a8"
            ],
            [
             0.3333333333333333,
             "#9c179e"
            ],
            [
             0.4444444444444444,
             "#bd3786"
            ],
            [
             0.5555555555555556,
             "#d8576b"
            ],
            [
             0.6666666666666666,
             "#ed7953"
            ],
            [
             0.7777777777777778,
             "#fb9f3a"
            ],
            [
             0.8888888888888888,
             "#fdca26"
            ],
            [
             1,
             "#f0f921"
            ]
           ],
           "sequentialminus": [
            [
             0,
             "#0d0887"
            ],
            [
             0.1111111111111111,
             "#46039f"
            ],
            [
             0.2222222222222222,
             "#7201a8"
            ],
            [
             0.3333333333333333,
             "#9c179e"
            ],
            [
             0.4444444444444444,
             "#bd3786"
            ],
            [
             0.5555555555555556,
             "#d8576b"
            ],
            [
             0.6666666666666666,
             "#ed7953"
            ],
            [
             0.7777777777777778,
             "#fb9f3a"
            ],
            [
             0.8888888888888888,
             "#fdca26"
            ],
            [
             1,
             "#f0f921"
            ]
           ]
          },
          "colorway": [
           "#636efa",
           "#EF553B",
           "#00cc96",
           "#ab63fa",
           "#FFA15A",
           "#19d3f3",
           "#FF6692",
           "#B6E880",
           "#FF97FF",
           "#FECB52"
          ],
          "font": {
           "color": "#2a3f5f"
          },
          "geo": {
           "bgcolor": "white",
           "lakecolor": "white",
           "landcolor": "#E5ECF6",
           "showlakes": true,
           "showland": true,
           "subunitcolor": "white"
          },
          "hoverlabel": {
           "align": "left"
          },
          "hovermode": "closest",
          "mapbox": {
           "style": "light"
          },
          "paper_bgcolor": "white",
          "plot_bgcolor": "#E5ECF6",
          "polar": {
           "angularaxis": {
            "gridcolor": "white",
            "linecolor": "white",
            "ticks": ""
           },
           "bgcolor": "#E5ECF6",
           "radialaxis": {
            "gridcolor": "white",
            "linecolor": "white",
            "ticks": ""
           }
          },
          "scene": {
           "xaxis": {
            "backgroundcolor": "#E5ECF6",
            "gridcolor": "white",
            "gridwidth": 2,
            "linecolor": "white",
            "showbackground": true,
            "ticks": "",
            "zerolinecolor": "white"
           },
           "yaxis": {
            "backgroundcolor": "#E5ECF6",
            "gridcolor": "white",
            "gridwidth": 2,
            "linecolor": "white",
            "showbackground": true,
            "ticks": "",
            "zerolinecolor": "white"
           },
           "zaxis": {
            "backgroundcolor": "#E5ECF6",
            "gridcolor": "white",
            "gridwidth": 2,
            "linecolor": "white",
            "showbackground": true,
            "ticks": "",
            "zerolinecolor": "white"
           }
          },
          "shapedefaults": {
           "line": {
            "color": "#2a3f5f"
           }
          },
          "ternary": {
           "aaxis": {
            "gridcolor": "white",
            "linecolor": "white",
            "ticks": ""
           },
           "baxis": {
            "gridcolor": "white",
            "linecolor": "white",
            "ticks": ""
           },
           "bgcolor": "#E5ECF6",
           "caxis": {
            "gridcolor": "white",
            "linecolor": "white",
            "ticks": ""
           }
          },
          "title": {
           "x": 0.05
          },
          "xaxis": {
           "automargin": true,
           "gridcolor": "white",
           "linecolor": "white",
           "ticks": "",
           "title": {
            "standoff": 15
           },
           "zerolinecolor": "white",
           "zerolinewidth": 2
          },
          "yaxis": {
           "automargin": true,
           "gridcolor": "white",
           "linecolor": "white",
           "ticks": "",
           "title": {
            "standoff": 15
           },
           "zerolinecolor": "white",
           "zerolinewidth": 2
          }
         }
        },
        "xaxis": {
         "anchor": "y",
         "domain": [
          0,
          1
         ],
         "title": {
          "text": "Publisher"
         }
        },
        "yaxis": {
         "anchor": "x",
         "domain": [
          0,
          1
         ],
         "title": {
          "text": "Global_Sales"
         }
        }
       }
      }
     },
     "metadata": {},
     "output_type": "display_data"
    }
   ],
   "source": [
    "#publisher = vgData.groupby('Publisher')['Global_Sales'].mean().to_frame()\n",
    "publisher = vgData.groupby('Publisher')['Global_Sales'].sum().to_frame()\n",
    "publisher = publisher.reset_index()\n",
    "publisher.columns = ['Publisher', 'Sales']\n",
    "publisher = publisher.sort_values('Sales', ascending = False).head(5)\n",
    "publisher_list = list(publisher.Publisher)\n",
    "top_sales = vgData[vgData['Publisher'].isin(publisher_list)]\n",
    "\n",
    "# 시각화\n",
    "fig = px.box(top_sales, x='Publisher', y='Global_Sales')\n",
    "fig.show()"
   ]
  },
  {
   "cell_type": "markdown",
   "metadata": {},
   "source": [
    "* Nintendo사의 판매량이 다른 4개의 publisher와 비교했을 때, 전체적으로 높은 것을 확인\n",
    "* Nintendo사의 판매량 이상치를 확인, 이상치로 인해 비교 곤란\n",
    "--> 다른 형태의 시각화 필요"
   ]
  },
  {
   "cell_type": "code",
   "execution_count": 165,
   "metadata": {},
   "outputs": [
    {
     "data": {
      "text/plain": [
       "Electronic Arts                1339\n",
       "Activision                      966\n",
       "Ubisoft                         918\n",
       "Nintendo                        696\n",
       "Sony Computer Entertainment     682\n",
       "Name: Publisher, dtype: int64"
      ]
     },
     "execution_count": 165,
     "metadata": {},
     "output_type": "execute_result"
    }
   ],
   "source": [
    "top_sales['Publisher'].value_counts()"
   ]
  },
  {
   "cell_type": "markdown",
   "metadata": {},
   "source": [
    "#### Publisher별 장르 분포"
   ]
  },
  {
   "cell_type": "markdown",
   "metadata": {},
   "source": [
    "publisher별 장르 분포 시각화를 통해 publisher의 성향, 특징 파악 가능"
   ]
  },
  {
   "cell_type": "code",
   "execution_count": 224,
   "metadata": {},
   "outputs": [
    {
     "data": {
      "application/vnd.plotly.v1+json": {
       "config": {
        "plotlyServerURL": "https://plot.ly"
       },
       "data": [
        {
         "alignmentgroup": "True",
         "hovertemplate": "Genre=Sports<br>Publisher=%{x}<br>Global_Sales=%{y}<extra></extra>",
         "legendgroup": "Sports",
         "marker": {
          "color": "rgb(102, 197, 204)",
          "pattern": {
           "shape": ""
          }
         },
         "name": "Sports",
         "offsetgroup": "Sports",
         "orientation": "v",
         "showlegend": true,
         "textposition": "auto",
         "type": "bar",
         "x": [
          "Electronic Arts",
          "Nintendo",
          "Activision",
          "Sony Computer Entertainment",
          "Ubisoft"
         ],
         "xaxis": "x",
         "y": [
          468.69,
          218.01,
          75.16,
          59.39,
          23.42
         ],
         "yaxis": "y"
        },
        {
         "alignmentgroup": "True",
         "hovertemplate": "Genre=Platform<br>Publisher=%{x}<br>Global_Sales=%{y}<extra></extra>",
         "legendgroup": "Platform",
         "marker": {
          "color": "rgb(246, 207, 113)",
          "pattern": {
           "shape": ""
          }
         },
         "name": "Platform",
         "offsetgroup": "Platform",
         "orientation": "v",
         "showlegend": true,
         "textposition": "auto",
         "type": "bar",
         "x": [
          "Nintendo",
          "Sony Computer Entertainment",
          "Activision",
          "Ubisoft",
          "Electronic Arts"
         ],
         "xaxis": "x",
         "y": [
          426.18,
          104.06,
          33.4,
          21.06,
          6.529999999999999
         ],
         "yaxis": "y"
        },
        {
         "alignmentgroup": "True",
         "hovertemplate": "Genre=Shooter<br>Publisher=%{x}<br>Global_Sales=%{y}<extra></extra>",
         "legendgroup": "Shooter",
         "marker": {
          "color": "rgb(248, 156, 116)",
          "pattern": {
           "shape": ""
          }
         },
         "name": "Shooter",
         "offsetgroup": "Shooter",
         "orientation": "v",
         "showlegend": true,
         "textposition": "auto",
         "type": "bar",
         "x": [
          "Activision",
          "Electronic Arts",
          "Nintendo",
          "Ubisoft",
          "Sony Computer Entertainment"
         ],
         "xaxis": "x",
         "y": [
          295.4,
          158.26,
          69.69,
          67.65,
          57.52
         ],
         "yaxis": "y"
        },
        {
         "alignmentgroup": "True",
         "hovertemplate": "Genre=Role-Playing<br>Publisher=%{x}<br>Global_Sales=%{y}<extra></extra>",
         "legendgroup": "Role-Playing",
         "marker": {
          "color": "rgb(220, 176, 242)",
          "pattern": {
           "shape": ""
          }
         },
         "name": "Role-Playing",
         "offsetgroup": "Role-Playing",
         "orientation": "v",
         "showlegend": true,
         "textposition": "auto",
         "type": "bar",
         "x": [
          "Nintendo",
          "Activision",
          "Sony Computer Entertainment",
          "Electronic Arts",
          "Ubisoft"
         ],
         "xaxis": "x",
         "y": [
          284.57,
          46.79,
          44,
          35.3,
          16.76
         ],
         "yaxis": "y"
        },
        {
         "alignmentgroup": "True",
         "hovertemplate": "Genre=Misc<br>Publisher=%{x}<br>Global_Sales=%{y}<extra></extra>",
         "legendgroup": "Misc",
         "marker": {
          "color": "rgb(135, 197, 95)",
          "pattern": {
           "shape": ""
          }
         },
         "name": "Misc",
         "offsetgroup": "Misc",
         "orientation": "v",
         "showlegend": true,
         "textposition": "auto",
         "type": "bar",
         "x": [
          "Nintendo",
          "Ubisoft",
          "Sony Computer Entertainment",
          "Activision",
          "Electronic Arts"
         ],
         "xaxis": "x",
         "y": [
          180.67,
          97.53,
          80.8,
          76.55,
          19.74
         ],
         "yaxis": "y"
        },
        {
         "alignmentgroup": "True",
         "hovertemplate": "Genre=Racing<br>Publisher=%{x}<br>Global_Sales=%{y}<extra></extra>",
         "legendgroup": "Racing",
         "marker": {
          "color": "rgb(158, 185, 243)",
          "pattern": {
           "shape": ""
          }
         },
         "name": "Racing",
         "offsetgroup": "Racing",
         "orientation": "v",
         "showlegend": true,
         "textposition": "auto",
         "type": "bar",
         "x": [
          "Nintendo",
          "Electronic Arts",
          "Sony Computer Entertainment",
          "Activision",
          "Ubisoft"
         ],
         "xaxis": "x",
         "y": [
          151.3,
          145.77,
          110.57,
          16.99,
          15.83
         ],
         "yaxis": "y"
        },
        {
         "alignmentgroup": "True",
         "hovertemplate": "Genre=Action<br>Publisher=%{x}<br>Global_Sales=%{y}<extra></extra>",
         "legendgroup": "Action",
         "marker": {
          "color": "rgb(254, 136, 177)",
          "pattern": {
           "shape": ""
          }
         },
         "name": "Action",
         "offsetgroup": "Action",
         "orientation": "v",
         "showlegend": true,
         "textposition": "auto",
         "type": "bar",
         "x": [
          "Ubisoft",
          "Activision",
          "Nintendo",
          "Electronic Arts",
          "Sony Computer Entertainment"
         ],
         "xaxis": "x",
         "y": [
          142.94,
          141.82,
          128.1,
          115.34,
          94.52
         ],
         "yaxis": "y"
        },
        {
         "alignmentgroup": "True",
         "hovertemplate": "Genre=Puzzle<br>Publisher=%{x}<br>Global_Sales=%{y}<extra></extra>",
         "legendgroup": "Puzzle",
         "marker": {
          "color": "rgb(201, 219, 116)",
          "pattern": {
           "shape": ""
          }
         },
         "name": "Puzzle",
         "offsetgroup": "Puzzle",
         "orientation": "v",
         "showlegend": true,
         "textposition": "auto",
         "type": "bar",
         "x": [
          "Nintendo",
          "Ubisoft",
          "Electronic Arts",
          "Sony Computer Entertainment",
          "Activision"
         ],
         "xaxis": "x",
         "y": [
          124.88,
          6.33,
          4.55,
          3.71,
          1.06
         ],
         "yaxis": "y"
        },
        {
         "alignmentgroup": "True",
         "hovertemplate": "Genre=Simulation<br>Publisher=%{x}<br>Global_Sales=%{y}<extra></extra>",
         "legendgroup": "Simulation",
         "marker": {
          "color": "rgb(139, 224, 164)",
          "pattern": {
           "shape": ""
          }
         },
         "name": "Simulation",
         "offsetgroup": "Simulation",
         "orientation": "v",
         "showlegend": true,
         "textposition": "auto",
         "type": "bar",
         "x": [
          "Electronic Arts",
          "Nintendo",
          "Ubisoft",
          "Sony Computer Entertainment",
          "Activision"
         ],
         "xaxis": "x",
         "y": [
          89.53,
          85.25,
          44.48,
          8.67,
          8.26
         ],
         "yaxis": "y"
        },
        {
         "alignmentgroup": "True",
         "hovertemplate": "Genre=Fighting<br>Publisher=%{x}<br>Global_Sales=%{y}<extra></extra>",
         "legendgroup": "Fighting",
         "marker": {
          "color": "rgb(180, 151, 231)",
          "pattern": {
           "shape": ""
          }
         },
         "name": "Fighting",
         "offsetgroup": "Fighting",
         "orientation": "v",
         "showlegend": true,
         "textposition": "auto",
         "type": "bar",
         "x": [
          "Nintendo",
          "Electronic Arts",
          "Sony Computer Entertainment",
          "Ubisoft",
          "Activision"
         ],
         "xaxis": "x",
         "y": [
          53.35,
          30.85,
          28.150000000000002,
          6.9,
          2.86
         ],
         "yaxis": "y"
        },
        {
         "alignmentgroup": "True",
         "hovertemplate": "Genre=Adventure<br>Publisher=%{x}<br>Global_Sales=%{y}<extra></extra>",
         "legendgroup": "Adventure",
         "marker": {
          "color": "rgb(179, 179, 179)",
          "pattern": {
           "shape": ""
          }
         },
         "name": "Adventure",
         "offsetgroup": "Adventure",
         "orientation": "v",
         "showlegend": true,
         "textposition": "auto",
         "type": "bar",
         "x": [
          "Nintendo",
          "Ubisoft",
          "Sony Computer Entertainment",
          "Activision",
          "Electronic Arts"
         ],
         "xaxis": "x",
         "y": [
          35.71,
          22.19,
          13.55,
          5.42,
          4.75
         ],
         "yaxis": "y"
        },
        {
         "alignmentgroup": "True",
         "hovertemplate": "Genre=Strategy<br>Publisher=%{x}<br>Global_Sales=%{y}<extra></extra>",
         "legendgroup": "Strategy",
         "marker": {
          "color": "rgb(102, 197, 204)",
          "pattern": {
           "shape": ""
          }
         },
         "name": "Strategy",
         "offsetgroup": "Strategy",
         "orientation": "v",
         "showlegend": true,
         "textposition": "auto",
         "type": "bar",
         "x": [
          "Nintendo",
          "Activision",
          "Electronic Arts",
          "Ubisoft",
          "Sony Computer Entertainment"
         ],
         "xaxis": "x",
         "y": [
          26.72,
          17.7,
          14.08,
          8.45,
          2.34
         ],
         "yaxis": "y"
        }
       ],
       "layout": {
        "barmode": "relative",
        "legend": {
         "title": {
          "text": "Genre"
         },
         "tracegroupgap": 0
        },
        "template": {
         "data": {
          "bar": [
           {
            "error_x": {
             "color": "#2a3f5f"
            },
            "error_y": {
             "color": "#2a3f5f"
            },
            "marker": {
             "line": {
              "color": "#E5ECF6",
              "width": 0.5
             },
             "pattern": {
              "fillmode": "overlay",
              "size": 10,
              "solidity": 0.2
             }
            },
            "type": "bar"
           }
          ],
          "barpolar": [
           {
            "marker": {
             "line": {
              "color": "#E5ECF6",
              "width": 0.5
             },
             "pattern": {
              "fillmode": "overlay",
              "size": 10,
              "solidity": 0.2
             }
            },
            "type": "barpolar"
           }
          ],
          "carpet": [
           {
            "aaxis": {
             "endlinecolor": "#2a3f5f",
             "gridcolor": "white",
             "linecolor": "white",
             "minorgridcolor": "white",
             "startlinecolor": "#2a3f5f"
            },
            "baxis": {
             "endlinecolor": "#2a3f5f",
             "gridcolor": "white",
             "linecolor": "white",
             "minorgridcolor": "white",
             "startlinecolor": "#2a3f5f"
            },
            "type": "carpet"
           }
          ],
          "choropleth": [
           {
            "colorbar": {
             "outlinewidth": 0,
             "ticks": ""
            },
            "type": "choropleth"
           }
          ],
          "contour": [
           {
            "colorbar": {
             "outlinewidth": 0,
             "ticks": ""
            },
            "colorscale": [
             [
              0,
              "#0d0887"
             ],
             [
              0.1111111111111111,
              "#46039f"
             ],
             [
              0.2222222222222222,
              "#7201a8"
             ],
             [
              0.3333333333333333,
              "#9c179e"
             ],
             [
              0.4444444444444444,
              "#bd3786"
             ],
             [
              0.5555555555555556,
              "#d8576b"
             ],
             [
              0.6666666666666666,
              "#ed7953"
             ],
             [
              0.7777777777777778,
              "#fb9f3a"
             ],
             [
              0.8888888888888888,
              "#fdca26"
             ],
             [
              1,
              "#f0f921"
             ]
            ],
            "type": "contour"
           }
          ],
          "contourcarpet": [
           {
            "colorbar": {
             "outlinewidth": 0,
             "ticks": ""
            },
            "type": "contourcarpet"
           }
          ],
          "heatmap": [
           {
            "colorbar": {
             "outlinewidth": 0,
             "ticks": ""
            },
            "colorscale": [
             [
              0,
              "#0d0887"
             ],
             [
              0.1111111111111111,
              "#46039f"
             ],
             [
              0.2222222222222222,
              "#7201a8"
             ],
             [
              0.3333333333333333,
              "#9c179e"
             ],
             [
              0.4444444444444444,
              "#bd3786"
             ],
             [
              0.5555555555555556,
              "#d8576b"
             ],
             [
              0.6666666666666666,
              "#ed7953"
             ],
             [
              0.7777777777777778,
              "#fb9f3a"
             ],
             [
              0.8888888888888888,
              "#fdca26"
             ],
             [
              1,
              "#f0f921"
             ]
            ],
            "type": "heatmap"
           }
          ],
          "heatmapgl": [
           {
            "colorbar": {
             "outlinewidth": 0,
             "ticks": ""
            },
            "colorscale": [
             [
              0,
              "#0d0887"
             ],
             [
              0.1111111111111111,
              "#46039f"
             ],
             [
              0.2222222222222222,
              "#7201a8"
             ],
             [
              0.3333333333333333,
              "#9c179e"
             ],
             [
              0.4444444444444444,
              "#bd3786"
             ],
             [
              0.5555555555555556,
              "#d8576b"
             ],
             [
              0.6666666666666666,
              "#ed7953"
             ],
             [
              0.7777777777777778,
              "#fb9f3a"
             ],
             [
              0.8888888888888888,
              "#fdca26"
             ],
             [
              1,
              "#f0f921"
             ]
            ],
            "type": "heatmapgl"
           }
          ],
          "histogram": [
           {
            "marker": {
             "pattern": {
              "fillmode": "overlay",
              "size": 10,
              "solidity": 0.2
             }
            },
            "type": "histogram"
           }
          ],
          "histogram2d": [
           {
            "colorbar": {
             "outlinewidth": 0,
             "ticks": ""
            },
            "colorscale": [
             [
              0,
              "#0d0887"
             ],
             [
              0.1111111111111111,
              "#46039f"
             ],
             [
              0.2222222222222222,
              "#7201a8"
             ],
             [
              0.3333333333333333,
              "#9c179e"
             ],
             [
              0.4444444444444444,
              "#bd3786"
             ],
             [
              0.5555555555555556,
              "#d8576b"
             ],
             [
              0.6666666666666666,
              "#ed7953"
             ],
             [
              0.7777777777777778,
              "#fb9f3a"
             ],
             [
              0.8888888888888888,
              "#fdca26"
             ],
             [
              1,
              "#f0f921"
             ]
            ],
            "type": "histogram2d"
           }
          ],
          "histogram2dcontour": [
           {
            "colorbar": {
             "outlinewidth": 0,
             "ticks": ""
            },
            "colorscale": [
             [
              0,
              "#0d0887"
             ],
             [
              0.1111111111111111,
              "#46039f"
             ],
             [
              0.2222222222222222,
              "#7201a8"
             ],
             [
              0.3333333333333333,
              "#9c179e"
             ],
             [
              0.4444444444444444,
              "#bd3786"
             ],
             [
              0.5555555555555556,
              "#d8576b"
             ],
             [
              0.6666666666666666,
              "#ed7953"
             ],
             [
              0.7777777777777778,
              "#fb9f3a"
             ],
             [
              0.8888888888888888,
              "#fdca26"
             ],
             [
              1,
              "#f0f921"
             ]
            ],
            "type": "histogram2dcontour"
           }
          ],
          "mesh3d": [
           {
            "colorbar": {
             "outlinewidth": 0,
             "ticks": ""
            },
            "type": "mesh3d"
           }
          ],
          "parcoords": [
           {
            "line": {
             "colorbar": {
              "outlinewidth": 0,
              "ticks": ""
             }
            },
            "type": "parcoords"
           }
          ],
          "pie": [
           {
            "automargin": true,
            "type": "pie"
           }
          ],
          "scatter": [
           {
            "fillpattern": {
             "fillmode": "overlay",
             "size": 10,
             "solidity": 0.2
            },
            "type": "scatter"
           }
          ],
          "scatter3d": [
           {
            "line": {
             "colorbar": {
              "outlinewidth": 0,
              "ticks": ""
             }
            },
            "marker": {
             "colorbar": {
              "outlinewidth": 0,
              "ticks": ""
             }
            },
            "type": "scatter3d"
           }
          ],
          "scattercarpet": [
           {
            "marker": {
             "colorbar": {
              "outlinewidth": 0,
              "ticks": ""
             }
            },
            "type": "scattercarpet"
           }
          ],
          "scattergeo": [
           {
            "marker": {
             "colorbar": {
              "outlinewidth": 0,
              "ticks": ""
             }
            },
            "type": "scattergeo"
           }
          ],
          "scattergl": [
           {
            "marker": {
             "colorbar": {
              "outlinewidth": 0,
              "ticks": ""
             }
            },
            "type": "scattergl"
           }
          ],
          "scattermapbox": [
           {
            "marker": {
             "colorbar": {
              "outlinewidth": 0,
              "ticks": ""
             }
            },
            "type": "scattermapbox"
           }
          ],
          "scatterpolar": [
           {
            "marker": {
             "colorbar": {
              "outlinewidth": 0,
              "ticks": ""
             }
            },
            "type": "scatterpolar"
           }
          ],
          "scatterpolargl": [
           {
            "marker": {
             "colorbar": {
              "outlinewidth": 0,
              "ticks": ""
             }
            },
            "type": "scatterpolargl"
           }
          ],
          "scatterternary": [
           {
            "marker": {
             "colorbar": {
              "outlinewidth": 0,
              "ticks": ""
             }
            },
            "type": "scatterternary"
           }
          ],
          "surface": [
           {
            "colorbar": {
             "outlinewidth": 0,
             "ticks": ""
            },
            "colorscale": [
             [
              0,
              "#0d0887"
             ],
             [
              0.1111111111111111,
              "#46039f"
             ],
             [
              0.2222222222222222,
              "#7201a8"
             ],
             [
              0.3333333333333333,
              "#9c179e"
             ],
             [
              0.4444444444444444,
              "#bd3786"
             ],
             [
              0.5555555555555556,
              "#d8576b"
             ],
             [
              0.6666666666666666,
              "#ed7953"
             ],
             [
              0.7777777777777778,
              "#fb9f3a"
             ],
             [
              0.8888888888888888,
              "#fdca26"
             ],
             [
              1,
              "#f0f921"
             ]
            ],
            "type": "surface"
           }
          ],
          "table": [
           {
            "cells": {
             "fill": {
              "color": "#EBF0F8"
             },
             "line": {
              "color": "white"
             }
            },
            "header": {
             "fill": {
              "color": "#C8D4E3"
             },
             "line": {
              "color": "white"
             }
            },
            "type": "table"
           }
          ]
         },
         "layout": {
          "annotationdefaults": {
           "arrowcolor": "#2a3f5f",
           "arrowhead": 0,
           "arrowwidth": 1
          },
          "autotypenumbers": "strict",
          "coloraxis": {
           "colorbar": {
            "outlinewidth": 0,
            "ticks": ""
           }
          },
          "colorscale": {
           "diverging": [
            [
             0,
             "#8e0152"
            ],
            [
             0.1,
             "#c51b7d"
            ],
            [
             0.2,
             "#de77ae"
            ],
            [
             0.3,
             "#f1b6da"
            ],
            [
             0.4,
             "#fde0ef"
            ],
            [
             0.5,
             "#f7f7f7"
            ],
            [
             0.6,
             "#e6f5d0"
            ],
            [
             0.7,
             "#b8e186"
            ],
            [
             0.8,
             "#7fbc41"
            ],
            [
             0.9,
             "#4d9221"
            ],
            [
             1,
             "#276419"
            ]
           ],
           "sequential": [
            [
             0,
             "#0d0887"
            ],
            [
             0.1111111111111111,
             "#46039f"
            ],
            [
             0.2222222222222222,
             "#7201a8"
            ],
            [
             0.3333333333333333,
             "#9c179e"
            ],
            [
             0.4444444444444444,
             "#bd3786"
            ],
            [
             0.5555555555555556,
             "#d8576b"
            ],
            [
             0.6666666666666666,
             "#ed7953"
            ],
            [
             0.7777777777777778,
             "#fb9f3a"
            ],
            [
             0.8888888888888888,
             "#fdca26"
            ],
            [
             1,
             "#f0f921"
            ]
           ],
           "sequentialminus": [
            [
             0,
             "#0d0887"
            ],
            [
             0.1111111111111111,
             "#46039f"
            ],
            [
             0.2222222222222222,
             "#7201a8"
            ],
            [
             0.3333333333333333,
             "#9c179e"
            ],
            [
             0.4444444444444444,
             "#bd3786"
            ],
            [
             0.5555555555555556,
             "#d8576b"
            ],
            [
             0.6666666666666666,
             "#ed7953"
            ],
            [
             0.7777777777777778,
             "#fb9f3a"
            ],
            [
             0.8888888888888888,
             "#fdca26"
            ],
            [
             1,
             "#f0f921"
            ]
           ]
          },
          "colorway": [
           "#636efa",
           "#EF553B",
           "#00cc96",
           "#ab63fa",
           "#FFA15A",
           "#19d3f3",
           "#FF6692",
           "#B6E880",
           "#FF97FF",
           "#FECB52"
          ],
          "font": {
           "color": "#2a3f5f"
          },
          "geo": {
           "bgcolor": "white",
           "lakecolor": "white",
           "landcolor": "#E5ECF6",
           "showlakes": true,
           "showland": true,
           "subunitcolor": "white"
          },
          "hoverlabel": {
           "align": "left"
          },
          "hovermode": "closest",
          "mapbox": {
           "style": "light"
          },
          "paper_bgcolor": "white",
          "plot_bgcolor": "#E5ECF6",
          "polar": {
           "angularaxis": {
            "gridcolor": "white",
            "linecolor": "white",
            "ticks": ""
           },
           "bgcolor": "#E5ECF6",
           "radialaxis": {
            "gridcolor": "white",
            "linecolor": "white",
            "ticks": ""
           }
          },
          "scene": {
           "xaxis": {
            "backgroundcolor": "#E5ECF6",
            "gridcolor": "white",
            "gridwidth": 2,
            "linecolor": "white",
            "showbackground": true,
            "ticks": "",
            "zerolinecolor": "white"
           },
           "yaxis": {
            "backgroundcolor": "#E5ECF6",
            "gridcolor": "white",
            "gridwidth": 2,
            "linecolor": "white",
            "showbackground": true,
            "ticks": "",
            "zerolinecolor": "white"
           },
           "zaxis": {
            "backgroundcolor": "#E5ECF6",
            "gridcolor": "white",
            "gridwidth": 2,
            "linecolor": "white",
            "showbackground": true,
            "ticks": "",
            "zerolinecolor": "white"
           }
          },
          "shapedefaults": {
           "line": {
            "color": "#2a3f5f"
           }
          },
          "ternary": {
           "aaxis": {
            "gridcolor": "white",
            "linecolor": "white",
            "ticks": ""
           },
           "baxis": {
            "gridcolor": "white",
            "linecolor": "white",
            "ticks": ""
           },
           "bgcolor": "#E5ECF6",
           "caxis": {
            "gridcolor": "white",
            "linecolor": "white",
            "ticks": ""
           }
          },
          "title": {
           "x": 0.05
          },
          "xaxis": {
           "automargin": true,
           "gridcolor": "white",
           "linecolor": "white",
           "ticks": "",
           "title": {
            "standoff": 15
           },
           "zerolinecolor": "white",
           "zerolinewidth": 2
          },
          "yaxis": {
           "automargin": true,
           "gridcolor": "white",
           "linecolor": "white",
           "ticks": "",
           "title": {
            "standoff": 15
           },
           "zerolinecolor": "white",
           "zerolinewidth": 2
          }
         }
        },
        "title": {
         "font": {
          "size": 20
         },
         "text": "<b>Top 5 Publisher Genre Distribution</b><sub>(unit: millions)</sub>"
        },
        "xaxis": {
         "anchor": "y",
         "domain": [
          0,
          1
         ],
         "title": {
          "text": "Publisher"
         }
        },
        "yaxis": {
         "anchor": "x",
         "domain": [
          0,
          1
         ],
         "title": {
          "text": "Global_Sales"
         }
        }
       }
      }
     },
     "metadata": {},
     "output_type": "display_data"
    }
   ],
   "source": [
    "# Top 5 Publisher(order by Global Sales)\n",
    "publisher = vgData.groupby('Publisher')['Global_Sales'].sum().to_frame()\n",
    "publisher = publisher.reset_index()\n",
    "publisher.columns = ['Publisher', 'Sales']\n",
    "publisher = publisher.sort_values('Sales', ascending = False).head(5)\n",
    "publisher_list = list(publisher.Publisher)\n",
    "\n",
    "# Top 5 Publisher Genres\n",
    "pub_gen = vgData.groupby(['Publisher', 'Genre'])['Global_Sales'].sum().to_frame()\n",
    "pub_gen = pub_gen.reset_index()\n",
    "pub_gen.columns = ['Publisher', 'Genre', 'Global_Sales']\n",
    "pub_gen = pub_gen.sort_values('Global_Sales', ascending = False)\n",
    "pub_gen = pub_gen[pub_gen['Publisher'].isin(publisher_list)]\n",
    "\n",
    "fig = px.bar(pub_gen, \n",
    "             x='Publisher', \n",
    "             y ='Global_Sales', \n",
    "             color = 'Genre',\n",
    "             title = '<b>Top 5 Publisher Genre Distribution</b><sub>(unit: millions)</sub>',\n",
    "             color_discrete_sequence=px.colors.qualitative.Pastel)\n",
    "fig.update_layout(\n",
    "    title_font_size = 20\n",
    ")\n",
    "fig.show()"
   ]
  },
  {
   "cell_type": "markdown",
   "metadata": {},
   "source": [
    "#### 지역별 선호 장르"
   ]
  },
  {
   "cell_type": "code",
   "execution_count": 180,
   "metadata": {},
   "outputs": [
    {
     "data": {
      "text/html": [
       "<div>\n",
       "<style scoped>\n",
       "    .dataframe tbody tr th:only-of-type {\n",
       "        vertical-align: middle;\n",
       "    }\n",
       "\n",
       "    .dataframe tbody tr th {\n",
       "        vertical-align: top;\n",
       "    }\n",
       "\n",
       "    .dataframe thead th {\n",
       "        text-align: right;\n",
       "    }\n",
       "</style>\n",
       "<table border=\"1\" class=\"dataframe\">\n",
       "  <thead>\n",
       "    <tr style=\"text-align: right;\">\n",
       "      <th></th>\n",
       "      <th>Rank</th>\n",
       "      <th>Name</th>\n",
       "      <th>Platform</th>\n",
       "      <th>Year</th>\n",
       "      <th>Genre</th>\n",
       "      <th>Publisher</th>\n",
       "      <th>NA_Sales</th>\n",
       "      <th>EU_Sales</th>\n",
       "      <th>JP_Sales</th>\n",
       "      <th>Other_Sales</th>\n",
       "      <th>Global_Sales</th>\n",
       "    </tr>\n",
       "  </thead>\n",
       "  <tbody>\n",
       "    <tr>\n",
       "      <th>0</th>\n",
       "      <td>1</td>\n",
       "      <td>Wii Sports</td>\n",
       "      <td>Wii</td>\n",
       "      <td>2006</td>\n",
       "      <td>Sports</td>\n",
       "      <td>Nintendo</td>\n",
       "      <td>41.49</td>\n",
       "      <td>29.02</td>\n",
       "      <td>3.77</td>\n",
       "      <td>8.46</td>\n",
       "      <td>82.74</td>\n",
       "    </tr>\n",
       "    <tr>\n",
       "      <th>1</th>\n",
       "      <td>2</td>\n",
       "      <td>Super Mario Bros.</td>\n",
       "      <td>NES</td>\n",
       "      <td>1985</td>\n",
       "      <td>Platform</td>\n",
       "      <td>Nintendo</td>\n",
       "      <td>29.08</td>\n",
       "      <td>3.58</td>\n",
       "      <td>6.81</td>\n",
       "      <td>0.77</td>\n",
       "      <td>40.24</td>\n",
       "    </tr>\n",
       "    <tr>\n",
       "      <th>2</th>\n",
       "      <td>3</td>\n",
       "      <td>Mario Kart Wii</td>\n",
       "      <td>Wii</td>\n",
       "      <td>2008</td>\n",
       "      <td>Racing</td>\n",
       "      <td>Nintendo</td>\n",
       "      <td>15.85</td>\n",
       "      <td>12.88</td>\n",
       "      <td>3.79</td>\n",
       "      <td>3.31</td>\n",
       "      <td>35.82</td>\n",
       "    </tr>\n",
       "    <tr>\n",
       "      <th>3</th>\n",
       "      <td>4</td>\n",
       "      <td>Wii Sports Resort</td>\n",
       "      <td>Wii</td>\n",
       "      <td>2009</td>\n",
       "      <td>Sports</td>\n",
       "      <td>Nintendo</td>\n",
       "      <td>15.75</td>\n",
       "      <td>11.01</td>\n",
       "      <td>3.28</td>\n",
       "      <td>2.96</td>\n",
       "      <td>33.00</td>\n",
       "    </tr>\n",
       "    <tr>\n",
       "      <th>4</th>\n",
       "      <td>5</td>\n",
       "      <td>Pokemon Red/Pokemon Blue</td>\n",
       "      <td>GB</td>\n",
       "      <td>1996</td>\n",
       "      <td>Role-Playing</td>\n",
       "      <td>Nintendo</td>\n",
       "      <td>11.27</td>\n",
       "      <td>8.89</td>\n",
       "      <td>10.22</td>\n",
       "      <td>1.00</td>\n",
       "      <td>31.37</td>\n",
       "    </tr>\n",
       "  </tbody>\n",
       "</table>\n",
       "</div>"
      ],
      "text/plain": [
       "   Rank                      Name Platform  Year         Genre Publisher  \\\n",
       "0     1                Wii Sports      Wii  2006        Sports  Nintendo   \n",
       "1     2         Super Mario Bros.      NES  1985      Platform  Nintendo   \n",
       "2     3            Mario Kart Wii      Wii  2008        Racing  Nintendo   \n",
       "3     4         Wii Sports Resort      Wii  2009        Sports  Nintendo   \n",
       "4     5  Pokemon Red/Pokemon Blue       GB  1996  Role-Playing  Nintendo   \n",
       "\n",
       "   NA_Sales  EU_Sales  JP_Sales  Other_Sales  Global_Sales  \n",
       "0     41.49     29.02      3.77         8.46         82.74  \n",
       "1     29.08      3.58      6.81         0.77         40.24  \n",
       "2     15.85     12.88      3.79         3.31         35.82  \n",
       "3     15.75     11.01      3.28         2.96         33.00  \n",
       "4     11.27      8.89     10.22         1.00         31.37  "
      ]
     },
     "execution_count": 180,
     "metadata": {},
     "output_type": "execute_result"
    }
   ],
   "source": [
    "vgData.head()"
   ]
  },
  {
   "cell_type": "code",
   "execution_count": 223,
   "metadata": {},
   "outputs": [
    {
     "data": {
      "application/vnd.plotly.v1+json": {
       "config": {
        "plotlyServerURL": "https://plot.ly"
       },
       "data": [
        {
         "alignmentgroup": "True",
         "hovertemplate": "Genre=Action<br>Country=%{x}<br>Sales=%{y}<extra></extra>",
         "legendgroup": "Action",
         "marker": {
          "color": "rgb(102, 197, 204)",
          "pattern": {
           "shape": ""
          }
         },
         "name": "Action",
         "offsetgroup": "Action",
         "orientation": "v",
         "showlegend": true,
         "textposition": "auto",
         "type": "bar",
         "x": [
          "North America",
          "Europe",
          "Japan",
          "Other"
         ],
         "xaxis": "x",
         "y": [
          861.77,
          516.48,
          861.77,
          861.77
         ],
         "yaxis": "y"
        },
        {
         "alignmentgroup": "True",
         "hovertemplate": "Genre=Adventure<br>Country=%{x}<br>Sales=%{y}<extra></extra>",
         "legendgroup": "Adventure",
         "marker": {
          "color": "rgb(246, 207, 113)",
          "pattern": {
           "shape": ""
          }
         },
         "name": "Adventure",
         "offsetgroup": "Adventure",
         "orientation": "v",
         "showlegend": true,
         "textposition": "auto",
         "type": "bar",
         "x": [
          "North America",
          "Europe",
          "Japan",
          "Other"
         ],
         "xaxis": "x",
         "y": [
          101.93,
          63.74,
          101.93,
          101.93
         ],
         "yaxis": "y"
        },
        {
         "alignmentgroup": "True",
         "hovertemplate": "Genre=Fighting<br>Country=%{x}<br>Sales=%{y}<extra></extra>",
         "legendgroup": "Fighting",
         "marker": {
          "color": "rgb(248, 156, 116)",
          "pattern": {
           "shape": ""
          }
         },
         "name": "Fighting",
         "offsetgroup": "Fighting",
         "orientation": "v",
         "showlegend": true,
         "textposition": "auto",
         "type": "bar",
         "x": [
          "North America",
          "Europe",
          "Japan",
          "Other"
         ],
         "xaxis": "x",
         "y": [
          220.74,
          100,
          220.74,
          220.74
         ],
         "yaxis": "y"
        },
        {
         "alignmentgroup": "True",
         "hovertemplate": "Genre=Misc<br>Country=%{x}<br>Sales=%{y}<extra></extra>",
         "legendgroup": "Misc",
         "marker": {
          "color": "rgb(220, 176, 242)",
          "pattern": {
           "shape": ""
          }
         },
         "name": "Misc",
         "offsetgroup": "Misc",
         "orientation": "v",
         "showlegend": true,
         "textposition": "auto",
         "type": "bar",
         "x": [
          "North America",
          "Europe",
          "Japan",
          "Other"
         ],
         "xaxis": "x",
         "y": [
          396.92,
          211.77,
          396.92,
          396.92
         ],
         "yaxis": "y"
        },
        {
         "alignmentgroup": "True",
         "hovertemplate": "Genre=Platform<br>Country=%{x}<br>Sales=%{y}<extra></extra>",
         "legendgroup": "Platform",
         "marker": {
          "color": "rgb(135, 197, 95)",
          "pattern": {
           "shape": ""
          }
         },
         "name": "Platform",
         "offsetgroup": "Platform",
         "orientation": "v",
         "showlegend": true,
         "textposition": "auto",
         "type": "bar",
         "x": [
          "North America",
          "Europe",
          "Japan",
          "Other"
         ],
         "xaxis": "x",
         "y": [
          445.99,
          200.65,
          445.99,
          445.99
         ],
         "yaxis": "y"
        },
        {
         "alignmentgroup": "True",
         "hovertemplate": "Genre=Puzzle<br>Country=%{x}<br>Sales=%{y}<extra></extra>",
         "legendgroup": "Puzzle",
         "marker": {
          "color": "rgb(158, 185, 243)",
          "pattern": {
           "shape": ""
          }
         },
         "name": "Puzzle",
         "offsetgroup": "Puzzle",
         "orientation": "v",
         "showlegend": true,
         "textposition": "auto",
         "type": "bar",
         "x": [
          "North America",
          "Europe",
          "Japan",
          "Other"
         ],
         "xaxis": "x",
         "y": [
          122.01,
          50.52,
          122.01,
          122.01
         ],
         "yaxis": "y"
        },
        {
         "alignmentgroup": "True",
         "hovertemplate": "Genre=Racing<br>Country=%{x}<br>Sales=%{y}<extra></extra>",
         "legendgroup": "Racing",
         "marker": {
          "color": "rgb(254, 136, 177)",
          "pattern": {
           "shape": ""
          }
         },
         "name": "Racing",
         "offsetgroup": "Racing",
         "orientation": "v",
         "showlegend": true,
         "textposition": "auto",
         "type": "bar",
         "x": [
          "North America",
          "Europe",
          "Japan",
          "Other"
         ],
         "xaxis": "x",
         "y": [
          356.93,
          236.31,
          356.93,
          356.93
         ],
         "yaxis": "y"
        },
        {
         "alignmentgroup": "True",
         "hovertemplate": "Genre=Role-Playing<br>Country=%{x}<br>Sales=%{y}<extra></extra>",
         "legendgroup": "Role-Playing",
         "marker": {
          "color": "rgb(201, 219, 116)",
          "pattern": {
           "shape": ""
          }
         },
         "name": "Role-Playing",
         "offsetgroup": "Role-Playing",
         "orientation": "v",
         "showlegend": true,
         "textposition": "auto",
         "type": "bar",
         "x": [
          "North America",
          "Europe",
          "Japan",
          "Other"
         ],
         "xaxis": "x",
         "y": [
          326.5,
          187.57,
          326.5,
          326.5
         ],
         "yaxis": "y"
        },
        {
         "alignmentgroup": "True",
         "hovertemplate": "Genre=Shooter<br>Country=%{x}<br>Sales=%{y}<extra></extra>",
         "legendgroup": "Shooter",
         "marker": {
          "color": "rgb(139, 224, 164)",
          "pattern": {
           "shape": ""
          }
         },
         "name": "Shooter",
         "offsetgroup": "Shooter",
         "orientation": "v",
         "showlegend": true,
         "textposition": "auto",
         "type": "bar",
         "x": [
          "North America",
          "Europe",
          "Japan",
          "Other"
         ],
         "xaxis": "x",
         "y": [
          575.16,
          310.45,
          575.16,
          575.16
         ],
         "yaxis": "y"
        },
        {
         "alignmentgroup": "True",
         "hovertemplate": "Genre=Simulation<br>Country=%{x}<br>Sales=%{y}<extra></extra>",
         "legendgroup": "Simulation",
         "marker": {
          "color": "rgb(180, 151, 231)",
          "pattern": {
           "shape": ""
          }
         },
         "name": "Simulation",
         "offsetgroup": "Simulation",
         "orientation": "v",
         "showlegend": true,
         "textposition": "auto",
         "type": "bar",
         "x": [
          "North America",
          "Europe",
          "Japan",
          "Other"
         ],
         "xaxis": "x",
         "y": [
          181.78,
          113.02,
          181.78,
          181.78
         ],
         "yaxis": "y"
        },
        {
         "alignmentgroup": "True",
         "hovertemplate": "Genre=Sports<br>Country=%{x}<br>Sales=%{y}<extra></extra>",
         "legendgroup": "Sports",
         "marker": {
          "color": "rgb(179, 179, 179)",
          "pattern": {
           "shape": ""
          }
         },
         "name": "Sports",
         "offsetgroup": "Sports",
         "orientation": "v",
         "showlegend": true,
         "textposition": "auto",
         "type": "bar",
         "x": [
          "North America",
          "Europe",
          "Japan",
          "Other"
         ],
         "xaxis": "x",
         "y": [
          670.09,
          371.34,
          670.09,
          670.09
         ],
         "yaxis": "y"
        },
        {
         "alignmentgroup": "True",
         "hovertemplate": "Genre=Strategy<br>Country=%{x}<br>Sales=%{y}<extra></extra>",
         "legendgroup": "Strategy",
         "marker": {
          "color": "rgb(102, 197, 204)",
          "pattern": {
           "shape": ""
          }
         },
         "name": "Strategy",
         "offsetgroup": "Strategy",
         "orientation": "v",
         "showlegend": true,
         "textposition": "auto",
         "type": "bar",
         "x": [
          "North America",
          "Europe",
          "Japan",
          "Other"
         ],
         "xaxis": "x",
         "y": [
          67.83,
          44.84,
          67.83,
          67.83
         ],
         "yaxis": "y"
        }
       ],
       "layout": {
        "barmode": "group",
        "legend": {
         "title": {
          "text": "Genre"
         },
         "tracegroupgap": 0
        },
        "template": {
         "data": {
          "bar": [
           {
            "error_x": {
             "color": "#2a3f5f"
            },
            "error_y": {
             "color": "#2a3f5f"
            },
            "marker": {
             "line": {
              "color": "#E5ECF6",
              "width": 0.5
             },
             "pattern": {
              "fillmode": "overlay",
              "size": 10,
              "solidity": 0.2
             }
            },
            "type": "bar"
           }
          ],
          "barpolar": [
           {
            "marker": {
             "line": {
              "color": "#E5ECF6",
              "width": 0.5
             },
             "pattern": {
              "fillmode": "overlay",
              "size": 10,
              "solidity": 0.2
             }
            },
            "type": "barpolar"
           }
          ],
          "carpet": [
           {
            "aaxis": {
             "endlinecolor": "#2a3f5f",
             "gridcolor": "white",
             "linecolor": "white",
             "minorgridcolor": "white",
             "startlinecolor": "#2a3f5f"
            },
            "baxis": {
             "endlinecolor": "#2a3f5f",
             "gridcolor": "white",
             "linecolor": "white",
             "minorgridcolor": "white",
             "startlinecolor": "#2a3f5f"
            },
            "type": "carpet"
           }
          ],
          "choropleth": [
           {
            "colorbar": {
             "outlinewidth": 0,
             "ticks": ""
            },
            "type": "choropleth"
           }
          ],
          "contour": [
           {
            "colorbar": {
             "outlinewidth": 0,
             "ticks": ""
            },
            "colorscale": [
             [
              0,
              "#0d0887"
             ],
             [
              0.1111111111111111,
              "#46039f"
             ],
             [
              0.2222222222222222,
              "#7201a8"
             ],
             [
              0.3333333333333333,
              "#9c179e"
             ],
             [
              0.4444444444444444,
              "#bd3786"
             ],
             [
              0.5555555555555556,
              "#d8576b"
             ],
             [
              0.6666666666666666,
              "#ed7953"
             ],
             [
              0.7777777777777778,
              "#fb9f3a"
             ],
             [
              0.8888888888888888,
              "#fdca26"
             ],
             [
              1,
              "#f0f921"
             ]
            ],
            "type": "contour"
           }
          ],
          "contourcarpet": [
           {
            "colorbar": {
             "outlinewidth": 0,
             "ticks": ""
            },
            "type": "contourcarpet"
           }
          ],
          "heatmap": [
           {
            "colorbar": {
             "outlinewidth": 0,
             "ticks": ""
            },
            "colorscale": [
             [
              0,
              "#0d0887"
             ],
             [
              0.1111111111111111,
              "#46039f"
             ],
             [
              0.2222222222222222,
              "#7201a8"
             ],
             [
              0.3333333333333333,
              "#9c179e"
             ],
             [
              0.4444444444444444,
              "#bd3786"
             ],
             [
              0.5555555555555556,
              "#d8576b"
             ],
             [
              0.6666666666666666,
              "#ed7953"
             ],
             [
              0.7777777777777778,
              "#fb9f3a"
             ],
             [
              0.8888888888888888,
              "#fdca26"
             ],
             [
              1,
              "#f0f921"
             ]
            ],
            "type": "heatmap"
           }
          ],
          "heatmapgl": [
           {
            "colorbar": {
             "outlinewidth": 0,
             "ticks": ""
            },
            "colorscale": [
             [
              0,
              "#0d0887"
             ],
             [
              0.1111111111111111,
              "#46039f"
             ],
             [
              0.2222222222222222,
              "#7201a8"
             ],
             [
              0.3333333333333333,
              "#9c179e"
             ],
             [
              0.4444444444444444,
              "#bd3786"
             ],
             [
              0.5555555555555556,
              "#d8576b"
             ],
             [
              0.6666666666666666,
              "#ed7953"
             ],
             [
              0.7777777777777778,
              "#fb9f3a"
             ],
             [
              0.8888888888888888,
              "#fdca26"
             ],
             [
              1,
              "#f0f921"
             ]
            ],
            "type": "heatmapgl"
           }
          ],
          "histogram": [
           {
            "marker": {
             "pattern": {
              "fillmode": "overlay",
              "size": 10,
              "solidity": 0.2
             }
            },
            "type": "histogram"
           }
          ],
          "histogram2d": [
           {
            "colorbar": {
             "outlinewidth": 0,
             "ticks": ""
            },
            "colorscale": [
             [
              0,
              "#0d0887"
             ],
             [
              0.1111111111111111,
              "#46039f"
             ],
             [
              0.2222222222222222,
              "#7201a8"
             ],
             [
              0.3333333333333333,
              "#9c179e"
             ],
             [
              0.4444444444444444,
              "#bd3786"
             ],
             [
              0.5555555555555556,
              "#d8576b"
             ],
             [
              0.6666666666666666,
              "#ed7953"
             ],
             [
              0.7777777777777778,
              "#fb9f3a"
             ],
             [
              0.8888888888888888,
              "#fdca26"
             ],
             [
              1,
              "#f0f921"
             ]
            ],
            "type": "histogram2d"
           }
          ],
          "histogram2dcontour": [
           {
            "colorbar": {
             "outlinewidth": 0,
             "ticks": ""
            },
            "colorscale": [
             [
              0,
              "#0d0887"
             ],
             [
              0.1111111111111111,
              "#46039f"
             ],
             [
              0.2222222222222222,
              "#7201a8"
             ],
             [
              0.3333333333333333,
              "#9c179e"
             ],
             [
              0.4444444444444444,
              "#bd3786"
             ],
             [
              0.5555555555555556,
              "#d8576b"
             ],
             [
              0.6666666666666666,
              "#ed7953"
             ],
             [
              0.7777777777777778,
              "#fb9f3a"
             ],
             [
              0.8888888888888888,
              "#fdca26"
             ],
             [
              1,
              "#f0f921"
             ]
            ],
            "type": "histogram2dcontour"
           }
          ],
          "mesh3d": [
           {
            "colorbar": {
             "outlinewidth": 0,
             "ticks": ""
            },
            "type": "mesh3d"
           }
          ],
          "parcoords": [
           {
            "line": {
             "colorbar": {
              "outlinewidth": 0,
              "ticks": ""
             }
            },
            "type": "parcoords"
           }
          ],
          "pie": [
           {
            "automargin": true,
            "type": "pie"
           }
          ],
          "scatter": [
           {
            "fillpattern": {
             "fillmode": "overlay",
             "size": 10,
             "solidity": 0.2
            },
            "type": "scatter"
           }
          ],
          "scatter3d": [
           {
            "line": {
             "colorbar": {
              "outlinewidth": 0,
              "ticks": ""
             }
            },
            "marker": {
             "colorbar": {
              "outlinewidth": 0,
              "ticks": ""
             }
            },
            "type": "scatter3d"
           }
          ],
          "scattercarpet": [
           {
            "marker": {
             "colorbar": {
              "outlinewidth": 0,
              "ticks": ""
             }
            },
            "type": "scattercarpet"
           }
          ],
          "scattergeo": [
           {
            "marker": {
             "colorbar": {
              "outlinewidth": 0,
              "ticks": ""
             }
            },
            "type": "scattergeo"
           }
          ],
          "scattergl": [
           {
            "marker": {
             "colorbar": {
              "outlinewidth": 0,
              "ticks": ""
             }
            },
            "type": "scattergl"
           }
          ],
          "scattermapbox": [
           {
            "marker": {
             "colorbar": {
              "outlinewidth": 0,
              "ticks": ""
             }
            },
            "type": "scattermapbox"
           }
          ],
          "scatterpolar": [
           {
            "marker": {
             "colorbar": {
              "outlinewidth": 0,
              "ticks": ""
             }
            },
            "type": "scatterpolar"
           }
          ],
          "scatterpolargl": [
           {
            "marker": {
             "colorbar": {
              "outlinewidth": 0,
              "ticks": ""
             }
            },
            "type": "scatterpolargl"
           }
          ],
          "scatterternary": [
           {
            "marker": {
             "colorbar": {
              "outlinewidth": 0,
              "ticks": ""
             }
            },
            "type": "scatterternary"
           }
          ],
          "surface": [
           {
            "colorbar": {
             "outlinewidth": 0,
             "ticks": ""
            },
            "colorscale": [
             [
              0,
              "#0d0887"
             ],
             [
              0.1111111111111111,
              "#46039f"
             ],
             [
              0.2222222222222222,
              "#7201a8"
             ],
             [
              0.3333333333333333,
              "#9c179e"
             ],
             [
              0.4444444444444444,
              "#bd3786"
             ],
             [
              0.5555555555555556,
              "#d8576b"
             ],
             [
              0.6666666666666666,
              "#ed7953"
             ],
             [
              0.7777777777777778,
              "#fb9f3a"
             ],
             [
              0.8888888888888888,
              "#fdca26"
             ],
             [
              1,
              "#f0f921"
             ]
            ],
            "type": "surface"
           }
          ],
          "table": [
           {
            "cells": {
             "fill": {
              "color": "#EBF0F8"
             },
             "line": {
              "color": "white"
             }
            },
            "header": {
             "fill": {
              "color": "#C8D4E3"
             },
             "line": {
              "color": "white"
             }
            },
            "type": "table"
           }
          ]
         },
         "layout": {
          "annotationdefaults": {
           "arrowcolor": "#2a3f5f",
           "arrowhead": 0,
           "arrowwidth": 1
          },
          "autotypenumbers": "strict",
          "coloraxis": {
           "colorbar": {
            "outlinewidth": 0,
            "ticks": ""
           }
          },
          "colorscale": {
           "diverging": [
            [
             0,
             "#8e0152"
            ],
            [
             0.1,
             "#c51b7d"
            ],
            [
             0.2,
             "#de77ae"
            ],
            [
             0.3,
             "#f1b6da"
            ],
            [
             0.4,
             "#fde0ef"
            ],
            [
             0.5,
             "#f7f7f7"
            ],
            [
             0.6,
             "#e6f5d0"
            ],
            [
             0.7,
             "#b8e186"
            ],
            [
             0.8,
             "#7fbc41"
            ],
            [
             0.9,
             "#4d9221"
            ],
            [
             1,
             "#276419"
            ]
           ],
           "sequential": [
            [
             0,
             "#0d0887"
            ],
            [
             0.1111111111111111,
             "#46039f"
            ],
            [
             0.2222222222222222,
             "#7201a8"
            ],
            [
             0.3333333333333333,
             "#9c179e"
            ],
            [
             0.4444444444444444,
             "#bd3786"
            ],
            [
             0.5555555555555556,
             "#d8576b"
            ],
            [
             0.6666666666666666,
             "#ed7953"
            ],
            [
             0.7777777777777778,
             "#fb9f3a"
            ],
            [
             0.8888888888888888,
             "#fdca26"
            ],
            [
             1,
             "#f0f921"
            ]
           ],
           "sequentialminus": [
            [
             0,
             "#0d0887"
            ],
            [
             0.1111111111111111,
             "#46039f"
            ],
            [
             0.2222222222222222,
             "#7201a8"
            ],
            [
             0.3333333333333333,
             "#9c179e"
            ],
            [
             0.4444444444444444,
             "#bd3786"
            ],
            [
             0.5555555555555556,
             "#d8576b"
            ],
            [
             0.6666666666666666,
             "#ed7953"
            ],
            [
             0.7777777777777778,
             "#fb9f3a"
            ],
            [
             0.8888888888888888,
             "#fdca26"
            ],
            [
             1,
             "#f0f921"
            ]
           ]
          },
          "colorway": [
           "#636efa",
           "#EF553B",
           "#00cc96",
           "#ab63fa",
           "#FFA15A",
           "#19d3f3",
           "#FF6692",
           "#B6E880",
           "#FF97FF",
           "#FECB52"
          ],
          "font": {
           "color": "#2a3f5f"
          },
          "geo": {
           "bgcolor": "white",
           "lakecolor": "white",
           "landcolor": "#E5ECF6",
           "showlakes": true,
           "showland": true,
           "subunitcolor": "white"
          },
          "hoverlabel": {
           "align": "left"
          },
          "hovermode": "closest",
          "mapbox": {
           "style": "light"
          },
          "paper_bgcolor": "white",
          "plot_bgcolor": "#E5ECF6",
          "polar": {
           "angularaxis": {
            "gridcolor": "white",
            "linecolor": "white",
            "ticks": ""
           },
           "bgcolor": "#E5ECF6",
           "radialaxis": {
            "gridcolor": "white",
            "linecolor": "white",
            "ticks": ""
           }
          },
          "scene": {
           "xaxis": {
            "backgroundcolor": "#E5ECF6",
            "gridcolor": "white",
            "gridwidth": 2,
            "linecolor": "white",
            "showbackground": true,
            "ticks": "",
            "zerolinecolor": "white"
           },
           "yaxis": {
            "backgroundcolor": "#E5ECF6",
            "gridcolor": "white",
            "gridwidth": 2,
            "linecolor": "white",
            "showbackground": true,
            "ticks": "",
            "zerolinecolor": "white"
           },
           "zaxis": {
            "backgroundcolor": "#E5ECF6",
            "gridcolor": "white",
            "gridwidth": 2,
            "linecolor": "white",
            "showbackground": true,
            "ticks": "",
            "zerolinecolor": "white"
           }
          },
          "shapedefaults": {
           "line": {
            "color": "#2a3f5f"
           }
          },
          "ternary": {
           "aaxis": {
            "gridcolor": "white",
            "linecolor": "white",
            "ticks": ""
           },
           "baxis": {
            "gridcolor": "white",
            "linecolor": "white",
            "ticks": ""
           },
           "bgcolor": "#E5ECF6",
           "caxis": {
            "gridcolor": "white",
            "linecolor": "white",
            "ticks": ""
           }
          },
          "title": {
           "x": 0.05
          },
          "xaxis": {
           "automargin": true,
           "gridcolor": "white",
           "linecolor": "white",
           "ticks": "",
           "title": {
            "standoff": 15
           },
           "zerolinecolor": "white",
           "zerolinewidth": 2
          },
          "yaxis": {
           "automargin": true,
           "gridcolor": "white",
           "linecolor": "white",
           "ticks": "",
           "title": {
            "standoff": 15
           },
           "zerolinecolor": "white",
           "zerolinewidth": 2
          }
         }
        },
        "title": {
         "font": {
          "size": 20
         },
         "text": "<b>Favorite Genre By Area</b><sub>(unit: millions)</sub>"
        },
        "xaxis": {
         "anchor": "y",
         "domain": [
          0,
          1
         ],
         "title": {
          "text": "Country"
         }
        },
        "yaxis": {
         "anchor": "x",
         "domain": [
          0,
          1
         ],
         "title": {
          "text": "Sales"
         }
        }
       }
      }
     },
     "metadata": {},
     "output_type": "display_data"
    }
   ],
   "source": [
    "NA_Sales = vgData.groupby('Genre')['NA_Sales'].sum().to_frame().reset_index()\n",
    "NA_Sales.columns = ['Genre', 'Sales']\n",
    "NA_Sales['Country'] = 'North America'\n",
    "\n",
    "EU_Sales = vgData.groupby('Genre')['EU_Sales'].sum().to_frame().reset_index()\n",
    "EU_Sales.columns = ['Genre', 'Sales']\n",
    "EU_Sales['Country'] = 'Europe'\n",
    "\n",
    "JP_Sales = vgData.groupby('Genre')['NA_Sales'].sum().to_frame().reset_index()\n",
    "JP_Sales.columns = ['Genre', 'Sales']\n",
    "JP_Sales['Country'] = 'Japan'\n",
    "\n",
    "Other_Sales = vgData.groupby('Genre')['NA_Sales'].sum().to_frame().reset_index()\n",
    "Other_Sales.columns = ['Genre', 'Sales']\n",
    "Other_Sales['Country'] = 'Other'\n",
    "\n",
    "Sales = pd.concat([NA_Sales, EU_Sales, JP_Sales, Other_Sales])\n",
    "\n",
    "fig = px.bar(Sales, \n",
    "             x='Country', \n",
    "             y ='Sales', \n",
    "             color = 'Genre',\n",
    "             title = '<b>Favorite Genre By Area</b><sub>(unit: millions)</sub>',\n",
    "             color_discrete_sequence=px.colors.qualitative.Pastel,\n",
    "             barmode = 'group')\n",
    "fig.update_layout(\n",
    "    title_font_size = 20\n",
    ")\n",
    "fig.show()"
   ]
  },
  {
   "cell_type": "code",
   "execution_count": 222,
   "metadata": {},
   "outputs": [
    {
     "data": {
      "application/vnd.plotly.v1+json": {
       "config": {
        "plotlyServerURL": "https://plot.ly"
       },
       "data": [
        {
         "alignmentgroup": "True",
         "hovertemplate": "Genre=Action<br>Country=%{x}<br>Sales=%{y}<extra></extra>",
         "legendgroup": "Action",
         "marker": {
          "color": "rgb(102, 197, 204)",
          "pattern": {
           "shape": ""
          }
         },
         "name": "Action",
         "offsetgroup": "Action",
         "orientation": "v",
         "showlegend": true,
         "textposition": "auto",
         "type": "bar",
         "x": [
          "North America",
          "Europe",
          "Japan",
          "Other"
         ],
         "xaxis": "x",
         "y": [
          861.77,
          516.48,
          861.77,
          861.77
         ],
         "yaxis": "y"
        },
        {
         "alignmentgroup": "True",
         "hovertemplate": "Genre=Sports<br>Country=%{x}<br>Sales=%{y}<extra></extra>",
         "legendgroup": "Sports",
         "marker": {
          "color": "rgb(246, 207, 113)",
          "pattern": {
           "shape": ""
          }
         },
         "name": "Sports",
         "offsetgroup": "Sports",
         "orientation": "v",
         "showlegend": true,
         "textposition": "auto",
         "type": "bar",
         "x": [
          "North America",
          "Europe",
          "Japan",
          "Other"
         ],
         "xaxis": "x",
         "y": [
          670.09,
          371.34,
          670.09,
          670.09
         ],
         "yaxis": "y"
        },
        {
         "alignmentgroup": "True",
         "hovertemplate": "Genre=Shooter<br>Country=%{x}<br>Sales=%{y}<extra></extra>",
         "legendgroup": "Shooter",
         "marker": {
          "color": "rgb(248, 156, 116)",
          "pattern": {
           "shape": ""
          }
         },
         "name": "Shooter",
         "offsetgroup": "Shooter",
         "orientation": "v",
         "showlegend": true,
         "textposition": "auto",
         "type": "bar",
         "x": [
          "North America",
          "Europe",
          "Japan",
          "Other"
         ],
         "xaxis": "x",
         "y": [
          575.16,
          310.45,
          575.16,
          575.16
         ],
         "yaxis": "y"
        }
       ],
       "layout": {
        "barmode": "group",
        "legend": {
         "title": {
          "text": "Genre"
         },
         "tracegroupgap": 0
        },
        "template": {
         "data": {
          "bar": [
           {
            "error_x": {
             "color": "#2a3f5f"
            },
            "error_y": {
             "color": "#2a3f5f"
            },
            "marker": {
             "line": {
              "color": "#E5ECF6",
              "width": 0.5
             },
             "pattern": {
              "fillmode": "overlay",
              "size": 10,
              "solidity": 0.2
             }
            },
            "type": "bar"
           }
          ],
          "barpolar": [
           {
            "marker": {
             "line": {
              "color": "#E5ECF6",
              "width": 0.5
             },
             "pattern": {
              "fillmode": "overlay",
              "size": 10,
              "solidity": 0.2
             }
            },
            "type": "barpolar"
           }
          ],
          "carpet": [
           {
            "aaxis": {
             "endlinecolor": "#2a3f5f",
             "gridcolor": "white",
             "linecolor": "white",
             "minorgridcolor": "white",
             "startlinecolor": "#2a3f5f"
            },
            "baxis": {
             "endlinecolor": "#2a3f5f",
             "gridcolor": "white",
             "linecolor": "white",
             "minorgridcolor": "white",
             "startlinecolor": "#2a3f5f"
            },
            "type": "carpet"
           }
          ],
          "choropleth": [
           {
            "colorbar": {
             "outlinewidth": 0,
             "ticks": ""
            },
            "type": "choropleth"
           }
          ],
          "contour": [
           {
            "colorbar": {
             "outlinewidth": 0,
             "ticks": ""
            },
            "colorscale": [
             [
              0,
              "#0d0887"
             ],
             [
              0.1111111111111111,
              "#46039f"
             ],
             [
              0.2222222222222222,
              "#7201a8"
             ],
             [
              0.3333333333333333,
              "#9c179e"
             ],
             [
              0.4444444444444444,
              "#bd3786"
             ],
             [
              0.5555555555555556,
              "#d8576b"
             ],
             [
              0.6666666666666666,
              "#ed7953"
             ],
             [
              0.7777777777777778,
              "#fb9f3a"
             ],
             [
              0.8888888888888888,
              "#fdca26"
             ],
             [
              1,
              "#f0f921"
             ]
            ],
            "type": "contour"
           }
          ],
          "contourcarpet": [
           {
            "colorbar": {
             "outlinewidth": 0,
             "ticks": ""
            },
            "type": "contourcarpet"
           }
          ],
          "heatmap": [
           {
            "colorbar": {
             "outlinewidth": 0,
             "ticks": ""
            },
            "colorscale": [
             [
              0,
              "#0d0887"
             ],
             [
              0.1111111111111111,
              "#46039f"
             ],
             [
              0.2222222222222222,
              "#7201a8"
             ],
             [
              0.3333333333333333,
              "#9c179e"
             ],
             [
              0.4444444444444444,
              "#bd3786"
             ],
             [
              0.5555555555555556,
              "#d8576b"
             ],
             [
              0.6666666666666666,
              "#ed7953"
             ],
             [
              0.7777777777777778,
              "#fb9f3a"
             ],
             [
              0.8888888888888888,
              "#fdca26"
             ],
             [
              1,
              "#f0f921"
             ]
            ],
            "type": "heatmap"
           }
          ],
          "heatmapgl": [
           {
            "colorbar": {
             "outlinewidth": 0,
             "ticks": ""
            },
            "colorscale": [
             [
              0,
              "#0d0887"
             ],
             [
              0.1111111111111111,
              "#46039f"
             ],
             [
              0.2222222222222222,
              "#7201a8"
             ],
             [
              0.3333333333333333,
              "#9c179e"
             ],
             [
              0.4444444444444444,
              "#bd3786"
             ],
             [
              0.5555555555555556,
              "#d8576b"
             ],
             [
              0.6666666666666666,
              "#ed7953"
             ],
             [
              0.7777777777777778,
              "#fb9f3a"
             ],
             [
              0.8888888888888888,
              "#fdca26"
             ],
             [
              1,
              "#f0f921"
             ]
            ],
            "type": "heatmapgl"
           }
          ],
          "histogram": [
           {
            "marker": {
             "pattern": {
              "fillmode": "overlay",
              "size": 10,
              "solidity": 0.2
             }
            },
            "type": "histogram"
           }
          ],
          "histogram2d": [
           {
            "colorbar": {
             "outlinewidth": 0,
             "ticks": ""
            },
            "colorscale": [
             [
              0,
              "#0d0887"
             ],
             [
              0.1111111111111111,
              "#46039f"
             ],
             [
              0.2222222222222222,
              "#7201a8"
             ],
             [
              0.3333333333333333,
              "#9c179e"
             ],
             [
              0.4444444444444444,
              "#bd3786"
             ],
             [
              0.5555555555555556,
              "#d8576b"
             ],
             [
              0.6666666666666666,
              "#ed7953"
             ],
             [
              0.7777777777777778,
              "#fb9f3a"
             ],
             [
              0.8888888888888888,
              "#fdca26"
             ],
             [
              1,
              "#f0f921"
             ]
            ],
            "type": "histogram2d"
           }
          ],
          "histogram2dcontour": [
           {
            "colorbar": {
             "outlinewidth": 0,
             "ticks": ""
            },
            "colorscale": [
             [
              0,
              "#0d0887"
             ],
             [
              0.1111111111111111,
              "#46039f"
             ],
             [
              0.2222222222222222,
              "#7201a8"
             ],
             [
              0.3333333333333333,
              "#9c179e"
             ],
             [
              0.4444444444444444,
              "#bd3786"
             ],
             [
              0.5555555555555556,
              "#d8576b"
             ],
             [
              0.6666666666666666,
              "#ed7953"
             ],
             [
              0.7777777777777778,
              "#fb9f3a"
             ],
             [
              0.8888888888888888,
              "#fdca26"
             ],
             [
              1,
              "#f0f921"
             ]
            ],
            "type": "histogram2dcontour"
           }
          ],
          "mesh3d": [
           {
            "colorbar": {
             "outlinewidth": 0,
             "ticks": ""
            },
            "type": "mesh3d"
           }
          ],
          "parcoords": [
           {
            "line": {
             "colorbar": {
              "outlinewidth": 0,
              "ticks": ""
             }
            },
            "type": "parcoords"
           }
          ],
          "pie": [
           {
            "automargin": true,
            "type": "pie"
           }
          ],
          "scatter": [
           {
            "fillpattern": {
             "fillmode": "overlay",
             "size": 10,
             "solidity": 0.2
            },
            "type": "scatter"
           }
          ],
          "scatter3d": [
           {
            "line": {
             "colorbar": {
              "outlinewidth": 0,
              "ticks": ""
             }
            },
            "marker": {
             "colorbar": {
              "outlinewidth": 0,
              "ticks": ""
             }
            },
            "type": "scatter3d"
           }
          ],
          "scattercarpet": [
           {
            "marker": {
             "colorbar": {
              "outlinewidth": 0,
              "ticks": ""
             }
            },
            "type": "scattercarpet"
           }
          ],
          "scattergeo": [
           {
            "marker": {
             "colorbar": {
              "outlinewidth": 0,
              "ticks": ""
             }
            },
            "type": "scattergeo"
           }
          ],
          "scattergl": [
           {
            "marker": {
             "colorbar": {
              "outlinewidth": 0,
              "ticks": ""
             }
            },
            "type": "scattergl"
           }
          ],
          "scattermapbox": [
           {
            "marker": {
             "colorbar": {
              "outlinewidth": 0,
              "ticks": ""
             }
            },
            "type": "scattermapbox"
           }
          ],
          "scatterpolar": [
           {
            "marker": {
             "colorbar": {
              "outlinewidth": 0,
              "ticks": ""
             }
            },
            "type": "scatterpolar"
           }
          ],
          "scatterpolargl": [
           {
            "marker": {
             "colorbar": {
              "outlinewidth": 0,
              "ticks": ""
             }
            },
            "type": "scatterpolargl"
           }
          ],
          "scatterternary": [
           {
            "marker": {
             "colorbar": {
              "outlinewidth": 0,
              "ticks": ""
             }
            },
            "type": "scatterternary"
           }
          ],
          "surface": [
           {
            "colorbar": {
             "outlinewidth": 0,
             "ticks": ""
            },
            "colorscale": [
             [
              0,
              "#0d0887"
             ],
             [
              0.1111111111111111,
              "#46039f"
             ],
             [
              0.2222222222222222,
              "#7201a8"
             ],
             [
              0.3333333333333333,
              "#9c179e"
             ],
             [
              0.4444444444444444,
              "#bd3786"
             ],
             [
              0.5555555555555556,
              "#d8576b"
             ],
             [
              0.6666666666666666,
              "#ed7953"
             ],
             [
              0.7777777777777778,
              "#fb9f3a"
             ],
             [
              0.8888888888888888,
              "#fdca26"
             ],
             [
              1,
              "#f0f921"
             ]
            ],
            "type": "surface"
           }
          ],
          "table": [
           {
            "cells": {
             "fill": {
              "color": "#EBF0F8"
             },
             "line": {
              "color": "white"
             }
            },
            "header": {
             "fill": {
              "color": "#C8D4E3"
             },
             "line": {
              "color": "white"
             }
            },
            "type": "table"
           }
          ]
         },
         "layout": {
          "annotationdefaults": {
           "arrowcolor": "#2a3f5f",
           "arrowhead": 0,
           "arrowwidth": 1
          },
          "autotypenumbers": "strict",
          "coloraxis": {
           "colorbar": {
            "outlinewidth": 0,
            "ticks": ""
           }
          },
          "colorscale": {
           "diverging": [
            [
             0,
             "#8e0152"
            ],
            [
             0.1,
             "#c51b7d"
            ],
            [
             0.2,
             "#de77ae"
            ],
            [
             0.3,
             "#f1b6da"
            ],
            [
             0.4,
             "#fde0ef"
            ],
            [
             0.5,
             "#f7f7f7"
            ],
            [
             0.6,
             "#e6f5d0"
            ],
            [
             0.7,
             "#b8e186"
            ],
            [
             0.8,
             "#7fbc41"
            ],
            [
             0.9,
             "#4d9221"
            ],
            [
             1,
             "#276419"
            ]
           ],
           "sequential": [
            [
             0,
             "#0d0887"
            ],
            [
             0.1111111111111111,
             "#46039f"
            ],
            [
             0.2222222222222222,
             "#7201a8"
            ],
            [
             0.3333333333333333,
             "#9c179e"
            ],
            [
             0.4444444444444444,
             "#bd3786"
            ],
            [
             0.5555555555555556,
             "#d8576b"
            ],
            [
             0.6666666666666666,
             "#ed7953"
            ],
            [
             0.7777777777777778,
             "#fb9f3a"
            ],
            [
             0.8888888888888888,
             "#fdca26"
            ],
            [
             1,
             "#f0f921"
            ]
           ],
           "sequentialminus": [
            [
             0,
             "#0d0887"
            ],
            [
             0.1111111111111111,
             "#46039f"
            ],
            [
             0.2222222222222222,
             "#7201a8"
            ],
            [
             0.3333333333333333,
             "#9c179e"
            ],
            [
             0.4444444444444444,
             "#bd3786"
            ],
            [
             0.5555555555555556,
             "#d8576b"
            ],
            [
             0.6666666666666666,
             "#ed7953"
            ],
            [
             0.7777777777777778,
             "#fb9f3a"
            ],
            [
             0.8888888888888888,
             "#fdca26"
            ],
            [
             1,
             "#f0f921"
            ]
           ]
          },
          "colorway": [
           "#636efa",
           "#EF553B",
           "#00cc96",
           "#ab63fa",
           "#FFA15A",
           "#19d3f3",
           "#FF6692",
           "#B6E880",
           "#FF97FF",
           "#FECB52"
          ],
          "font": {
           "color": "#2a3f5f"
          },
          "geo": {
           "bgcolor": "white",
           "lakecolor": "white",
           "landcolor": "#E5ECF6",
           "showlakes": true,
           "showland": true,
           "subunitcolor": "white"
          },
          "hoverlabel": {
           "align": "left"
          },
          "hovermode": "closest",
          "mapbox": {
           "style": "light"
          },
          "paper_bgcolor": "white",
          "plot_bgcolor": "#E5ECF6",
          "polar": {
           "angularaxis": {
            "gridcolor": "white",
            "linecolor": "white",
            "ticks": ""
           },
           "bgcolor": "#E5ECF6",
           "radialaxis": {
            "gridcolor": "white",
            "linecolor": "white",
            "ticks": ""
           }
          },
          "scene": {
           "xaxis": {
            "backgroundcolor": "#E5ECF6",
            "gridcolor": "white",
            "gridwidth": 2,
            "linecolor": "white",
            "showbackground": true,
            "ticks": "",
            "zerolinecolor": "white"
           },
           "yaxis": {
            "backgroundcolor": "#E5ECF6",
            "gridcolor": "white",
            "gridwidth": 2,
            "linecolor": "white",
            "showbackground": true,
            "ticks": "",
            "zerolinecolor": "white"
           },
           "zaxis": {
            "backgroundcolor": "#E5ECF6",
            "gridcolor": "white",
            "gridwidth": 2,
            "linecolor": "white",
            "showbackground": true,
            "ticks": "",
            "zerolinecolor": "white"
           }
          },
          "shapedefaults": {
           "line": {
            "color": "#2a3f5f"
           }
          },
          "ternary": {
           "aaxis": {
            "gridcolor": "white",
            "linecolor": "white",
            "ticks": ""
           },
           "baxis": {
            "gridcolor": "white",
            "linecolor": "white",
            "ticks": ""
           },
           "bgcolor": "#E5ECF6",
           "caxis": {
            "gridcolor": "white",
            "linecolor": "white",
            "ticks": ""
           }
          },
          "title": {
           "x": 0.05
          },
          "xaxis": {
           "automargin": true,
           "gridcolor": "white",
           "linecolor": "white",
           "ticks": "",
           "title": {
            "standoff": 15
           },
           "zerolinecolor": "white",
           "zerolinewidth": 2
          },
          "yaxis": {
           "automargin": true,
           "gridcolor": "white",
           "linecolor": "white",
           "ticks": "",
           "title": {
            "standoff": 15
           },
           "zerolinecolor": "white",
           "zerolinewidth": 2
          }
         }
        },
        "title": {
         "font": {
          "size": 20
         },
         "text": "<b>Top 3 Genre By Area</b><sub>(unit: millions)</sub>"
        },
        "xaxis": {
         "anchor": "y",
         "domain": [
          0,
          1
         ],
         "title": {
          "text": "Country"
         }
        },
        "yaxis": {
         "anchor": "x",
         "domain": [
          0,
          1
         ],
         "title": {
          "text": "Sales"
         }
        }
       }
      }
     },
     "metadata": {},
     "output_type": "display_data"
    }
   ],
   "source": [
    "NA_Sales = vgData.groupby('Genre')['NA_Sales'].sum().to_frame().reset_index()\n",
    "NA_Sales.columns = ['Genre', 'Sales']\n",
    "NA_Sales['Country'] = 'North America'\n",
    "NA_Sales = NA_Sales.sort_values('Sales', ascending = False).head(3)\n",
    "\n",
    "EU_Sales = vgData.groupby('Genre')['EU_Sales'].sum().to_frame().reset_index()\n",
    "EU_Sales.columns = ['Genre', 'Sales']\n",
    "EU_Sales['Country'] = 'Europe'\n",
    "EU_Sales = EU_Sales.sort_values('Sales', ascending = False).head(3)\n",
    "\n",
    "JP_Sales = vgData.groupby('Genre')['NA_Sales'].sum().to_frame().reset_index()\n",
    "JP_Sales.columns = ['Genre', 'Sales']\n",
    "JP_Sales['Country'] = 'Japan'\n",
    "JP_Sales = JP_Sales.sort_values('Sales', ascending = False).head(3)\n",
    "\n",
    "Other_Sales = vgData.groupby('Genre')['NA_Sales'].sum().to_frame().reset_index()\n",
    "Other_Sales.columns = ['Genre', 'Sales']\n",
    "Other_Sales['Country'] = 'Other'\n",
    "Other_Sales = Other_Sales.sort_values('Sales', ascending = False).head(3)\n",
    "\n",
    "Sales = pd.concat([NA_Sales, EU_Sales, JP_Sales, Other_Sales])\n",
    "\n",
    "fig = px.bar(Sales, \n",
    "             x='Country', \n",
    "             y ='Sales', \n",
    "             color = 'Genre',\n",
    "             title = '<b>Top 3 Genre By Area</b><sub>(unit: millions)</sub>',\n",
    "             color_discrete_sequence=px.colors.qualitative.Pastel,\n",
    "             barmode = 'group')\n",
    "fig.update_layout(\n",
    "    title_font_size = 20\n",
    ")\n",
    "fig.show()\n"
   ]
  },
  {
   "cell_type": "markdown",
   "metadata": {},
   "source": [
    "#### 플랫폼 트렌드"
   ]
  },
  {
   "cell_type": "code",
   "execution_count": 221,
   "metadata": {},
   "outputs": [
    {
     "data": {
      "application/vnd.plotly.v1+json": {
       "config": {
        "plotlyServerURL": "https://plot.ly"
       },
       "data": [
        {
         "hovertemplate": "Platform=DS<br>Year=%{x}<br>Sales=%{y}<extra></extra>",
         "legendgroup": "DS",
         "line": {
          "color": "#636efa",
          "dash": "solid"
         },
         "marker": {
          "symbol": "circle"
         },
         "mode": "lines",
         "name": "DS",
         "orientation": "v",
         "showlegend": true,
         "type": "scatter",
         "x": [
          1985,
          2004,
          2005,
          2006,
          2007,
          2008,
          2009,
          2010,
          2011,
          2012,
          2013,
          2014,
          2020
         ],
         "xaxis": "x",
         "y": [
          0.02,
          17.46,
          131.4,
          121.15,
          149.36,
          147.89,
          121.99,
          87.98,
          27.8,
          11.59,
          1.96,
          0.02,
          0.29
         ],
         "yaxis": "y"
        },
        {
         "hovertemplate": "Platform=PS2<br>Year=%{x}<br>Sales=%{y}<extra></extra>",
         "legendgroup": "PS2",
         "line": {
          "color": "#EF553B",
          "dash": "solid"
         },
         "marker": {
          "symbol": "circle"
         },
         "mode": "lines",
         "name": "PS2",
         "orientation": "v",
         "showlegend": true,
         "type": "scatter",
         "x": [
          2000,
          2001,
          2002,
          2003,
          2004,
          2005,
          2006,
          2007,
          2008,
          2009,
          2010,
          2011
         ],
         "xaxis": "x",
         "y": [
          39.11,
          166.43,
          205.4,
          184.29,
          211.78,
          160.65,
          103.42,
          76,
          53.83,
          26.45,
          5.63,
          0.47000000000000003
         ],
         "yaxis": "y"
        },
        {
         "hovertemplate": "Platform=X360<br>Year=%{x}<br>Sales=%{y}<extra></extra>",
         "legendgroup": "X360",
         "line": {
          "color": "#00cc96",
          "dash": "solid"
         },
         "marker": {
          "symbol": "circle"
         },
         "mode": "lines",
         "name": "X360",
         "orientation": "v",
         "showlegend": true,
         "type": "scatter",
         "x": [
          2005,
          2006,
          2007,
          2008,
          2009,
          2010,
          2011,
          2012,
          2013,
          2014,
          2015,
          2016
         ],
         "xaxis": "x",
         "y": [
          8.32,
          51.88,
          95.84,
          135.76,
          120.85,
          171.05,
          145.12,
          100.88,
          89.61,
          36.41,
          13.05,
          0.8300000000000001
         ],
         "yaxis": "y"
        },
        {
         "hovertemplate": "Platform=PS3<br>Year=%{x}<br>Sales=%{y}<extra></extra>",
         "legendgroup": "PS3",
         "line": {
          "color": "#ab63fa",
          "dash": "solid"
         },
         "marker": {
          "symbol": "circle"
         },
         "mode": "lines",
         "name": "PS3",
         "orientation": "v",
         "showlegend": true,
         "type": "scatter",
         "x": [
          2006,
          2007,
          2008,
          2009,
          2010,
          2011,
          2012,
          2013,
          2014,
          2015,
          2016
         ],
         "xaxis": "x",
         "y": [
          21.07,
          73.81,
          119.69,
          132.34,
          144.42,
          159.37,
          109.49,
          117.39,
          50.96,
          18.22,
          2.59
         ],
         "yaxis": "y"
        },
        {
         "hovertemplate": "Platform=Wii<br>Year=%{x}<br>Sales=%{y}<extra></extra>",
         "legendgroup": "Wii",
         "line": {
          "color": "#FFA15A",
          "dash": "solid"
         },
         "marker": {
          "symbol": "circle"
         },
         "mode": "lines",
         "name": "Wii",
         "orientation": "v",
         "showlegend": true,
         "type": "scatter",
         "x": [
          2006,
          2007,
          2008,
          2009,
          2010,
          2011,
          2012,
          2013,
          2014,
          2015
         ],
         "xaxis": "x",
         "y": [
          137.91,
          154.97,
          174.16,
          210.44,
          131.8,
          62.41,
          22.77,
          9.36,
          4.4399999999999995,
          1.55
         ],
         "yaxis": "y"
        }
       ],
       "layout": {
        "legend": {
         "title": {
          "text": "Platform"
         },
         "tracegroupgap": 0
        },
        "template": {
         "data": {
          "bar": [
           {
            "error_x": {
             "color": "#2a3f5f"
            },
            "error_y": {
             "color": "#2a3f5f"
            },
            "marker": {
             "line": {
              "color": "#E5ECF6",
              "width": 0.5
             },
             "pattern": {
              "fillmode": "overlay",
              "size": 10,
              "solidity": 0.2
             }
            },
            "type": "bar"
           }
          ],
          "barpolar": [
           {
            "marker": {
             "line": {
              "color": "#E5ECF6",
              "width": 0.5
             },
             "pattern": {
              "fillmode": "overlay",
              "size": 10,
              "solidity": 0.2
             }
            },
            "type": "barpolar"
           }
          ],
          "carpet": [
           {
            "aaxis": {
             "endlinecolor": "#2a3f5f",
             "gridcolor": "white",
             "linecolor": "white",
             "minorgridcolor": "white",
             "startlinecolor": "#2a3f5f"
            },
            "baxis": {
             "endlinecolor": "#2a3f5f",
             "gridcolor": "white",
             "linecolor": "white",
             "minorgridcolor": "white",
             "startlinecolor": "#2a3f5f"
            },
            "type": "carpet"
           }
          ],
          "choropleth": [
           {
            "colorbar": {
             "outlinewidth": 0,
             "ticks": ""
            },
            "type": "choropleth"
           }
          ],
          "contour": [
           {
            "colorbar": {
             "outlinewidth": 0,
             "ticks": ""
            },
            "colorscale": [
             [
              0,
              "#0d0887"
             ],
             [
              0.1111111111111111,
              "#46039f"
             ],
             [
              0.2222222222222222,
              "#7201a8"
             ],
             [
              0.3333333333333333,
              "#9c179e"
             ],
             [
              0.4444444444444444,
              "#bd3786"
             ],
             [
              0.5555555555555556,
              "#d8576b"
             ],
             [
              0.6666666666666666,
              "#ed7953"
             ],
             [
              0.7777777777777778,
              "#fb9f3a"
             ],
             [
              0.8888888888888888,
              "#fdca26"
             ],
             [
              1,
              "#f0f921"
             ]
            ],
            "type": "contour"
           }
          ],
          "contourcarpet": [
           {
            "colorbar": {
             "outlinewidth": 0,
             "ticks": ""
            },
            "type": "contourcarpet"
           }
          ],
          "heatmap": [
           {
            "colorbar": {
             "outlinewidth": 0,
             "ticks": ""
            },
            "colorscale": [
             [
              0,
              "#0d0887"
             ],
             [
              0.1111111111111111,
              "#46039f"
             ],
             [
              0.2222222222222222,
              "#7201a8"
             ],
             [
              0.3333333333333333,
              "#9c179e"
             ],
             [
              0.4444444444444444,
              "#bd3786"
             ],
             [
              0.5555555555555556,
              "#d8576b"
             ],
             [
              0.6666666666666666,
              "#ed7953"
             ],
             [
              0.7777777777777778,
              "#fb9f3a"
             ],
             [
              0.8888888888888888,
              "#fdca26"
             ],
             [
              1,
              "#f0f921"
             ]
            ],
            "type": "heatmap"
           }
          ],
          "heatmapgl": [
           {
            "colorbar": {
             "outlinewidth": 0,
             "ticks": ""
            },
            "colorscale": [
             [
              0,
              "#0d0887"
             ],
             [
              0.1111111111111111,
              "#46039f"
             ],
             [
              0.2222222222222222,
              "#7201a8"
             ],
             [
              0.3333333333333333,
              "#9c179e"
             ],
             [
              0.4444444444444444,
              "#bd3786"
             ],
             [
              0.5555555555555556,
              "#d8576b"
             ],
             [
              0.6666666666666666,
              "#ed7953"
             ],
             [
              0.7777777777777778,
              "#fb9f3a"
             ],
             [
              0.8888888888888888,
              "#fdca26"
             ],
             [
              1,
              "#f0f921"
             ]
            ],
            "type": "heatmapgl"
           }
          ],
          "histogram": [
           {
            "marker": {
             "pattern": {
              "fillmode": "overlay",
              "size": 10,
              "solidity": 0.2
             }
            },
            "type": "histogram"
           }
          ],
          "histogram2d": [
           {
            "colorbar": {
             "outlinewidth": 0,
             "ticks": ""
            },
            "colorscale": [
             [
              0,
              "#0d0887"
             ],
             [
              0.1111111111111111,
              "#46039f"
             ],
             [
              0.2222222222222222,
              "#7201a8"
             ],
             [
              0.3333333333333333,
              "#9c179e"
             ],
             [
              0.4444444444444444,
              "#bd3786"
             ],
             [
              0.5555555555555556,
              "#d8576b"
             ],
             [
              0.6666666666666666,
              "#ed7953"
             ],
             [
              0.7777777777777778,
              "#fb9f3a"
             ],
             [
              0.8888888888888888,
              "#fdca26"
             ],
             [
              1,
              "#f0f921"
             ]
            ],
            "type": "histogram2d"
           }
          ],
          "histogram2dcontour": [
           {
            "colorbar": {
             "outlinewidth": 0,
             "ticks": ""
            },
            "colorscale": [
             [
              0,
              "#0d0887"
             ],
             [
              0.1111111111111111,
              "#46039f"
             ],
             [
              0.2222222222222222,
              "#7201a8"
             ],
             [
              0.3333333333333333,
              "#9c179e"
             ],
             [
              0.4444444444444444,
              "#bd3786"
             ],
             [
              0.5555555555555556,
              "#d8576b"
             ],
             [
              0.6666666666666666,
              "#ed7953"
             ],
             [
              0.7777777777777778,
              "#fb9f3a"
             ],
             [
              0.8888888888888888,
              "#fdca26"
             ],
             [
              1,
              "#f0f921"
             ]
            ],
            "type": "histogram2dcontour"
           }
          ],
          "mesh3d": [
           {
            "colorbar": {
             "outlinewidth": 0,
             "ticks": ""
            },
            "type": "mesh3d"
           }
          ],
          "parcoords": [
           {
            "line": {
             "colorbar": {
              "outlinewidth": 0,
              "ticks": ""
             }
            },
            "type": "parcoords"
           }
          ],
          "pie": [
           {
            "automargin": true,
            "type": "pie"
           }
          ],
          "scatter": [
           {
            "fillpattern": {
             "fillmode": "overlay",
             "size": 10,
             "solidity": 0.2
            },
            "type": "scatter"
           }
          ],
          "scatter3d": [
           {
            "line": {
             "colorbar": {
              "outlinewidth": 0,
              "ticks": ""
             }
            },
            "marker": {
             "colorbar": {
              "outlinewidth": 0,
              "ticks": ""
             }
            },
            "type": "scatter3d"
           }
          ],
          "scattercarpet": [
           {
            "marker": {
             "colorbar": {
              "outlinewidth": 0,
              "ticks": ""
             }
            },
            "type": "scattercarpet"
           }
          ],
          "scattergeo": [
           {
            "marker": {
             "colorbar": {
              "outlinewidth": 0,
              "ticks": ""
             }
            },
            "type": "scattergeo"
           }
          ],
          "scattergl": [
           {
            "marker": {
             "colorbar": {
              "outlinewidth": 0,
              "ticks": ""
             }
            },
            "type": "scattergl"
           }
          ],
          "scattermapbox": [
           {
            "marker": {
             "colorbar": {
              "outlinewidth": 0,
              "ticks": ""
             }
            },
            "type": "scattermapbox"
           }
          ],
          "scatterpolar": [
           {
            "marker": {
             "colorbar": {
              "outlinewidth": 0,
              "ticks": ""
             }
            },
            "type": "scatterpolar"
           }
          ],
          "scatterpolargl": [
           {
            "marker": {
             "colorbar": {
              "outlinewidth": 0,
              "ticks": ""
             }
            },
            "type": "scatterpolargl"
           }
          ],
          "scatterternary": [
           {
            "marker": {
             "colorbar": {
              "outlinewidth": 0,
              "ticks": ""
             }
            },
            "type": "scatterternary"
           }
          ],
          "surface": [
           {
            "colorbar": {
             "outlinewidth": 0,
             "ticks": ""
            },
            "colorscale": [
             [
              0,
              "#0d0887"
             ],
             [
              0.1111111111111111,
              "#46039f"
             ],
             [
              0.2222222222222222,
              "#7201a8"
             ],
             [
              0.3333333333333333,
              "#9c179e"
             ],
             [
              0.4444444444444444,
              "#bd3786"
             ],
             [
              0.5555555555555556,
              "#d8576b"
             ],
             [
              0.6666666666666666,
              "#ed7953"
             ],
             [
              0.7777777777777778,
              "#fb9f3a"
             ],
             [
              0.8888888888888888,
              "#fdca26"
             ],
             [
              1,
              "#f0f921"
             ]
            ],
            "type": "surface"
           }
          ],
          "table": [
           {
            "cells": {
             "fill": {
              "color": "#EBF0F8"
             },
             "line": {
              "color": "white"
             }
            },
            "header": {
             "fill": {
              "color": "#C8D4E3"
             },
             "line": {
              "color": "white"
             }
            },
            "type": "table"
           }
          ]
         },
         "layout": {
          "annotationdefaults": {
           "arrowcolor": "#2a3f5f",
           "arrowhead": 0,
           "arrowwidth": 1
          },
          "autotypenumbers": "strict",
          "coloraxis": {
           "colorbar": {
            "outlinewidth": 0,
            "ticks": ""
           }
          },
          "colorscale": {
           "diverging": [
            [
             0,
             "#8e0152"
            ],
            [
             0.1,
             "#c51b7d"
            ],
            [
             0.2,
             "#de77ae"
            ],
            [
             0.3,
             "#f1b6da"
            ],
            [
             0.4,
             "#fde0ef"
            ],
            [
             0.5,
             "#f7f7f7"
            ],
            [
             0.6,
             "#e6f5d0"
            ],
            [
             0.7,
             "#b8e186"
            ],
            [
             0.8,
             "#7fbc41"
            ],
            [
             0.9,
             "#4d9221"
            ],
            [
             1,
             "#276419"
            ]
           ],
           "sequential": [
            [
             0,
             "#0d0887"
            ],
            [
             0.1111111111111111,
             "#46039f"
            ],
            [
             0.2222222222222222,
             "#7201a8"
            ],
            [
             0.3333333333333333,
             "#9c179e"
            ],
            [
             0.4444444444444444,
             "#bd3786"
            ],
            [
             0.5555555555555556,
             "#d8576b"
            ],
            [
             0.6666666666666666,
             "#ed7953"
            ],
            [
             0.7777777777777778,
             "#fb9f3a"
            ],
            [
             0.8888888888888888,
             "#fdca26"
            ],
            [
             1,
             "#f0f921"
            ]
           ],
           "sequentialminus": [
            [
             0,
             "#0d0887"
            ],
            [
             0.1111111111111111,
             "#46039f"
            ],
            [
             0.2222222222222222,
             "#7201a8"
            ],
            [
             0.3333333333333333,
             "#9c179e"
            ],
            [
             0.4444444444444444,
             "#bd3786"
            ],
            [
             0.5555555555555556,
             "#d8576b"
            ],
            [
             0.6666666666666666,
             "#ed7953"
            ],
            [
             0.7777777777777778,
             "#fb9f3a"
            ],
            [
             0.8888888888888888,
             "#fdca26"
            ],
            [
             1,
             "#f0f921"
            ]
           ]
          },
          "colorway": [
           "#636efa",
           "#EF553B",
           "#00cc96",
           "#ab63fa",
           "#FFA15A",
           "#19d3f3",
           "#FF6692",
           "#B6E880",
           "#FF97FF",
           "#FECB52"
          ],
          "font": {
           "color": "#2a3f5f"
          },
          "geo": {
           "bgcolor": "white",
           "lakecolor": "white",
           "landcolor": "#E5ECF6",
           "showlakes": true,
           "showland": true,
           "subunitcolor": "white"
          },
          "hoverlabel": {
           "align": "left"
          },
          "hovermode": "closest",
          "mapbox": {
           "style": "light"
          },
          "paper_bgcolor": "white",
          "plot_bgcolor": "#E5ECF6",
          "polar": {
           "angularaxis": {
            "gridcolor": "white",
            "linecolor": "white",
            "ticks": ""
           },
           "bgcolor": "#E5ECF6",
           "radialaxis": {
            "gridcolor": "white",
            "linecolor": "white",
            "ticks": ""
           }
          },
          "scene": {
           "xaxis": {
            "backgroundcolor": "#E5ECF6",
            "gridcolor": "white",
            "gridwidth": 2,
            "linecolor": "white",
            "showbackground": true,
            "ticks": "",
            "zerolinecolor": "white"
           },
           "yaxis": {
            "backgroundcolor": "#E5ECF6",
            "gridcolor": "white",
            "gridwidth": 2,
            "linecolor": "white",
            "showbackground": true,
            "ticks": "",
            "zerolinecolor": "white"
           },
           "zaxis": {
            "backgroundcolor": "#E5ECF6",
            "gridcolor": "white",
            "gridwidth": 2,
            "linecolor": "white",
            "showbackground": true,
            "ticks": "",
            "zerolinecolor": "white"
           }
          },
          "shapedefaults": {
           "line": {
            "color": "#2a3f5f"
           }
          },
          "ternary": {
           "aaxis": {
            "gridcolor": "white",
            "linecolor": "white",
            "ticks": ""
           },
           "baxis": {
            "gridcolor": "white",
            "linecolor": "white",
            "ticks": ""
           },
           "bgcolor": "#E5ECF6",
           "caxis": {
            "gridcolor": "white",
            "linecolor": "white",
            "ticks": ""
           }
          },
          "title": {
           "x": 0.05
          },
          "xaxis": {
           "automargin": true,
           "gridcolor": "white",
           "linecolor": "white",
           "ticks": "",
           "title": {
            "standoff": 15
           },
           "zerolinecolor": "white",
           "zerolinewidth": 2
          },
          "yaxis": {
           "automargin": true,
           "gridcolor": "white",
           "linecolor": "white",
           "ticks": "",
           "title": {
            "standoff": 15
           },
           "zerolinecolor": "white",
           "zerolinewidth": 2
          }
         }
        },
        "title": {
         "text": "<b>1980~2020 Video Game Sales By Platform </b><sub>(unit: millions)</sub>"
        },
        "xaxis": {
         "anchor": "y",
         "domain": [
          0,
          1
         ],
         "title": {
          "text": "Year"
         }
        },
        "yaxis": {
         "anchor": "x",
         "domain": [
          0,
          1
         ],
         "title": {
          "text": "Sales"
         }
        }
       }
      }
     },
     "metadata": {},
     "output_type": "display_data"
    }
   ],
   "source": [
    "# 시각화에 사용될 데이터  \n",
    "top_platform = vgData.groupby('Platform')['Global_Sales'].sum().to_frame().reset_index()\n",
    "top_platform.columns = ['Platform', 'Sales']\n",
    "top_platform = top_platform.sort_values('Sales', ascending = False).head(5)\n",
    "platform_list = list(top_platform.Platform)\n",
    "# top_platform\n",
    "platform_trend = vgData[vgData['Platform'].isin(platform_list)]\n",
    "platform_trend = platform_trend.groupby(['Year', 'Platform'])['Global_Sales'].sum().to_frame()\n",
    "platform_trend = platform_trend.reset_index()\n",
    "platform_trend.columns = ['Year', 'Platform', 'Sales']\n",
    "platform_trend = platform_trend.sort_values('Year')\n",
    "platform_trend\n",
    "# 시각화\n",
    "fig = px.line(data_frame=platform_trend,\n",
    "              x='Year', \n",
    "              y='Sales',\n",
    "              color = 'Platform',\n",
    "              title = '<b>1980~2020 Video Game Sales By Platform </b><sub>(unit: millions)</sub>'\n",
    "              )\n",
    "fig.show()"
   ]
  }
 ],
 "metadata": {
  "kernelspec": {
   "display_name": "base",
   "language": "python",
   "name": "python3"
  },
  "language_info": {
   "codemirror_mode": {
    "name": "ipython",
    "version": 3
   },
   "file_extension": ".py",
   "mimetype": "text/x-python",
   "name": "python",
   "nbconvert_exporter": "python",
   "pygments_lexer": "ipython3",
   "version": "3.9.7"
  }
 },
 "nbformat": 4,
 "nbformat_minor": 2
}
